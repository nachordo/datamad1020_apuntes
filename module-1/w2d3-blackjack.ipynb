{
 "cells": [
  {
   "cell_type": "markdown",
   "metadata": {},
   "source": [
    "### A deck of cards, 4 suits and 13 cards ea suit"
   ]
  },
  {
   "cell_type": "code",
   "execution_count": 292,
   "metadata": {},
   "outputs": [],
   "source": [
    "import random\n",
    "\n",
    "class NoMoreCards(Exception):\n",
    "    pass\n",
    "\n",
    "class Deck:\n",
    "    def __init__(self):\n",
    "        self.cards = [{\"value\":value,\"suit\":suit} \n",
    "                      for suit in [\"♠\",\"♥\",\"♦\",\"♣\"]\n",
    "                      for value in [\"A\"]+list(range(2,11))+[\"J\",\"Q\",\"K\"]]\n",
    "    def shuffle(self):\n",
    "        random.shuffle(self.cards)\n",
    "    def draw(self):\n",
    "        if self.cards:\n",
    "            return self.cards.pop(0)\n",
    "        else:\n",
    "            raise NoMoreCards(\"Deck is empty. :(\")\n",
    "            \n",
    "class Player:\n",
    "    def __init__(self,name=\"Player\"):\n",
    "        self.name = name\n",
    "        self.hand = []\n",
    "    def get_name(self):\n",
    "        self.name = input(\"Tell me your name:\\n\")\n",
    "    def hit(self):\n",
    "        hit = input(f\"{self.name}, hit? [y|n]\\n\")\n",
    "        if hit.lower() == \"y\":\n",
    "            return True\n",
    "        elif hit.lower() == \"n\":\n",
    "            return False\n",
    "        else:\n",
    "            print(\"Wrong input. Try again.\\n\")\n",
    "            self.hit()\n",
    "    def take_card(self,card):\n",
    "        self.hand.append(card)\n",
    "        \n",
    "class Game:\n",
    "    def __init__(self,n_players=2):\n",
    "        \"\"\"Initialize game, creates players, deck, shuffles and deals\n",
    "initial hand.\"\"\"\n",
    "        self.players = {f\"player{i+1}\":Player(f\"Player {i+1}\") \n",
    "                        for i in range(n_players)}\n",
    "        self.deck = Deck()\n",
    "        self.deck.shuffle()\n",
    "        for _ in range(2):\n",
    "            for player in self.players.values():\n",
    "                player.take_card(self.deck.draw())\n",
    "        self.print_table()\n",
    "        self.letter = {\"A\":11,\"J\":10, \"Q\":10, \"K\":10}\n",
    "    def card_value(self,value,suit):\n",
    "        return f\"│{str(value).rjust(2,' ')}{suit}│\"\n",
    "    def print_cards(self,hand):\n",
    "        \"\"\"Takes values for given card and prints it as a block.\"\"\"\n",
    "        return \"┌───┐\"*len(hand)+\"\\n\"+\\\n",
    "               \"\".join([self.card_value(**card) \n",
    "                        for card in [{\"value\":\"%%\",\"suit\":\"%\"}]+hand[1:]])+\\\n",
    "               \"\\n\"+\"└───┘\"*len(hand)+\"\\n\"\n",
    "    def print_table(self):\n",
    "        \"\"\"Prints hands for all players omitting first card.\"\"\"\n",
    "        for player in self.players.values():\n",
    "            out = f\"\"\"{player.name}\n",
    "------------\n",
    "{self.print_cards(player.hand)}\n",
    "\"\"\"\n",
    "            print(out)\n",
    "    def turn(self):\n",
    "        for player in self.players.values():\n",
    "            if player.hit():\n",
    "                player.take_card(self.deck.draw())\n",
    "                if self.sum_values(player) > 21:\n",
    "                    print(\"YOU LOOSE\")\n",
    "        self.print_table()\n",
    "    def sum_values(self, player):\n",
    "        return sum([self.letter.get(card[\"value\"],card[\"value\"]) \n",
    "                    for card in player.hand])"
   ]
  },
  {
   "cell_type": "code",
   "execution_count": 293,
   "metadata": {},
   "outputs": [
    {
     "name": "stdout",
     "output_type": "stream",
     "text": [
      "Player 1\n",
      "------------\n",
      "┌───┐┌───┐\n",
      "│%%%││ Q♦│\n",
      "└───┘└───┘\n",
      "\n",
      "\n",
      "Player 2\n",
      "------------\n",
      "┌───┐┌───┐\n",
      "│%%%││ 7♣│\n",
      "└───┘└───┘\n",
      "\n",
      "\n"
     ]
    }
   ],
   "source": [
    "game = Game()"
   ]
  },
  {
   "cell_type": "code",
   "execution_count": 294,
   "metadata": {},
   "outputs": [
    {
     "data": {
      "text/plain": [
       "{'player1': <__main__.Player at 0x7fd07fbf6a90>,\n",
       " 'player2': <__main__.Player at 0x7fd07fbf6950>}"
      ]
     },
     "execution_count": 294,
     "metadata": {},
     "output_type": "execute_result"
    }
   ],
   "source": [
    "game.players"
   ]
  },
  {
   "cell_type": "code",
   "execution_count": 295,
   "metadata": {},
   "outputs": [
    {
     "data": {
      "text/plain": [
       "<__main__.Deck at 0x7fd07fbf66d0>"
      ]
     },
     "execution_count": 295,
     "metadata": {},
     "output_type": "execute_result"
    }
   ],
   "source": [
    "game.deck"
   ]
  },
  {
   "cell_type": "code",
   "execution_count": 296,
   "metadata": {},
   "outputs": [
    {
     "data": {
      "text/plain": [
       "48"
      ]
     },
     "execution_count": 296,
     "metadata": {},
     "output_type": "execute_result"
    }
   ],
   "source": [
    "len(game.deck.cards)"
   ]
  },
  {
   "cell_type": "code",
   "execution_count": 297,
   "metadata": {},
   "outputs": [
    {
     "data": {
      "text/plain": [
       "[[{'value': 9, 'suit': '♠'}, {'value': 'Q', 'suit': '♦'}],\n",
       " [{'value': 4, 'suit': '♠'}, {'value': 7, 'suit': '♣'}]]"
      ]
     },
     "execution_count": 297,
     "metadata": {},
     "output_type": "execute_result"
    }
   ],
   "source": [
    "[player.hand for player in game.players.values()]"
   ]
  },
  {
   "cell_type": "code",
   "execution_count": 299,
   "metadata": {},
   "outputs": [
    {
     "name": "stdout",
     "output_type": "stream",
     "text": [
      "Player 1\n",
      "------------\n",
      "┌───┐┌───┐\n",
      "│%%%││ Q♦│\n",
      "└───┘└───┘\n",
      "\n",
      "\n",
      "Player 2\n",
      "------------\n",
      "┌───┐┌───┐\n",
      "│%%%││ 7♣│\n",
      "└───┘└───┘\n",
      "\n",
      "\n"
     ]
    }
   ],
   "source": [
    "game.print_table()"
   ]
  },
  {
   "cell_type": "code",
   "execution_count": 300,
   "metadata": {},
   "outputs": [
    {
     "name": "stdout",
     "output_type": "stream",
     "text": [
      "Player 1, hit? [y|n]\n",
      "y\n",
      "Player 2, hit? [y|n]\n",
      "y\n",
      "Player 1\n",
      "------------\n",
      "┌───┐┌───┐┌───┐\n",
      "│%%%││ Q♦││ 2♣│\n",
      "└───┘└───┘└───┘\n",
      "\n",
      "\n",
      "Player 2\n",
      "------------\n",
      "┌───┐┌───┐┌───┐\n",
      "│%%%││ 7♣││ 4♣│\n",
      "└───┘└───┘└───┘\n",
      "\n",
      "\n"
     ]
    }
   ],
   "source": [
    "game.turn()"
   ]
  },
  {
   "cell_type": "code",
   "execution_count": 301,
   "metadata": {},
   "outputs": [
    {
     "name": "stdout",
     "output_type": "stream",
     "text": [
      "Player 1, hit? [y|n]\n",
      "\n",
      "Wrong input. Try again.\n",
      "\n",
      "Player 1, hit? [y|n]\n",
      "y\n",
      "Player 2, hit? [y|n]\n",
      "y\n",
      "YOU LOOSE\n",
      "Player 1\n",
      "------------\n",
      "┌───┐┌───┐┌───┐\n",
      "│%%%││ Q♦││ 2♣│\n",
      "└───┘└───┘└───┘\n",
      "\n",
      "\n",
      "Player 2\n",
      "------------\n",
      "┌───┐┌───┐┌───┐┌───┐\n",
      "│%%%││ 7♣││ 4♣││ A♦│\n",
      "└───┘└───┘└───┘└───┘\n",
      "\n",
      "\n"
     ]
    }
   ],
   "source": [
    "game.turn()"
   ]
  },
  {
   "cell_type": "code",
   "execution_count": 177,
   "metadata": {},
   "outputs": [],
   "source": [
    "deck = Deck()\n",
    "deck.shuffle()\n",
    "player1 = Player()\n",
    "player2 = Player()"
   ]
  },
  {
   "cell_type": "code",
   "execution_count": 178,
   "metadata": {},
   "outputs": [
    {
     "data": {
      "text/plain": [
       "[{'value': 10, 'suit': '♥'},\n",
       " {'value': 'A', 'suit': '♠'},\n",
       " {'value': 7, 'suit': '♥'},\n",
       " {'value': 4, 'suit': '♦'}]"
      ]
     },
     "execution_count": 178,
     "metadata": {},
     "output_type": "execute_result"
    }
   ],
   "source": [
    "deck.cards[:4]"
   ]
  },
  {
   "cell_type": "code",
   "execution_count": 179,
   "metadata": {},
   "outputs": [],
   "source": [
    "for i in range(2):\n",
    "    player1.take_card(deck.draw())\n",
    "    player2.take_card(deck.draw())"
   ]
  },
  {
   "cell_type": "code",
   "execution_count": 180,
   "metadata": {},
   "outputs": [
    {
     "data": {
      "text/plain": [
       "[{'value': 10, 'suit': '♥'}, {'value': 7, 'suit': '♥'}]"
      ]
     },
     "execution_count": 180,
     "metadata": {},
     "output_type": "execute_result"
    }
   ],
   "source": [
    "player1.hand"
   ]
  },
  {
   "cell_type": "code",
   "execution_count": 181,
   "metadata": {},
   "outputs": [
    {
     "data": {
      "text/plain": [
       "[{'value': 'A', 'suit': '♠'}, {'value': 4, 'suit': '♦'}]"
      ]
     },
     "execution_count": 181,
     "metadata": {},
     "output_type": "execute_result"
    }
   ],
   "source": [
    "player2.hand"
   ]
  },
  {
   "cell_type": "code",
   "execution_count": 182,
   "metadata": {},
   "outputs": [
    {
     "name": "stdout",
     "output_type": "stream",
     "text": [
      "Hit or pass? [y|n]\n",
      "y\n",
      "Hit or pass? [y|n]\n",
      "n\n"
     ]
    }
   ],
   "source": [
    "if player1.hit():\n",
    "    player1.take_card(deck.draw())\n",
    "if player2.hit():\n",
    "    player2.take_card(deck.draw())"
   ]
  },
  {
   "cell_type": "code",
   "execution_count": 183,
   "metadata": {},
   "outputs": [
    {
     "data": {
      "text/plain": [
       "[{'value': 10, 'suit': '♥'},\n",
       " {'value': 7, 'suit': '♥'},\n",
       " {'value': 3, 'suit': '♣'}]"
      ]
     },
     "execution_count": 183,
     "metadata": {},
     "output_type": "execute_result"
    }
   ],
   "source": [
    "player1.hand"
   ]
  },
  {
   "cell_type": "code",
   "execution_count": 184,
   "metadata": {},
   "outputs": [
    {
     "data": {
      "text/plain": [
       "[{'value': 'A', 'suit': '♠'}, {'value': 4, 'suit': '♦'}]"
      ]
     },
     "execution_count": 184,
     "metadata": {},
     "output_type": "execute_result"
    }
   ],
   "source": [
    "player2.hand"
   ]
  },
  {
   "cell_type": "code",
   "execution_count": null,
   "metadata": {},
   "outputs": [],
   "source": []
  },
  {
   "cell_type": "code",
   "execution_count": 159,
   "metadata": {},
   "outputs": [
    {
     "name": "stdout",
     "output_type": "stream",
     "text": [
      "Hit or pass? [y|n]fd\n",
      "Wrong input. Try again.\n",
      "Hit or pass? [y|n]g\n",
      "Wrong input. Try again.\n",
      "Hit or pass? [y|n]s\n",
      "Wrong input. Try again.\n",
      "Hit or pass? [y|n]r\n",
      "Wrong input. Try again.\n",
      "Hit or pass? [y|n]j\n",
      "Wrong input. Try again.\n",
      "Hit or pass? [y|n]s\n",
      "Wrong input. Try again.\n",
      "Hit or pass? [y|n]n\n"
     ]
    }
   ],
   "source": [
    "player.hit()"
   ]
  },
  {
   "cell_type": "code",
   "execution_count": 271,
   "metadata": {},
   "outputs": [],
   "source": [
    "### Ideas Parking Lot!\n",
    "# Posible card dealing with generator function\n",
    "def card_gen():\n",
    "        for card in self.cards:\n",
    "            yield card\n",
    "        self.card_gen = card_gen()\n",
    "def draw(self):\n",
    "        return next(self.card_gen)"
   ]
  },
  {
   "cell_type": "code",
   "execution_count": 140,
   "metadata": {},
   "outputs": [],
   "source": [
    "deck = Deck()"
   ]
  },
  {
   "cell_type": "code",
   "execution_count": 141,
   "metadata": {},
   "outputs": [
    {
     "data": {
      "text/plain": [
       "[]"
      ]
     },
     "execution_count": 141,
     "metadata": {},
     "output_type": "execute_result"
    }
   ],
   "source": [
    "deck.cards[:3]"
   ]
  },
  {
   "cell_type": "code",
   "execution_count": 142,
   "metadata": {},
   "outputs": [],
   "source": [
    "deck.shuffle()"
   ]
  },
  {
   "cell_type": "code",
   "execution_count": 143,
   "metadata": {},
   "outputs": [
    {
     "data": {
      "text/plain": [
       "[]"
      ]
     },
     "execution_count": 143,
     "metadata": {},
     "output_type": "execute_result"
    }
   ],
   "source": [
    "deck.cards[:3]"
   ]
  },
  {
   "cell_type": "code",
   "execution_count": 144,
   "metadata": {},
   "outputs": [
    {
     "ename": "NoMoreCards",
     "evalue": "Deck is empty. :(",
     "output_type": "error",
     "traceback": [
      "\u001b[0;31m---------------------------------------------------------------------------\u001b[0m",
      "\u001b[0;31mNoMoreCards\u001b[0m                               Traceback (most recent call last)",
      "\u001b[0;32m<ipython-input-144-97d80d933d0e>\u001b[0m in \u001b[0;36m<module>\u001b[0;34m()\u001b[0m\n\u001b[0;32m----> 1\u001b[0;31m \u001b[0mdeck\u001b[0m\u001b[0;34m.\u001b[0m\u001b[0mdraw\u001b[0m\u001b[0;34m(\u001b[0m\u001b[0;34m)\u001b[0m\u001b[0;34m\u001b[0m\u001b[0;34m\u001b[0m\u001b[0m\n\u001b[0m",
      "\u001b[0;32m<ipython-input-138-4f9fadd96c92>\u001b[0m in \u001b[0;36mdraw\u001b[0;34m(self)\u001b[0m\n\u001b[1;32m     16\u001b[0m             \u001b[0;32mreturn\u001b[0m \u001b[0mself\u001b[0m\u001b[0;34m.\u001b[0m\u001b[0mcards\u001b[0m\u001b[0;34m.\u001b[0m\u001b[0mpop\u001b[0m\u001b[0;34m(\u001b[0m\u001b[0;36m0\u001b[0m\u001b[0;34m)\u001b[0m\u001b[0;34m\u001b[0m\u001b[0;34m\u001b[0m\u001b[0m\n\u001b[1;32m     17\u001b[0m         \u001b[0;32melse\u001b[0m\u001b[0;34m:\u001b[0m\u001b[0;34m\u001b[0m\u001b[0;34m\u001b[0m\u001b[0m\n\u001b[0;32m---> 18\u001b[0;31m             \u001b[0;32mraise\u001b[0m \u001b[0mNoMoreCards\u001b[0m\u001b[0;34m(\u001b[0m\u001b[0;34m\"Deck is empty. :(\"\u001b[0m\u001b[0;34m)\u001b[0m\u001b[0;34m\u001b[0m\u001b[0;34m\u001b[0m\u001b[0m\n\u001b[0m",
      "\u001b[0;31mNoMoreCards\u001b[0m: Deck is empty. :("
     ]
    }
   ],
   "source": [
    "deck.draw()"
   ]
  },
  {
   "cell_type": "code",
   "execution_count": 135,
   "metadata": {},
   "outputs": [
    {
     "data": {
      "text/plain": [
       "[]"
      ]
     },
     "execution_count": 135,
     "metadata": {},
     "output_type": "execute_result"
    }
   ],
   "source": [
    "deck.cards[:3]"
   ]
  },
  {
   "cell_type": "code",
   "execution_count": null,
   "metadata": {},
   "outputs": [],
   "source": []
  },
  {
   "cell_type": "code",
   "execution_count": null,
   "metadata": {},
   "outputs": [],
   "source": []
  }
 ],
 "metadata": {
  "kernelspec": {
   "display_name": "Python3 (ih)",
   "language": "python",
   "name": "ironhack"
  },
  "language_info": {
   "codemirror_mode": {
    "name": "ipython",
    "version": 3
   },
   "file_extension": ".py",
   "mimetype": "text/x-python",
   "name": "python",
   "nbconvert_exporter": "python",
   "pygments_lexer": "ipython3",
   "version": "3.7.8"
  }
 },
 "nbformat": 4,
 "nbformat_minor": 4
}
