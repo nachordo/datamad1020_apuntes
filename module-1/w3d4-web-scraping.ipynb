{
 "cells": [
  {
   "cell_type": "markdown",
   "metadata": {},
   "source": [
    "# Web Scraping"
   ]
  },
  {
   "cell_type": "markdown",
   "metadata": {},
   "source": [
    "### HTTP\n",
    "- HyperText Transfer Protocol\n",
    "- http requests\n",
    "    - GET\n",
    "    - POST\n",
    "    \n",
    "    \n",
    "![url](https://doepud.co.uk/images/blogs/complex_url.png)"
   ]
  },
  {
   "cell_type": "code",
   "execution_count": null,
   "metadata": {},
   "outputs": [],
   "source": [
    "# pip3 install requests\n",
    "# pip3 install beautifulsoup4"
   ]
  },
  {
   "cell_type": "code",
   "execution_count": 122,
   "metadata": {},
   "outputs": [],
   "source": [
    "import requests\n",
    "from bs4 import BeautifulSoup\n",
    "import re\n",
    "import pandas as pd"
   ]
  },
  {
   "cell_type": "code",
   "execution_count": 2,
   "metadata": {},
   "outputs": [],
   "source": [
    "data = requests.get(\"https://en.wikipedia.org/wiki/Top-level_domain\")"
   ]
  },
  {
   "cell_type": "code",
   "execution_count": 3,
   "metadata": {},
   "outputs": [
    {
     "data": {
      "text/plain": [
       "200"
      ]
     },
     "execution_count": 3,
     "metadata": {},
     "output_type": "execute_result"
    }
   ],
   "source": [
    "data.status_code"
   ]
  },
  {
   "cell_type": "markdown",
   "metadata": {},
   "source": [
    "## Status code 200 = OK"
   ]
  },
  {
   "cell_type": "code",
   "execution_count": 4,
   "metadata": {},
   "outputs": [
    {
     "data": {
      "text/plain": [
       "'<!DOCTYPE html>\\n<html class=\"client-nojs\" lang=\"en\" dir=\"ltr\">\\n<head>\\n<meta charset=\"UTF-8\"/>\\n<title>Top-level domain - Wikipedia</title>\\n<script>document.documentElement.className=\"client-js\";RLCONF='"
      ]
     },
     "execution_count": 4,
     "metadata": {},
     "output_type": "execute_result"
    }
   ],
   "source": [
    "data.text[:200]"
   ]
  },
  {
   "cell_type": "markdown",
   "metadata": {},
   "source": [
    "### Bonus: Downloading Images via Python"
   ]
  },
  {
   "cell_type": "code",
   "execution_count": 5,
   "metadata": {},
   "outputs": [],
   "source": [
    "r2d2 = requests.get(\"https://www.sideshow.com/storage/product-images/2172/r2-d2-deluxe_star-wars_gallery_5c4fb7e7e5e21.jpg\")"
   ]
  },
  {
   "cell_type": "code",
   "execution_count": 6,
   "metadata": {},
   "outputs": [],
   "source": [
    "img_bytes = r2d2.content"
   ]
  },
  {
   "cell_type": "code",
   "execution_count": 7,
   "metadata": {},
   "outputs": [],
   "source": [
    "with open(\"data/r2d2.jpg\",\"wb+\") as file:\n",
    "    file.write(img_bytes)"
   ]
  },
  {
   "cell_type": "markdown",
   "metadata": {},
   "source": [
    "### Back to our usual"
   ]
  },
  {
   "cell_type": "code",
   "execution_count": 10,
   "metadata": {},
   "outputs": [],
   "source": [
    "url = \"https://www.zalando.es/zapatillas-mujer/\""
   ]
  },
  {
   "cell_type": "code",
   "execution_count": 19,
   "metadata": {},
   "outputs": [],
   "source": [
    "# We have found out Zalando is \"protecting\" it's data\n",
    "# We are going undercover, making it think, out python module requests is a browser\n",
    "disguise = {\"User-Agent\":\"Mozilla/5.0 (Macintosh; Intel Mac OS X 10_15_7) AppleWebKit/537.36 (KHTML, like Gecko) Chrome/86.0.4240.111 Safari/537.36\"}"
   ]
  },
  {
   "cell_type": "code",
   "execution_count": 20,
   "metadata": {},
   "outputs": [],
   "source": [
    "data = requests.get(url, headers=disguise)"
   ]
  },
  {
   "cell_type": "code",
   "execution_count": 21,
   "metadata": {},
   "outputs": [
    {
     "data": {
      "text/plain": [
       "<Response [200]>"
      ]
     },
     "execution_count": 21,
     "metadata": {},
     "output_type": "execute_result"
    }
   ],
   "source": [
    "data"
   ]
  },
  {
   "cell_type": "code",
   "execution_count": 24,
   "metadata": {},
   "outputs": [],
   "source": [
    "soup = BeautifulSoup(data.text)"
   ]
  },
  {
   "cell_type": "code",
   "execution_count": 27,
   "metadata": {},
   "outputs": [],
   "source": [
    "a = soup.select(\"div\")"
   ]
  },
  {
   "cell_type": "code",
   "execution_count": 30,
   "metadata": {},
   "outputs": [
    {
     "data": {
      "text/plain": [
       "579"
      ]
     },
     "execution_count": 30,
     "metadata": {},
     "output_type": "execute_result"
    }
   ],
   "source": [
    "len(a)"
   ]
  },
  {
   "cell_type": "markdown",
   "metadata": {},
   "source": [
    "### CSS Selectors\n",
    "Lets use some [selectors](https://www.w3schools.com/cssref/css_selectors.asp) to make our searches mores specific"
   ]
  },
  {
   "cell_type": "code",
   "execution_count": 83,
   "metadata": {},
   "outputs": [],
   "source": [
    "products = soup.select(\"div.qMZa55.SQGpu8.iOzucJ.JT3_zV.DvypSJ\")"
   ]
  },
  {
   "cell_type": "code",
   "execution_count": 84,
   "metadata": {
    "scrolled": false
   },
   "outputs": [
    {
     "data": {
      "text/plain": [
       "32"
      ]
     },
     "execution_count": 84,
     "metadata": {},
     "output_type": "execute_result"
    }
   ],
   "source": [
    "len(products)"
   ]
  },
  {
   "cell_type": "markdown",
   "metadata": {},
   "source": [
    "## Extra tool\n",
    "Type this on the console of the ChromeDevTools to check what your selector is acctually selecting:\n",
    "\n",
    "`document.querySelectorAll('a').forEach(elm => elm.style.background = 'red')`"
   ]
  },
  {
   "cell_type": "code",
   "execution_count": 85,
   "metadata": {},
   "outputs": [],
   "source": [
    "products = [p.select(\"div._0xLoFW._78xIQ-.EJ4MLB.JT3_zV\") for p in products]"
   ]
  },
  {
   "cell_type": "code",
   "execution_count": 100,
   "metadata": {},
   "outputs": [],
   "source": [
    "\n",
    "data_scraped = []\n",
    "for p in products:\n",
    "    manufacturer, price = p[0].select(\"span\")[:2]\n",
    "    manufacturer = manufacturer.text, \n",
    "    price = float(re.findall(r\"[\\d,]+\",price.text)[0].replace(\",\",\".\"))\n",
    "    model = p[0].select(\"h3\")[0].text\n",
    "    element = {\n",
    "        \"manufacturer\":manufacturer,\n",
    "        \"price\":price,\n",
    "        \"model\":model\n",
    "              }\n",
    "    data_scraped.append(element)"
   ]
  },
  {
   "cell_type": "code",
   "execution_count": 102,
   "metadata": {},
   "outputs": [
    {
     "data": {
      "text/plain": [
       "{'manufacturer': ('Liu Jo Jeans',),\n",
       " 'price': 144.95,\n",
       " 'model': 'MAXI  - Zapatillas - black'}"
      ]
     },
     "execution_count": 102,
     "metadata": {},
     "output_type": "execute_result"
    }
   ],
   "source": [
    "data_scraped[0]"
   ]
  },
  {
   "cell_type": "code",
   "execution_count": 116,
   "metadata": {},
   "outputs": [],
   "source": [
    "def get_products_page(endpoint,pg_number):\n",
    "    url = \"https://www.zalando.es/\"\n",
    "    disguise = {\"User-Agent\":\"Mozilla/5.0 (Macintosh; Intel Mac OS X 10_15_7) AppleWebKit/537.36 (KHTML, like Gecko) Chrome/86.0.4240.111 Safari/537.36\"}\n",
    "    params = {\"p\":pg_number}\n",
    "    data = requests.get(url+endpoint, headers=disguise,params=params)\n",
    "    soup = BeautifulSoup(data.text)\n",
    "    products = soup.select(\"div.qMZa55.SQGpu8.iOzucJ.JT3_zV.DvypSJ\")\n",
    "    products = [p.select(\"div._0xLoFW._78xIQ-.EJ4MLB.JT3_zV\") for p in products]\n",
    "    data_scraped = []\n",
    "    for p in products:\n",
    "        manufacturer, price = p[0].select(\"span\")[:2]\n",
    "        manufacturer = manufacturer.text \n",
    "        price = float(re.findall(r\"[\\d,]+\",price.text)[0].replace(\",\",\".\"))\n",
    "        model = p[0].select(\"h3\")[0].text\n",
    "        element = {\n",
    "            \"manufacturer\":manufacturer,\n",
    "            \"price\":price,\n",
    "            \"model\":model\n",
    "                  }\n",
    "        data_scraped.append(element)\n",
    "    return data_scraped"
   ]
  },
  {
   "cell_type": "code",
   "execution_count": 120,
   "metadata": {},
   "outputs": [],
   "source": [
    "endpoint = \"zapatillas-mujer/\"\n",
    "all_womens_shoes = [] \n",
    "for i in range(1,83):\n",
    "    all_womens_shoes += get_products_page(endpoint,i)"
   ]
  },
  {
   "cell_type": "code",
   "execution_count": 123,
   "metadata": {},
   "outputs": [],
   "source": [
    "df = pd.DataFrame(all_womens_shoes)"
   ]
  },
  {
   "cell_type": "code",
   "execution_count": 124,
   "metadata": {},
   "outputs": [
    {
     "data": {
      "text/html": [
       "<div>\n",
       "<style scoped>\n",
       "    .dataframe tbody tr th:only-of-type {\n",
       "        vertical-align: middle;\n",
       "    }\n",
       "\n",
       "    .dataframe tbody tr th {\n",
       "        vertical-align: top;\n",
       "    }\n",
       "\n",
       "    .dataframe thead th {\n",
       "        text-align: right;\n",
       "    }\n",
       "</style>\n",
       "<table border=\"1\" class=\"dataframe\">\n",
       "  <thead>\n",
       "    <tr style=\"text-align: right;\">\n",
       "      <th></th>\n",
       "      <th>manufacturer</th>\n",
       "      <th>price</th>\n",
       "      <th>model</th>\n",
       "    </tr>\n",
       "  </thead>\n",
       "  <tbody>\n",
       "    <tr>\n",
       "      <th>0</th>\n",
       "      <td>G-Star</td>\n",
       "      <td>109.95</td>\n",
       "      <td>ROVIC II - Zapatillas - light liquid pink/bisque</td>\n",
       "    </tr>\n",
       "    <tr>\n",
       "      <th>1</th>\n",
       "      <td>Anna Field</td>\n",
       "      <td>37.99</td>\n",
       "      <td>Zapatillas - black</td>\n",
       "    </tr>\n",
       "    <tr>\n",
       "      <th>2</th>\n",
       "      <td>Converse</td>\n",
       "      <td>89.95</td>\n",
       "      <td>CHUCK TAYLOR MOVE PLATFORM - Zapatillas altas ...</td>\n",
       "    </tr>\n",
       "    <tr>\n",
       "      <th>3</th>\n",
       "      <td>Converse</td>\n",
       "      <td>81.95</td>\n",
       "      <td>RUN STAR HIKE - Zapatillas altas - white/black</td>\n",
       "    </tr>\n",
       "    <tr>\n",
       "      <th>4</th>\n",
       "      <td>Nike Sportswear</td>\n",
       "      <td>84.95</td>\n",
       "      <td>BLAZER MID '77 - Zapatillas altas - white/blac...</td>\n",
       "    </tr>\n",
       "    <tr>\n",
       "      <th>...</th>\n",
       "      <td>...</td>\n",
       "      <td>...</td>\n",
       "      <td>...</td>\n",
       "    </tr>\n",
       "    <tr>\n",
       "      <th>2619</th>\n",
       "      <td>Tommy Hilfiger</td>\n",
       "      <td>69.95</td>\n",
       "      <td>ICONIC KESHA SLIP ON - Mocasines - white</td>\n",
       "    </tr>\n",
       "    <tr>\n",
       "      <th>2620</th>\n",
       "      <td>New Look</td>\n",
       "      <td>16.99</td>\n",
       "      <td>MARKED TOE CAP TOP UP - Zapatillas - white</td>\n",
       "    </tr>\n",
       "    <tr>\n",
       "      <th>2621</th>\n",
       "      <td>Next</td>\n",
       "      <td>30.00</td>\n",
       "      <td>WITH LEOPARD BACK SIGNATURE  - Zapatillas - white</td>\n",
       "    </tr>\n",
       "    <tr>\n",
       "      <th>2622</th>\n",
       "      <td>Tamaris</td>\n",
       "      <td>49.95</td>\n",
       "      <td>Zapatillas - olive</td>\n",
       "    </tr>\n",
       "    <tr>\n",
       "      <th>2623</th>\n",
       "      <td>HUB</td>\n",
       "      <td>59.95</td>\n",
       "      <td>BASELINE MID - Zapatillas altas - white/bone</td>\n",
       "    </tr>\n",
       "  </tbody>\n",
       "</table>\n",
       "<p>2624 rows × 3 columns</p>\n",
       "</div>"
      ],
      "text/plain": [
       "         manufacturer   price  \\\n",
       "0              G-Star  109.95   \n",
       "1          Anna Field   37.99   \n",
       "2            Converse   89.95   \n",
       "3            Converse   81.95   \n",
       "4     Nike Sportswear   84.95   \n",
       "...               ...     ...   \n",
       "2619   Tommy Hilfiger   69.95   \n",
       "2620         New Look   16.99   \n",
       "2621             Next   30.00   \n",
       "2622          Tamaris   49.95   \n",
       "2623              HUB   59.95   \n",
       "\n",
       "                                                  model  \n",
       "0      ROVIC II - Zapatillas - light liquid pink/bisque  \n",
       "1                                    Zapatillas - black  \n",
       "2     CHUCK TAYLOR MOVE PLATFORM - Zapatillas altas ...  \n",
       "3        RUN STAR HIKE - Zapatillas altas - white/black  \n",
       "4     BLAZER MID '77 - Zapatillas altas - white/blac...  \n",
       "...                                                 ...  \n",
       "2619           ICONIC KESHA SLIP ON - Mocasines - white  \n",
       "2620         MARKED TOE CAP TOP UP - Zapatillas - white  \n",
       "2621  WITH LEOPARD BACK SIGNATURE  - Zapatillas - white  \n",
       "2622                                 Zapatillas - olive  \n",
       "2623       BASELINE MID - Zapatillas altas - white/bone  \n",
       "\n",
       "[2624 rows x 3 columns]"
      ]
     },
     "execution_count": 124,
     "metadata": {},
     "output_type": "execute_result"
    }
   ],
   "source": [
    "df"
   ]
  },
  {
   "cell_type": "code",
   "execution_count": null,
   "metadata": {},
   "outputs": [],
   "source": [
    "\"div.cat_catalog-ec2An > div > div > div.qMZa55._8P5KBX.pbIgly > div > div > div > div > div.adFHlH._0xLoFW._7ckuOK.mROyo1 > div > article\""
   ]
  }
 ],
 "metadata": {
  "kernelspec": {
   "display_name": "Python3 (ih)",
   "language": "python",
   "name": "ironhack"
  },
  "language_info": {
   "codemirror_mode": {
    "name": "ipython",
    "version": 3
   },
   "file_extension": ".py",
   "mimetype": "text/x-python",
   "name": "python",
   "nbconvert_exporter": "python",
   "pygments_lexer": "ipython3",
   "version": "3.7.8"
  }
 },
 "nbformat": 4,
 "nbformat_minor": 4
}
