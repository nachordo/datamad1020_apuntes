{
 "cells": [
  {
   "cell_type": "code",
   "execution_count": 1,
   "metadata": {},
   "outputs": [],
   "source": [
    "import numpy as np"
   ]
  },
  {
   "cell_type": "code",
   "execution_count": 19,
   "metadata": {},
   "outputs": [],
   "source": [
    "A = np.array([[[1,1],[2,2],[3,3]],[[4,4],[5,5],[6,6]]])"
   ]
  },
  {
   "cell_type": "code",
   "execution_count": 20,
   "metadata": {},
   "outputs": [
    {
     "data": {
      "text/plain": [
       "array([[[1, 1],\n",
       "        [2, 2],\n",
       "        [3, 3]],\n",
       "\n",
       "       [[4, 4],\n",
       "        [5, 5],\n",
       "        [6, 6]]])"
      ]
     },
     "execution_count": 20,
     "metadata": {},
     "output_type": "execute_result"
    }
   ],
   "source": [
    "A"
   ]
  },
  {
   "cell_type": "code",
   "execution_count": 21,
   "metadata": {},
   "outputs": [
    {
     "data": {
      "text/plain": [
       "3"
      ]
     },
     "execution_count": 21,
     "metadata": {},
     "output_type": "execute_result"
    }
   ],
   "source": [
    "A.ndim"
   ]
  },
  {
   "cell_type": "code",
   "execution_count": 22,
   "metadata": {},
   "outputs": [
    {
     "data": {
      "text/plain": [
       "(2, 3, 2)"
      ]
     },
     "execution_count": 22,
     "metadata": {},
     "output_type": "execute_result"
    }
   ],
   "source": [
    "A.shape"
   ]
  },
  {
   "cell_type": "code",
   "execution_count": 23,
   "metadata": {},
   "outputs": [
    {
     "data": {
      "text/plain": [
       "(2, 3, 2)"
      ]
     },
     "execution_count": 23,
     "metadata": {},
     "output_type": "execute_result"
    }
   ],
   "source": [
    "len(A),len(A[0]),len(A[0][0])"
   ]
  },
  {
   "cell_type": "code",
   "execution_count": 24,
   "metadata": {},
   "outputs": [],
   "source": [
    "a0 = [[1,1],[2,2],[3,3]]\n",
    "a1 = [[4,4],[5,5],[6,6]]"
   ]
  },
  {
   "cell_type": "code",
   "execution_count": 26,
   "metadata": {},
   "outputs": [],
   "source": [
    "B = np.array([a0,a1])"
   ]
  },
  {
   "cell_type": "code",
   "execution_count": 27,
   "metadata": {},
   "outputs": [
    {
     "data": {
      "text/plain": [
       "array([[[1, 1],\n",
       "        [2, 2],\n",
       "        [3, 3]],\n",
       "\n",
       "       [[4, 4],\n",
       "        [5, 5],\n",
       "        [6, 6]]])"
      ]
     },
     "execution_count": 27,
     "metadata": {},
     "output_type": "execute_result"
    }
   ],
   "source": [
    "B"
   ]
  },
  {
   "cell_type": "code",
   "execution_count": 29,
   "metadata": {},
   "outputs": [
    {
     "data": {
      "text/plain": [
       "True"
      ]
     },
     "execution_count": 29,
     "metadata": {},
     "output_type": "execute_result"
    }
   ],
   "source": [
    "A.shape==B.shape"
   ]
  },
  {
   "cell_type": "code",
   "execution_count": 36,
   "metadata": {},
   "outputs": [],
   "source": [
    "B = np.array([[[\"a\",\"a\"],[\"b\",\"b\"],[\"c\",\"c\"]],[[\"d\",\"d\"],[\"e\",\"e\"],[\"f\",\"f\"]]])"
   ]
  },
  {
   "cell_type": "code",
   "execution_count": 37,
   "metadata": {},
   "outputs": [
    {
     "name": "stdout",
     "output_type": "stream",
     "text": [
      "[[['1' '1']\n",
      "  ['2' '2']\n",
      "  ['3' '3']]\n",
      "\n",
      " [['4' '4']\n",
      "  ['5' '5']\n",
      "  ['6' '6']]\n",
      "\n",
      " [['a' 'a']\n",
      "  ['b' 'b']\n",
      "  ['c' 'c']]\n",
      "\n",
      " [['d' 'd']\n",
      "  ['e' 'e']\n",
      "  ['f' 'f']]]\n"
     ]
    }
   ],
   "source": [
    "C = np.concatenate([A,B],axis=0)\n",
    "print(C)"
   ]
  },
  {
   "cell_type": "code",
   "execution_count": 38,
   "metadata": {},
   "outputs": [
    {
     "name": "stdout",
     "output_type": "stream",
     "text": [
      "(2, 3, 2)\n",
      "(2, 3, 2)\n",
      "(4, 3, 2)\n"
     ]
    }
   ],
   "source": [
    "print(A.shape)\n",
    "print(B.shape)\n",
    "print(C.shape)"
   ]
  },
  {
   "cell_type": "code",
   "execution_count": 39,
   "metadata": {},
   "outputs": [
    {
     "name": "stdout",
     "output_type": "stream",
     "text": [
      "[[['1' '1']\n",
      "  ['2' '2']\n",
      "  ['3' '3']\n",
      "  ['a' 'a']\n",
      "  ['b' 'b']\n",
      "  ['c' 'c']]\n",
      "\n",
      " [['4' '4']\n",
      "  ['5' '5']\n",
      "  ['6' '6']\n",
      "  ['d' 'd']\n",
      "  ['e' 'e']\n",
      "  ['f' 'f']]]\n",
      "(2, 3, 2)\n",
      "(2, 3, 2)\n",
      "(2, 6, 2)\n"
     ]
    }
   ],
   "source": [
    "C = np.concatenate([A,B],axis=1)\n",
    "print(C)\n",
    "print(A.shape)\n",
    "print(B.shape)\n",
    "print(C.shape)"
   ]
  },
  {
   "cell_type": "code",
   "execution_count": 41,
   "metadata": {},
   "outputs": [
    {
     "name": "stdout",
     "output_type": "stream",
     "text": [
      "[[['1' '1' 'a' 'a']\n",
      "  ['2' '2' 'b' 'b']\n",
      "  ['3' '3' 'c' 'c']]\n",
      "\n",
      " [['4' '4' 'd' 'd']\n",
      "  ['5' '5' 'e' 'e']\n",
      "  ['6' '6' 'f' 'f']]]\n",
      "(2, 3, 2)\n",
      "(2, 3, 2)\n",
      "(2, 3, 4)\n"
     ]
    }
   ],
   "source": [
    "C = np.concatenate([A,B],axis=2)\n",
    "print(C)\n",
    "print(A.shape)\n",
    "print(B.shape)\n",
    "print(C.shape)"
   ]
  },
  {
   "cell_type": "code",
   "execution_count": 81,
   "metadata": {},
   "outputs": [
    {
     "name": "stdout",
     "output_type": "stream",
     "text": [
      "[[0.71353868 0.73283918 0.46853982 0.81884741 0.9980011 ]\n",
      " [0.49460614 0.68624875 0.58108437 0.30752397 0.87157827]\n",
      " [0.11879025 0.0894301  0.56669026 0.06961304 0.96290924]\n",
      " [0.15617033 0.34691365 0.93597255 0.37872761 0.67418537]\n",
      " [0.29170545 0.38047816 0.15926294 0.90178471 0.1996435 ]]\n"
     ]
    }
   ],
   "source": [
    "val = np.random.random([5,5])\n",
    "print(val)"
   ]
  },
  {
   "cell_type": "code",
   "execution_count": 82,
   "metadata": {},
   "outputs": [],
   "source": [
    "# Version A\n",
    "conv = [(val<.25, \"D\"),\n",
    "        ((.25<=val) & (val<.50), \"C\"),\n",
    "        ((.50<=val) & (val<.75), \"B\"),\n",
    "        (.75<=val, \"A\")]"
   ]
  },
  {
   "cell_type": "code",
   "execution_count": 83,
   "metadata": {},
   "outputs": [],
   "source": [
    "res = np.empty(val.shape,dtype=str)"
   ]
  },
  {
   "cell_type": "code",
   "execution_count": 84,
   "metadata": {},
   "outputs": [],
   "source": [
    "for cond, value in conv:\n",
    "    res[cond] = value"
   ]
  },
  {
   "cell_type": "code",
   "execution_count": 85,
   "metadata": {},
   "outputs": [
    {
     "data": {
      "text/plain": [
       "array([['B', 'B', 'C', 'A', 'A'],\n",
       "       ['C', 'B', 'B', 'C', 'A'],\n",
       "       ['D', 'D', 'B', 'D', 'A'],\n",
       "       ['D', 'C', 'A', 'C', 'B'],\n",
       "       ['C', 'C', 'D', 'A', 'D']], dtype='<U1')"
      ]
     },
     "execution_count": 85,
     "metadata": {},
     "output_type": "execute_result"
    }
   ],
   "source": [
    "res"
   ]
  },
  {
   "cell_type": "code",
   "execution_count": 86,
   "metadata": {},
   "outputs": [],
   "source": [
    "# Version B\n",
    "conv = {x<.25 : \"D\",\n",
    "       .25<=x<.50 : \"C\",\n",
    "       .50<=x<.75 : \"B\",\n",
    "       .75<=x : \"A\"}\n",
    "def conversion(x):\n",
    "    conv = {x<.25 : \"D\",\n",
    "           .25<=x<.50 : \"C\",\n",
    "           .50<=x<.75 : \"B\",\n",
    "           .75<=x : \"A\"}\n",
    "    return conv[True]"
   ]
  },
  {
   "cell_type": "code",
   "execution_count": 87,
   "metadata": {},
   "outputs": [],
   "source": [
    "conversion_vectorized = np.vectorize(conversion)"
   ]
  },
  {
   "cell_type": "code",
   "execution_count": 88,
   "metadata": {},
   "outputs": [
    {
     "data": {
      "text/plain": [
       "<numpy.vectorize at 0x7fefde423250>"
      ]
     },
     "execution_count": 88,
     "metadata": {},
     "output_type": "execute_result"
    }
   ],
   "source": [
    "conversion_vectorized"
   ]
  },
  {
   "cell_type": "code",
   "execution_count": 89,
   "metadata": {},
   "outputs": [
    {
     "data": {
      "text/plain": [
       "array([['B', 'B', 'C', 'A', 'A'],\n",
       "       ['C', 'B', 'B', 'C', 'A'],\n",
       "       ['D', 'D', 'B', 'D', 'A'],\n",
       "       ['D', 'C', 'A', 'C', 'B'],\n",
       "       ['C', 'C', 'D', 'A', 'D']], dtype='<U1')"
      ]
     },
     "execution_count": 89,
     "metadata": {},
     "output_type": "execute_result"
    }
   ],
   "source": [
    "conversion_vectorized(val)"
   ]
  },
  {
   "cell_type": "code",
   "execution_count": 90,
   "metadata": {},
   "outputs": [],
   "source": [
    "conv_lambda_vec = np.vectorize(lambda x: {x<.25 : \"D\",\n",
    "                                         .25<=x<.50 : \"C\",\n",
    "                                         .50<=x<.75 : \"B\",\n",
    "                                         .75<=x : \"A\"}[True])"
   ]
  },
  {
   "cell_type": "code",
   "execution_count": 91,
   "metadata": {},
   "outputs": [
    {
     "data": {
      "text/plain": [
       "array([['B', 'B', 'C', 'A', 'A'],\n",
       "       ['C', 'B', 'B', 'C', 'A'],\n",
       "       ['D', 'D', 'B', 'D', 'A'],\n",
       "       ['D', 'C', 'A', 'C', 'B'],\n",
       "       ['C', 'C', 'D', 'A', 'D']], dtype='<U1')"
      ]
     },
     "execution_count": 91,
     "metadata": {},
     "output_type": "execute_result"
    }
   ],
   "source": [
    "conv_lambda_vec(val)"
   ]
  }
 ],
 "metadata": {
  "kernelspec": {
   "display_name": "Python3 (ih)",
   "language": "python",
   "name": "ironhack"
  },
  "language_info": {
   "codemirror_mode": {
    "name": "ipython",
    "version": 3
   },
   "file_extension": ".py",
   "mimetype": "text/x-python",
   "name": "python",
   "nbconvert_exporter": "python",
   "pygments_lexer": "ipython3",
   "version": "3.7.8"
  }
 },
 "nbformat": 4,
 "nbformat_minor": 4
}
