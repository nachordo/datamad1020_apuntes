{
 "cells": [
  {
   "cell_type": "markdown",
   "metadata": {},
   "source": [
    "# Regular Expressions \n",
    "Regular Expressions - also known as regex - are a sequence of characters that define a search pattern."
   ]
  },
  {
   "cell_type": "markdown",
   "metadata": {},
   "source": [
    "https://docs.python.org/3/library/re.html\n",
    "\n",
    "https://regex101.com/\n",
    "\n"
   ]
  },
  {
   "cell_type": "code",
   "execution_count": 1,
   "metadata": {},
   "outputs": [],
   "source": [
    "import re"
   ]
  },
  {
   "cell_type": "markdown",
   "metadata": {},
   "source": [
    "## Functions"
   ]
  },
  {
   "cell_type": "markdown",
   "metadata": {},
   "source": [
    "### re.findall (pattern, string, flags=0) \n",
    "returns a list of strings containing all matches\n"
   ]
  },
  {
   "cell_type": "code",
   "execution_count": 2,
   "metadata": {},
   "outputs": [
    {
     "name": "stdout",
     "output_type": "stream",
     "text": [
      "['Juan']\n"
     ]
    }
   ],
   "source": [
    "juan = re.findall(\"Juan\", \"El miercoles fue el cumpleaños de Juan\")\n",
    "print(juan)"
   ]
  },
  {
   "cell_type": "code",
   "execution_count": 3,
   "metadata": {},
   "outputs": [
    {
     "name": "stdout",
     "output_type": "stream",
     "text": [
      "['Adriana', 'Juan', 'Felipe']\n"
     ]
    }
   ],
   "source": [
    "names_ages = \"Adriana is 22 years old, Juan turned 23 years old on wednesday wile Felipe is 30\"\n",
    "nombre = re.findall(r\"[A-Z]+[a-z]*\", names_ages)\n",
    "print(nombre)"
   ]
  },
  {
   "cell_type": "code",
   "execution_count": 4,
   "metadata": {},
   "outputs": [],
   "source": [
    "information = \"Javier Perez: javier.perez@gmail.com, Patricia Lopez: patricia_lopez@hotmail.com, Rocio García: rocio-garcia@yahoo.es\"\n"
   ]
  },
  {
   "cell_type": "code",
   "execution_count": 5,
   "metadata": {},
   "outputs": [
    {
     "name": "stdout",
     "output_type": "stream",
     "text": [
      "['Javier Perez', 'Patricia Lopez', 'Rocio Garc']\n"
     ]
    }
   ],
   "source": [
    "names = re.findall(r\"[A-Z]+[a-z]* [A-Z]+[a-z]*\", information)\n",
    "print(names)"
   ]
  },
  {
   "cell_type": "code",
   "execution_count": 6,
   "metadata": {},
   "outputs": [
    {
     "name": "stdout",
     "output_type": "stream",
     "text": [
      "['javier.perez@gmail.com', 'patricia_lopez@hotmail.com', 'rocio-garcia@yahoo.es']\n"
     ]
    }
   ],
   "source": [
    "emails = re.findall(r\"[\\w.-]+@+[\\w.-]+\", information)\n",
    "print(emails)"
   ]
  },
  {
   "cell_type": "code",
   "execution_count": 7,
   "metadata": {},
   "outputs": [],
   "source": [
    "with open('info.txt', 'r') as file:\n",
    "    client_info = file.read()"
   ]
  },
  {
   "cell_type": "code",
   "execution_count": 8,
   "metadata": {},
   "outputs": [
    {
     "name": "stdout",
     "output_type": "stream",
     "text": [
      "['sit.amet.metus@egestasnunc.ca', 'arcu.Aliquam.ultrices@vestibulumneceuismod.co.uk', 'Nulla.eu.neque@Fuscealiquetmagna.com', 'Nullam.velit@non.ca', 'In@gravidamolestiearcu.co.uk']\n"
     ]
    }
   ],
   "source": [
    "emails_clients=re.findall(r\"[\\w.-]+@+[\\w.-]+\", client_info)\n",
    "print(emails_clients[:5])"
   ]
  },
  {
   "cell_type": "code",
   "execution_count": 9,
   "metadata": {},
   "outputs": [],
   "source": [
    "client_numbers = re.findall(r\"[0-9]{2}-\\d{3}-\\d{3}-\\d{3}\", client_info)"
   ]
  },
  {
   "cell_type": "code",
   "execution_count": 10,
   "metadata": {},
   "outputs": [
    {
     "name": "stdout",
     "output_type": "stream",
     "text": [
      "['34-739-941-941', '34-278-870-242', '34-999-876-292', '34-345-887-949', '34-905-089-682', '34-773-463-479', '34-017-915-525', '34-274-204-840', '34-575-459-881', '34-249-358-256', '34-299-478-659', '34-094-099-748', '34-236-498-114', '34-541-455-803', '34-274-768-546', '34-850-484-655', '34-193-830-599', '34-768-704-320', '34-960-058-312', '34-835-461-291', '34-524-499-405', '34-553-655-405', '34-193-752-726', '34-165-726-657', '34-172-146-895', '34-309-707-078', '34-289-368-945', '34-432-424-781', '34-880-153-396', '34-876-903-767', '34-508-574-378', '34-219-498-365', '34-413-279-781', '34-789-736-506', '34-701-997-370', '34-912-146-256', '34-550-871-297', '34-818-230-259', '34-707-183-700', '34-006-975-807', '34-975-336-347', '34-208-023-425', '34-810-185-675', '34-318-817-026', '34-229-857-982', '34-415-168-417', '34-595-803-021', '34-620-827-404', '34-711-768-527', '34-159-329-878', '34-619-616-824', '34-865-861-872', '34-294-644-638', '34-439-853-222', '34-215-852-041', '34-425-519-500', '34-152-386-570', '34-114-918-271', '34-578-430-713', '34-198-215-014', '34-081-000-664', '34-215-712-522', '34-247-057-497', '34-091-856-589', '34-972-416-447', '34-371-921-059', '34-103-486-092', '34-093-803-387', '34-887-264-237', '34-396-708-852', '34-935-106-187', '34-719-648-197', '34-287-491-518', '34-190-000-222', '34-632-106-215', '34-236-373-612', '34-103-834-289', '34-247-496-116', '34-685-891-953', '34-382-619-851', '34-988-032-549', '34-827-702-441', '34-962-483-735', '34-045-897-696', '34-536-831-838', '34-008-550-220', '34-502-109-187', '34-259-454-764', '34-648-926-885', '34-131-055-768', '34-824-680-101', '34-390-299-105', '34-022-795-481', '34-033-595-405', '34-058-465-887', '34-857-529-653', '34-621-918-403', '34-715-306-812', '34-680-520-067', '34-870-684-275']\n"
     ]
    }
   ],
   "source": [
    "print(client_numbers)"
   ]
  },
  {
   "cell_type": "markdown",
   "metadata": {},
   "source": [
    "### re.split(pattern, string, maxsplit=0, flags=0)\n",
    "method splits the string where there is a match and returns a list of strings where the splits have occurred.  "
   ]
  },
  {
   "cell_type": "code",
   "execution_count": 11,
   "metadata": {},
   "outputs": [
    {
     "name": "stdout",
     "output_type": "stream",
     "text": [
      "['Wyoming Dudley sit.amet.metus@egestasnunc.ca 2518 Nulla Road 34-739-941-941', ' Aristotle Grant arcu.Aliquam.ultrices@vestibulumneceuismod.co.uk 8453 Nostra, St. 34-278-870-242', ' Zephania Copeland Nulla.eu.neque@Fuscealiquetmagna.com P.O. Box 733, 3179 Ligula. Av. 34-999-876-292', ' Scarlett Ortiz Nullam.velit@non.ca 6082 Massa Road 34-345-887-949', ' Ocean Bell In@gravidamolestiearcu.co.uk P.O. Box 370, 440 Suspendisse Rd. 34-905-089-682']\n"
     ]
    }
   ],
   "source": [
    "client_list = re.split(r\"(?<=[0-9]{2}-\\d{3}-\\d{3}-\\d{3})\",client_info)\n",
    "print(client_list[:5])"
   ]
  },
  {
   "cell_type": "markdown",
   "metadata": {},
   "source": [
    " "
   ]
  },
  {
   "cell_type": "markdown",
   "metadata": {},
   "source": [
    "### re.sub(pattern, repl, string, count=0, flags=0)\n",
    "method returns a string where matched occurrences are replaced with the content of replace variable.\n",
    "\n",
    "#### re.subn(pattern, repl, string, count=0, flags=0)\n",
    "is similar to re.sub() expect it returns a tuple of 2 items containing the new string and the number of substitutions made. "
   ]
  },
  {
   "cell_type": "code",
   "execution_count": 12,
   "metadata": {},
   "outputs": [
    {
     "name": "stdout",
     "output_type": "stream",
     "text": [
      "Javier Perez: javier.perez@gmail.com, Patricia Lopez: patricia_lopez@gmail.com, Rocio García: rocio-garcia@yahoo.es\n",
      "[a-z]avier [a-z]erez: javier.perez@gmail.com, [a-z]atricia [a-z]opez: patricia_lopez@hotmail.com, [a-z]ocio [a-z]arcía: rocio-garcia@yahoo.es\n"
     ]
    }
   ],
   "source": [
    "information = \"Javier Perez: javier.perez@gmail.com, Patricia Lopez: patricia_lopez@hotmail.com, Rocio García: rocio-garcia@yahoo.es\"\n",
    "emails_corrected = re.sub(\"hotmail.com\", \"gmail.com\", information)\n",
    "print(emails_corrected)\n",
    "\n",
    "emails_lowercase = re.sub(r\"[A-Z]\", r\"[a-z]\", information)\n",
    "print(emails_lowercase)\n"
   ]
  },
  {
   "cell_type": "markdown",
   "metadata": {},
   "source": [
    "## Methods and Match objects"
   ]
  },
  {
   "cell_type": "markdown",
   "metadata": {},
   "source": [
    "**.span()** returns a tuple containing the start-, and end positions of the match  \n",
    "**.string** returns the string passed into the function  \n",
    "**.group()** returns the part of the string where there was a match  "
   ]
  },
  {
   "cell_type": "markdown",
   "metadata": {},
   "source": []
  },
  {
   "cell_type": "markdown",
   "metadata": {},
   "source": [
    "### re.search(pattern, string, flags=0)  \n",
    "This method takes two arguments: a pattern and a string. The method looks for the first location where the RegEx pattern produces a match with the string. If the search is successful, re.search() returns a match object; if not, it returns None.  "
   ]
  },
  {
   "cell_type": "code",
   "execution_count": 13,
   "metadata": {},
   "outputs": [],
   "source": [
    "ironhack = \"Ironhack courses: Data Analytics, Web Development, UX UI Design \"\n",
    "\n"
   ]
  },
  {
   "cell_type": "code",
   "execution_count": 14,
   "metadata": {},
   "outputs": [
    {
     "name": "stdout",
     "output_type": "stream",
     "text": [
      "Statistics is not in ironhack\n",
      "Data Analytics is in Ironhack\n",
      "Economics is not in ironhack\n",
      "Web Development is in Ironhack\n"
     ]
    }
   ],
   "source": [
    "courses = [\"Statistics\", \"Data Analytics\", \"Economics\", \"Web Development\"]\n",
    "for course in courses:\n",
    "    if re.search(course,ironhack):\n",
    "        print(f\"{course} is in Ironhack\")\n",
    "    else:\n",
    "        print(f\"{course} is not in ironhack\")"
   ]
  },
  {
   "cell_type": "code",
   "execution_count": 15,
   "metadata": {},
   "outputs": [
    {
     "data": {
      "text/plain": [
       "(18, 32)"
      ]
     },
     "execution_count": 15,
     "metadata": {},
     "output_type": "execute_result"
    }
   ],
   "source": [
    "re.search(\"Data Analytics\", ironhack).span()"
   ]
  },
  {
   "cell_type": "markdown",
   "metadata": {},
   "source": [
    "### re.match(pattern, string, flags=0)\n",
    "Returns a corresponding match object if zero or more characters at the beginning of string match the pattern. Else it returns None, if the string does not match the given pattern."
   ]
  },
  {
   "cell_type": "code",
   "execution_count": 16,
   "metadata": {},
   "outputs": [],
   "source": [
    "class_names = [\"Pepe\", \"Lucia\", \"Paula\", \"Roberto\"]\n"
   ]
  },
  {
   "cell_type": "code",
   "execution_count": 17,
   "metadata": {},
   "outputs": [
    {
     "name": "stdout",
     "output_type": "stream",
     "text": [
      "Pepe in class\n",
      "Lucia not in class\n",
      "Paula in class\n",
      "Roberto not in class\n"
     ]
    }
   ],
   "source": [
    "for name in class_names:\n",
    "    if re.match(r\"^P\", name):\n",
    "        print(f\"{name} in class\")\n",
    "    else:\n",
    "        print(f\"{name} not in class\")"
   ]
  },
  {
   "cell_type": "markdown",
   "metadata": {},
   "source": [
    "### re.fullmatch(pattern, string, flags=0)"
   ]
  },
  {
   "cell_type": "code",
   "execution_count": 18,
   "metadata": {},
   "outputs": [
    {
     "name": "stdout",
     "output_type": "stream",
     "text": [
      "Pepe is not desired name\n",
      "Lucia is not desired name\n",
      "Paula is not desired name\n",
      "Roberto is not desired name\n",
      "Maria is desired name\n",
      "Jose Maria is not desired name\n"
     ]
    }
   ],
   "source": [
    "class_names = [\"Pepe\", \"Lucia\", \"Paula\", \"Roberto\", \"Maria\", \"Jose Maria\"]\n",
    "for name in class_names:\n",
    "    if re.fullmatch(\"Maria\", name):\n",
    "        print(f\"{name} is desired name\")\n",
    "    else:\n",
    "        print(f\"{name} is not desired name\")"
   ]
  },
  {
   "cell_type": "markdown",
   "metadata": {},
   "source": [
    "### re.finditer(pattern, string, flags=0)"
   ]
  },
  {
   "cell_type": "code",
   "execution_count": 19,
   "metadata": {},
   "outputs": [
    {
     "name": "stdout",
     "output_type": "stream",
     "text": [
      "(4, 8)\n",
      "(55, 59)\n",
      "(67, 71)\n"
     ]
    }
   ],
   "source": [
    "text = 'This is a text which we will test to see how many times is the word is in the text'\n",
    "pattern = ' is '\n",
    "for match in re.finditer(pattern, text):\n",
    "    print(match.span())"
   ]
  },
  {
   "cell_type": "markdown",
   "metadata": {},
   "source": [
    "### re.compile(pattern, flags=0)\n",
    "\n",
    "Compiles a regex into a regular expression object."
   ]
  },
  {
   "cell_type": "code",
   "execution_count": 20,
   "metadata": {},
   "outputs": [],
   "source": [
    "'''\n",
    "^ -- any character except\n",
    "A-Z upercase letters\n",
    "a-z lowercase letters\n",
    "(include a space after z to allow spaces too)\n",
    "'''\n",
    "\n",
    "name_check = re.compile(r\"[^A-Za-z ]\")\n"
   ]
  },
  {
   "cell_type": "code",
   "execution_count": 21,
   "metadata": {},
   "outputs": [
    {
     "name": "stdout",
     "output_type": "stream",
     "text": [
      "Please insert your name:adriana.coca\n",
      "Please enter your name correctly!\n",
      "Please insert your name:Adriana_Coca\n",
      "Please enter your name correctly!\n",
      "Please insert your name:Adriana Coca\n"
     ]
    }
   ],
   "source": [
    "name = input(\"Please insert your name:\")\n",
    "while name_check.search(name):\n",
    "    print(\"Please enter your name correctly!\")\n",
    "    name = input(\"Please insert your name:\")"
   ]
  },
  {
   "cell_type": "markdown",
   "metadata": {},
   "source": [
    "re.findall()----Returns a list of all regex matches in a string  \n",
    "re.split()----Returns a list split by pattern  \n",
    "re.sub()----Returns string with substituted pattern  \n",
    "re.search()----Scans a string for a regex match  \n",
    "re.match()----Looks for a regex match at the beginning of a string  \n",
    "re.fullmatch()----Looks for a regex match on an entire string  \n",
    "re.finditer()----Returns an iterator that yields regex matches from a string  \n",
    "re.compile()----Compiles a regex into a regular expression object   "
   ]
  },
  {
   "cell_type": "markdown",
   "metadata": {},
   "source": [
    "## Sets\n",
    "\n",
    "**[a-e]** (abcde)  \n",
    "\n",
    "**[1-4]** (1234)  \n",
    "\n",
    "**[^abc]** Cualquier caracter excepto abc  \n",
    "\n",
    "**[^0-9]** Cualquier carácter que no sea un numero "
   ]
  },
  {
   "cell_type": "markdown",
   "metadata": {},
   "source": [
    "## Metacharacters\n",
    "\n",
    "**^** - When added as the first character in a regex pattern, it means \"the beginning of the searched string\". When used between square brackets, it means \"everything but\"\n",
    "\n",
    "**$** - Used to check if a string ends with a certain character\n",
    "\n",
    "***** - Matches zero or more occurrences of the pattern left to it\n",
    "\n",
    "**+** - Matches one or more occurrences of the pattern left to it\n",
    "\n",
    "**?** - Matches zero or one occurrence of the pattern left to it\n",
    "\n",
    "**{}** - Consider this code: {n,m}. This means at least n, and at most m repetitions of the pattern left to it\n",
    "\n",
    "**|** - Used for alternation (or operator).\n",
    "\n",
    "**()** - Used to group sub-patterns. For example, (a|b|c)xz match any string that matches either a or b or c followed by xz\n",
    "\n",
    "**\\** - Used to escape various characters including all metacharacters. For example,\n",
    "\n",
    "**\\$a** - Match if a string contains a dollar sign followed by a. Here, $ is not interpreted by a RegEx engine in a special way.\n",
    "\n",
    "**.** Cualquier caracter excepto un salto de linea (\"\\n\")  \n",
    "\n",
    "If you are unsure if a character has special meaning or not, you can put \\ in front of it. This makes sure the character is not treated in a special way."
   ]
  },
  {
   "cell_type": "markdown",
   "metadata": {},
   "source": [
    "## Special Sequences \n",
    "\n",
    "**\\A** - Matches if the specified characters are at the start of a string.  \n",
    "**\\b** - Matches if the specified characters are at the beginning or end of a word.  \n",
    "**\\B** - Opposite of \\b. Matches if the specified characters are not at the beginning or end of a word.  \n",
    "**\\d** - Matches any digit. Equivalent to [0-9]  \n",
    "**\\D** - Matches any non digit. Equivalent to [^0-9]  \n",
    "**\\s** - Matches where a string contains any whitespace character. Equivalent to [ \\t\\n\\r\\f\\v].  \n",
    "**\\S** - Matches where a string contains any non-whitespace character. Equivalent to [^ \\t\\n\\r\\f\\v].  \n",
    "**\\w** - Matches any alphanumeric character (digits and alphabets). Equivalent to [a-zA-Z0-9_]. By the way, underscore _ is also considered an alphanumeric character.  \n",
    "**\\W** - Matches any non-alphanumeric character. Equivalent to [^a-zA-Z0-9_]  \n",
    "**\\Z** - Matches if the specified characters are at the end of a string.  "
   ]
  },
  {
   "cell_type": "markdown",
   "metadata": {},
   "source": [
    "https://www.codewars.com/kata/56a3f08aa9a6cc9b75000023"
   ]
  },
  {
   "cell_type": "markdown",
   "metadata": {},
   "source": [
    "https://www.codewars.com/kata/55f8a9c06c018a0d6e000132"
   ]
  },
  {
   "cell_type": "code",
   "execution_count": null,
   "metadata": {},
   "outputs": [],
   "source": []
  }
 ],
 "metadata": {
  "kernelspec": {
   "display_name": "Python 3",
   "language": "python",
   "name": "python3"
  },
  "language_info": {
   "codemirror_mode": {
    "name": "ipython",
    "version": 3
   },
   "file_extension": ".py",
   "mimetype": "text/x-python",
   "name": "python",
   "nbconvert_exporter": "python",
   "pygments_lexer": "ipython3",
   "version": "3.7.7"
  }
 },
 "nbformat": 4,
 "nbformat_minor": 4
}
