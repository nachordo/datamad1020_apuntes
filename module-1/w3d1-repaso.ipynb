{
 "cells": [
  {
   "cell_type": "markdown",
   "metadata": {},
   "source": [
    "# OOP"
   ]
  },
  {
   "cell_type": "markdown",
   "metadata": {},
   "source": [
    "### Differences\n",
    "#### Functional programming\n",
    "- Focus on the execution of functions\n",
    "- `Immutable` data\n",
    "\n",
    "#### Object Oriented Programming\n",
    "- Based on the concept objects\n",
    "- `Mutable` data"
   ]
  },
  {
   "cell_type": "code",
   "execution_count": 1,
   "metadata": {},
   "outputs": [
    {
     "name": "stdout",
     "output_type": "stream",
     "text": [
      "<class 'str'>\n"
     ]
    }
   ],
   "source": [
    "a = \"Hola\"\n",
    "print(type(a))"
   ]
  },
  {
   "cell_type": "code",
   "execution_count": 2,
   "metadata": {},
   "outputs": [
    {
     "data": {
      "text/plain": [
       "['capitalize',\n",
       " 'casefold',\n",
       " 'center',\n",
       " 'count',\n",
       " 'encode',\n",
       " 'endswith',\n",
       " 'expandtabs',\n",
       " 'find',\n",
       " 'format',\n",
       " 'format_map',\n",
       " 'index',\n",
       " 'isalnum',\n",
       " 'isalpha',\n",
       " 'isascii',\n",
       " 'isdecimal',\n",
       " 'isdigit',\n",
       " 'isidentifier',\n",
       " 'islower',\n",
       " 'isnumeric',\n",
       " 'isprintable',\n",
       " 'isspace',\n",
       " 'istitle',\n",
       " 'isupper',\n",
       " 'join',\n",
       " 'ljust',\n",
       " 'lower',\n",
       " 'lstrip',\n",
       " 'maketrans',\n",
       " 'partition',\n",
       " 'replace',\n",
       " 'rfind',\n",
       " 'rindex',\n",
       " 'rjust',\n",
       " 'rpartition',\n",
       " 'rsplit',\n",
       " 'rstrip',\n",
       " 'split',\n",
       " 'splitlines',\n",
       " 'startswith',\n",
       " 'strip',\n",
       " 'swapcase',\n",
       " 'title',\n",
       " 'translate',\n",
       " 'upper',\n",
       " 'zfill']"
      ]
     },
     "execution_count": 2,
     "metadata": {},
     "output_type": "execute_result"
    }
   ],
   "source": [
    "[att for att in dir(a) if not att.startswith(\"_\")]"
   ]
  },
  {
   "cell_type": "code",
   "execution_count": 3,
   "metadata": {},
   "outputs": [
    {
     "data": {
      "text/plain": [
       "'HOLA'"
      ]
     },
     "execution_count": 3,
     "metadata": {},
     "output_type": "execute_result"
    }
   ],
   "source": [
    "a.upper()"
   ]
  },
  {
   "cell_type": "code",
   "execution_count": 4,
   "metadata": {},
   "outputs": [],
   "source": [
    "from w3d1 import Seminar, Student"
   ]
  },
  {
   "cell_type": "code",
   "execution_count": 5,
   "metadata": {},
   "outputs": [],
   "source": [
    "pepe = Student(\"Pepe\", \"Data\")\n",
    "maria = Student(\"Maria\", \"Web\")\n",
    "\n",
    "event = Seminar(\"Machine Learning for dummies\", \"Andrew Ng\", \"10/11/2020\", \"data\", \"machine learning\", \"data science\", \"algorithms\")"
   ]
  },
  {
   "cell_type": "code",
   "execution_count": 7,
   "metadata": {},
   "outputs": [
    {
     "data": {
      "text/plain": [
       "'Maria shall not attend'"
      ]
     },
     "execution_count": 7,
     "metadata": {},
     "output_type": "execute_result"
    }
   ],
   "source": [
    "maria.attend(event)"
   ]
  },
  {
   "cell_type": "code",
   "execution_count": 8,
   "metadata": {},
   "outputs": [
    {
     "data": {
      "text/plain": [
       "'Pepe'"
      ]
     },
     "execution_count": 8,
     "metadata": {},
     "output_type": "execute_result"
    }
   ],
   "source": [
    "pepe.name"
   ]
  },
  {
   "cell_type": "code",
   "execution_count": 9,
   "metadata": {},
   "outputs": [],
   "source": [
    "def sq_list(lst):\n",
    "    return [e**2 for e in lst]"
   ]
  },
  {
   "cell_type": "code",
   "execution_count": 10,
   "metadata": {
    "scrolled": true
   },
   "outputs": [
    {
     "data": {
      "text/plain": [
       "[1, 4, 9, 16, 25, 36, 49]"
      ]
     },
     "execution_count": 10,
     "metadata": {},
     "output_type": "execute_result"
    }
   ],
   "source": [
    "l = [1,2,3,4,5,6,7]\n",
    "sq_list(l)"
   ]
  },
  {
   "cell_type": "code",
   "execution_count": 12,
   "metadata": {},
   "outputs": [],
   "source": [
    "l\n",
    "l=sq_list(l)"
   ]
  },
  {
   "cell_type": "code",
   "execution_count": 13,
   "metadata": {},
   "outputs": [
    {
     "data": {
      "text/plain": [
       "[1, 4, 9, 16, 25, 36, 49]"
      ]
     },
     "execution_count": 13,
     "metadata": {},
     "output_type": "execute_result"
    }
   ],
   "source": [
    "# List has not changed, it is a new one!!!\n",
    "l"
   ]
  },
  {
   "cell_type": "code",
   "execution_count": 38,
   "metadata": {},
   "outputs": [],
   "source": [
    "class SuperList:\n",
    "    def __init__(self,*nums):\n",
    "        self.nums = list(nums)\n",
    "    def sq(self):\n",
    "        self.nums = [e**2 for e in self.nums]\n",
    "    def __str__(self):\n",
    "        return str(self.nums)\n",
    "    def __repr__(self):\n",
    "        return self.__str__()"
   ]
  },
  {
   "cell_type": "code",
   "execution_count": 39,
   "metadata": {},
   "outputs": [],
   "source": [
    "super_list = SuperList(1,2,3,4,5,6,7)"
   ]
  },
  {
   "cell_type": "code",
   "execution_count": 40,
   "metadata": {},
   "outputs": [
    {
     "data": {
      "text/plain": [
       "[1, 2, 3, 4, 5, 6, 7]"
      ]
     },
     "execution_count": 40,
     "metadata": {},
     "output_type": "execute_result"
    }
   ],
   "source": [
    "super_list"
   ]
  },
  {
   "cell_type": "code",
   "execution_count": 41,
   "metadata": {},
   "outputs": [
    {
     "data": {
      "text/plain": [
       "140545065297104"
      ]
     },
     "execution_count": 41,
     "metadata": {},
     "output_type": "execute_result"
    }
   ],
   "source": [
    "id(super_list)"
   ]
  },
  {
   "cell_type": "code",
   "execution_count": 42,
   "metadata": {},
   "outputs": [],
   "source": [
    "super_list.sq()"
   ]
  },
  {
   "cell_type": "code",
   "execution_count": 43,
   "metadata": {},
   "outputs": [
    {
     "data": {
      "text/plain": [
       "[1, 4, 9, 16, 25, 36, 49]"
      ]
     },
     "execution_count": 43,
     "metadata": {},
     "output_type": "execute_result"
    }
   ],
   "source": [
    "super_list"
   ]
  },
  {
   "cell_type": "code",
   "execution_count": 44,
   "metadata": {},
   "outputs": [
    {
     "data": {
      "text/plain": [
       "140545065297104"
      ]
     },
     "execution_count": 44,
     "metadata": {},
     "output_type": "execute_result"
    }
   ],
   "source": [
    "id(super_list)"
   ]
  },
  {
   "cell_type": "code",
   "execution_count": 46,
   "metadata": {},
   "outputs": [
    {
     "data": {
      "text/plain": [
       "builtin_function_or_method"
      ]
     },
     "execution_count": 46,
     "metadata": {},
     "output_type": "execute_result"
    }
   ],
   "source": [
    "type(print)"
   ]
  },
  {
   "cell_type": "code",
   "execution_count": 80,
   "metadata": {},
   "outputs": [],
   "source": [
    "## Functional Programming\n",
    "### State\n",
    "\n",
    "light = \"off\"\n",
    "light2 = \"on\"\n",
    "light3 = \"off\"\n",
    "light4 = \"on\"\n",
    "light5 = \"off\"\n",
    "light6 = \"on\"\n",
    "light7 = \"off\"\n",
    "light8 = \"on\"\n",
    "lights = [light,\n",
    "          light2,\n",
    "          light3,\n",
    "          light4,\n",
    "          light5,\n",
    "          light6,\n",
    "          light7,\n",
    "          light8]\n",
    "\n",
    "def is_on(light):\n",
    "    if light == \"on\":\n",
    "        return True\n",
    "    else:\n",
    "        return False\n",
    "    \n",
    "def is_workday(lights):\n",
    "    on = 0\n",
    "    off = 0\n",
    "    for l in lights:\n",
    "        if is_on(l):\n",
    "            on +=1\n",
    "        else:\n",
    "            off +=1\n",
    "    if on >= off:\n",
    "        return True\n",
    "    else:\n",
    "        return False"
   ]
  },
  {
   "cell_type": "code",
   "execution_count": 81,
   "metadata": {},
   "outputs": [
    {
     "data": {
      "text/plain": [
       "True"
      ]
     },
     "execution_count": 81,
     "metadata": {},
     "output_type": "execute_result"
    }
   ],
   "source": [
    "is_workday(lights)"
   ]
  },
  {
   "cell_type": "code",
   "execution_count": 82,
   "metadata": {},
   "outputs": [],
   "source": [
    "light4, light6 = \"off\",\"off\""
   ]
  },
  {
   "cell_type": "code",
   "execution_count": 83,
   "metadata": {},
   "outputs": [
    {
     "data": {
      "text/plain": [
       "True"
      ]
     },
     "execution_count": 83,
     "metadata": {},
     "output_type": "execute_result"
    }
   ],
   "source": [
    "is_workday(lights)"
   ]
  },
  {
   "cell_type": "code",
   "execution_count": 84,
   "metadata": {},
   "outputs": [
    {
     "data": {
      "text/plain": [
       "False"
      ]
     },
     "execution_count": 84,
     "metadata": {},
     "output_type": "execute_result"
    }
   ],
   "source": [
    "is_workday([light,light2,light3,light4,light5,light6,light7,light8])"
   ]
  },
  {
   "cell_type": "code",
   "execution_count": 127,
   "metadata": {},
   "outputs": [],
   "source": [
    "import random\n",
    "## OOP\n",
    "\n",
    "class Light:\n",
    "    def __init__(self,status):\n",
    "        self.status = status\n",
    "    def flip(self):\n",
    "        if self.status == \"on\":\n",
    "            self.status = \"off\"\n",
    "        else:\n",
    "            self.status = \"on\"\n",
    "    def __repr__(self):\n",
    "        return self.status\n",
    "    def turn_on(self):\n",
    "        self.status = \"on\"\n",
    "    def turn_off(self):\n",
    "        self.status = \"off\"\n",
    "            \n",
    "lights = [Light(random.choice([\"on\",\"off\"])) for _ in range(8)]\n",
    "\n",
    "def is_on(light):\n",
    "    if light == \"on\":\n",
    "        return True\n",
    "    else:\n",
    "        return False\n",
    "    \n",
    "def is_workday(lights):\n",
    "    on = 0\n",
    "    off = 0\n",
    "    for l in lights:\n",
    "        if is_on(l):\n",
    "            on +=1\n",
    "        else:\n",
    "            off +=1\n",
    "    if on >= off:\n",
    "        return True\n",
    "    else:\n",
    "        return False"
   ]
  },
  {
   "cell_type": "code",
   "execution_count": 128,
   "metadata": {},
   "outputs": [
    {
     "data": {
      "text/plain": [
       "[off, off, off, on, off, off, on, off]"
      ]
     },
     "execution_count": 128,
     "metadata": {},
     "output_type": "execute_result"
    }
   ],
   "source": [
    "lights"
   ]
  },
  {
   "cell_type": "code",
   "execution_count": 129,
   "metadata": {},
   "outputs": [
    {
     "data": {
      "text/plain": [
       "False"
      ]
     },
     "execution_count": 129,
     "metadata": {},
     "output_type": "execute_result"
    }
   ],
   "source": [
    "is_workday(lights)"
   ]
  },
  {
   "cell_type": "code",
   "execution_count": 130,
   "metadata": {},
   "outputs": [],
   "source": [
    "for l in lights:\n",
    "    l.turn_off()"
   ]
  },
  {
   "cell_type": "code",
   "execution_count": 131,
   "metadata": {},
   "outputs": [
    {
     "data": {
      "text/plain": [
       "[off, off, off, off, off, off, off, off]"
      ]
     },
     "execution_count": 131,
     "metadata": {},
     "output_type": "execute_result"
    }
   ],
   "source": [
    "lights"
   ]
  },
  {
   "cell_type": "code",
   "execution_count": 132,
   "metadata": {},
   "outputs": [
    {
     "data": {
      "text/plain": [
       "False"
      ]
     },
     "execution_count": 132,
     "metadata": {},
     "output_type": "execute_result"
    }
   ],
   "source": [
    "is_workday(lights)"
   ]
  },
  {
   "cell_type": "code",
   "execution_count": 133,
   "metadata": {},
   "outputs": [],
   "source": [
    "light = Light(\"off\")\n",
    "light2 = Light(\"on\")\n",
    "light3 = Light(\"off\")\n",
    "light4 = Light(\"on\")\n",
    "light5 = Light(\"off\")\n",
    "light6 = Light(\"on\")\n",
    "light7 = Light(\"off\")\n",
    "light8 = Light(\"on\")\n",
    "lights = [light,\n",
    "          light2,\n",
    "          light3,\n",
    "          light4,\n",
    "          light5,\n",
    "          light6,\n",
    "          light7,\n",
    "          light8]"
   ]
  },
  {
   "cell_type": "code",
   "execution_count": 134,
   "metadata": {},
   "outputs": [
    {
     "data": {
      "text/plain": [
       "False"
      ]
     },
     "execution_count": 134,
     "metadata": {},
     "output_type": "execute_result"
    }
   ],
   "source": [
    "is_workday(lights)"
   ]
  },
  {
   "cell_type": "code",
   "execution_count": 135,
   "metadata": {},
   "outputs": [],
   "source": [
    "light2.turn_off()\n",
    "light4.status = \"off\""
   ]
  },
  {
   "cell_type": "code",
   "execution_count": 136,
   "metadata": {},
   "outputs": [
    {
     "data": {
      "text/plain": [
       "False"
      ]
     },
     "execution_count": 136,
     "metadata": {},
     "output_type": "execute_result"
    }
   ],
   "source": [
    "is_workday(lights)"
   ]
  },
  {
   "cell_type": "markdown",
   "metadata": {},
   "source": [
    "![OOP vs Functional](https://miro.medium.com/max/1400/1*9OCTlnrfdIvV6dsBv-ECow.jpeg)"
   ]
  },
  {
   "cell_type": "code",
   "execution_count": 137,
   "metadata": {},
   "outputs": [
    {
     "data": {
      "text/plain": [
       "off"
      ]
     },
     "execution_count": 137,
     "metadata": {},
     "output_type": "execute_result"
    }
   ],
   "source": [
    "light"
   ]
  },
  {
   "cell_type": "code",
   "execution_count": 138,
   "metadata": {},
   "outputs": [
    {
     "data": {
      "text/plain": [
       "off"
      ]
     },
     "execution_count": 138,
     "metadata": {},
     "output_type": "execute_result"
    }
   ],
   "source": [
    "light.turn_off()\n",
    "light"
   ]
  },
  {
   "cell_type": "code",
   "execution_count": 139,
   "metadata": {},
   "outputs": [
    {
     "data": {
      "text/plain": [
       "on"
      ]
     },
     "execution_count": 139,
     "metadata": {},
     "output_type": "execute_result"
    }
   ],
   "source": [
    "light.turn_on()\n",
    "light"
   ]
  },
  {
   "cell_type": "code",
   "execution_count": 140,
   "metadata": {},
   "outputs": [
    {
     "data": {
      "text/plain": [
       "off"
      ]
     },
     "execution_count": 140,
     "metadata": {},
     "output_type": "execute_result"
    }
   ],
   "source": [
    "light.flip()\n",
    "light"
   ]
  },
  {
   "cell_type": "code",
   "execution_count": 141,
   "metadata": {},
   "outputs": [],
   "source": [
    "class Dog:\n",
    "    pass"
   ]
  },
  {
   "cell_type": "code",
   "execution_count": 142,
   "metadata": {},
   "outputs": [
    {
     "data": {
      "text/plain": [
       "<__main__.Dog at 0x7fd332b18610>"
      ]
     },
     "execution_count": 142,
     "metadata": {},
     "output_type": "execute_result"
    }
   ],
   "source": [
    "d = Dog()\n",
    "d"
   ]
  },
  {
   "cell_type": "code",
   "execution_count": 189,
   "metadata": {},
   "outputs": [],
   "source": [
    "class Dog:\n",
    "    def __init__(self):\n",
    "        self.dog = \"\"\"   __    __\n",
    "o-''))_____\\\\\n",
    "\"--__/ * * * )\n",
    "c_c__/-c____/\"\"\"\n",
    "    def bark(self):\n",
    "        return \"Woof, woof\"\n",
    "    def __repr__(self):\n",
    "        return self.dog\n",
    "    def __mul__(self,other):\n",
    "        if other is self:\n",
    "            return \"Dogs do not multiplicate with themselves\"\n",
    "        print(\"A puppy is born\")\n",
    "        return Dog()"
   ]
  },
  {
   "cell_type": "code",
   "execution_count": 190,
   "metadata": {},
   "outputs": [
    {
     "data": {
      "text/plain": [
       "   __    __\n",
       "o-''))_____\\\n",
       "\"--__/ * * * )\n",
       "c_c__/-c____/"
      ]
     },
     "execution_count": 190,
     "metadata": {},
     "output_type": "execute_result"
    }
   ],
   "source": [
    "d = Dog()\n",
    "d"
   ]
  },
  {
   "cell_type": "code",
   "execution_count": 191,
   "metadata": {},
   "outputs": [],
   "source": [
    "dog = Dog()"
   ]
  },
  {
   "cell_type": "code",
   "execution_count": 192,
   "metadata": {},
   "outputs": [
    {
     "data": {
      "text/plain": [
       "'Woof, woof'"
      ]
     },
     "execution_count": 192,
     "metadata": {},
     "output_type": "execute_result"
    }
   ],
   "source": [
    "d.bark()"
   ]
  },
  {
   "cell_type": "code",
   "execution_count": 194,
   "metadata": {},
   "outputs": [
    {
     "name": "stdout",
     "output_type": "stream",
     "text": [
      "A puppy is born\n"
     ]
    }
   ],
   "source": [
    "puppy = d*dog"
   ]
  },
  {
   "cell_type": "code",
   "execution_count": 195,
   "metadata": {},
   "outputs": [
    {
     "data": {
      "text/plain": [
       "'Woof, woof'"
      ]
     },
     "execution_count": 195,
     "metadata": {},
     "output_type": "execute_result"
    }
   ],
   "source": [
    "puppy.bark()"
   ]
  },
  {
   "cell_type": "markdown",
   "metadata": {},
   "source": [
    "# List Comprehension"
   ]
  },
  {
   "cell_type": "markdown",
   "metadata": {},
   "source": [
    "## Conditionals in List Comprehensions\n",
    "### Filtering\n",
    "- `if` after for\n",
    "- NO else\n",
    "- LC may have the same size as iterations or less, down 0\n",
    "\n",
    "### \"Conditional values\"\n",
    "- `if` before for\n",
    "- `if` is part of a **ternary**\n",
    "- else mandatory\n",
    "- LC will have same size as iterations!!!"
   ]
  },
  {
   "cell_type": "code",
   "execution_count": 208,
   "metadata": {},
   "outputs": [
    {
     "name": "stdout",
     "output_type": "stream",
     "text": [
      "total iterations: 4\n",
      "final len: 2\n"
     ]
    }
   ],
   "source": [
    "## Filtering\n",
    "lst = [1,2,3,4]\n",
    "iterations = len(lst)\n",
    "lc = [e for e in lst if e%2]\n",
    "lc_size = len(lc)\n",
    "print(f\"total iterations: {iterations}\")\n",
    "print(f\"final len: {lc_size}\")"
   ]
  },
  {
   "cell_type": "code",
   "execution_count": 209,
   "metadata": {},
   "outputs": [
    {
     "ename": "SyntaxError",
     "evalue": "invalid syntax (<ipython-input-209-01e8659e05c0>, line 1)",
     "output_type": "error",
     "traceback": [
      "\u001b[0;36m  File \u001b[0;32m\"<ipython-input-209-01e8659e05c0>\"\u001b[0;36m, line \u001b[0;32m1\u001b[0m\n\u001b[0;31m    [e for e in lst if e%2 else 5]\u001b[0m\n\u001b[0m                              ^\u001b[0m\n\u001b[0;31mSyntaxError\u001b[0m\u001b[0;31m:\u001b[0m invalid syntax\n"
     ]
    }
   ],
   "source": [
    "# No else!!\n",
    "[e for e in lst if e%2 else 5]"
   ]
  },
  {
   "cell_type": "code",
   "execution_count": 213,
   "metadata": {},
   "outputs": [],
   "source": [
    "## Conditional values // TERNARY\n",
    "a = 8\n",
    "if a%2:\n",
    "    parity = \"odd\"\n",
    "else:\n",
    "    parity = \"even\""
   ]
  },
  {
   "cell_type": "code",
   "execution_count": 214,
   "metadata": {},
   "outputs": [
    {
     "data": {
      "text/plain": [
       "'even'"
      ]
     },
     "execution_count": 214,
     "metadata": {},
     "output_type": "execute_result"
    }
   ],
   "source": [
    "parity"
   ]
  },
  {
   "cell_type": "code",
   "execution_count": 215,
   "metadata": {},
   "outputs": [],
   "source": [
    "a = 8\n",
    "parity = \"odd\" if a%2 else \"even\""
   ]
  },
  {
   "cell_type": "code",
   "execution_count": 216,
   "metadata": {},
   "outputs": [
    {
     "data": {
      "text/plain": [
       "'even'"
      ]
     },
     "execution_count": 216,
     "metadata": {},
     "output_type": "execute_result"
    }
   ],
   "source": [
    "parity"
   ]
  },
  {
   "cell_type": "code",
   "execution_count": 217,
   "metadata": {},
   "outputs": [
    {
     "name": "stdout",
     "output_type": "stream",
     "text": [
      "total iterations: 4\n",
      "final len: 4\n"
     ]
    }
   ],
   "source": [
    "# [parity for a in lst]\n",
    "lst = [1,2,3,4]\n",
    "iterations = len(lst)\n",
    "lc = [\"odd\" if a%2 else \"even\" for a in lst]\n",
    "lc_size = len(lc)\n",
    "print(f\"total iterations: {iterations}\")\n",
    "print(f\"final len: {lc_size}\")"
   ]
  },
  {
   "cell_type": "code",
   "execution_count": 218,
   "metadata": {},
   "outputs": [
    {
     "data": {
      "text/plain": [
       "['odd', 'even', 'odd', 'even']"
      ]
     },
     "execution_count": 218,
     "metadata": {},
     "output_type": "execute_result"
    }
   ],
   "source": [
    "lc"
   ]
  },
  {
   "cell_type": "code",
   "execution_count": 220,
   "metadata": {},
   "outputs": [
    {
     "data": {
      "text/plain": [
       "['formal', 'informal', 'informal', 'formal', 'formal', 'informal', 'formal']"
      ]
     },
     "execution_count": 220,
     "metadata": {},
     "output_type": "execute_result"
    }
   ],
   "source": [
    "parties = [\"wedding\", \"beach\", \"pool\", \"wedding\", \"wedding\", \"bar\", \"dinner\"]\n",
    "[\"formal\" if party in [\"wedding\",\"dinner\"] else \"informal\" for party in parties]"
   ]
  },
  {
   "cell_type": "code",
   "execution_count": 221,
   "metadata": {},
   "outputs": [
    {
     "data": {
      "text/plain": [
       "['formal', 'informal', 'informal']"
      ]
     },
     "execution_count": 221,
     "metadata": {},
     "output_type": "execute_result"
    }
   ],
   "source": [
    "ages = [56,42,6,7,16,20,2]\n",
    "[\"formal\" if party in [\"wedding\",\"dinner\"] else \"informal\"  #Ternary\n",
    " for age,party in zip(ages,parties) #Iteration (List Comprehension)\n",
    " if age>=18] #Filtering"
   ]
  },
  {
   "cell_type": "code",
   "execution_count": 222,
   "metadata": {},
   "outputs": [],
   "source": [
    "# kids: 0<=age<=12\n",
    "# teenagers: 13<=age<=19\n",
    "# adults: 19<age"
   ]
  },
  {
   "cell_type": "code",
   "execution_count": 227,
   "metadata": {},
   "outputs": [],
   "source": [
    "age = 25\n",
    "# not adult = \"teenager\" if 13<=age<=19 else \"kid\"\n",
    "age_bin = \"adult\" if age > 19 else \"teenager\" if 13<=age<=19 else \"kid\""
   ]
  },
  {
   "cell_type": "code",
   "execution_count": 228,
   "metadata": {},
   "outputs": [
    {
     "data": {
      "text/plain": [
       "'adult'"
      ]
     },
     "execution_count": 228,
     "metadata": {},
     "output_type": "execute_result"
    }
   ],
   "source": [
    "age_bin"
   ]
  },
  {
   "cell_type": "code",
   "execution_count": 234,
   "metadata": {},
   "outputs": [],
   "source": [
    "lc = [e for e in range(1,151) if e%2==0 if len(str(e))%2==0]"
   ]
  },
  {
   "cell_type": "code",
   "execution_count": 235,
   "metadata": {},
   "outputs": [
    {
     "name": "stdout",
     "output_type": "stream",
     "text": [
      "Magic!\n"
     ]
    }
   ],
   "source": [
    "a = 1754\n",
    "if a%2 == 0:\n",
    "    if len(str(a))%2 == 0:\n",
    "        print(\"Magic!\")"
   ]
  },
  {
   "cell_type": "markdown",
   "metadata": {},
   "source": [
    "### Nested `for` order"
   ]
  },
  {
   "cell_type": "code",
   "execution_count": 240,
   "metadata": {},
   "outputs": [
    {
     "data": {
      "text/plain": [
       "[1, 2, 3, 4, 5, 6]"
      ]
     },
     "execution_count": 240,
     "metadata": {},
     "output_type": "execute_result"
    }
   ],
   "source": [
    "# -------->\n",
    "lst = [\n",
    "    [1,2,3],\n",
    "    [4,5,6]\n",
    "]\n",
    "flatten = [e for sublist in lst for e in sublist]\n",
    "flatten"
   ]
  },
  {
   "cell_type": "code",
   "execution_count": 238,
   "metadata": {},
   "outputs": [
    {
     "data": {
      "text/plain": [
       "[1, 2, 3, 4, 5, 6]"
      ]
     },
     "execution_count": 238,
     "metadata": {},
     "output_type": "execute_result"
    }
   ],
   "source": [
    "flatten = []\n",
    "for sublist in lst:\n",
    "    for e in sublist:\n",
    "        flatten.append(e)\n",
    "flatten"
   ]
  },
  {
   "cell_type": "markdown",
   "metadata": {},
   "source": [
    "## Dict Comprehension"
   ]
  },
  {
   "cell_type": "code",
   "execution_count": 242,
   "metadata": {},
   "outputs": [],
   "source": [
    "is_even = {i:i%2==0 for i in range(1,51)}"
   ]
  },
  {
   "cell_type": "code",
   "execution_count": 243,
   "metadata": {},
   "outputs": [
    {
     "data": {
      "text/plain": [
       "False"
      ]
     },
     "execution_count": 243,
     "metadata": {},
     "output_type": "execute_result"
    }
   ],
   "source": [
    "is_even[15]"
   ]
  },
  {
   "cell_type": "code",
   "execution_count": 244,
   "metadata": {},
   "outputs": [
    {
     "data": {
      "text/plain": [
       "{2: True,\n",
       " 4: True,\n",
       " 6: True,\n",
       " 8: True,\n",
       " 10: True,\n",
       " 12: True,\n",
       " 14: True,\n",
       " 16: True,\n",
       " 18: True,\n",
       " 20: True,\n",
       " 22: True,\n",
       " 24: True,\n",
       " 26: True,\n",
       " 28: True,\n",
       " 30: True,\n",
       " 32: True,\n",
       " 34: True,\n",
       " 36: True,\n",
       " 38: True,\n",
       " 40: True,\n",
       " 42: True,\n",
       " 44: True,\n",
       " 46: True,\n",
       " 48: True,\n",
       " 50: True}"
      ]
     },
     "execution_count": 244,
     "metadata": {},
     "output_type": "execute_result"
    }
   ],
   "source": [
    "# Filtering\n",
    "{i:i%2==0 for i in range(1,51) if i%2==0}"
   ]
  },
  {
   "cell_type": "code",
   "execution_count": 247,
   "metadata": {},
   "outputs": [
    {
     "data": {
      "text/plain": [
       "{1: 'not_magic',\n",
       " 2: 'not_magic',\n",
       " 3: 'not_magic',\n",
       " 4: 'not_magic',\n",
       " 5: 'not_magic',\n",
       " 6: 'not_magic',\n",
       " 7: 'not_magic',\n",
       " 8: 'not_magic',\n",
       " 9: 'not_magic',\n",
       " 10: 'magic',\n",
       " 11: 'not_magic',\n",
       " 12: 'magic',\n",
       " 13: 'not_magic',\n",
       " 14: 'magic',\n",
       " 15: 'not_magic',\n",
       " 16: 'magic',\n",
       " 17: 'not_magic',\n",
       " 18: 'magic',\n",
       " 19: 'not_magic',\n",
       " 20: 'magic',\n",
       " 21: 'not_magic',\n",
       " 22: 'magic',\n",
       " 23: 'not_magic',\n",
       " 24: 'magic',\n",
       " 25: 'not_magic',\n",
       " 26: 'magic',\n",
       " 27: 'not_magic',\n",
       " 28: 'magic',\n",
       " 29: 'not_magic',\n",
       " 30: 'magic',\n",
       " 31: 'not_magic',\n",
       " 32: 'magic',\n",
       " 33: 'not_magic',\n",
       " 34: 'magic',\n",
       " 35: 'not_magic',\n",
       " 36: 'magic',\n",
       " 37: 'not_magic',\n",
       " 38: 'magic',\n",
       " 39: 'not_magic',\n",
       " 40: 'magic',\n",
       " 41: 'not_magic',\n",
       " 42: 'magic',\n",
       " 43: 'not_magic',\n",
       " 44: 'magic',\n",
       " 45: 'not_magic',\n",
       " 46: 'magic',\n",
       " 47: 'not_magic',\n",
       " 48: 'magic',\n",
       " 49: 'not_magic',\n",
       " 50: 'magic'}"
      ]
     },
     "execution_count": 247,
     "metadata": {},
     "output_type": "execute_result"
    }
   ],
   "source": [
    "## Value is ternary\n",
    "# i:is_magic ; is_magic = \"magic\" if (len(str(i))%2==0) and (i%2==0) else \"not_magic\"\n",
    "{i:\"magic\" if (len(str(i))%2==0) and (i%2==0) else \"not_magic\" for i in range(1,51)}"
   ]
  },
  {
   "cell_type": "code",
   "execution_count": 256,
   "metadata": {},
   "outputs": [
    {
     "data": {
      "text/plain": [
       "{'ana-----': 3,\n",
       " 'pedro---': 5,\n",
       " 'pablo---': 5,\n",
       " 'maria---': 5,\n",
       " 'elena---': 5,\n",
       " 'santiago': 8,\n",
       " 'juan----': 4}"
      ]
     },
     "execution_count": 256,
     "metadata": {},
     "output_type": "execute_result"
    }
   ],
   "source": [
    "# Ternary on key\n",
    "names = [\"ana\", \"pedro\", \"pablo\", \"maria\", \"elena\", \"santiago\", \"juan\"]\n",
    "{name if len(name)==8 else name.ljust(8,\"-\"):len(name) for name in names}"
   ]
  },
  {
   "cell_type": "code",
   "execution_count": 258,
   "metadata": {},
   "outputs": [
    {
     "data": {
      "text/plain": [
       "{'ana': {'a': 97, 'n': 110},\n",
       " 'pedro': {'p': 112, 'e': 101, 'd': 100, 'r': 114, 'o': 111},\n",
       " 'pablo': {'p': 112, 'a': 97, 'b': 98, 'l': 108, 'o': 111},\n",
       " 'maria': {'m': 109, 'a': 97, 'r': 114, 'i': 105},\n",
       " 'elena': {'e': 101, 'l': 108, 'n': 110, 'a': 97},\n",
       " 'santiago': {'s': 115,\n",
       "  'a': 97,\n",
       "  'n': 110,\n",
       "  't': 116,\n",
       "  'i': 105,\n",
       "  'g': 103,\n",
       "  'o': 111},\n",
       " 'juan': {'j': 106, 'u': 117, 'a': 97, 'n': 110}}"
      ]
     },
     "execution_count": 258,
     "metadata": {},
     "output_type": "execute_result"
    }
   ],
   "source": [
    "# Value is dict comprehension\n",
    "{name:{letter:ord(letter) for letter in name} for name in names}"
   ]
  },
  {
   "cell_type": "code",
   "execution_count": 259,
   "metadata": {},
   "outputs": [],
   "source": [
    "dic = {\"ana\":{\"role\":\"student\",\"age\":7},\"paco\":{\"role\":\"student\",\"age\":8},\"maria\":{\"role\":\"teacher\",\"age\":32}}"
   ]
  },
  {
   "cell_type": "code",
   "execution_count": 262,
   "metadata": {},
   "outputs": [
    {
     "data": {
      "text/plain": [
       "[('ana', 'student'),\n",
       " ('ana', 7),\n",
       " ('paco', 'student'),\n",
       " ('paco', 8),\n",
       " ('maria', 'teacher'),\n",
       " ('maria', 32)]"
      ]
     },
     "execution_count": 262,
     "metadata": {},
     "output_type": "execute_result"
    }
   ],
   "source": [
    "[(k,v2) for k,v in dic.items() for k2,v2 in v.items()]"
   ]
  },
  {
   "cell_type": "code",
   "execution_count": null,
   "metadata": {},
   "outputs": [],
   "source": []
  }
 ],
 "metadata": {
  "kernelspec": {
   "display_name": "Python3 (ih)",
   "language": "python",
   "name": "ironhack"
  },
  "language_info": {
   "codemirror_mode": {
    "name": "ipython",
    "version": 3
   },
   "file_extension": ".py",
   "mimetype": "text/x-python",
   "name": "python",
   "nbconvert_exporter": "python",
   "pygments_lexer": "ipython3",
   "version": "3.7.8"
  }
 },
 "nbformat": 4,
 "nbformat_minor": 4
}
