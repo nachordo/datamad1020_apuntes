{
 "cells": [
  {
   "cell_type": "code",
   "execution_count": 134,
   "metadata": {},
   "outputs": [],
   "source": [
    "import pandas as pd\n",
    "import seaborn as sns\n",
    "import matplotlib.pyplot as plt\n",
    "import numpy as np"
   ]
  },
  {
   "cell_type": "code",
   "execution_count": 39,
   "metadata": {},
   "outputs": [
    {
     "name": "stderr",
     "output_type": "stream",
     "text": [
      "/Users/felipe/miniconda3/envs/ironhack/lib/python3.7/site-packages/IPython/core/interactiveshell.py:2714: DtypeWarning: Columns (70,71,72,73,74,76,79) have mixed types.Specify dtype option on import or set low_memory=False.\n",
      "  interactivity=interactivity, compiler=compiler, result=result)\n"
     ]
    }
   ],
   "source": [
    "df = pd.read_csv(\"data/vehicles_messy.csv\")"
   ]
  },
  {
   "cell_type": "code",
   "execution_count": 150,
   "metadata": {},
   "outputs": [
    {
     "name": "stdout",
     "output_type": "stream",
     "text": [
      "<class 'pandas.core.frame.DataFrame'>\n",
      "Int64Index: 37832 entries, 0 to 37842\n",
      "Data columns (total 85 columns):\n",
      " #   Column           Non-Null Count  Dtype  \n",
      "---  ------           --------------  -----  \n",
      " 0   barrels08        37832 non-null  float64\n",
      " 1   barrelsA08       37832 non-null  float64\n",
      " 2   charge120        37832 non-null  float64\n",
      " 3   charge240        37832 non-null  float64\n",
      " 4   city08           37832 non-null  int64  \n",
      " 5   city08U          37832 non-null  float64\n",
      " 6   cityA08          37832 non-null  int64  \n",
      " 7   cityA08U         37832 non-null  float64\n",
      " 8   cityCD           37832 non-null  float64\n",
      " 9   cityE            37832 non-null  float64\n",
      " 10  cityUF           37832 non-null  float64\n",
      " 11  co2              37832 non-null  int64  \n",
      " 12  co2A             37832 non-null  int64  \n",
      " 13  co2TailpipeAGpm  37832 non-null  float64\n",
      " 14  co2TailpipeGpm   37832 non-null  float64\n",
      " 15  comb08           37832 non-null  int64  \n",
      " 16  comb08U          37832 non-null  float64\n",
      " 17  combA08          37832 non-null  int64  \n",
      " 18  combA08U         37832 non-null  float64\n",
      " 19  combE            37832 non-null  float64\n",
      " 20  combinedCD       37832 non-null  float64\n",
      " 21  combinedUF       37832 non-null  float64\n",
      " 22  cylinders        37718 non-null  float64\n",
      " 23  displ            37721 non-null  float64\n",
      " 24  drive            36646 non-null  object \n",
      " 25  engId            37832 non-null  int64  \n",
      " 26  eng_dscr         22439 non-null  object \n",
      " 27  feScore          37832 non-null  int64  \n",
      " 28  fuelCost08       37832 non-null  int64  \n",
      " 29  fuelCostA08      37832 non-null  int64  \n",
      " 30  fuelType         37832 non-null  object \n",
      " 31  fuelType1        37832 non-null  object \n",
      " 32  ghgScore         37832 non-null  int64  \n",
      " 33  ghgScoreA        37832 non-null  int64  \n",
      " 34  highway08        37832 non-null  int64  \n",
      " 35  highway08U       37832 non-null  float64\n",
      " 36  highwayA08       37832 non-null  int64  \n",
      " 37  highwayA08U      37832 non-null  float64\n",
      " 38  highwayCD        37832 non-null  float64\n",
      " 39  highwayE         37832 non-null  float64\n",
      " 40  highwayUF        37832 non-null  float64\n",
      " 41  hlv              37832 non-null  int64  \n",
      " 42  hpv              37832 non-null  int64  \n",
      " 43  id               37832 non-null  int64  \n",
      " 44  lv2              37832 non-null  int64  \n",
      " 45  lv4              37832 non-null  int64  \n",
      " 46  make             37832 non-null  object \n",
      " 47  model            37832 non-null  object \n",
      " 48  mpgData          37832 non-null  object \n",
      " 49  phevBlended      37832 non-null  bool   \n",
      " 50  pv2              37832 non-null  int64  \n",
      " 51  pv4              37832 non-null  int64  \n",
      " 52  range            37832 non-null  int64  \n",
      " 53  rangeCity        37832 non-null  float64\n",
      " 54  rangeCityA       37832 non-null  float64\n",
      " 55  rangeHwy         37832 non-null  float64\n",
      " 56  rangeHwyA        37832 non-null  float64\n",
      " 57  trany            37832 non-null  object \n",
      " 58  UCity            37832 non-null  float64\n",
      " 59  UCityA           37832 non-null  float64\n",
      " 60  UHighway         37832 non-null  float64\n",
      " 61  UHighwayA        37832 non-null  float64\n",
      " 62  VClass           37832 non-null  object \n",
      " 63  year             37832 non-null  int64  \n",
      " 64  youSaveSpend     37832 non-null  int64  \n",
      " 65  guzzler          2281 non-null   object \n",
      " 66  trans_dscr       15047 non-null  object \n",
      " 67  tCharger         5186 non-null   object \n",
      " 68  sCharger         666 non-null    object \n",
      " 69  atvType          3063 non-null   object \n",
      " 70  fuelType2        1408 non-null   object \n",
      " 71  rangeA           1403 non-null   object \n",
      " 72  evMotor          553 non-null    object \n",
      " 73  mfrCode          7025 non-null   object \n",
      " 74  c240Dscr         37 non-null     object \n",
      " 75  charge240b       37832 non-null  float64\n",
      " 76  c240bDscr        36 non-null     object \n",
      " 77  createdOn        37832 non-null  object \n",
      " 78  modifiedOn       37832 non-null  object \n",
      " 79  startStop        6129 non-null   object \n",
      " 80  phevCity         37832 non-null  int64  \n",
      " 81  phevHwy          37832 non-null  int64  \n",
      " 82  phevComb         37832 non-null  int64  \n",
      " 83  auto             37832 non-null  object \n",
      " 84  speed            37145 non-null  float64\n",
      "dtypes: bool(1), float64(33), int64(27), object(24)\n",
      "memory usage: 25.8+ MB\n"
     ]
    }
   ],
   "source": [
    "df.info()"
   ]
  },
  {
   "cell_type": "code",
   "execution_count": 40,
   "metadata": {},
   "outputs": [
    {
     "data": {
      "text/html": [
       "<div>\n",
       "<style scoped>\n",
       "    .dataframe tbody tr th:only-of-type {\n",
       "        vertical-align: middle;\n",
       "    }\n",
       "\n",
       "    .dataframe tbody tr th {\n",
       "        vertical-align: top;\n",
       "    }\n",
       "\n",
       "    .dataframe thead th {\n",
       "        text-align: right;\n",
       "    }\n",
       "</style>\n",
       "<table border=\"1\" class=\"dataframe\">\n",
       "  <thead>\n",
       "    <tr style=\"text-align: right;\">\n",
       "      <th></th>\n",
       "      <th>barrels08</th>\n",
       "      <th>barrelsA08</th>\n",
       "      <th>charge120</th>\n",
       "      <th>charge240</th>\n",
       "      <th>city08</th>\n",
       "      <th>city08U</th>\n",
       "      <th>cityA08</th>\n",
       "      <th>cityA08U</th>\n",
       "      <th>cityCD</th>\n",
       "      <th>cityE</th>\n",
       "      <th>...</th>\n",
       "      <th>mfrCode</th>\n",
       "      <th>c240Dscr</th>\n",
       "      <th>charge240b</th>\n",
       "      <th>c240bDscr</th>\n",
       "      <th>createdOn</th>\n",
       "      <th>modifiedOn</th>\n",
       "      <th>startStop</th>\n",
       "      <th>phevCity</th>\n",
       "      <th>phevHwy</th>\n",
       "      <th>phevComb</th>\n",
       "    </tr>\n",
       "  </thead>\n",
       "  <tbody>\n",
       "    <tr>\n",
       "      <th>0</th>\n",
       "      <td>15.695714</td>\n",
       "      <td>0.0</td>\n",
       "      <td>0.0</td>\n",
       "      <td>0.0</td>\n",
       "      <td>19</td>\n",
       "      <td>0.0</td>\n",
       "      <td>0</td>\n",
       "      <td>0.0</td>\n",
       "      <td>0.0</td>\n",
       "      <td>0.0</td>\n",
       "      <td>...</td>\n",
       "      <td>NaN</td>\n",
       "      <td>NaN</td>\n",
       "      <td>0.0</td>\n",
       "      <td>NaN</td>\n",
       "      <td>Tue Jan 01 00:00:00 EST 2013</td>\n",
       "      <td>Tue Jan 01 00:00:00 EST 2013</td>\n",
       "      <td>NaN</td>\n",
       "      <td>0</td>\n",
       "      <td>0</td>\n",
       "      <td>0</td>\n",
       "    </tr>\n",
       "    <tr>\n",
       "      <th>1</th>\n",
       "      <td>29.964545</td>\n",
       "      <td>0.0</td>\n",
       "      <td>0.0</td>\n",
       "      <td>0.0</td>\n",
       "      <td>9</td>\n",
       "      <td>0.0</td>\n",
       "      <td>0</td>\n",
       "      <td>0.0</td>\n",
       "      <td>0.0</td>\n",
       "      <td>0.0</td>\n",
       "      <td>...</td>\n",
       "      <td>NaN</td>\n",
       "      <td>NaN</td>\n",
       "      <td>0.0</td>\n",
       "      <td>NaN</td>\n",
       "      <td>Tue Jan 01 00:00:00 EST 2013</td>\n",
       "      <td>Tue Jan 01 00:00:00 EST 2013</td>\n",
       "      <td>NaN</td>\n",
       "      <td>0</td>\n",
       "      <td>0</td>\n",
       "      <td>0</td>\n",
       "    </tr>\n",
       "    <tr>\n",
       "      <th>2</th>\n",
       "      <td>12.207778</td>\n",
       "      <td>0.0</td>\n",
       "      <td>0.0</td>\n",
       "      <td>0.0</td>\n",
       "      <td>23</td>\n",
       "      <td>0.0</td>\n",
       "      <td>0</td>\n",
       "      <td>0.0</td>\n",
       "      <td>0.0</td>\n",
       "      <td>0.0</td>\n",
       "      <td>...</td>\n",
       "      <td>NaN</td>\n",
       "      <td>NaN</td>\n",
       "      <td>0.0</td>\n",
       "      <td>NaN</td>\n",
       "      <td>Tue Jan 01 00:00:00 EST 2013</td>\n",
       "      <td>Tue Jan 01 00:00:00 EST 2013</td>\n",
       "      <td>NaN</td>\n",
       "      <td>0</td>\n",
       "      <td>0</td>\n",
       "      <td>0</td>\n",
       "    </tr>\n",
       "    <tr>\n",
       "      <th>3</th>\n",
       "      <td>29.964545</td>\n",
       "      <td>0.0</td>\n",
       "      <td>0.0</td>\n",
       "      <td>0.0</td>\n",
       "      <td>10</td>\n",
       "      <td>0.0</td>\n",
       "      <td>0</td>\n",
       "      <td>0.0</td>\n",
       "      <td>0.0</td>\n",
       "      <td>0.0</td>\n",
       "      <td>...</td>\n",
       "      <td>NaN</td>\n",
       "      <td>NaN</td>\n",
       "      <td>0.0</td>\n",
       "      <td>NaN</td>\n",
       "      <td>Tue Jan 01 00:00:00 EST 2013</td>\n",
       "      <td>Tue Jan 01 00:00:00 EST 2013</td>\n",
       "      <td>NaN</td>\n",
       "      <td>0</td>\n",
       "      <td>0</td>\n",
       "      <td>0</td>\n",
       "    </tr>\n",
       "    <tr>\n",
       "      <th>4</th>\n",
       "      <td>17.347895</td>\n",
       "      <td>0.0</td>\n",
       "      <td>0.0</td>\n",
       "      <td>0.0</td>\n",
       "      <td>17</td>\n",
       "      <td>0.0</td>\n",
       "      <td>0</td>\n",
       "      <td>0.0</td>\n",
       "      <td>0.0</td>\n",
       "      <td>0.0</td>\n",
       "      <td>...</td>\n",
       "      <td>NaN</td>\n",
       "      <td>NaN</td>\n",
       "      <td>0.0</td>\n",
       "      <td>NaN</td>\n",
       "      <td>Tue Jan 01 00:00:00 EST 2013</td>\n",
       "      <td>Tue Jan 01 00:00:00 EST 2013</td>\n",
       "      <td>NaN</td>\n",
       "      <td>0</td>\n",
       "      <td>0</td>\n",
       "      <td>0</td>\n",
       "    </tr>\n",
       "  </tbody>\n",
       "</table>\n",
       "<p>5 rows × 83 columns</p>\n",
       "</div>"
      ],
      "text/plain": [
       "   barrels08  barrelsA08  charge120  charge240  city08  city08U  cityA08  \\\n",
       "0  15.695714         0.0        0.0        0.0      19      0.0        0   \n",
       "1  29.964545         0.0        0.0        0.0       9      0.0        0   \n",
       "2  12.207778         0.0        0.0        0.0      23      0.0        0   \n",
       "3  29.964545         0.0        0.0        0.0      10      0.0        0   \n",
       "4  17.347895         0.0        0.0        0.0      17      0.0        0   \n",
       "\n",
       "   cityA08U  cityCD  cityE  ...  mfrCode  c240Dscr  charge240b  c240bDscr  \\\n",
       "0       0.0     0.0    0.0  ...      NaN       NaN         0.0        NaN   \n",
       "1       0.0     0.0    0.0  ...      NaN       NaN         0.0        NaN   \n",
       "2       0.0     0.0    0.0  ...      NaN       NaN         0.0        NaN   \n",
       "3       0.0     0.0    0.0  ...      NaN       NaN         0.0        NaN   \n",
       "4       0.0     0.0    0.0  ...      NaN       NaN         0.0        NaN   \n",
       "\n",
       "                      createdOn                    modifiedOn  startStop  \\\n",
       "0  Tue Jan 01 00:00:00 EST 2013  Tue Jan 01 00:00:00 EST 2013        NaN   \n",
       "1  Tue Jan 01 00:00:00 EST 2013  Tue Jan 01 00:00:00 EST 2013        NaN   \n",
       "2  Tue Jan 01 00:00:00 EST 2013  Tue Jan 01 00:00:00 EST 2013        NaN   \n",
       "3  Tue Jan 01 00:00:00 EST 2013  Tue Jan 01 00:00:00 EST 2013        NaN   \n",
       "4  Tue Jan 01 00:00:00 EST 2013  Tue Jan 01 00:00:00 EST 2013        NaN   \n",
       "\n",
       "   phevCity  phevHwy  phevComb  \n",
       "0         0        0         0  \n",
       "1         0        0         0  \n",
       "2         0        0         0  \n",
       "3         0        0         0  \n",
       "4         0        0         0  \n",
       "\n",
       "[5 rows x 83 columns]"
      ]
     },
     "execution_count": 40,
     "metadata": {},
     "output_type": "execute_result"
    }
   ],
   "source": [
    "df.head()"
   ]
  },
  {
   "cell_type": "code",
   "execution_count": 41,
   "metadata": {},
   "outputs": [
    {
     "data": {
      "text/plain": [
       "(37843, 83)"
      ]
     },
     "execution_count": 41,
     "metadata": {},
     "output_type": "execute_result"
    }
   ],
   "source": [
    "df.shape"
   ]
  },
  {
   "cell_type": "code",
   "execution_count": 160,
   "metadata": {},
   "outputs": [
    {
     "data": {
      "text/plain": [
       "combA08        0\n",
       "fuelCost08     0\n",
       "fuelCostA08    0\n",
       "fuelType       0\n",
       "fuelType1      0\n",
       "              ..\n",
       "mpgData        0\n",
       "phevBlended    0\n",
       "pv2            0\n",
       "pv4            0\n",
       "barrels08      0\n",
       "Length: 68, dtype: int64"
      ]
     },
     "execution_count": 160,
     "metadata": {},
     "output_type": "execute_result"
    }
   ],
   "source": [
    "nulls = df.isnull().sum().sort_values(ascending=False)\n",
    "nulls[nulls == 0]"
   ]
  },
  {
   "cell_type": "code",
   "execution_count": 43,
   "metadata": {},
   "outputs": [
    {
     "data": {
      "text/plain": [
       "Automatic 4-spd                     11042\n",
       "Manual 5-spd                         8311\n",
       "Automatic 3-spd                      3151\n",
       "Automatic (S6)                       2638\n",
       "Manual 6-spd                         2429\n",
       "Automatic 5-spd                      2184\n",
       "Manual 4-spd                         1483\n",
       "Automatic 6-spd                      1432\n",
       "Automatic (S8)                        960\n",
       "Automatic (S5)                        824\n",
       "Automatic (variable gear ratios)      681\n",
       "Automatic 7-spd                       663\n",
       "Automatic (S7)                        261\n",
       "Auto(AM-S7)                           256\n",
       "Automatic 8-spd                       243\n",
       "Automatic (S4)                        233\n",
       "Auto(AM7)                             160\n",
       "Auto(AV-S6)                           145\n",
       "Auto(AM6)                             110\n",
       "Automatic (A1)                        109\n",
       "Auto(AM-S6)                            92\n",
       "Automatic 9-spd                        90\n",
       "Manual 3-spd                           77\n",
       "Manual 7-spd                           68\n",
       "Auto(AV-S7)                            63\n",
       "Auto(AV-S8)                            26\n",
       "Automatic (S9)                         26\n",
       "Manual 4-spd Doubled                   17\n",
       "Auto(AM5)                              12\n",
       "Automatic (AV-S6)                       9\n",
       "Auto(AM-S8)                             6\n",
       "Auto(AM8)                               5\n",
       "Automatic (AV)                          4\n",
       "Automatic (A6)                          4\n",
       "Manual(M7)                              3\n",
       "Auto (AV)                               2\n",
       "Automatic (AM5)                         2\n",
       "Auto(L4)                                2\n",
       "Auto(L3)                                2\n",
       "Auto(AM-S9)                             1\n",
       "Auto(A1)                                1\n",
       "Automatic (AM6)                         1\n",
       "Auto (AV-S8)                            1\n",
       "Automatic 6spd                          1\n",
       "Auto (AV-S6)                            1\n",
       "Manual 5 spd                            1\n",
       "Name: trany, dtype: int64"
      ]
     },
     "execution_count": 43,
     "metadata": {},
     "output_type": "execute_result"
    }
   ],
   "source": [
    "df[\"trany\"].value_counts()"
   ]
  },
  {
   "cell_type": "code",
   "execution_count": 44,
   "metadata": {},
   "outputs": [
    {
     "data": {
      "text/plain": [
       "barrels08                                  0.24\n",
       "barrelsA08                                    0\n",
       "charge120                                     0\n",
       "charge240                                     0\n",
       "city08                                       81\n",
       "city08U                                       0\n",
       "cityA08                                       0\n",
       "cityA08U                                      0\n",
       "cityCD                                        0\n",
       "cityE                                        41\n",
       "cityUF                                        0\n",
       "co2                                           0\n",
       "co2A                                         -1\n",
       "co2TailpipeAGpm                               0\n",
       "co2TailpipeGpm                                0\n",
       "comb08                                       85\n",
       "comb08U                                       0\n",
       "combA08                                       0\n",
       "combA08U                                      0\n",
       "combE                                        40\n",
       "combinedCD                                    0\n",
       "combinedUF                                    0\n",
       "cylinders                                   NaN\n",
       "displ                                       NaN\n",
       "drive                                       NaN\n",
       "engId                                         0\n",
       "eng_dscr                                    NaN\n",
       "feScore                                      -1\n",
       "fuelCost08                                  800\n",
       "fuelCostA08                                   0\n",
       "fuelType                            Electricity\n",
       "fuelType1                           Electricity\n",
       "ghgScore                                     -1\n",
       "ghgScoreA                                    -1\n",
       "highway08                                    91\n",
       "highway08U                                    0\n",
       "highwayA08                                    0\n",
       "highwayA08U                                   0\n",
       "highwayCD                                     0\n",
       "highwayE                                     37\n",
       "highwayUF                                     0\n",
       "hlv                                           0\n",
       "hpv                                           0\n",
       "id                                        16423\n",
       "lv2                                           0\n",
       "lv4                                           0\n",
       "make                                     Nissan\n",
       "model                                  Altra EV\n",
       "mpgData                                       N\n",
       "phevBlended                               False\n",
       "pv2                                           0\n",
       "pv4                                           0\n",
       "range                                        90\n",
       "rangeCity                                     0\n",
       "rangeCityA                                    0\n",
       "rangeHwy                                      0\n",
       "rangeHwyA                                     0\n",
       "trany                                       NaN\n",
       "UCity                                   116.207\n",
       "UCityA                                        0\n",
       "UHighway                                129.615\n",
       "UHighwayA                                     0\n",
       "VClass                   Midsize Station Wagons\n",
       "year                                       2000\n",
       "youSaveSpend                               2750\n",
       "guzzler                                     NaN\n",
       "trans_dscr                                  NaN\n",
       "tCharger                                    NaN\n",
       "sCharger                                    NaN\n",
       "atvType                                      EV\n",
       "fuelType2                                   NaN\n",
       "rangeA                                      NaN\n",
       "evMotor                      62 KW AC Induction\n",
       "mfrCode                                     NaN\n",
       "c240Dscr                                    NaN\n",
       "charge240b                                    0\n",
       "c240bDscr                                   NaN\n",
       "createdOn          Tue Jan 01 00:00:00 EST 2013\n",
       "modifiedOn         Thu Jul 07 00:00:00 EDT 2016\n",
       "startStop                                     N\n",
       "phevCity                                      0\n",
       "phevHwy                                       0\n",
       "phevComb                                      0\n",
       "Name: 7138, dtype: object"
      ]
     },
     "metadata": {},
     "output_type": "display_data"
    }
   ],
   "source": [
    "with pd.option_context(\"display.max_rows\",None, \"display.max_columns\",None):\n",
    "    display(df[df[\"trany\"].isnull()].iloc[0])"
   ]
  },
  {
   "cell_type": "code",
   "execution_count": 45,
   "metadata": {},
   "outputs": [],
   "source": [
    "df = df[~df[\"trany\"].isnull()]"
   ]
  },
  {
   "cell_type": "code",
   "execution_count": 46,
   "metadata": {},
   "outputs": [],
   "source": [
    "tra = {\"A\":True,\"M\":False}\n",
    "for k,v in tra.items():\n",
    "    df.loc[df[\"trany\"].str.startswith(k),\"auto\"] = v"
   ]
  },
  {
   "cell_type": "code",
   "execution_count": 48,
   "metadata": {},
   "outputs": [
    {
     "data": {
      "text/plain": [
       "True     25443\n",
       "False    12389\n",
       "Name: auto, dtype: int64"
      ]
     },
     "execution_count": 48,
     "metadata": {},
     "output_type": "execute_result"
    }
   ],
   "source": [
    "df.auto.value_counts()"
   ]
  },
  {
   "cell_type": "code",
   "execution_count": 61,
   "metadata": {},
   "outputs": [],
   "source": [
    "def speed(x):\n",
    "    speed = \"\".join([e for e in x if e.isnumeric()])\n",
    "    if speed:\n",
    "        return int(speed)\n",
    "    return np.nan\n",
    "df[\"speed\"] = df.trany.apply(speed)"
   ]
  },
  {
   "cell_type": "code",
   "execution_count": 62,
   "metadata": {},
   "outputs": [
    {
     "data": {
      "text/html": [
       "<div>\n",
       "<style scoped>\n",
       "    .dataframe tbody tr th:only-of-type {\n",
       "        vertical-align: middle;\n",
       "    }\n",
       "\n",
       "    .dataframe tbody tr th {\n",
       "        vertical-align: top;\n",
       "    }\n",
       "\n",
       "    .dataframe thead th {\n",
       "        text-align: right;\n",
       "    }\n",
       "</style>\n",
       "<table border=\"1\" class=\"dataframe\">\n",
       "  <thead>\n",
       "    <tr style=\"text-align: right;\">\n",
       "      <th></th>\n",
       "      <th>auto</th>\n",
       "      <th>speed</th>\n",
       "    </tr>\n",
       "  </thead>\n",
       "  <tbody>\n",
       "    <tr>\n",
       "      <th>0</th>\n",
       "      <td>False</td>\n",
       "      <td>5.0</td>\n",
       "    </tr>\n",
       "    <tr>\n",
       "      <th>1</th>\n",
       "      <td>False</td>\n",
       "      <td>5.0</td>\n",
       "    </tr>\n",
       "    <tr>\n",
       "      <th>2</th>\n",
       "      <td>False</td>\n",
       "      <td>5.0</td>\n",
       "    </tr>\n",
       "    <tr>\n",
       "      <th>3</th>\n",
       "      <td>True</td>\n",
       "      <td>3.0</td>\n",
       "    </tr>\n",
       "    <tr>\n",
       "      <th>4</th>\n",
       "      <td>False</td>\n",
       "      <td>5.0</td>\n",
       "    </tr>\n",
       "    <tr>\n",
       "      <th>...</th>\n",
       "      <td>...</td>\n",
       "      <td>...</td>\n",
       "    </tr>\n",
       "    <tr>\n",
       "      <th>37838</th>\n",
       "      <td>True</td>\n",
       "      <td>4.0</td>\n",
       "    </tr>\n",
       "    <tr>\n",
       "      <th>37839</th>\n",
       "      <td>False</td>\n",
       "      <td>5.0</td>\n",
       "    </tr>\n",
       "    <tr>\n",
       "      <th>37840</th>\n",
       "      <td>True</td>\n",
       "      <td>4.0</td>\n",
       "    </tr>\n",
       "    <tr>\n",
       "      <th>37841</th>\n",
       "      <td>False</td>\n",
       "      <td>5.0</td>\n",
       "    </tr>\n",
       "    <tr>\n",
       "      <th>37842</th>\n",
       "      <td>True</td>\n",
       "      <td>4.0</td>\n",
       "    </tr>\n",
       "  </tbody>\n",
       "</table>\n",
       "<p>37832 rows × 2 columns</p>\n",
       "</div>"
      ],
      "text/plain": [
       "        auto  speed\n",
       "0      False    5.0\n",
       "1      False    5.0\n",
       "2      False    5.0\n",
       "3       True    3.0\n",
       "4      False    5.0\n",
       "...      ...    ...\n",
       "37838   True    4.0\n",
       "37839  False    5.0\n",
       "37840   True    4.0\n",
       "37841  False    5.0\n",
       "37842   True    4.0\n",
       "\n",
       "[37832 rows x 2 columns]"
      ]
     },
     "execution_count": 62,
     "metadata": {},
     "output_type": "execute_result"
    }
   ],
   "source": [
    "df[[\"auto\",\"speed\"]]"
   ]
  },
  {
   "cell_type": "code",
   "execution_count": 64,
   "metadata": {},
   "outputs": [
    {
     "data": {
      "text/plain": [
       "4.0    12777\n",
       "5.0    11334\n",
       "6.0     6862\n",
       "3.0     3230\n",
       "7.0     1474\n",
       "8.0     1241\n",
       "NaN      687\n",
       "9.0      117\n",
       "1.0      110\n",
       "Name: speed, dtype: int64"
      ]
     },
     "execution_count": 64,
     "metadata": {},
     "output_type": "execute_result"
    }
   ],
   "source": [
    "df[\"speed\"].value_counts(dropna=False)"
   ]
  },
  {
   "cell_type": "code",
   "execution_count": 161,
   "metadata": {},
   "outputs": [],
   "source": [
    "df_clean = df[[\"make\",\"model\",\"auto\",\"speed\",\"year\", \"cylinders\",\"hpv\"]]"
   ]
  },
  {
   "cell_type": "code",
   "execution_count": 153,
   "metadata": {},
   "outputs": [
    {
     "data": {
      "text/html": [
       "<div>\n",
       "<style scoped>\n",
       "    .dataframe tbody tr th:only-of-type {\n",
       "        vertical-align: middle;\n",
       "    }\n",
       "\n",
       "    .dataframe tbody tr th {\n",
       "        vertical-align: top;\n",
       "    }\n",
       "\n",
       "    .dataframe thead th {\n",
       "        text-align: right;\n",
       "    }\n",
       "</style>\n",
       "<table border=\"1\" class=\"dataframe\">\n",
       "  <thead>\n",
       "    <tr style=\"text-align: right;\">\n",
       "      <th></th>\n",
       "      <th>make</th>\n",
       "      <th>model</th>\n",
       "      <th>auto</th>\n",
       "      <th>speed</th>\n",
       "      <th>year</th>\n",
       "      <th>cylinders</th>\n",
       "      <th>co2</th>\n",
       "    </tr>\n",
       "  </thead>\n",
       "  <tbody>\n",
       "    <tr>\n",
       "      <th>0</th>\n",
       "      <td>Alfa Romeo</td>\n",
       "      <td>Spider Veloce 2000</td>\n",
       "      <td>False</td>\n",
       "      <td>5.0</td>\n",
       "      <td>1985</td>\n",
       "      <td>4.0</td>\n",
       "      <td>-1</td>\n",
       "    </tr>\n",
       "    <tr>\n",
       "      <th>1</th>\n",
       "      <td>Ferrari</td>\n",
       "      <td>Testarossa</td>\n",
       "      <td>False</td>\n",
       "      <td>5.0</td>\n",
       "      <td>1985</td>\n",
       "      <td>12.0</td>\n",
       "      <td>-1</td>\n",
       "    </tr>\n",
       "    <tr>\n",
       "      <th>2</th>\n",
       "      <td>Dodge</td>\n",
       "      <td>Charger</td>\n",
       "      <td>False</td>\n",
       "      <td>5.0</td>\n",
       "      <td>1985</td>\n",
       "      <td>4.0</td>\n",
       "      <td>-1</td>\n",
       "    </tr>\n",
       "    <tr>\n",
       "      <th>3</th>\n",
       "      <td>Dodge</td>\n",
       "      <td>B150/B250 Wagon 2WD</td>\n",
       "      <td>True</td>\n",
       "      <td>3.0</td>\n",
       "      <td>1985</td>\n",
       "      <td>8.0</td>\n",
       "      <td>-1</td>\n",
       "    </tr>\n",
       "    <tr>\n",
       "      <th>4</th>\n",
       "      <td>Subaru</td>\n",
       "      <td>Legacy AWD Turbo</td>\n",
       "      <td>False</td>\n",
       "      <td>5.0</td>\n",
       "      <td>1993</td>\n",
       "      <td>4.0</td>\n",
       "      <td>-1</td>\n",
       "    </tr>\n",
       "  </tbody>\n",
       "</table>\n",
       "</div>"
      ],
      "text/plain": [
       "         make                model   auto  speed  year  cylinders  co2\n",
       "0  Alfa Romeo   Spider Veloce 2000  False    5.0  1985        4.0   -1\n",
       "1     Ferrari           Testarossa  False    5.0  1985       12.0   -1\n",
       "2       Dodge              Charger  False    5.0  1985        4.0   -1\n",
       "3       Dodge  B150/B250 Wagon 2WD   True    3.0  1985        8.0   -1\n",
       "4      Subaru     Legacy AWD Turbo  False    5.0  1993        4.0   -1"
      ]
     },
     "execution_count": 153,
     "metadata": {},
     "output_type": "execute_result"
    }
   ],
   "source": [
    "df_clean.head()"
   ]
  },
  {
   "cell_type": "code",
   "execution_count": 154,
   "metadata": {},
   "outputs": [
    {
     "data": {
      "text/plain": [
       "make           0\n",
       "model          0\n",
       "auto           0\n",
       "speed        687\n",
       "year           0\n",
       "cylinders    114\n",
       "co2            0\n",
       "dtype: int64"
      ]
     },
     "execution_count": 154,
     "metadata": {},
     "output_type": "execute_result"
    }
   ],
   "source": [
    "df_clean.isnull().sum()"
   ]
  },
  {
   "cell_type": "code",
   "execution_count": 101,
   "metadata": {},
   "outputs": [
    {
     "data": {
      "text/plain": [
       "Chevrolet                             3795\n",
       "Ford                                  3098\n",
       "Dodge                                 2513\n",
       "GMC                                   2388\n",
       "Toyota                                1915\n",
       "                                      ... \n",
       "General Motors                           1\n",
       "Qvale                                    1\n",
       "Isis Imports Ltd                         1\n",
       "S and S Coach Company  E.p. Dutton       1\n",
       "Grumman Allied Industries                1\n",
       "Name: make, Length: 133, dtype: int64"
      ]
     },
     "execution_count": 101,
     "metadata": {},
     "output_type": "execute_result"
    }
   ],
   "source": [
    "df_clean.make.value_counts()"
   ]
  },
  {
   "cell_type": "code",
   "execution_count": 102,
   "metadata": {},
   "outputs": [],
   "source": [
    "expensive = [\"Audi\", \"Ferrari\", \"Mercedes\"]"
   ]
  },
  {
   "cell_type": "code",
   "execution_count": 103,
   "metadata": {},
   "outputs": [
    {
     "data": {
      "text/html": [
       "<div>\n",
       "<style scoped>\n",
       "    .dataframe tbody tr th:only-of-type {\n",
       "        vertical-align: middle;\n",
       "    }\n",
       "\n",
       "    .dataframe tbody tr th {\n",
       "        vertical-align: top;\n",
       "    }\n",
       "\n",
       "    .dataframe thead th {\n",
       "        text-align: right;\n",
       "    }\n",
       "</style>\n",
       "<table border=\"1\" class=\"dataframe\">\n",
       "  <thead>\n",
       "    <tr style=\"text-align: right;\">\n",
       "      <th></th>\n",
       "      <th>make</th>\n",
       "      <th>model</th>\n",
       "      <th>auto</th>\n",
       "      <th>speed</th>\n",
       "      <th>year</th>\n",
       "      <th>cylinders</th>\n",
       "    </tr>\n",
       "  </thead>\n",
       "  <tbody>\n",
       "    <tr>\n",
       "      <th>1</th>\n",
       "      <td>Ferrari</td>\n",
       "      <td>Testarossa</td>\n",
       "      <td>False</td>\n",
       "      <td>5.0</td>\n",
       "      <td>1985</td>\n",
       "      <td>12.0</td>\n",
       "    </tr>\n",
       "    <tr>\n",
       "      <th>18</th>\n",
       "      <td>Audi</td>\n",
       "      <td>100</td>\n",
       "      <td>True</td>\n",
       "      <td>4.0</td>\n",
       "      <td>1993</td>\n",
       "      <td>6.0</td>\n",
       "    </tr>\n",
       "    <tr>\n",
       "      <th>19</th>\n",
       "      <td>Audi</td>\n",
       "      <td>100</td>\n",
       "      <td>False</td>\n",
       "      <td>5.0</td>\n",
       "      <td>1993</td>\n",
       "      <td>6.0</td>\n",
       "    </tr>\n",
       "    <tr>\n",
       "      <th>156</th>\n",
       "      <td>Audi</td>\n",
       "      <td>100 quattro Wagon</td>\n",
       "      <td>True</td>\n",
       "      <td>4.0</td>\n",
       "      <td>1993</td>\n",
       "      <td>6.0</td>\n",
       "    </tr>\n",
       "    <tr>\n",
       "      <th>700</th>\n",
       "      <td>Ferrari</td>\n",
       "      <td>Ferrari 348 TB/TS/Spider</td>\n",
       "      <td>False</td>\n",
       "      <td>5.0</td>\n",
       "      <td>1994</td>\n",
       "      <td>8.0</td>\n",
       "    </tr>\n",
       "    <tr>\n",
       "      <th>...</th>\n",
       "      <td>...</td>\n",
       "      <td>...</td>\n",
       "      <td>...</td>\n",
       "      <td>...</td>\n",
       "      <td>...</td>\n",
       "      <td>...</td>\n",
       "    </tr>\n",
       "    <tr>\n",
       "      <th>37715</th>\n",
       "      <td>Audi</td>\n",
       "      <td>S4</td>\n",
       "      <td>False</td>\n",
       "      <td>5.0</td>\n",
       "      <td>1993</td>\n",
       "      <td>5.0</td>\n",
       "    </tr>\n",
       "    <tr>\n",
       "      <th>37716</th>\n",
       "      <td>Audi</td>\n",
       "      <td>100 quattro</td>\n",
       "      <td>True</td>\n",
       "      <td>4.0</td>\n",
       "      <td>1993</td>\n",
       "      <td>6.0</td>\n",
       "    </tr>\n",
       "    <tr>\n",
       "      <th>37717</th>\n",
       "      <td>Audi</td>\n",
       "      <td>100 quattro</td>\n",
       "      <td>False</td>\n",
       "      <td>5.0</td>\n",
       "      <td>1993</td>\n",
       "      <td>6.0</td>\n",
       "    </tr>\n",
       "    <tr>\n",
       "      <th>37718</th>\n",
       "      <td>Audi</td>\n",
       "      <td>90</td>\n",
       "      <td>True</td>\n",
       "      <td>4.0</td>\n",
       "      <td>1993</td>\n",
       "      <td>6.0</td>\n",
       "    </tr>\n",
       "    <tr>\n",
       "      <th>37719</th>\n",
       "      <td>Audi</td>\n",
       "      <td>90</td>\n",
       "      <td>False</td>\n",
       "      <td>5.0</td>\n",
       "      <td>1993</td>\n",
       "      <td>6.0</td>\n",
       "    </tr>\n",
       "  </tbody>\n",
       "</table>\n",
       "<p>1129 rows × 6 columns</p>\n",
       "</div>"
      ],
      "text/plain": [
       "          make                     model   auto  speed  year  cylinders\n",
       "1      Ferrari                Testarossa  False    5.0  1985       12.0\n",
       "18        Audi                       100   True    4.0  1993        6.0\n",
       "19        Audi                       100  False    5.0  1993        6.0\n",
       "156       Audi         100 quattro Wagon   True    4.0  1993        6.0\n",
       "700    Ferrari  Ferrari 348 TB/TS/Spider  False    5.0  1994        8.0\n",
       "...        ...                       ...    ...    ...   ...        ...\n",
       "37715     Audi                        S4  False    5.0  1993        5.0\n",
       "37716     Audi               100 quattro   True    4.0  1993        6.0\n",
       "37717     Audi               100 quattro  False    5.0  1993        6.0\n",
       "37718     Audi                        90   True    4.0  1993        6.0\n",
       "37719     Audi                        90  False    5.0  1993        6.0\n",
       "\n",
       "[1129 rows x 6 columns]"
      ]
     },
     "execution_count": 103,
     "metadata": {},
     "output_type": "execute_result"
    }
   ],
   "source": [
    "df_clean[df_clean[\"make\"].isin(expensive)]"
   ]
  },
  {
   "cell_type": "code",
   "execution_count": 104,
   "metadata": {},
   "outputs": [
    {
     "name": "stderr",
     "output_type": "stream",
     "text": [
      "/Users/felipe/miniconda3/envs/ironhack/lib/python3.7/site-packages/ipykernel_launcher.py:1: SettingWithCopyWarning: \n",
      "A value is trying to be set on a copy of a slice from a DataFrame.\n",
      "Try using .loc[row_indexer,col_indexer] = value instead\n",
      "\n",
      "See the caveats in the documentation: https://pandas.pydata.org/pandas-docs/stable/user_guide/indexing.html#returning-a-view-versus-a-copy\n",
      "  \"\"\"Entry point for launching an IPython kernel.\n"
     ]
    }
   ],
   "source": [
    "df_clean[\"expensive\"] = np.where(df_clean[\"make\"].isin(expensive),\"expensive\",\"not-expensive\")"
   ]
  },
  {
   "cell_type": "code",
   "execution_count": 105,
   "metadata": {},
   "outputs": [
    {
     "data": {
      "text/html": [
       "<div>\n",
       "<style scoped>\n",
       "    .dataframe tbody tr th:only-of-type {\n",
       "        vertical-align: middle;\n",
       "    }\n",
       "\n",
       "    .dataframe tbody tr th {\n",
       "        vertical-align: top;\n",
       "    }\n",
       "\n",
       "    .dataframe thead th {\n",
       "        text-align: right;\n",
       "    }\n",
       "</style>\n",
       "<table border=\"1\" class=\"dataframe\">\n",
       "  <thead>\n",
       "    <tr style=\"text-align: right;\">\n",
       "      <th></th>\n",
       "      <th>make</th>\n",
       "      <th>model</th>\n",
       "      <th>auto</th>\n",
       "      <th>speed</th>\n",
       "      <th>year</th>\n",
       "      <th>cylinders</th>\n",
       "      <th>expensive</th>\n",
       "    </tr>\n",
       "  </thead>\n",
       "  <tbody>\n",
       "    <tr>\n",
       "      <th>0</th>\n",
       "      <td>Alfa Romeo</td>\n",
       "      <td>Spider Veloce 2000</td>\n",
       "      <td>False</td>\n",
       "      <td>5.0</td>\n",
       "      <td>1985</td>\n",
       "      <td>4.0</td>\n",
       "      <td>not-expensive</td>\n",
       "    </tr>\n",
       "    <tr>\n",
       "      <th>1</th>\n",
       "      <td>Ferrari</td>\n",
       "      <td>Testarossa</td>\n",
       "      <td>False</td>\n",
       "      <td>5.0</td>\n",
       "      <td>1985</td>\n",
       "      <td>12.0</td>\n",
       "      <td>expensive</td>\n",
       "    </tr>\n",
       "    <tr>\n",
       "      <th>2</th>\n",
       "      <td>Dodge</td>\n",
       "      <td>Charger</td>\n",
       "      <td>False</td>\n",
       "      <td>5.0</td>\n",
       "      <td>1985</td>\n",
       "      <td>4.0</td>\n",
       "      <td>not-expensive</td>\n",
       "    </tr>\n",
       "    <tr>\n",
       "      <th>3</th>\n",
       "      <td>Dodge</td>\n",
       "      <td>B150/B250 Wagon 2WD</td>\n",
       "      <td>True</td>\n",
       "      <td>3.0</td>\n",
       "      <td>1985</td>\n",
       "      <td>8.0</td>\n",
       "      <td>not-expensive</td>\n",
       "    </tr>\n",
       "    <tr>\n",
       "      <th>4</th>\n",
       "      <td>Subaru</td>\n",
       "      <td>Legacy AWD Turbo</td>\n",
       "      <td>False</td>\n",
       "      <td>5.0</td>\n",
       "      <td>1993</td>\n",
       "      <td>4.0</td>\n",
       "      <td>not-expensive</td>\n",
       "    </tr>\n",
       "    <tr>\n",
       "      <th>...</th>\n",
       "      <td>...</td>\n",
       "      <td>...</td>\n",
       "      <td>...</td>\n",
       "      <td>...</td>\n",
       "      <td>...</td>\n",
       "      <td>...</td>\n",
       "      <td>...</td>\n",
       "    </tr>\n",
       "    <tr>\n",
       "      <th>37838</th>\n",
       "      <td>Subaru</td>\n",
       "      <td>Legacy</td>\n",
       "      <td>True</td>\n",
       "      <td>4.0</td>\n",
       "      <td>1993</td>\n",
       "      <td>4.0</td>\n",
       "      <td>not-expensive</td>\n",
       "    </tr>\n",
       "    <tr>\n",
       "      <th>37839</th>\n",
       "      <td>Subaru</td>\n",
       "      <td>Legacy</td>\n",
       "      <td>False</td>\n",
       "      <td>5.0</td>\n",
       "      <td>1993</td>\n",
       "      <td>4.0</td>\n",
       "      <td>not-expensive</td>\n",
       "    </tr>\n",
       "    <tr>\n",
       "      <th>37840</th>\n",
       "      <td>Subaru</td>\n",
       "      <td>Legacy AWD</td>\n",
       "      <td>True</td>\n",
       "      <td>4.0</td>\n",
       "      <td>1993</td>\n",
       "      <td>4.0</td>\n",
       "      <td>not-expensive</td>\n",
       "    </tr>\n",
       "    <tr>\n",
       "      <th>37841</th>\n",
       "      <td>Subaru</td>\n",
       "      <td>Legacy AWD</td>\n",
       "      <td>False</td>\n",
       "      <td>5.0</td>\n",
       "      <td>1993</td>\n",
       "      <td>4.0</td>\n",
       "      <td>not-expensive</td>\n",
       "    </tr>\n",
       "    <tr>\n",
       "      <th>37842</th>\n",
       "      <td>Subaru</td>\n",
       "      <td>Legacy AWD Turbo</td>\n",
       "      <td>True</td>\n",
       "      <td>4.0</td>\n",
       "      <td>1993</td>\n",
       "      <td>4.0</td>\n",
       "      <td>not-expensive</td>\n",
       "    </tr>\n",
       "  </tbody>\n",
       "</table>\n",
       "<p>37832 rows × 7 columns</p>\n",
       "</div>"
      ],
      "text/plain": [
       "             make                model   auto  speed  year  cylinders  \\\n",
       "0      Alfa Romeo   Spider Veloce 2000  False    5.0  1985        4.0   \n",
       "1         Ferrari           Testarossa  False    5.0  1985       12.0   \n",
       "2           Dodge              Charger  False    5.0  1985        4.0   \n",
       "3           Dodge  B150/B250 Wagon 2WD   True    3.0  1985        8.0   \n",
       "4          Subaru     Legacy AWD Turbo  False    5.0  1993        4.0   \n",
       "...           ...                  ...    ...    ...   ...        ...   \n",
       "37838      Subaru               Legacy   True    4.0  1993        4.0   \n",
       "37839      Subaru               Legacy  False    5.0  1993        4.0   \n",
       "37840      Subaru           Legacy AWD   True    4.0  1993        4.0   \n",
       "37841      Subaru           Legacy AWD  False    5.0  1993        4.0   \n",
       "37842      Subaru     Legacy AWD Turbo   True    4.0  1993        4.0   \n",
       "\n",
       "           expensive  \n",
       "0      not-expensive  \n",
       "1          expensive  \n",
       "2      not-expensive  \n",
       "3      not-expensive  \n",
       "4      not-expensive  \n",
       "...              ...  \n",
       "37838  not-expensive  \n",
       "37839  not-expensive  \n",
       "37840  not-expensive  \n",
       "37841  not-expensive  \n",
       "37842  not-expensive  \n",
       "\n",
       "[37832 rows x 7 columns]"
      ]
     },
     "execution_count": 105,
     "metadata": {},
     "output_type": "execute_result"
    }
   ],
   "source": [
    "df_clean"
   ]
  },
  {
   "cell_type": "code",
   "execution_count": 106,
   "metadata": {},
   "outputs": [
    {
     "data": {
      "text/plain": [
       "1984    1962\n",
       "1985    1701\n",
       "2015    1283\n",
       "2016    1258\n",
       "1987    1247\n",
       "2014    1226\n",
       "1986    1210\n",
       "2008    1187\n",
       "2013    1185\n",
       "2009    1184\n",
       "2005    1166\n",
       "1989    1153\n",
       "2012    1153\n",
       "1991    1132\n",
       "2011    1130\n",
       "1988    1130\n",
       "2007    1126\n",
       "2004    1122\n",
       "1992    1121\n",
       "2010    1109\n",
       "2006    1104\n",
       "1993    1093\n",
       "1990    1078\n",
       "2003    1043\n",
       "1994     982\n",
       "2002     973\n",
       "1995     967\n",
       "2001     907\n",
       "2017     863\n",
       "1999     852\n",
       "2000     838\n",
       "1998     812\n",
       "1996     773\n",
       "1997     762\n",
       "Name: year, dtype: int64"
      ]
     },
     "execution_count": 106,
     "metadata": {},
     "output_type": "execute_result"
    }
   ],
   "source": [
    "df_clean.year.value_counts()"
   ]
  },
  {
   "cell_type": "code",
   "execution_count": 107,
   "metadata": {},
   "outputs": [
    {
     "data": {
      "text/plain": [
       "<AxesSubplot:xlabel='year', ylabel='Count'>"
      ]
     },
     "execution_count": 107,
     "metadata": {},
     "output_type": "execute_result"
    },
    {
     "data": {
      "image/png": "[encoded data removed]",
      "text/plain": [
       "<Figure size 432x288 with 1 Axes>"
      ]
     },
     "metadata": {
      "needs_background": "light"
     },
     "output_type": "display_data"
    }
   ],
   "source": [
    "sns.histplot(df_clean.year)"
   ]
  },
  {
   "cell_type": "code",
   "execution_count": 108,
   "metadata": {},
   "outputs": [
    {
     "data": {
      "text/plain": [
       "count    37832.000000\n",
       "mean      2000.064971\n",
       "std         10.391417\n",
       "min       1984.000000\n",
       "25%       1990.000000\n",
       "50%       2001.000000\n",
       "75%       2009.000000\n",
       "max       2017.000000\n",
       "Name: year, dtype: float64"
      ]
     },
     "execution_count": 108,
     "metadata": {},
     "output_type": "execute_result"
    }
   ],
   "source": [
    "df_clean.year.describe()"
   ]
  },
  {
   "cell_type": "code",
   "execution_count": 109,
   "metadata": {},
   "outputs": [
    {
     "name": "stderr",
     "output_type": "stream",
     "text": [
      "/Users/felipe/miniconda3/envs/ironhack/lib/python3.7/site-packages/ipykernel_launcher.py:9: SettingWithCopyWarning: \n",
      "A value is trying to be set on a copy of a slice from a DataFrame.\n",
      "Try using .loc[row_indexer,col_indexer] = value instead\n",
      "\n",
      "See the caveats in the documentation: https://pandas.pydata.org/pandas-docs/stable/user_guide/indexing.html#returning-a-view-versus-a-copy\n",
      "  if __name__ == '__main__':\n"
     ]
    }
   ],
   "source": [
    "## Creating bins\n",
    "# bins to cut\n",
    "bins = list(range(1980,2021,10))\n",
    "# Name for each bin\n",
    "labels = [f\"{str(year)[-2:]}'s\" for year in range(1980,2020,10)]\n",
    "df_clean[\"decade\"]=pd.cut(\n",
    "    df_clean[\"year\"],\n",
    "    bins=bins,\n",
    "    labels=labels\n",
    ")"
   ]
  },
  {
   "cell_type": "code",
   "execution_count": 110,
   "metadata": {},
   "outputs": [
    {
     "data": {
      "text/plain": [
       "<AxesSubplot:xlabel='decade', ylabel='Count'>"
      ]
     },
     "execution_count": 110,
     "metadata": {},
     "output_type": "execute_result"
    },
    {
     "data": {
      "image/png": "[encoded data removed]",
      "text/plain": [
       "<Figure size 432x288 with 1 Axes>"
      ]
     },
     "metadata": {
      "needs_background": "light"
     },
     "output_type": "display_data"
    }
   ],
   "source": [
    "sns.histplot(df_clean[\"decade\"])"
   ]
  },
  {
   "cell_type": "raw",
   "metadata": {},
   "source": [
    "df_clean.groupby(\"decade\").agg({\"cylinders\":[\"mean\",\"median\",\"min\",\"max\"], \n",
    "                                \"make\": lambda x:\n",
    "                                 x.value_counts().index[0]})"
   ]
  },
  {
   "cell_type": "code",
   "execution_count": 162,
   "metadata": {},
   "outputs": [],
   "source": [
    "df_by_years = df_clean.groupby(\"year\").agg({\"cylinders\":[\"mean\",\"median\",\"min\",\"max\"], \n",
    "                                \"make\": lambda x:\n",
    "                                 x.value_counts().index[0],\n",
    "                                \"hpv\":\"mean\"})"
   ]
  },
  {
   "cell_type": "code",
   "execution_count": 163,
   "metadata": {},
   "outputs": [
    {
     "data": {
      "text/plain": [
       "MultiIndex([('cylinders',     'mean'),\n",
       "            ('cylinders',   'median'),\n",
       "            ('cylinders',      'min'),\n",
       "            ('cylinders',      'max'),\n",
       "            (     'make', '<lambda>'),\n",
       "            (      'hpv',     'mean')],\n",
       "           )"
      ]
     },
     "execution_count": 163,
     "metadata": {},
     "output_type": "execute_result"
    }
   ],
   "source": [
    "df_by_years.columns"
   ]
  },
  {
   "cell_type": "code",
   "execution_count": 171,
   "metadata": {},
   "outputs": [
    {
     "name": "stderr",
     "output_type": "stream",
     "text": [
      "/Users/felipe/miniconda3/envs/ironhack/lib/python3.7/site-packages/seaborn/_decorators.py:43: FutureWarning: Pass the following variables as keyword args: x, y. From version 0.12, the only valid positional argument will be `data`, and passing other arguments without an explicit keyword will result in an error or misinterpretation.\n",
      "  FutureWarning\n",
      "/Users/felipe/miniconda3/envs/ironhack/lib/python3.7/site-packages/seaborn/_decorators.py:43: FutureWarning: Pass the following variables as keyword args: x, y. From version 0.12, the only valid positional argument will be `data`, and passing other arguments without an explicit keyword will result in an error or misinterpretation.\n",
      "  FutureWarning\n"
     ]
    },
    {
     "data": {
      "text/plain": [
       "<AxesSubplot:label='52ff661a-d9c8-4cdc-8208-d15e61652985', xlabel='year', ylabel=\"('hpv', 'mean')\">"
      ]
     },
     "execution_count": 171,
     "metadata": {},
     "output_type": "execute_result"
    },
    {
     "data": {
      "image/png": "[encoded data removed]",
      "text/plain": [
       "<Figure size 432x288 with 2 Axes>"
      ]
     },
     "metadata": {
      "needs_background": "light"
     },
     "output_type": "display_data"
    }
   ],
   "source": [
    "ax = plt.gca()\n",
    "sns.lineplot(df_by_years.index,df_by_years[('cylinders','mean')])\n",
    "ax2 = plt.twinx()\n",
    "sns.lineplot(df_by_years.index,df_by_years[('hpv','mean')],color=\"red\")\n",
    "#sns.lineplot(df_by_years.index,df_by_years[('cylinders','median')],ax=ax)"
   ]
  },
  {
   "cell_type": "markdown",
   "metadata": {},
   "source": [
    "## EXTRA\n",
    "- With a clean version of the same dataset, let's go through a few different charts"
   ]
  },
  {
   "cell_type": "code",
   "execution_count": 177,
   "metadata": {},
   "outputs": [],
   "source": [
    "df = pd.read_csv(\"data/vehicles.csv\")"
   ]
  },
  {
   "cell_type": "code",
   "execution_count": 178,
   "metadata": {},
   "outputs": [
    {
     "name": "stderr",
     "output_type": "stream",
     "text": [
      "/Users/felipe/miniconda3/envs/ironhack/lib/python3.7/site-packages/seaborn/_decorators.py:43: FutureWarning: Pass the following variables as keyword args: x, y. From version 0.12, the only valid positional argument will be `data`, and passing other arguments without an explicit keyword will result in an error or misinterpretation.\n",
      "  FutureWarning\n"
     ]
    },
    {
     "data": {
      "text/plain": [
       "<seaborn.axisgrid.JointGrid at 0x7fa409e2e710>"
      ]
     },
     "execution_count": 178,
     "metadata": {},
     "output_type": "execute_result"
    },
    {
     "data": {
      "image/png": "[encoded data removed]",
      "text/plain": [
       "<Figure size 432x432 with 3 Axes>"
      ]
     },
     "metadata": {},
     "output_type": "display_data"
    }
   ],
   "source": [
    "sns.jointplot(\"City MPG\",\"Highway MPG\",data=df, kind=\"reg\")"
   ]
  },
  {
   "cell_type": "code",
   "execution_count": 179,
   "metadata": {},
   "outputs": [
    {
     "data": {
      "text/plain": [
       "<AxesSubplot:xlabel='Engine Displacement', ylabel='Fuel Type'>"
      ]
     },
     "execution_count": 179,
     "metadata": {},
     "output_type": "execute_result"
    },
    {
     "data": {
      "image/png": "[encoded data removed]",
      "text/plain": [
       "<Figure size 432x288 with 1 Axes>"
      ]
     },
     "metadata": {},
     "output_type": "display_data"
    }
   ],
   "source": [
    "sns.boxplot(x=\"Engine Displacement\", y=\"Fuel Type\", data=df)"
   ]
  },
  {
   "cell_type": "code",
   "execution_count": 180,
   "metadata": {},
   "outputs": [
    {
     "data": {
      "text/plain": [
       "<AxesSubplot:xlabel='Cylinders', ylabel='City MPG'>"
      ]
     },
     "execution_count": 180,
     "metadata": {},
     "output_type": "execute_result"
    },
    {
     "data": {
      "image/png": "[encoded data removed]",
      "text/plain": [
       "<Figure size 432x288 with 1 Axes>"
      ]
     },
     "metadata": {},
     "output_type": "display_data"
    }
   ],
   "source": [
    "sns.violinplot(x=\"Cylinders\", y=\"City MPG\", data=df)"
   ]
  },
  {
   "cell_type": "code",
   "execution_count": 181,
   "metadata": {},
   "outputs": [
    {
     "data": {
      "text/plain": [
       "<AxesSubplot:xlabel='CO2 Emission Grams/Mile', ylabel='City MPG'>"
      ]
     },
     "execution_count": 181,
     "metadata": {},
     "output_type": "execute_result"
    },
    {
     "data": {
      "image/png": "[encoded data removed]",
      "text/plain": [
       "<Figure size 432x288 with 1 Axes>"
      ]
     },
     "metadata": {},
     "output_type": "display_data"
    }
   ],
   "source": [
    "sns.scatterplot(x=\"CO2 Emission Grams/Mile\", y=\"City MPG\",data=df)\n",
    "sns.scatterplot(x=\"CO2 Emission Grams/Mile\", y=\"Highway MPG\",data=df)"
   ]
  },
  {
   "cell_type": "code",
   "execution_count": null,
   "metadata": {},
   "outputs": [],
   "source": []
  }
 ],
 "metadata": {
  "kernelspec": {
   "display_name": "Python3 (ih)",
   "language": "python",
   "name": "ironhack"
  },
  "language_info": {
   "codemirror_mode": {
    "name": "ipython",
    "version": 3
   },
   "file_extension": ".py",
   "mimetype": "text/x-python",
   "name": "python",
   "nbconvert_exporter": "python",
   "pygments_lexer": "ipython3",
   "version": "3.7.8"
  }
 },
 "nbformat": 4,
 "nbformat_minor": 4
}
