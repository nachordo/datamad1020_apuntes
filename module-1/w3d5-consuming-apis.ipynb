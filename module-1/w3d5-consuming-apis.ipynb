{
 "cells": [
  {
   "cell_type": "markdown",
   "metadata": {},
   "source": [
    "# API\n",
    "- Application\n",
    "- Programming\n",
    "- Interface"
   ]
  },
  {
   "cell_type": "markdown",
   "metadata": {},
   "source": [
    "### Class Objectives\n",
    "- What is an API?\n",
    "- Getting data from an API\n",
    "- Authorization for APIs"
   ]
  },
  {
   "cell_type": "markdown",
   "metadata": {},
   "source": [
    "#### REST API\n",
    "- REpresentational\n",
    "- State\n",
    "- Transfer"
   ]
  },
  {
   "cell_type": "markdown",
   "metadata": {},
   "source": [
    "![API](https://www.dataquest.io/wp-content/uploads/2019/09/api-request.svg)"
   ]
  },
  {
   "cell_type": "markdown",
   "metadata": {},
   "source": [
    "## JSON\n",
    "- JavaScript\n",
    "- Object\n",
    "- Notation\n",
    "\n",
    "\n",
    "- dict or list of dicts"
   ]
  },
  {
   "cell_type": "code",
   "execution_count": 1,
   "metadata": {},
   "outputs": [],
   "source": [
    "import requests"
   ]
  },
  {
   "cell_type": "code",
   "execution_count": 28,
   "metadata": {},
   "outputs": [],
   "source": [
    "data = requests.get(\"https://pokeapi.co/api/v2/pokemon/charizard\")"
   ]
  },
  {
   "cell_type": "code",
   "execution_count": 29,
   "metadata": {},
   "outputs": [],
   "source": [
    "charizard = data.json()"
   ]
  },
  {
   "cell_type": "code",
   "execution_count": 30,
   "metadata": {},
   "outputs": [
    {
     "data": {
      "text/plain": [
       "dict_keys(['abilities', 'base_experience', 'forms', 'game_indices', 'height', 'held_items', 'id', 'is_default', 'location_area_encounters', 'moves', 'name', 'order', 'species', 'sprites', 'stats', 'types', 'weight'])"
      ]
     },
     "execution_count": 30,
     "metadata": {},
     "output_type": "execute_result"
    }
   ],
   "source": [
    "charizard.keys()"
   ]
  },
  {
   "cell_type": "code",
   "execution_count": 31,
   "metadata": {},
   "outputs": [
    {
     "data": {
      "text/plain": [
       "dict_keys(['back_default', 'back_female', 'back_shiny', 'back_shiny_female', 'front_default', 'front_female', 'front_shiny', 'front_shiny_female', 'other', 'versions'])"
      ]
     },
     "execution_count": 31,
     "metadata": {},
     "output_type": "execute_result"
    }
   ],
   "source": [
    "charizard[\"sprites\"].keys()"
   ]
  },
  {
   "cell_type": "code",
   "execution_count": 32,
   "metadata": {},
   "outputs": [
    {
     "data": {
      "text/plain": [
       "'https://raw.githubusercontent.com/PokeAPI/sprites/master/sprites/pokemon/shiny/6.png'"
      ]
     },
     "execution_count": 32,
     "metadata": {},
     "output_type": "execute_result"
    }
   ],
   "source": [
    "charizard[\"sprites\"][\"front_shiny\"]"
   ]
  },
  {
   "cell_type": "markdown",
   "metadata": {},
   "source": [
    "![Charizard](https://raw.githubusercontent.com/PokeAPI/sprites/master/sprites/pokemon/shiny/6.png)"
   ]
  },
  {
   "cell_type": "markdown",
   "metadata": {},
   "source": [
    "## Using Authorization"
   ]
  },
  {
   "cell_type": "code",
   "execution_count": 36,
   "metadata": {},
   "outputs": [],
   "source": [
    "# pip3 install python-dotenv"
   ]
  },
  {
   "cell_type": "code",
   "execution_count": 141,
   "metadata": {},
   "outputs": [],
   "source": [
    "# dotenv\n",
    "from dotenv import load_dotenv\n",
    "import os\n",
    "import re\n",
    "import pandas as pd"
   ]
  },
  {
   "cell_type": "markdown",
   "metadata": {},
   "source": [
    "In order to avoid uploading our tokens, we must secure them in a `.env` file. And put `.env` on a `.gitignore file` so that git does not track this file."
   ]
  },
  {
   "cell_type": "code",
   "execution_count": 137,
   "metadata": {},
   "outputs": [
    {
     "data": {
      "text/plain": [
       "True"
      ]
     },
     "execution_count": 137,
     "metadata": {},
     "output_type": "execute_result"
    }
   ],
   "source": [
    "load_dotenv()"
   ]
  },
  {
   "cell_type": "code",
   "execution_count": 45,
   "metadata": {},
   "outputs": [],
   "source": [
    "gh_token = os.getenv(\"GITHUB_TOKEN\")"
   ]
  },
  {
   "cell_type": "code",
   "execution_count": 47,
   "metadata": {},
   "outputs": [],
   "source": [
    "url = \"https://api.github.com\"\n",
    "headers = {\n",
    "    \"Authorization\": f\"token {gh_token}\"\n",
    "}"
   ]
  },
  {
   "cell_type": "code",
   "execution_count": 54,
   "metadata": {},
   "outputs": [],
   "source": [
    "endpoint = \"/repos/{owner}/{repo}/pulls\"\n",
    "repo_info = {\n",
    "    \"owner\":\"ferrero-felipe\",\n",
    "    \"repo\":\"datamad1020_apuntes\"\n",
    "}\n",
    "parameters = {\n",
    "    \"state\":\"all\"\n",
    "}"
   ]
  },
  {
   "cell_type": "code",
   "execution_count": 55,
   "metadata": {},
   "outputs": [],
   "source": [
    "data = requests.get(url+endpoint.format(**repo_info), \n",
    "                    headers=headers,\n",
    "                    params=parameters)"
   ]
  },
  {
   "cell_type": "code",
   "execution_count": 57,
   "metadata": {},
   "outputs": [],
   "source": [
    "data = data.json()"
   ]
  },
  {
   "cell_type": "code",
   "execution_count": 61,
   "metadata": {},
   "outputs": [
    {
     "data": {
      "text/plain": [
       "dict_keys(['url', 'id', 'node_id', 'html_url', 'diff_url', 'patch_url', 'issue_url', 'number', 'state', 'locked', 'title', 'user', 'body', 'created_at', 'updated_at', 'closed_at', 'merged_at', 'merge_commit_sha', 'assignee', 'assignees', 'requested_reviewers', 'requested_teams', 'labels', 'milestone', 'draft', 'commits_url', 'review_comments_url', 'review_comment_url', 'comments_url', 'statuses_url', 'head', 'base', '_links', 'author_association', 'active_lock_reason'])"
      ]
     },
     "execution_count": 61,
     "metadata": {},
     "output_type": "execute_result"
    }
   ],
   "source": [
    "data[0].keys()"
   ]
  },
  {
   "cell_type": "code",
   "execution_count": 62,
   "metadata": {
    "scrolled": true
   },
   "outputs": [
    {
     "data": {
      "text/plain": [
       "{'login': 'adrianacoca',\n",
       " 'id': 65229646,\n",
       " 'node_id': 'MDQ6VXNlcjY1MjI5NjQ2',\n",
       " 'avatar_url': 'https://avatars2.githubusercontent.com/u/65229646?v=4',\n",
       " 'gravatar_id': '',\n",
       " 'url': 'https://api.github.com/users/adrianacoca',\n",
       " 'html_url': 'https://github.com/adrianacoca',\n",
       " 'followers_url': 'https://api.github.com/users/adrianacoca/followers',\n",
       " 'following_url': 'https://api.github.com/users/adrianacoca/following{/other_user}',\n",
       " 'gists_url': 'https://api.github.com/users/adrianacoca/gists{/gist_id}',\n",
       " 'starred_url': 'https://api.github.com/users/adrianacoca/starred{/owner}{/repo}',\n",
       " 'subscriptions_url': 'https://api.github.com/users/adrianacoca/subscriptions',\n",
       " 'organizations_url': 'https://api.github.com/users/adrianacoca/orgs',\n",
       " 'repos_url': 'https://api.github.com/users/adrianacoca/repos',\n",
       " 'events_url': 'https://api.github.com/users/adrianacoca/events{/privacy}',\n",
       " 'received_events_url': 'https://api.github.com/users/adrianacoca/received_events',\n",
       " 'type': 'User',\n",
       " 'site_admin': False}"
      ]
     },
     "execution_count": 62,
     "metadata": {},
     "output_type": "execute_result"
    }
   ],
   "source": [
    "data[0][\"user\"]"
   ]
  },
  {
   "cell_type": "code",
   "execution_count": 63,
   "metadata": {},
   "outputs": [],
   "source": [
    "users = [pr[\"user\"][\"login\"] for pr in data]"
   ]
  },
  {
   "cell_type": "code",
   "execution_count": 65,
   "metadata": {},
   "outputs": [
    {
     "data": {
      "text/plain": [
       "['adrianacoca', 'WHYTEWYLL', 'WHYTEWYLL']"
      ]
     },
     "execution_count": 65,
     "metadata": {},
     "output_type": "execute_result"
    }
   ],
   "source": [
    "users"
   ]
  },
  {
   "cell_type": "code",
   "execution_count": 66,
   "metadata": {},
   "outputs": [],
   "source": [
    "names = []\n",
    "for pr in data:\n",
    "    url_u = pr[\"user\"][\"url\"]\n",
    "    data_u = requests.get(url_u).json()\n",
    "    names.append(data_u[\"name\"])"
   ]
  },
  {
   "cell_type": "code",
   "execution_count": 67,
   "metadata": {},
   "outputs": [
    {
     "data": {
      "text/plain": [
       "['Adriana Coca', None, None]"
      ]
     },
     "execution_count": 67,
     "metadata": {},
     "output_type": "execute_result"
    }
   ],
   "source": [
    "names"
   ]
  },
  {
   "cell_type": "code",
   "execution_count": 90,
   "metadata": {},
   "outputs": [],
   "source": [
    "parameters = {\n",
    "    \"state\":\"all\",\n",
    "    \"per_page\":100,\n",
    "    \"page\":4\n",
    "}\n",
    "data = requests.get(url+endpoint.format(**{\n",
    "                                            \"owner\":\"ironhack-datalabs\",\n",
    "                                            \"repo\":\"datamad1020\"\n",
    "                                            }), \n",
    "                    headers=headers,\n",
    "                    params=parameters)"
   ]
  },
  {
   "cell_type": "code",
   "execution_count": 91,
   "metadata": {},
   "outputs": [],
   "source": [
    "data = data.json()"
   ]
  },
  {
   "cell_type": "code",
   "execution_count": 92,
   "metadata": {},
   "outputs": [
    {
     "data": {
      "text/plain": [
       "0"
      ]
     },
     "execution_count": 92,
     "metadata": {},
     "output_type": "execute_result"
    }
   ],
   "source": [
    "len(data)"
   ]
  },
  {
   "cell_type": "code",
   "execution_count": 93,
   "metadata": {},
   "outputs": [
    {
     "name": "stdout",
     "output_type": "stream",
     "text": [
      "1 True\n",
      "----------------\n",
      "2 100\n",
      "2 100\n",
      "----------------\n",
      "3 100\n",
      "3 100\n",
      "----------------\n",
      "4 55\n",
      "4 55\n",
      "----------------\n",
      "5 0\n"
     ]
    }
   ],
   "source": [
    "len_last = True\n",
    "i = 1\n",
    "pr = []\n",
    "while len_last:\n",
    "    parameters = {\n",
    "    \"state\":\"all\",\n",
    "    \"per_page\":100,\n",
    "    \"page\":i\n",
    "}\n",
    "    data = requests.get(url+endpoint.format(**{\n",
    "                                            \"owner\":\"ironhack-datalabs\",\n",
    "                                            \"repo\":\"datamad1020\"\n",
    "                                            }), \n",
    "                    headers=headers,\n",
    "                    params=parameters).json()\n",
    "    pr += data\n",
    "    i+=1\n",
    "    len_last = len(data)"
   ]
  },
  {
   "cell_type": "code",
   "execution_count": 94,
   "metadata": {},
   "outputs": [
    {
     "data": {
      "text/plain": [
       "255"
      ]
     },
     "execution_count": 94,
     "metadata": {},
     "output_type": "execute_result"
    }
   ],
   "source": [
    "len(pr)"
   ]
  },
  {
   "cell_type": "code",
   "execution_count": 102,
   "metadata": {},
   "outputs": [
    {
     "data": {
      "text/plain": [
       "dict_keys(['url', 'id', 'node_id', 'html_url', 'diff_url', 'patch_url', 'issue_url', 'number', 'state', 'locked', 'title', 'user', 'body', 'created_at', 'updated_at', 'closed_at', 'merged_at', 'merge_commit_sha', 'assignee', 'assignees', 'requested_reviewers', 'requested_teams', 'labels', 'milestone', 'draft', 'commits_url', 'review_comments_url', 'review_comment_url', 'comments_url', 'statuses_url', 'head', 'base', '_links', 'author_association', 'active_lock_reason'])"
      ]
     },
     "execution_count": 102,
     "metadata": {},
     "output_type": "execute_result"
    }
   ],
   "source": [
    "pr[35].keys()"
   ]
  },
  {
   "cell_type": "code",
   "execution_count": 103,
   "metadata": {},
   "outputs": [
    {
     "data": {
      "text/plain": [
       "{'login': 'WyattGwyon',\n",
       " 'id': 29239327,\n",
       " 'node_id': 'MDQ6VXNlcjI5MjM5MzI3',\n",
       " 'avatar_url': 'https://avatars3.githubusercontent.com/u/29239327?v=4',\n",
       " 'gravatar_id': '',\n",
       " 'url': 'https://api.github.com/users/WyattGwyon',\n",
       " 'html_url': 'https://github.com/WyattGwyon',\n",
       " 'followers_url': 'https://api.github.com/users/WyattGwyon/followers',\n",
       " 'following_url': 'https://api.github.com/users/WyattGwyon/following{/other_user}',\n",
       " 'gists_url': 'https://api.github.com/users/WyattGwyon/gists{/gist_id}',\n",
       " 'starred_url': 'https://api.github.com/users/WyattGwyon/starred{/owner}{/repo}',\n",
       " 'subscriptions_url': 'https://api.github.com/users/WyattGwyon/subscriptions',\n",
       " 'organizations_url': 'https://api.github.com/users/WyattGwyon/orgs',\n",
       " 'repos_url': 'https://api.github.com/users/WyattGwyon/repos',\n",
       " 'events_url': 'https://api.github.com/users/WyattGwyon/events{/privacy}',\n",
       " 'received_events_url': 'https://api.github.com/users/WyattGwyon/received_events',\n",
       " 'type': 'User',\n",
       " 'site_admin': False}"
      ]
     },
     "execution_count": 103,
     "metadata": {},
     "output_type": "execute_result"
    }
   ],
   "source": [
    "pr[35][\"user\"]"
   ]
  },
  {
   "cell_type": "code",
   "execution_count": 104,
   "metadata": {},
   "outputs": [
    {
     "data": {
      "text/plain": [
       "'https://api.github.com/repos/ironhack-datalabs/datamad1020/issues/252/comments'"
      ]
     },
     "execution_count": 104,
     "metadata": {},
     "output_type": "execute_result"
    }
   ],
   "source": [
    "pr[35][\"comments_url\"]"
   ]
  },
  {
   "cell_type": "code",
   "execution_count": 110,
   "metadata": {},
   "outputs": [],
   "source": [
    "comments = []\n",
    "for pull in pr:\n",
    "    comm = requests.get(pull[\"comments_url\"],headers=headers).json()\n",
    "    for co in comm:\n",
    "        comments.append(re.findall(\"http.*\\.jpg|http.*\\.png|http.*\\.jpeg\",co[\"body\"]))"
   ]
  },
  {
   "cell_type": "code",
   "execution_count": 113,
   "metadata": {},
   "outputs": [],
   "source": [
    "comments = [link for lst in comments for link in lst]"
   ]
  },
  {
   "cell_type": "code",
   "execution_count": 115,
   "metadata": {},
   "outputs": [
    {
     "data": {
      "text/plain": [
       "227"
      ]
     },
     "execution_count": 115,
     "metadata": {},
     "output_type": "execute_result"
    }
   ],
   "source": [
    "len(comments)"
   ]
  },
  {
   "cell_type": "code",
   "execution_count": 116,
   "metadata": {},
   "outputs": [],
   "source": [
    "comments = set(comments)"
   ]
  },
  {
   "cell_type": "code",
   "execution_count": 117,
   "metadata": {},
   "outputs": [
    {
     "data": {
      "text/plain": [
       "211"
      ]
     },
     "execution_count": 117,
     "metadata": {},
     "output_type": "execute_result"
    }
   ],
   "source": [
    "len(comments)"
   ]
  },
  {
   "cell_type": "code",
   "execution_count": 118,
   "metadata": {},
   "outputs": [],
   "source": [
    "os.mkdir(\"data/memes\")"
   ]
  },
  {
   "cell_type": "code",
   "execution_count": 122,
   "metadata": {},
   "outputs": [],
   "source": [
    "for i,link in enumerate(comments):\n",
    "    ext = link.split(\".\")[-1]\n",
    "    img_b = requests.get(link).content\n",
    "    with open(f\"data/memes/{i}.{ext}\", \"wb+\") as file:\n",
    "        file.write(img_b)"
   ]
  },
  {
   "cell_type": "code",
   "execution_count": 123,
   "metadata": {},
   "outputs": [
    {
     "data": {
      "text/plain": [
       "{'message': 'success',\n",
       " 'people': [{'name': 'Sergey Ryzhikov', 'craft': 'ISS'},\n",
       "  {'name': 'Kate Rubins', 'craft': 'ISS'},\n",
       "  {'name': 'Sergey Kud-Sverchkov', 'craft': 'ISS'}],\n",
       " 'number': 3}"
      ]
     },
     "execution_count": 123,
     "metadata": {},
     "output_type": "execute_result"
    }
   ],
   "source": [
    "## Open Notify\n",
    "requests.get(\"http://api.open-notify.org/astros.json\").json()"
   ]
  },
  {
   "cell_type": "code",
   "execution_count": 139,
   "metadata": {},
   "outputs": [
    {
     "data": {
      "text/plain": [
       "{'coord': {'lon': -3.7, 'lat': 40.42},\n",
       " 'weather': [{'id': 802,\n",
       "   'main': 'Clouds',\n",
       "   'description': 'scattered clouds',\n",
       "   'icon': '03d'}],\n",
       " 'base': 'stations',\n",
       " 'main': {'temp': 290.49,\n",
       "  'feels_like': 287.61,\n",
       "  'temp_min': 289.26,\n",
       "  'temp_max': 291.48,\n",
       "  'pressure': 1018,\n",
       "  'humidity': 72},\n",
       " 'visibility': 8000,\n",
       " 'wind': {'speed': 5.1, 'deg': 100},\n",
       " 'clouds': {'all': 40},\n",
       " 'dt': 1604659635,\n",
       " 'sys': {'type': 1,\n",
       "  'id': 6443,\n",
       "  'country': 'ES',\n",
       "  'sunrise': 1604645446,\n",
       "  'sunset': 1604682368},\n",
       " 'timezone': 3600,\n",
       " 'id': 3117735,\n",
       " 'name': 'Madrid',\n",
       " 'cod': 200}"
      ]
     },
     "execution_count": 139,
     "metadata": {},
     "output_type": "execute_result"
    }
   ],
   "source": [
    "params = {\n",
    "    \"q\":\"Madrid\",\n",
    "    \"appid\":os.getenv(\"WEATHER_TOKEN\")\n",
    "}\n",
    "url = \"http://api.openweathermap.org/data/2.5/weather\"\n",
    "requests.get(url,params=params).json()"
   ]
  },
  {
   "cell_type": "code",
   "execution_count": 200,
   "metadata": {},
   "outputs": [
    {
     "data": {
      "text/html": [
       "<div>\n",
       "<style scoped>\n",
       "    .dataframe tbody tr th:only-of-type {\n",
       "        vertical-align: middle;\n",
       "    }\n",
       "\n",
       "    .dataframe tbody tr th {\n",
       "        vertical-align: top;\n",
       "    }\n",
       "\n",
       "    .dataframe thead th {\n",
       "        text-align: right;\n",
       "    }\n",
       "</style>\n",
       "<table border=\"1\" class=\"dataframe\">\n",
       "  <thead>\n",
       "    <tr style=\"text-align: right;\">\n",
       "      <th></th>\n",
       "      <th>first_name</th>\n",
       "      <th>last_name</th>\n",
       "      <th>email</th>\n",
       "      <th>city</th>\n",
       "    </tr>\n",
       "  </thead>\n",
       "  <tbody>\n",
       "    <tr>\n",
       "      <th>0</th>\n",
       "      <td>Giacomo</td>\n",
       "      <td>Contreras</td>\n",
       "      <td>ornare.tortor@Nullamscelerisqueneque.co.uk</td>\n",
       "      <td>Zweibrücken</td>\n",
       "    </tr>\n",
       "    <tr>\n",
       "      <th>1</th>\n",
       "      <td>Francis</td>\n",
       "      <td>Macias</td>\n",
       "      <td>non@vitaeerat.ca</td>\n",
       "      <td>Okara</td>\n",
       "    </tr>\n",
       "    <tr>\n",
       "      <th>2</th>\n",
       "      <td>Mason</td>\n",
       "      <td>House</td>\n",
       "      <td>amet@egetodio.co.uk</td>\n",
       "      <td>Jennersdorf</td>\n",
       "    </tr>\n",
       "    <tr>\n",
       "      <th>3</th>\n",
       "      <td>Joshua</td>\n",
       "      <td>Pickett</td>\n",
       "      <td>velit@eunullaat.co.uk</td>\n",
       "      <td>Schwedt</td>\n",
       "    </tr>\n",
       "    <tr>\n",
       "      <th>4</th>\n",
       "      <td>Suki</td>\n",
       "      <td>Henderson</td>\n",
       "      <td>lacus@arcuet.edu</td>\n",
       "      <td>Olathe</td>\n",
       "    </tr>\n",
       "  </tbody>\n",
       "</table>\n",
       "</div>"
      ],
      "text/plain": [
       "  first_name  last_name                                       email  \\\n",
       "0    Giacomo  Contreras  ornare.tortor@Nullamscelerisqueneque.co.uk   \n",
       "1    Francis     Macias                            non@vitaeerat.ca   \n",
       "2      Mason      House                         amet@egetodio.co.uk   \n",
       "3     Joshua    Pickett                       velit@eunullaat.co.uk   \n",
       "4       Suki  Henderson                            lacus@arcuet.edu   \n",
       "\n",
       "          city  \n",
       "0  Zweibrücken  \n",
       "1        Okara  \n",
       "2  Jennersdorf  \n",
       "3      Schwedt  \n",
       "4       Olathe  "
      ]
     },
     "execution_count": 200,
     "metadata": {},
     "output_type": "execute_result"
    }
   ],
   "source": [
    "df = pd.read_csv(\"data/customer_cities.csv\")\n",
    "df.head()"
   ]
  },
  {
   "cell_type": "code",
   "execution_count": 201,
   "metadata": {},
   "outputs": [],
   "source": [
    "def get_weather(city):\n",
    "    try:\n",
    "        params = {\n",
    "        \"q\":city,\n",
    "        \"appid\":os.getenv(\"WEATHER_TOKEN\")\n",
    "    }\n",
    "        url = \"http://api.openweathermap.org/data/2.5/weather\"\n",
    "        data = requests.get(url,params=params).json()\n",
    "        data = data[\"weather\"][0][\"main\"],data[\"weather\"][0][\"description\"],data[\"main\"][\"temp\"]-273\n",
    "        return data\n",
    "    except: \n",
    "        return None,None,None"
   ]
  },
  {
   "cell_type": "code",
   "execution_count": 202,
   "metadata": {},
   "outputs": [
    {
     "data": {
      "text/plain": [
       "('Clouds', 'scattered clouds', 18)"
      ]
     },
     "execution_count": 202,
     "metadata": {},
     "output_type": "execute_result"
    }
   ],
   "source": [
    "get_weather(\"Madrid\")"
   ]
  },
  {
   "cell_type": "code",
   "execution_count": 203,
   "metadata": {},
   "outputs": [],
   "source": [
    "df[\"weather\"] = df[\"city\"].apply(get_weather)\n",
    "df[[\"weather\",\"weather_desc\",\"temp\"]] = df[\"weather\"].to_list()"
   ]
  },
  {
   "cell_type": "code",
   "execution_count": 204,
   "metadata": {},
   "outputs": [
    {
     "data": {
      "text/html": [
       "<div>\n",
       "<style scoped>\n",
       "    .dataframe tbody tr th:only-of-type {\n",
       "        vertical-align: middle;\n",
       "    }\n",
       "\n",
       "    .dataframe tbody tr th {\n",
       "        vertical-align: top;\n",
       "    }\n",
       "\n",
       "    .dataframe thead th {\n",
       "        text-align: right;\n",
       "    }\n",
       "</style>\n",
       "<table border=\"1\" class=\"dataframe\">\n",
       "  <thead>\n",
       "    <tr style=\"text-align: right;\">\n",
       "      <th></th>\n",
       "      <th>first_name</th>\n",
       "      <th>last_name</th>\n",
       "      <th>email</th>\n",
       "      <th>city</th>\n",
       "      <th>weather</th>\n",
       "      <th>weather_desc</th>\n",
       "      <th>temp</th>\n",
       "    </tr>\n",
       "  </thead>\n",
       "  <tbody>\n",
       "    <tr>\n",
       "      <th>0</th>\n",
       "      <td>Giacomo</td>\n",
       "      <td>Contreras</td>\n",
       "      <td>ornare.tortor@Nullamscelerisqueneque.co.uk</td>\n",
       "      <td>Zweibrücken</td>\n",
       "      <td>Clear</td>\n",
       "      <td>clear sky</td>\n",
       "      <td>9.83</td>\n",
       "    </tr>\n",
       "    <tr>\n",
       "      <th>1</th>\n",
       "      <td>Francis</td>\n",
       "      <td>Macias</td>\n",
       "      <td>non@vitaeerat.ca</td>\n",
       "      <td>Okara</td>\n",
       "      <td>Clear</td>\n",
       "      <td>clear sky</td>\n",
       "      <td>31.63</td>\n",
       "    </tr>\n",
       "    <tr>\n",
       "      <th>2</th>\n",
       "      <td>Mason</td>\n",
       "      <td>House</td>\n",
       "      <td>amet@egetodio.co.uk</td>\n",
       "      <td>Jennersdorf</td>\n",
       "      <td>Clear</td>\n",
       "      <td>clear sky</td>\n",
       "      <td>12.55</td>\n",
       "    </tr>\n",
       "    <tr>\n",
       "      <th>3</th>\n",
       "      <td>Joshua</td>\n",
       "      <td>Pickett</td>\n",
       "      <td>velit@eunullaat.co.uk</td>\n",
       "      <td>Schwedt</td>\n",
       "      <td>Clouds</td>\n",
       "      <td>broken clouds</td>\n",
       "      <td>12.20</td>\n",
       "    </tr>\n",
       "    <tr>\n",
       "      <th>4</th>\n",
       "      <td>Suki</td>\n",
       "      <td>Henderson</td>\n",
       "      <td>lacus@arcuet.edu</td>\n",
       "      <td>Olathe</td>\n",
       "      <td>Clear</td>\n",
       "      <td>clear sky</td>\n",
       "      <td>11.80</td>\n",
       "    </tr>\n",
       "  </tbody>\n",
       "</table>\n",
       "</div>"
      ],
      "text/plain": [
       "  first_name  last_name                                       email  \\\n",
       "0    Giacomo  Contreras  ornare.tortor@Nullamscelerisqueneque.co.uk   \n",
       "1    Francis     Macias                            non@vitaeerat.ca   \n",
       "2      Mason      House                         amet@egetodio.co.uk   \n",
       "3     Joshua    Pickett                       velit@eunullaat.co.uk   \n",
       "4       Suki  Henderson                            lacus@arcuet.edu   \n",
       "\n",
       "          city weather   weather_desc   temp  \n",
       "0  Zweibrücken   Clear      clear sky   9.83  \n",
       "1        Okara   Clear      clear sky  31.63  \n",
       "2  Jennersdorf   Clear      clear sky  12.55  \n",
       "3      Schwedt  Clouds  broken clouds  12.20  \n",
       "4       Olathe   Clear      clear sky  11.80  "
      ]
     },
     "execution_count": 204,
     "metadata": {},
     "output_type": "execute_result"
    }
   ],
   "source": [
    "df.head()"
   ]
  },
  {
   "cell_type": "markdown",
   "metadata": {},
   "source": [
    "### GET vs POST"
   ]
  },
  {
   "cell_type": "code",
   "execution_count": 218,
   "metadata": {},
   "outputs": [],
   "source": [
    "# Opening a github issue\n",
    "import json\n",
    "url = \"https://api.github.com\"\n",
    "endpoint = \"/repos/{owner}/{repo}/issues\"\n",
    "repo = {\"owner\":\"ironhack-datalabs\",\n",
    "        \"repo\":\"datamad1020\"}\n",
    "headers = {\n",
    "    \"Authorization\": f\"token {gh_token}\"\n",
    "}\n",
    "issue = {\n",
    "    \"title\":\"Hola Adri y Juaaan\",\n",
    "    \"body\":\"Soy un bot\"\n",
    "         }\n",
    "res = requests.post(url+endpoint.format(**repo), \n",
    "                    data=json.dumps(issue), headers=headers)"
   ]
  },
  {
   "cell_type": "code",
   "execution_count": 217,
   "metadata": {},
   "outputs": [
    {
     "data": {
      "text/plain": [
       "<Response [201]>"
      ]
     },
     "execution_count": 217,
     "metadata": {},
     "output_type": "execute_result"
    }
   ],
   "source": [
    "res"
   ]
  },
  {
   "cell_type": "code",
   "execution_count": 220,
   "metadata": {},
   "outputs": [],
   "source": [
    "# Creating a repo\n",
    "url = \"https://api.github.com\"\n",
    "endpoint = \"/user/repos\"\n",
    "data = {\n",
    "    \"name\":\"new_repo_datamad1020\",\n",
    "    \"description\":\"trying out the github API\",\n",
    "    \"auto_init\":True\n",
    "}\n",
    "res = requests.post(url+endpoint, \n",
    "                    data=json.dumps(data), headers=headers)"
   ]
  },
  {
   "cell_type": "code",
   "execution_count": 221,
   "metadata": {},
   "outputs": [
    {
     "data": {
      "text/plain": [
       "<Response [201]>"
      ]
     },
     "execution_count": 221,
     "metadata": {},
     "output_type": "execute_result"
    }
   ],
   "source": [
    "res"
   ]
  },
  {
   "cell_type": "markdown",
   "metadata": {},
   "source": [
    "### Time  out"
   ]
  },
  {
   "cell_type": "code",
   "execution_count": 225,
   "metadata": {},
   "outputs": [
    {
     "name": "stdout",
     "output_type": "stream",
     "text": [
      "<Response [200]>\n",
      "<Response [200]>\n",
      "<Response [200]>\n",
      "<Response [200]>\n",
      "<Response [200]>\n",
      "<Response [200]>\n",
      "<Response [200]>\n",
      "<Response [200]>\n",
      "<Response [200]>\n",
      "<Response [200]>\n",
      "<Response [200]>\n",
      "<Response [200]>\n",
      "<Response [200]>\n",
      "<Response [200]>\n",
      "<Response [200]>\n",
      "<Response [200]>\n",
      "<Response [200]>\n",
      "<Response [200]>\n",
      "<Response [200]>\n",
      "<Response [200]>\n",
      "<Response [200]>\n",
      "<Response [200]>\n",
      "<Response [200]>\n",
      "<Response [200]>\n",
      "<Response [200]>\n",
      "<Response [200]>\n",
      "<Response [200]>\n",
      "<Response [200]>\n",
      "<Response [200]>\n",
      "<Response [200]>\n",
      "<Response [200]>\n",
      "<Response [200]>\n",
      "<Response [200]>\n",
      "<Response [200]>\n",
      "<Response [200]>\n",
      "<Response [200]>\n",
      "<Response [200]>\n",
      "<Response [200]>\n",
      "<Response [200]>\n",
      "<Response [200]>\n",
      "<Response [200]>\n",
      "<Response [200]>\n",
      "<Response [200]>\n",
      "<Response [200]>\n",
      "<Response [200]>\n",
      "<Response [200]>\n",
      "<Response [200]>\n",
      "<Response [200]>\n",
      "<Response [200]>\n",
      "<Response [200]>\n",
      "<Response [200]>\n",
      "<Response [200]>\n",
      "<Response [200]>\n",
      "<Response [200]>\n",
      "<Response [200]>\n",
      "<Response [200]>\n",
      "<Response [200]>\n",
      "<Response [200]>\n",
      "<Response [403]>\n"
     ]
    }
   ],
   "source": [
    "status = 200\n",
    "while status == 200:\n",
    "    res = requests.get(\"https://api.github.com/users/torvalds/repos\")\n",
    "    print(res)\n",
    "    status = res.status_code"
   ]
  },
  {
   "cell_type": "code",
   "execution_count": 227,
   "metadata": {},
   "outputs": [
    {
     "data": {
      "text/plain": [
       "{'message': \"API rate limit exceeded for 149.74.183.151. (But here's the good news: Authenticated requests get a higher rate limit. Check out the documentation for more details.)\",\n",
       " 'documentation_url': 'https://developer.github.com/v3/#rate-limiting'}"
      ]
     },
     "execution_count": 227,
     "metadata": {},
     "output_type": "execute_result"
    }
   ],
   "source": [
    "res.json()"
   ]
  },
  {
   "cell_type": "code",
   "execution_count": 230,
   "metadata": {},
   "outputs": [
    {
     "data": {
      "text/plain": [
       "<Response [200]>"
      ]
     },
     "execution_count": 230,
     "metadata": {},
     "output_type": "execute_result"
    }
   ],
   "source": [
    "requests.get(\"https://api.github.com/users/torvalds/repos\",headers=headers)"
   ]
  },
  {
   "cell_type": "markdown",
   "metadata": {},
   "source": [
    "## Resources\n",
    "\n",
    "- [API listing in github](https://github.com/whizkydee/Awesome-APIs)\n",
    "- [Aaaaand another one](https://github.com/Kikobeats/awesome-api)\n",
    "- [APIs explained](https://www.youtube.com/watch?v=qW1qhb8r8xI&ab_channel=DanielleTh%C3%A9)"
   ]
  },
  {
   "cell_type": "code",
   "execution_count": null,
   "metadata": {},
   "outputs": [],
   "source": []
  }
 ],
 "metadata": {
  "kernelspec": {
   "display_name": "Python3 (ih)",
   "language": "python",
   "name": "ironhack"
  },
  "language_info": {
   "codemirror_mode": {
    "name": "ipython",
    "version": 3
   },
   "file_extension": ".py",
   "mimetype": "text/x-python",
   "name": "python",
   "nbconvert_exporter": "python",
   "pygments_lexer": "ipython3",
   "version": "3.7.8"
  }
 },
 "nbformat": 4,
 "nbformat_minor": 4
}
