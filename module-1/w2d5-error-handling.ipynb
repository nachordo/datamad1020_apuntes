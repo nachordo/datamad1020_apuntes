{
 "cells": [
  {
   "cell_type": "markdown",
   "metadata": {},
   "source": [
    "### Class objectives\n",
    "- Learn a new python structure `try...except...finally`\n",
    "- Practical example of data cleaning with error handling\n",
    "- Regex Workshop"
   ]
  },
  {
   "cell_type": "code",
   "execution_count": 6,
   "metadata": {},
   "outputs": [
    {
     "name": "stdout",
     "output_type": "stream",
     "text": [
      "-0.1\n",
      "-0.1111111111111111\n",
      "-0.125\n",
      "-0.14285714285714285\n",
      "-0.16666666666666666\n",
      "-0.2\n",
      "-0.25\n",
      "-0.3333333333333333\n",
      "-0.5\n",
      "-1.0\n"
     ]
    },
    {
     "ename": "ZeroDivisionError",
     "evalue": "division by zero",
     "output_type": "error",
     "traceback": [
      "\u001b[0;31m---------------------------------------------------------------------------\u001b[0m",
      "\u001b[0;31mZeroDivisionError\u001b[0m                         Traceback (most recent call last)",
      "\u001b[0;32m<ipython-input-6-746e50bc8bfd>\u001b[0m in \u001b[0;36m<module>\u001b[0;34m()\u001b[0m\n\u001b[1;32m      2\u001b[0m \u001b[0;34m\u001b[0m\u001b[0m\n\u001b[1;32m      3\u001b[0m \u001b[0;32mfor\u001b[0m \u001b[0mi\u001b[0m \u001b[0;32min\u001b[0m \u001b[0mrange\u001b[0m\u001b[0;34m(\u001b[0m\u001b[0;34m-\u001b[0m\u001b[0;36m10\u001b[0m\u001b[0;34m,\u001b[0m\u001b[0;36m10\u001b[0m\u001b[0;34m)\u001b[0m\u001b[0;34m:\u001b[0m\u001b[0;34m\u001b[0m\u001b[0;34m\u001b[0m\u001b[0m\n\u001b[0;32m----> 4\u001b[0;31m     \u001b[0mprint\u001b[0m\u001b[0;34m(\u001b[0m\u001b[0;36m1\u001b[0m\u001b[0;34m/\u001b[0m\u001b[0mi\u001b[0m\u001b[0;34m)\u001b[0m\u001b[0;34m\u001b[0m\u001b[0;34m\u001b[0m\u001b[0m\n\u001b[0m\u001b[1;32m      5\u001b[0m \u001b[0mprint\u001b[0m\u001b[0;34m(\u001b[0m\u001b[0;34m\"After for loop....\"\u001b[0m\u001b[0;34m)\u001b[0m\u001b[0;34m\u001b[0m\u001b[0;34m\u001b[0m\u001b[0m\n",
      "\u001b[0;31mZeroDivisionError\u001b[0m: division by zero"
     ]
    }
   ],
   "source": [
    "# Exceptions will stop the program execution\n",
    "\n",
    "for i in range(-10,10):\n",
    "    print(1/i)\n",
    "print(\"After for loop....\")"
   ]
  },
  {
   "cell_type": "code",
   "execution_count": 7,
   "metadata": {},
   "outputs": [
    {
     "ename": "ValueError",
     "evalue": "Ooops.",
     "output_type": "error",
     "traceback": [
      "\u001b[0;31m---------------------------------------------------------------------------\u001b[0m",
      "\u001b[0;31mValueError\u001b[0m                                Traceback (most recent call last)",
      "\u001b[0;32m<ipython-input-7-edc09856c421>\u001b[0m in \u001b[0;36m<module>\u001b[0;34m()\u001b[0m\n\u001b[1;32m      2\u001b[0m \u001b[0;31m# raise will throw an error\u001b[0m\u001b[0;34m\u001b[0m\u001b[0;34m\u001b[0m\u001b[0;34m\u001b[0m\u001b[0m\n\u001b[1;32m      3\u001b[0m \u001b[0;34m\u001b[0m\u001b[0m\n\u001b[0;32m----> 4\u001b[0;31m \u001b[0;32mraise\u001b[0m \u001b[0mValueError\u001b[0m\u001b[0;34m(\u001b[0m\u001b[0;34m\"Ooops.\"\u001b[0m\u001b[0;34m)\u001b[0m\u001b[0;34m\u001b[0m\u001b[0;34m\u001b[0m\u001b[0m\n\u001b[0m",
      "\u001b[0;31mValueError\u001b[0m: Ooops."
     ]
    }
   ],
   "source": [
    "# raise\n",
    "# raise will throw an error\n",
    "\n",
    "raise ValueError(\"Ooops.\")"
   ]
  },
  {
   "cell_type": "code",
   "execution_count": 9,
   "metadata": {},
   "outputs": [],
   "source": [
    "# A python error is a class that inherits from Exception\n",
    "\n",
    "class BadNameError(Exception):\n",
    "    pass"
   ]
  },
  {
   "cell_type": "code",
   "execution_count": 10,
   "metadata": {},
   "outputs": [
    {
     "name": "stdout",
     "output_type": "stream",
     "text": [
      "Tell me your full name:\n",
      "Felipe\n"
     ]
    },
    {
     "ename": "BadNameError",
     "evalue": "Please input your full name. [Nombre Apellido Apellido]",
     "output_type": "error",
     "traceback": [
      "\u001b[0;31m---------------------------------------------------------------------------\u001b[0m",
      "\u001b[0;31mBadNameError\u001b[0m                              Traceback (most recent call last)",
      "\u001b[0;32m<ipython-input-10-e1307c26a5ac>\u001b[0m in \u001b[0;36m<module>\u001b[0;34m()\u001b[0m\n\u001b[1;32m      1\u001b[0m \u001b[0mname\u001b[0m \u001b[0;34m=\u001b[0m \u001b[0minput\u001b[0m\u001b[0;34m(\u001b[0m\u001b[0;34m\"Tell me your full name:\\n\"\u001b[0m\u001b[0;34m)\u001b[0m\u001b[0;34m\u001b[0m\u001b[0;34m\u001b[0m\u001b[0m\n\u001b[1;32m      2\u001b[0m \u001b[0;32mif\u001b[0m \u001b[0mlen\u001b[0m\u001b[0;34m(\u001b[0m\u001b[0mname\u001b[0m\u001b[0;34m.\u001b[0m\u001b[0msplit\u001b[0m\u001b[0;34m(\u001b[0m\u001b[0;34m\" \"\u001b[0m\u001b[0;34m)\u001b[0m\u001b[0;34m)\u001b[0m \u001b[0;34m<\u001b[0m \u001b[0;36m3\u001b[0m\u001b[0;34m:\u001b[0m\u001b[0;34m\u001b[0m\u001b[0;34m\u001b[0m\u001b[0m\n\u001b[0;32m----> 3\u001b[0;31m     \u001b[0;32mraise\u001b[0m \u001b[0mBadNameError\u001b[0m\u001b[0;34m(\u001b[0m\u001b[0;34m\"Please input your full name. [Nombre Apellido Apellido]\"\u001b[0m\u001b[0;34m)\u001b[0m\u001b[0;34m\u001b[0m\u001b[0;34m\u001b[0m\u001b[0m\n\u001b[0m",
      "\u001b[0;31mBadNameError\u001b[0m: Please input your full name. [Nombre Apellido Apellido]"
     ]
    }
   ],
   "source": [
    "name = input(\"Tell me your full name:\\n\")\n",
    "if len(name.split(\" \")) < 3:\n",
    "    raise BadNameError(\"Please input your full name. [Nombre Apellido Apellido]\")"
   ]
  },
  {
   "cell_type": "code",
   "execution_count": 11,
   "metadata": {},
   "outputs": [],
   "source": [
    "# try...except allows us to catch errors\n",
    "# This way the programs flow isn't broken\n",
    "\n",
    "try:\n",
    "    pass\n",
    "except:\n",
    "    pass\n",
    "finally: # OPTIONAL\n",
    "    pass "
   ]
  },
  {
   "cell_type": "code",
   "execution_count": 14,
   "metadata": {},
   "outputs": [
    {
     "name": "stdout",
     "output_type": "stream",
     "text": [
      "Tell me your full name:\n",
      "Pepe\n",
      "Could not get full name, continuing as GUEST\n"
     ]
    }
   ],
   "source": [
    "try:\n",
    "    name = input(\"Tell me your full name:\\n\")\n",
    "    if len(name.split(\" \")) < 3:\n",
    "        raise BadNameError(\"Please input your full name. [Nombre Apellido Apellido]\")\n",
    "except: # Plan B\n",
    "    print(\"Could not get full name, continuing as GUEST\")\n",
    "    name = \"Guest\""
   ]
  },
  {
   "cell_type": "code",
   "execution_count": 46,
   "metadata": {},
   "outputs": [
    {
     "name": "stdout",
     "output_type": "stream",
     "text": [
      "2.5\n",
      "<class 'NameError'>\n",
      "name 'df' is not defined\n",
      "the end.\n"
     ]
    }
   ],
   "source": [
    "try:\n",
    "    a = 5\n",
    "    oper = lambda a,b: a/b\n",
    "    b = 2\n",
    "    print(oper(float(a),float(b)))\n",
    "    print(df)\n",
    "except TypeError: # try...catch\n",
    "    print(\"Could not operate. Please input 2 numbers.\")\n",
    "except ZeroDivisionError:\n",
    "    print(\"Are you mad? No dividing by zero\")\n",
    "except Exception as error:\n",
    "    print(type(error))\n",
    "    print(error)\n",
    "print(\"the end.\")"
   ]
  },
  {
   "cell_type": "code",
   "execution_count": 48,
   "metadata": {},
   "outputs": [
    {
     "name": "stdout",
     "output_type": "stream",
     "text": [
      "try\n",
      "after error\n",
      "else\n",
      "after `try...except`\n"
     ]
    }
   ],
   "source": [
    "try:\n",
    "    print(\"try\")\n",
    "    error = \"no error\"\n",
    "    print(\"after error\")\n",
    "except Exception as e:\n",
    "    print(\"except\")\n",
    "    print(f\"Error was of type {type(e)}\")\n",
    "else:\n",
    "    print(\"else\")\n",
    "print(\"after `try...except`\")"
   ]
  },
  {
   "cell_type": "code",
   "execution_count": 50,
   "metadata": {
    "scrolled": true
   },
   "outputs": [
    {
     "name": "stdout",
     "output_type": "stream",
     "text": [
      "Oops\n",
      "finally\n"
     ]
    }
   ],
   "source": [
    "try:\n",
    "    8/0\n",
    "    print(\"All ok\")\n",
    "except:\n",
    "    print(\"Oops\")\n",
    "finally: # Executes either there is an error or not\n",
    "    print(\"finally\")"
   ]
  },
  {
   "cell_type": "code",
   "execution_count": 74,
   "metadata": {},
   "outputs": [
    {
     "name": "stdout",
     "output_type": "stream",
     "text": [
      "please tell me a\n",
      "3\n",
      "please tell me operation\n",
      "3\n",
      "please tell me b\n",
      "3\n"
     ]
    },
    {
     "ename": "KeyError",
     "evalue": "'3'",
     "output_type": "error",
     "traceback": [
      "\u001b[0;31m---------------------------------------------------------------------------\u001b[0m",
      "\u001b[0;31mKeyError\u001b[0m                                  Traceback (most recent call last)",
      "\u001b[0;32m<ipython-input-74-2ef7235b1ba8>\u001b[0m in \u001b[0;36m<module>\u001b[0;34m()\u001b[0m\n\u001b[1;32m     23\u001b[0m     \u001b[0ma\u001b[0m\u001b[0;34m,\u001b[0m\u001b[0mb\u001b[0m \u001b[0;34m=\u001b[0m \u001b[0mint\u001b[0m\u001b[0;34m(\u001b[0m\u001b[0ma\u001b[0m\u001b[0;34m)\u001b[0m\u001b[0;34m,\u001b[0m\u001b[0mint\u001b[0m\u001b[0;34m(\u001b[0m\u001b[0mb\u001b[0m\u001b[0;34m)\u001b[0m\u001b[0;34m\u001b[0m\u001b[0;34m\u001b[0m\u001b[0m\n\u001b[1;32m     24\u001b[0m \u001b[0;34m\u001b[0m\u001b[0m\n\u001b[0;32m---> 25\u001b[0;31m \u001b[0mprint\u001b[0m\u001b[0;34m(\u001b[0m\u001b[0mfunc\u001b[0m\u001b[0;34m[\u001b[0m\u001b[0moper\u001b[0m\u001b[0;34m]\u001b[0m\u001b[0;34m(\u001b[0m\u001b[0ma\u001b[0m\u001b[0;34m,\u001b[0m\u001b[0mb\u001b[0m\u001b[0;34m)\u001b[0m\u001b[0;34m)\u001b[0m\u001b[0;34m\u001b[0m\u001b[0;34m\u001b[0m\u001b[0m\n\u001b[0m",
      "\u001b[0;31mKeyError\u001b[0m: '3'"
     ]
    }
   ],
   "source": [
    "def check_value(x):\n",
    "    if len([e for e in x if e == \".\"]) > 1:\n",
    "        raise ValueError(\"More than one dot\")\n",
    "    if not x.replace(\".\",\"\").replace(\"-\",\"\").isnumeric():\n",
    "        raise  ValueError(\"Invalid character\")\n",
    "    if \".\" in x:\n",
    "        return float(x)\n",
    "    else:\n",
    "        return int(x)\n",
    "        \n",
    "        \n",
    "\n",
    "a,oper,b = [input(f\"please tell me {i}\\n\") for i in [\"a\",\"operation\",\"b\"]]\n",
    "func = {\n",
    "    \"+\": lambda a,b: a+b,\n",
    "    \"-\": lambda a,b: a-b,\n",
    "    \"*\": lambda a,b: a*b,\n",
    "    \"/\": lambda a,b: a/b\n",
    "}\n",
    "try:\n",
    "    a,b = check_value(a),check_value(b)\n",
    "except ValueError as e:\n",
    "    print(e)\n",
    "    \n",
    "print(func[oper](a,b))"
   ]
  },
  {
   "cell_type": "code",
   "execution_count": 84,
   "metadata": {},
   "outputs": [],
   "source": [
    "class NumberError(ValueError):\n",
    "    def __init__(self,number,*args,**kwargs):\n",
    "        super().__init__(*args,**kwargs)\n",
    "        self.number = number\n",
    "    def solve(self):\n",
    "        return float(self.number)"
   ]
  },
  {
   "cell_type": "code",
   "execution_count": 85,
   "metadata": {},
   "outputs": [],
   "source": [
    "def to_int(x):\n",
    "    if x.isnumeric():\n",
    "        return int(x)\n",
    "    else:\n",
    "        raise NumberError(x,\"Oops\")"
   ]
  },
  {
   "cell_type": "code",
   "execution_count": 88,
   "metadata": {},
   "outputs": [
    {
     "name": "stdout",
     "output_type": "stream",
     "text": [
      "3.5\n"
     ]
    }
   ],
   "source": [
    "try:\n",
    "    print(to_int(\"3.5\"))\n",
    "except NumberError as ne:\n",
    "    print(ne.solve())"
   ]
  }
 ],
 "metadata": {
  "kernelspec": {
   "display_name": "Python3 (ih)",
   "language": "python",
   "name": "ironhack"
  },
  "language_info": {
   "codemirror_mode": {
    "name": "ipython",
    "version": 3
   },
   "file_extension": ".py",
   "mimetype": "text/x-python",
   "name": "python",
   "nbconvert_exporter": "python",
   "pygments_lexer": "ipython3",
   "version": "3.7.8"
  }
 },
 "nbformat": 4,
 "nbformat_minor": 4
}
