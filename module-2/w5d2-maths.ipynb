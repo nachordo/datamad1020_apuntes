{
 "cells": [
  {
   "cell_type": "markdown",
   "metadata": {},
   "source": [
    "## Gotta love some math!\n",
    "\n",
    "<img src=\"https://i.pinimg.com/736x/ec/5f/0c/ec5f0c6c1ba4ac9898532e7467467d72.jpg\" alt=\"Machine Learning is Statistics\" width=\"400\"/>\n",
    "\n",
    "\n",
    "On our journey into becoming data scientists, we will learn a lot of math and see how all these concepts, some of which we are very familiar with, work together into machine learning algorithms.\n",
    "\n",
    "#### Let's take a look at some of these."
   ]
  },
  {
   "cell_type": "code",
   "execution_count": 312,
   "metadata": {},
   "outputs": [],
   "source": [
    "import matplotlib.pyplot as plt\n",
    "import seaborn as sns\n",
    "import numpy as np\n",
    "from math import sqrt"
   ]
  },
  {
   "cell_type": "markdown",
   "metadata": {},
   "source": [
    "## $\\sqrt{a} = ?$\n",
    "### Square Root\n",
    "\n",
    "What is the square root of a number? And why is it square?\n",
    "\n",
    "Firstly, let's look at exponents. Any number to the power of two is that number times itself.\n",
    "\n",
    "${a}^{2} = a * a = b$\n",
    "\n",
    "We can also have negative powers, in which case, you should take the inverse.\n",
    "\n",
    "${a}^{-2} = \\frac{1}{a} * \\frac{1}{a} = \\frac{1}{{a}^{2}}$\n",
    "\n",
    "And fractional powers too!\n",
    "\n",
    "${x}^\\frac{a}{b} = \\sqrt[b]{{x}^{a}}$\n",
    "\n",
    "That is, the denominator will represent the roots, square, cubic, etc.\n",
    "\n",
    "${x}^\\frac{1}{2} = \\sqrt[2]{x}$\n",
    "\n",
    "${x}^\\frac{1}{3} = \\sqrt[3]{x}$\n",
    "\n",
    "${x}^\\frac{1}{1.657} = \\sqrt[1.657]{x}$\n",
    "\n",
    "But what is the square root anyway? Well, the square root is the process of looking for the reverse of the square. Given a number $b$, what is the number $a$ that to the power of 2 will result in $b$?\n",
    "\n",
    "$\\sqrt{b} = \\sqrt{{a}^{2}} = \\pm a$\n",
    "\n",
    "Let's take a look at an actual square:"
   ]
  },
  {
   "cell_type": "code",
   "execution_count": 302,
   "metadata": {},
   "outputs": [],
   "source": [
    "sq = [(0,0),(0,3),(3,3),(3,0),(0,0)]\n",
    "x,y = list(zip(*sq))\n",
    "x = np.array(x)\n",
    "y = np.array(y)"
   ]
  },
  {
   "cell_type": "code",
   "execution_count": 303,
   "metadata": {},
   "outputs": [
    {
     "data": {
      "image/png": "[encoded data removed]",
      "text/plain": [
       "<Figure size 288x288 with 1 Axes>"
      ]
     },
     "metadata": {
      "needs_background": "light"
     },
     "output_type": "display_data"
    }
   ],
   "source": [
    "plt.figure(figsize=(4,4))\n",
    "plt.plot(x,y)\n",
    "plt.grid()\n",
    "plt.xticks(range(4))\n",
    "plt.yticks(range(4));"
   ]
  },
  {
   "cell_type": "markdown",
   "metadata": {},
   "source": [
    "A square of side 3 $units$ will have an area of 9 ${units}^{2}$, as we can see on the image above. \n",
    "\n",
    "Each smaller square is a 1x1 square and there are 9 of them."
   ]
  },
  {
   "cell_type": "code",
   "execution_count": 309,
   "metadata": {},
   "outputs": [
    {
     "data": {
      "image/png": "[encoded data removed]",
      "text/plain": [
       "<Figure size 576x576 with 1 Axes>"
      ]
     },
     "metadata": {
      "needs_background": "light"
     },
     "output_type": "display_data"
    }
   ],
   "source": [
    "plt.figure(figsize=(8,8))\n",
    "plt.fill_between(x,0,y, fc=\"lightblue\")\n",
    "plt.fill_between(x,0,-y, fc=\"peachpuff\")\n",
    "plt.fill_between(-x,0,y, fc=\"peachpuff\")\n",
    "plt.fill_between(-x,0,-y, fc=\"lightblue\")\n",
    "plt.grid()\n",
    "plt.axhline(y=0, color='k')\n",
    "plt.axvline(x=0, color='k')\n",
    "plt.xticks(range(-3,4))\n",
    "plt.yticks(range(-3,4));"
   ]
  },
  {
   "cell_type": "markdown",
   "metadata": {},
   "source": [
    "Taking a closer look, we might think that there are actually 4 squares with an area of 9 ${units}^{2}$.\n",
    "\n",
    "However, the orange squares, in reality, have an area of -9.\n",
    "\n",
    "Did you know that an area on a cartesian plane could be negative? Yes, the area is a signed value and the sign represents the areas position in relation to it's borders and the axes.\n",
    "\n",
    "Also, these orange squares have measures of [-3,3] and [3,-3] and could not be square roots.\n",
    "\n",
    "### $\\sqrt{-1}$ ?\n",
    "\n",
    "Negative numbers cannot have `Real` square roots, but they do have roots that are imaginary numbers.\n",
    "\n",
    "$\\sqrt{-1} = i$\n",
    "\n",
    "`Complex` numbers are composed of a `Real` and an `Imaginary` part, represented by the number `i`.\n",
    "\n",
    "Negative numbers do have cubic roots, however.\n",
    "\n",
    "$\\sqrt[3]{-9} = -3$\n",
    "\n",
    "Not all numbers are perfect squares, though, that is, not all numbers have integer roots.\n",
    "\n",
    "If 2 is the `sqrt` of 4 and 3 is the `sqrt` of 9, we can assume that the `square root` of 6 will be somewhere in between 2 and 3. Let's check it out:"
   ]
  },
  {
   "cell_type": "code",
   "execution_count": 311,
   "metadata": {},
   "outputs": [
    {
     "data": {
      "text/plain": [
       "2.449489742783178"
      ]
     },
     "execution_count": 311,
     "metadata": {},
     "output_type": "execute_result"
    }
   ],
   "source": [
    "sqrt(6)"
   ]
  },
  {
   "cell_type": "markdown",
   "metadata": {},
   "source": [
    "#### What shape would the square root have if plotted?"
   ]
  },
  {
   "cell_type": "code",
   "execution_count": 329,
   "metadata": {},
   "outputs": [],
   "source": [
    "x = np.arange(0,1,.01) # Only positive x values!\n",
    "y = np.sqrt(x)"
   ]
  },
  {
   "cell_type": "code",
   "execution_count": 336,
   "metadata": {},
   "outputs": [
    {
     "data": {
      "image/png": "[encoded data removed]",
      "text/plain": [
       "<Figure size 432x288 with 1 Axes>"
      ]
     },
     "metadata": {
      "needs_background": "light"
     },
     "output_type": "display_data"
    }
   ],
   "source": [
    "plt.plot(x,y,)\n",
    "plt.plot(x,-y) # np.sqrt will give us the positive root, but the negative is also true.\n",
    "plt.title(\"sqrt(x)\");"
   ]
  },
  {
   "cell_type": "markdown",
   "metadata": {},
   "source": [
    "Not unlike it's counterpart, it will form a parabola. Take a look at $x^2$."
   ]
  },
  {
   "cell_type": "code",
   "execution_count": 331,
   "metadata": {},
   "outputs": [
    {
     "data": {
      "image/png": "[encoded data removed]",
      "text/plain": [
       "<Figure size 432x288 with 1 Axes>"
      ]
     },
     "metadata": {
      "needs_background": "light"
     },
     "output_type": "display_data"
    }
   ],
   "source": [
    "plt.plot(x,x**2)\n",
    "plt.plot(-x,(-x)**2)\n",
    "plt.title(\"x**2\");"
   ]
  },
  {
   "cell_type": "markdown",
   "metadata": {},
   "source": [
    "Cubic functions will have a different shape. 😜"
   ]
  },
  {
   "cell_type": "code",
   "execution_count": 332,
   "metadata": {},
   "outputs": [
    {
     "data": {
      "image/png": "[encoded data removed]",
      "text/plain": [
       "<Figure size 432x288 with 1 Axes>"
      ]
     },
     "metadata": {
      "needs_background": "light"
     },
     "output_type": "display_data"
    }
   ],
   "source": [
    "plt.plot(x,x**3)\n",
    "plt.plot(-x,(-x)**3)\n",
    "plt.title(\"x**3\");"
   ]
  },
  {
   "cell_type": "markdown",
   "metadata": {},
   "source": [
    "We also get negatives now!"
   ]
  },
  {
   "cell_type": "code",
   "execution_count": 334,
   "metadata": {},
   "outputs": [
    {
     "data": {
      "image/png": "[encoded data removed]",
      "text/plain": [
       "<Figure size 432x288 with 1 Axes>"
      ]
     },
     "metadata": {
      "needs_background": "light"
     },
     "output_type": "display_data"
    }
   ],
   "source": [
    "plt.plot(x,np.cbrt(x))\n",
    "plt.plot(-x,np.cbrt(-x))\n",
    "plt.title(\"cbrt(x)\");"
   ]
  },
  {
   "cell_type": "markdown",
   "metadata": {},
   "source": [
    "### Exponents and roots are all over the place.\n",
    "\n",
    "Observe on of the pillars of geometry, the Pythagorean theorem.\n",
    "\n",
    "It tells us that the square of the hypothenuse equals the sum of the square of the catheti on right triangles. But can we be sure?\n",
    "\n",
    "$c^2 = a^2 + b^2$"
   ]
  },
  {
   "cell_type": "code",
   "execution_count": 338,
   "metadata": {},
   "outputs": [
    {
     "data": {
      "image/png": "[encoded data removed]",
      "text/plain": [
       "<Figure size 432x288 with 1 Axes>"
      ]
     },
     "metadata": {
      "needs_background": "light"
     },
     "output_type": "display_data"
    }
   ],
   "source": [
    "tr = [(0,0),(0,3),(5,0),(0,0)]\n",
    "sep = lambda tr: list(zip(*tr))\n",
    "plt.plot(*sep(tr));"
   ]
  },
  {
   "cell_type": "markdown",
   "metadata": {},
   "source": [
    "Now let's take four of them and align them such that their hypothenuses form a square."
   ]
  },
  {
   "cell_type": "code",
   "execution_count": 342,
   "metadata": {},
   "outputs": [],
   "source": [
    "def triangles(a,b):\n",
    "    tr = [(0,0),(0,a),(b,0),(0,0)]\n",
    "    tr2 = [(b,0),(a+b,0),(a+b,b),(b,0)]\n",
    "    tr3 = [(a+b,b),(a+b,a+b),(a,a+b),(a+b,b)]\n",
    "    tr4 = [(a,a+b),(0,a+b),(0,a),(a,a+b)]\n",
    "    return [tr,tr2,tr3,tr4]"
   ]
  },
  {
   "cell_type": "code",
   "execution_count": 343,
   "metadata": {},
   "outputs": [
    {
     "data": {
      "image/png": "[encoded data removed]",
      "text/plain": [
       "<Figure size 432x432 with 1 Axes>"
      ]
     },
     "metadata": {
      "needs_background": "light"
     },
     "output_type": "display_data"
    }
   ],
   "source": [
    "plt.figure(figsize=(6,6))\n",
    "for t in triangles(3,5):\n",
    "    x,y = sep(t)\n",
    "    plt.fill_between(x,y)\n",
    "plt.grid()"
   ]
  },
  {
   "cell_type": "markdown",
   "metadata": {},
   "source": [
    "From this representation, we can see that the white square on the center has an area of $c^2$.\n",
    "\n",
    "Rearranging things a bit:"
   ]
  },
  {
   "cell_type": "code",
   "execution_count": 346,
   "metadata": {},
   "outputs": [],
   "source": [
    "def triangles_ab(a,b):\n",
    "    tr = [(0,0),(0,a),(b,0),(0,0)]\n",
    "    tr2 = [(b,0),(b,a),(0,a),(b,0)]\n",
    "    tr3 = [(b,a),(a+b,a),(a+b,a+b),(b,a)]\n",
    "    tr4 = [(a+b,a+b),(b,a+b),(b,a),(a+b,a+b)]\n",
    "    return [tr,tr2,tr3,tr4]"
   ]
  },
  {
   "cell_type": "code",
   "execution_count": 348,
   "metadata": {},
   "outputs": [
    {
     "data": {
      "image/png": "[encoded data removed]",
      "text/plain": [
       "<Figure size 432x432 with 1 Axes>"
      ]
     },
     "metadata": {
      "needs_background": "light"
     },
     "output_type": "display_data"
    }
   ],
   "source": [
    "plt.figure(figsize=(6,6))\n",
    "for t in triangles_ab(3,5):\n",
    "    x,y = sep(t)\n",
    "    plt.fill_between(x,y)\n",
    "plt.grid()"
   ]
  },
  {
   "cell_type": "markdown",
   "metadata": {},
   "source": [
    "This time we can see that the white parts have areas of $b^2$ and $a^2$.\n",
    "\n",
    "Looking at them side by side, we realize that they have the same size $8*8$. Since all triangles are equal, we can say that it is true, $c^2 = a^2 + b^2$."
   ]
  },
  {
   "cell_type": "code",
   "execution_count": 357,
   "metadata": {},
   "outputs": [
    {
     "data": {
      "image/png": "[encoded data removed]",
      "text/plain": [
       "<Figure size 864x432 with 2 Axes>"
      ]
     },
     "metadata": {
      "needs_background": "light"
     },
     "output_type": "display_data"
    }
   ],
   "source": [
    "plt.figure(figsize=(12,6))\n",
    "plt.subplot(1,2,1)\n",
    "for t in triangles(3,5):\n",
    "    x,y = sep(t)\n",
    "    plt.fill_between(x,y)\n",
    "\n",
    "plt.subplot(1,2,2)\n",
    "for t in triangles_ab(3,5):\n",
    "    x,y = sep(t)\n",
    "    plt.fill_between(x,y)"
   ]
  },
  {
   "attachments": {},
   "cell_type": "markdown",
   "metadata": {},
   "source": [
    "That is true for all right triangles. Feel free to try out the functions and check different values.\n",
    "\n",
    "The pythagorean theorem is also used to calculate the distance between 2 points on  a cartesian plane, known as the Euclidean distance. Or the size of a given vector (the distance from zero to it's point), also known  as length or magnitude.\n",
    "\n",
    "#### Did you know?\n",
    "Pythagoreans were a bit of a cult, that had lots of rules about life, living and philosophy. They believed that all numbers could (or perhaps should) be represented rationally (as a fraction). The number $\\sqrt{2}$ is irrational and cannot be represented as a fraction. They were not very fond of this number.\n",
    "\n",
    "#### Speaking of $\\sqrt{2}$...\n",
    "It is a very special number, with some special properties.\n",
    "\n",
    "To see it, look at a piece of regular A4 paper. The `A series` standard of paper sizes was designed such that the A0 size would have an Area of 1 $m^2$. And each subsequent number is half of the previous, folded equally parallel to the smaller edge, as such:\n",
    "\n",
    "![](https://www.din-formate.de/bilder/din-a0-a1-a2-a3-a4-a5-a6.gif)\n",
    "\n",
    "In order to allow for scalability, each smaller paper size should have the same proportions as the previous. If we were to fold a square in half, it would no longer be a square. What ratio should we have in order to keep the aspect ratio?\n",
    "\n",
    "Assuming L is the longer and h is the smaller edge of an A0 sheet of paper, we would want the ratio to be such that\n",
    "\n",
    "\n",
    "$\\frac{L}{h} = \\frac{h}{L/2}$ ...or... $\\frac{L^2}{2} = {h^2}$ ...or... $\\frac{L^2}{h^\"} = 2$ ... or finally...\n",
    "\n",
    "$\\frac{L}{h} = \\sqrt{2}$\n",
    "\n",
    "\n",
    "Our good friend square root of 2 is the only ratio in which this is posible."
   ]
  },
  {
   "cell_type": "markdown",
   "metadata": {},
   "source": [
    "### Logarithm"
   ]
  },
  {
   "cell_type": "markdown",
   "metadata": {},
   "source": [
    "We've seen how exponential and square root relate, but there should be another function on the mix!\n",
    "\n",
    "If $a^x=b$ ...then... $\\sqrt[x]{b}=a$ ...but what if we have a and b, but no x? How do they relate?\n",
    "\n",
    "#### That is where logarithms go into play.\n",
    "\n",
    "$log_{a} b = x$ (Read as: Log `base a` of b)\n",
    "\n",
    "\n",
    "Let's see it!"
   ]
  },
  {
   "cell_type": "code",
   "execution_count": 383,
   "metadata": {},
   "outputs": [
    {
     "data": {
      "image/png": "[encoded data removed]",
      "text/plain": [
       "<Figure size 432x288 with 1 Axes>"
      ]
     },
     "metadata": {
      "needs_background": "light"
     },
     "output_type": "display_data"
    }
   ],
   "source": [
    "x = np.arange(.1,10,.1)\n",
    "y = np.log(x)\n",
    "plt.plot(x,y)\n",
    "plt.title(\"log\")\n",
    "plt.axhline(y=0, color='k')\n",
    "plt.axvline(x=0, color='k');"
   ]
  },
  {
   "cell_type": "code",
   "execution_count": 384,
   "metadata": {},
   "outputs": [
    {
     "data": {
      "image/png": "[encoded data removed]",
      "text/plain": [
       "<Figure size 432x288 with 1 Axes>"
      ]
     },
     "metadata": {
      "needs_background": "light"
     },
     "output_type": "display_data"
    }
   ],
   "source": [
    "x = np.arange(-2,2,.1)\n",
    "y = np.exp(x)\n",
    "plt.plot(x,y)\n",
    "plt.title(\"exp\")\n",
    "plt.axhline(y=0, color='k')\n",
    "plt.axvline(x=0, color='k');"
   ]
  },
  {
   "cell_type": "markdown",
   "metadata": {},
   "source": [
    "#### Did you know? \n",
    "Logarithms of base 10 were one of the greatest mathematical tools for a long time before electronic calculators were popular. The use of [Log Tables](https://www.youtube.com/watch?v=VRzH4xB0GdM&ab_channel=Numberphile) was a very reliable and fast way of making hard calculations. \n",
    "Through the exponents property of a common base: $a^x * a^y = a^{x+y}$, complicated multiplications and divisions could be solved with addition and substraction. You can check a log and antilog table for yourself. Do you think you can use it?\n",
    "It is still a big part of the day to day of math and sciences.\n",
    "[Slide Rules](https://en.wikipedia.org/wiki/Slide_rule) also used logarithms.\n",
    "\n",
    "### But wait a minute!\n",
    "Log of base 10?! But when we used the `np.log` and `np.exp` we did not pass any 10 or another base as parameters.\n",
    "Well, that is because those are `natural logarithms`, whose base is a very special number known as `e`.\n",
    "\n",
    "But before we see what `e` is, a word from our sponsor Mr. B."
   ]
  },
  {
   "cell_type": "markdown",
   "metadata": {},
   "source": [
    "### Mr. Bernoulli's offer"
   ]
  },
  {
   "cell_type": "markdown",
   "metadata": {},
   "source": [
    "On the XVII century, mr. B was thinking about compound interests, like a regular tuesday...\n",
    "\n",
    "So here is the deal for you, take an euro and invest it in the bank. You have 3 posible interests to choose. \n",
    "\n",
    "You may go for a 100%, 50% or a 8.3% interest. Which would you choose?\n",
    "\n",
    "But wait, there's a catch. 100% in. are anual, 50% are semestral and 8.3% are monthly. Do you stand by your previous choice?\n",
    "\n",
    "```\n",
    "1€ -> 100% / year\n",
    "1€ -> 50% / 6 months\n",
    "1€ -> 8.3% / month\n",
    "```\n",
    "\n",
    "Let's see if that is the best choice."
   ]
  },
  {
   "cell_type": "code",
   "execution_count": 58,
   "metadata": {},
   "outputs": [
    {
     "data": {
      "text/plain": [
       "2.0"
      ]
     },
     "execution_count": 58,
     "metadata": {},
     "output_type": "execute_result"
    }
   ],
   "source": [
    "1*(1+1/1)**1"
   ]
  },
  {
   "cell_type": "code",
   "execution_count": 59,
   "metadata": {},
   "outputs": [
    {
     "data": {
      "text/plain": [
       "2.25"
      ]
     },
     "execution_count": 59,
     "metadata": {},
     "output_type": "execute_result"
    }
   ],
   "source": [
    "1*(1+1/2)**2"
   ]
  },
  {
   "cell_type": "code",
   "execution_count": 61,
   "metadata": {},
   "outputs": [
    {
     "data": {
      "text/plain": [
       "2.613035290224676"
      ]
     },
     "execution_count": 61,
     "metadata": {},
     "output_type": "execute_result"
    }
   ],
   "source": [
    "1*(1+1/12)**12"
   ]
  },
  {
   "cell_type": "code",
   "execution_count": 62,
   "metadata": {},
   "outputs": [
    {
     "data": {
      "text/plain": [
       "2.7145674820219727"
      ]
     },
     "execution_count": 62,
     "metadata": {},
     "output_type": "execute_result"
    }
   ],
   "source": [
    "1*(1+1/365)**365 # by day"
   ]
  },
  {
   "cell_type": "code",
   "execution_count": 63,
   "metadata": {},
   "outputs": [
    {
     "data": {
      "text/plain": [
       "2.7181266916179077"
      ]
     },
     "execution_count": 63,
     "metadata": {},
     "output_type": "execute_result"
    }
   ],
   "source": [
    "1*(1+1/(365*24))**(365*24) # by hour"
   ]
  },
  {
   "cell_type": "markdown",
   "metadata": {},
   "source": [
    "Turns out the more frequent the interest, the better. Let's plot and see what data we gather."
   ]
  },
  {
   "cell_type": "code",
   "execution_count": 385,
   "metadata": {},
   "outputs": [],
   "source": [
    "interest = lambda n : 1*(1+1/n)**n"
   ]
  },
  {
   "cell_type": "code",
   "execution_count": 386,
   "metadata": {},
   "outputs": [],
   "source": [
    "x = np.arange(1,200)\n",
    "y = [interest(e) for e in x]"
   ]
  },
  {
   "cell_type": "code",
   "execution_count": 387,
   "metadata": {},
   "outputs": [
    {
     "data": {
      "text/plain": [
       "[<matplotlib.lines.Line2D at 0x7f93da07bd90>]"
      ]
     },
     "execution_count": 387,
     "metadata": {},
     "output_type": "execute_result"
    },
    {
     "data": {
      "image/png": "[encoded data removed]",
      "text/plain": [
       "<Figure size 432x288 with 1 Axes>"
      ]
     },
     "metadata": {
      "needs_background": "light"
     },
     "output_type": "display_data"
    }
   ],
   "source": [
    "plt.plot(x,y)"
   ]
  },
  {
   "cell_type": "markdown",
   "metadata": {},
   "source": [
    "![](https://pbs.twimg.com/media/EB74ALXWwAESOTF.jpg)\n",
    "\n",
    "It sure did! But after a while it stabilizes, right? I wonder how much money we would have if , idk, we would go into infinity and  get our interests continuously by each single moment.\n",
    "\n",
    "That is exactly what Mr. B tried to calculate, but couldn't. This honor goes out to Leonard Euler, many years later. That number is now known as "
   ]
  },
  {
   "cell_type": "markdown",
   "metadata": {},
   "source": [
    "## Euler's value\n",
    "\n",
    "$e = 2.71828182845904523536028747135266249775724709369995...$\n",
    "\n",
    "Isn't it pretty? It's another of those neat infinite never-ending forever-going numbers. \n",
    "\n",
    "But what is all the hype about?"
   ]
  },
  {
   "cell_type": "code",
   "execution_count": 78,
   "metadata": {},
   "outputs": [
    {
     "data": {
      "text/plain": [
       "<matplotlib.lines.Line2D at 0x7f93f1ec09d0>"
      ]
     },
     "execution_count": 78,
     "metadata": {},
     "output_type": "execute_result"
    },
    {
     "data": {
      "image/png": "[encoded data removed]",
      "text/plain": [
       "<Figure size 432x288 with 1 Axes>"
      ]
     },
     "metadata": {
      "needs_background": "light"
     },
     "output_type": "display_data"
    }
   ],
   "source": [
    "x = np.arange(-1,1,.1)\n",
    "y = np.exp(x)\n",
    "plt.plot(x,y)\n",
    "plt.axhline(y=0, color='k')\n",
    "plt.axvline(x=0, color='k')"
   ]
  },
  {
   "cell_type": "markdown",
   "metadata": {},
   "source": [
    "This number $e$ or, more specifically, it's exponential function $e^x$ has two very important properties:\n",
    "- The slope (or grandient), the derivative, of $e^x$ at any point is also $e^x$.\n",
    "- The area under the curve, the integral, is also $e^x$.\n",
    "\n",
    "That means, if you were measuring your speed on your car over time, and you found out that measuring was the $e^x$ function, your acceleration (derivative) and the distance (integral) you travelled will also be represented with the same function."
   ]
  },
  {
   "cell_type": "markdown",
   "metadata": {},
   "source": [
    "#### On the topic of speed....\n",
    "\n",
    "Let's have some fun with a few numbers.\n",
    "\n",
    "Imagine you were on a very long travel by plane. Every 25 minutes you take note of the distance travelled since the begining of the journey.\n",
    "\n",
    "_Note_: your gps is not very precise."
   ]
  },
  {
   "cell_type": "code",
   "execution_count": 446,
   "metadata": {},
   "outputs": [],
   "source": [
    "dist = np.random.normal(100,250,40) + 100\n",
    "y = [sum(dist[:i]) for i in range(len(dist))]\n",
    "x = range(len(dist))"
   ]
  },
  {
   "cell_type": "code",
   "execution_count": 447,
   "metadata": {},
   "outputs": [
    {
     "data": {
      "text/plain": [
       "[<matplotlib.lines.Line2D at 0x7f93d9fc8690>]"
      ]
     },
     "execution_count": 447,
     "metadata": {},
     "output_type": "execute_result"
    },
    {
     "data": {
      "image/png": "[encoded data removed]",
      "text/plain": [
       "<Figure size 432x288 with 1 Axes>"
      ]
     },
     "metadata": {
      "needs_background": "light"
     },
     "output_type": "display_data"
    }
   ],
   "source": [
    "plt.plot(x,y,\"o\")"
   ]
  },
  {
   "cell_type": "markdown",
   "metadata": {},
   "source": [
    "y = mx+n"
   ]
  },
  {
   "cell_type": "code",
   "execution_count": 448,
   "metadata": {},
   "outputs": [],
   "source": [
    "pt1 = [x[0],y[0]]\n",
    "pt2 = [x[-1],y[-1]]\n",
    "pts = [pt1,pt2]\n",
    "a,b = list(zip(*pts))"
   ]
  },
  {
   "cell_type": "code",
   "execution_count": 449,
   "metadata": {},
   "outputs": [
    {
     "data": {
      "text/plain": [
       "[<matplotlib.lines.Line2D at 0x7f93d9944b50>]"
      ]
     },
     "execution_count": 449,
     "metadata": {},
     "output_type": "execute_result"
    },
    {
     "data": {
      "image/png": "[encoded data removed]",
      "text/plain": [
       "<Figure size 432x288 with 1 Axes>"
      ]
     },
     "metadata": {
      "needs_background": "light"
     },
     "output_type": "display_data"
    }
   ],
   "source": [
    "plt.plot(a,b,\"o\")"
   ]
  },
  {
   "cell_type": "markdown",
   "metadata": {},
   "source": [
    "m = (y1-y0)/(x1-x0)"
   ]
  },
  {
   "cell_type": "code",
   "execution_count": 450,
   "metadata": {},
   "outputs": [],
   "source": [
    "m = (pt2[1]-pt1[1])/(pt2[0]-pt1[0])"
   ]
  },
  {
   "cell_type": "code",
   "execution_count": 451,
   "metadata": {},
   "outputs": [
    {
     "data": {
      "text/plain": [
       "165.88813133035006"
      ]
     },
     "execution_count": 451,
     "metadata": {},
     "output_type": "execute_result"
    }
   ],
   "source": [
    "m"
   ]
  },
  {
   "cell_type": "code",
   "execution_count": 452,
   "metadata": {},
   "outputs": [
    {
     "data": {
      "text/plain": [
       "0.0"
      ]
     },
     "execution_count": 452,
     "metadata": {},
     "output_type": "execute_result"
    }
   ],
   "source": [
    "# y = mx+n\n",
    "# n = y - mx\n",
    "n = pt2[1] - m*pt2[0]\n",
    "n"
   ]
  },
  {
   "cell_type": "code",
   "execution_count": 453,
   "metadata": {},
   "outputs": [],
   "source": [
    "lin_eq = lambda x: m*x"
   ]
  },
  {
   "cell_type": "code",
   "execution_count": 454,
   "metadata": {},
   "outputs": [
    {
     "data": {
      "text/plain": [
       "[<matplotlib.lines.Line2D at 0x7f93da54eb90>]"
      ]
     },
     "execution_count": 454,
     "metadata": {},
     "output_type": "execute_result"
    },
    {
     "data": {
      "image/png": "[encoded data removed]",
      "text/plain": [
       "<Figure size 432x288 with 1 Axes>"
      ]
     },
     "metadata": {
      "needs_background": "light"
     },
     "output_type": "display_data"
    }
   ],
   "source": [
    "plt.plot(x,y,\"o\")\n",
    "plt.plot(x,lin_eq(x))"
   ]
  },
  {
   "cell_type": "code",
   "execution_count": 455,
   "metadata": {},
   "outputs": [
    {
     "data": {
      "text/plain": [
       "4147.203283258752"
      ]
     },
     "execution_count": 455,
     "metadata": {},
     "output_type": "execute_result"
    }
   ],
   "source": [
    "lin_eq(25)"
   ]
  },
  {
   "cell_type": "code",
   "execution_count": 456,
   "metadata": {},
   "outputs": [
    {
     "data": {
      "text/plain": [
       "3782.457285943941"
      ]
     },
     "execution_count": 456,
     "metadata": {},
     "output_type": "execute_result"
    }
   ],
   "source": [
    "y[25]"
   ]
  },
  {
   "cell_type": "code",
   "execution_count": 457,
   "metadata": {},
   "outputs": [],
   "source": [
    "y_truth = y\n",
    "y_pred = lin_eq(x)"
   ]
  },
  {
   "cell_type": "code",
   "execution_count": 458,
   "metadata": {},
   "outputs": [],
   "source": [
    "error = y_truth-y_pred"
   ]
  },
  {
   "cell_type": "code",
   "execution_count": 459,
   "metadata": {},
   "outputs": [
    {
     "data": {
      "text/plain": [
       "array([    0.        ,   331.48669221,  -275.15362571,    26.97875391,\n",
       "        -170.73012247,  -863.57206311, -1058.5253493 ,  -931.78461259,\n",
       "        -976.10825937, -1154.66337749, -1473.69825931, -1862.51153297,\n",
       "       -1109.85622835,  -797.00675828,  -708.67828723,  -716.41297567,\n",
       "        -755.09435616, -1128.08497356, -1027.28464032, -1364.20425656,\n",
       "       -1382.81052287,  -811.20610811,  -616.41402627,  -366.06557213,\n",
       "        -380.97101205,  -364.74599731,  -359.46358861,  -210.55940498,\n",
       "          54.13109729,   -76.19831154,   -42.26335432,   222.32438016,\n",
       "        -146.32009554,  -188.79193195,   -22.46999819,   141.9609733 ,\n",
       "        -169.07195837,  -163.82627913,  -147.23768576,     0.        ])"
      ]
     },
     "execution_count": 459,
     "metadata": {},
     "output_type": "execute_result"
    }
   ],
   "source": [
    "error"
   ]
  },
  {
   "cell_type": "code",
   "execution_count": 460,
   "metadata": {},
   "outputs": [
    {
     "data": {
      "text/plain": [
       "[<matplotlib.lines.Line2D at 0x7f93da91fe10>]"
      ]
     },
     "execution_count": 460,
     "metadata": {},
     "output_type": "execute_result"
    },
    {
     "data": {
      "image/png": "[encoded data removed]",
      "text/plain": [
       "<Figure size 432x288 with 1 Axes>"
      ]
     },
     "metadata": {
      "needs_background": "light"
     },
     "output_type": "display_data"
    }
   ],
   "source": [
    "plt.plot(error,\"o\")"
   ]
  },
  {
   "cell_type": "code",
   "execution_count": 461,
   "metadata": {},
   "outputs": [],
   "source": [
    "y_pred2 = np.array(y.copy())"
   ]
  },
  {
   "cell_type": "code",
   "execution_count": 462,
   "metadata": {},
   "outputs": [],
   "source": [
    "y_pred2[:20]=y_pred2[:20]-1000\n",
    "y_pred2[20:]=y_pred2[20:]+1000"
   ]
  },
  {
   "cell_type": "code",
   "execution_count": 463,
   "metadata": {},
   "outputs": [],
   "source": [
    "error2 = y_truth-y_pred2"
   ]
  },
  {
   "cell_type": "code",
   "execution_count": 464,
   "metadata": {},
   "outputs": [
    {
     "data": {
      "text/plain": [
       "<matplotlib.lines.Line2D at 0x7f93da8f1e10>"
      ]
     },
     "execution_count": 464,
     "metadata": {},
     "output_type": "execute_result"
    },
    {
     "data": {
      "image/png": "[encoded data removed]",
      "text/plain": [
       "<Figure size 432x288 with 1 Axes>"
      ]
     },
     "metadata": {
      "needs_background": "light"
     },
     "output_type": "display_data"
    }
   ],
   "source": [
    "plt.plot(error,\"o\")\n",
    "plt.plot(error2,\"o\")\n",
    "plt.axhline(y=0,color=\"g\")"
   ]
  },
  {
   "cell_type": "markdown",
   "metadata": {},
   "source": [
    "### MEAN BIAS ERROR (MBE)"
   ]
  },
  {
   "cell_type": "code",
   "execution_count": 465,
   "metadata": {},
   "outputs": [
    {
     "name": "stdout",
     "output_type": "stream",
     "text": [
      "error: -526.1225907184444\n",
      "error2: -3.410605131648481e-14\n"
     ]
    }
   ],
   "source": [
    "print(\"error:\",np.mean(error)) \n",
    "print(\"error2:\",np.mean(error2))"
   ]
  },
  {
   "cell_type": "markdown",
   "metadata": {},
   "source": [
    "### MEAN ABSOLUTE ERROR (MAE)"
   ]
  },
  {
   "cell_type": "code",
   "execution_count": 466,
   "metadata": {},
   "outputs": [],
   "source": [
    "error = np.abs(error)\n",
    "error2 = np.abs(error2)"
   ]
  },
  {
   "cell_type": "code",
   "execution_count": 467,
   "metadata": {},
   "outputs": [
    {
     "data": {
      "text/plain": [
       "<matplotlib.lines.Line2D at 0x7f93da6dd510>"
      ]
     },
     "execution_count": 467,
     "metadata": {},
     "output_type": "execute_result"
    },
    {
     "data": {
      "image/png": "[encoded data removed]",
      "text/plain": [
       "<Figure size 432x288 with 1 Axes>"
      ]
     },
     "metadata": {
      "needs_background": "light"
     },
     "output_type": "display_data"
    }
   ],
   "source": [
    "plt.plot(error,\"o\")\n",
    "plt.plot(error2,\"o\")\n",
    "plt.axhline(y=0,color=\"g\")"
   ]
  },
  {
   "cell_type": "code",
   "execution_count": 468,
   "metadata": {},
   "outputs": [
    {
     "name": "stdout",
     "output_type": "stream",
     "text": [
      "error: 564.9666855614802\n",
      "error2: 1000.0\n"
     ]
    }
   ],
   "source": [
    "print(\"error:\",np.mean(error)) \n",
    "print(\"error2:\",np.mean(error2))"
   ]
  },
  {
   "cell_type": "markdown",
   "metadata": {},
   "source": [
    "### MEAN SQUARED ERROR (MSE)"
   ]
  },
  {
   "cell_type": "code",
   "execution_count": 469,
   "metadata": {},
   "outputs": [],
   "source": [
    "error = error**2\n",
    "error2 = error2**2"
   ]
  },
  {
   "cell_type": "code",
   "execution_count": 470,
   "metadata": {},
   "outputs": [
    {
     "data": {
      "text/plain": [
       "<matplotlib.lines.Line2D at 0x7f93da8a6390>"
      ]
     },
     "execution_count": 470,
     "metadata": {},
     "output_type": "execute_result"
    },
    {
     "data": {
      "image/png": "[encoded data removed]",
      "text/plain": [
       "<Figure size 432x288 with 1 Axes>"
      ]
     },
     "metadata": {
      "needs_background": "light"
     },
     "output_type": "display_data"
    }
   ],
   "source": [
    "plt.plot(error,\"o\")\n",
    "plt.plot(error2,\"o\")\n",
    "plt.axhline(y=0,color=\"g\")"
   ]
  },
  {
   "cell_type": "code",
   "execution_count": 471,
   "metadata": {},
   "outputs": [
    {
     "name": "stdout",
     "output_type": "stream",
     "text": [
      "error: 556724.0214426105\n",
      "error2: 1000000.0\n"
     ]
    }
   ],
   "source": [
    "print(\"error:\",np.mean(error)) \n",
    "print(\"error2:\",np.mean(error2))"
   ]
  },
  {
   "cell_type": "markdown",
   "metadata": {},
   "source": [
    "### ROOT MEAN SQUARED ERROR (MSE)"
   ]
  },
  {
   "cell_type": "code",
   "execution_count": 472,
   "metadata": {},
   "outputs": [
    {
     "name": "stdout",
     "output_type": "stream",
     "text": [
      "error: 746.1394115328653\n",
      "error2: 1000.0\n"
     ]
    }
   ],
   "source": [
    "print(\"error:\",np.sqrt(np.mean(error))) \n",
    "print(\"error2:\",np.sqrt(np.mean(error2)))"
   ]
  },
  {
   "cell_type": "markdown",
   "metadata": {},
   "source": [
    "##### Linear equation"
   ]
  },
  {
   "cell_type": "code",
   "execution_count": 473,
   "metadata": {},
   "outputs": [],
   "source": [
    "rmse = []\n",
    "for i in range(-1000,1000,25):\n",
    "    n = i\n",
    "    lin_eq = lambda x: m*x + n\n",
    "    y_pred = lin_eq(x)\n",
    "    err = np.array(y_truth-y_pred)**2\n",
    "    err = np.sqrt(np.mean(err))\n",
    "    rmse.append([n,err])"
   ]
  },
  {
   "cell_type": "code",
   "execution_count": 474,
   "metadata": {},
   "outputs": [
    {
     "data": {
      "text/plain": [
       "[[-1000, 710.2667386311439],\n",
       " [-975, 693.8371347381487],\n",
       " [-950, 677.9314855334322],\n",
       " [-925, 662.5875252474109],\n",
       " [-900, 647.8451652589611]]"
      ]
     },
     "execution_count": 474,
     "metadata": {},
     "output_type": "execute_result"
    }
   ],
   "source": [
    "rmse[:5]"
   ]
  },
  {
   "cell_type": "code",
   "execution_count": 475,
   "metadata": {},
   "outputs": [],
   "source": [
    "x_err,y_err = list(zip(*rmse))"
   ]
  },
  {
   "cell_type": "code",
   "execution_count": 476,
   "metadata": {},
   "outputs": [
    {
     "data": {
      "text/plain": [
       "[<matplotlib.lines.Line2D at 0x7f93da0e4ed0>]"
      ]
     },
     "execution_count": 476,
     "metadata": {},
     "output_type": "execute_result"
    },
    {
     "data": {
      "image/png": "[encoded data removed]",
      "text/plain": [
       "<Figure size 432x288 with 1 Axes>"
      ]
     },
     "metadata": {
      "needs_background": "light"
     },
     "output_type": "display_data"
    }
   ],
   "source": [
    "plt.plot(x_err,y_err)"
   ]
  },
  {
   "cell_type": "code",
   "execution_count": 477,
   "metadata": {},
   "outputs": [
    {
     "data": {
      "text/plain": [
       "[-525, 529.0749485547808]"
      ]
     },
     "execution_count": 477,
     "metadata": {},
     "output_type": "execute_result"
    }
   ],
   "source": [
    "min_err = sorted(rmse,key=lambda x: x[-1])[0]\n",
    "min_err"
   ]
  },
  {
   "cell_type": "code",
   "execution_count": 478,
   "metadata": {},
   "outputs": [
    {
     "data": {
      "text/plain": [
       "[<matplotlib.lines.Line2D at 0x7f93da568990>]"
      ]
     },
     "execution_count": 478,
     "metadata": {},
     "output_type": "execute_result"
    },
    {
     "data": {
      "image/png": "[encoded data removed]",
      "text/plain": [
       "<Figure size 432x288 with 1 Axes>"
      ]
     },
     "metadata": {
      "needs_background": "light"
     },
     "output_type": "display_data"
    }
   ],
   "source": [
    "\n",
    "lin_eq = lambda x: m*x\n",
    "lin_eq_n = lambda x: m*x + min_err[0]\n",
    "plt.plot(x,y,\"o\")\n",
    "plt.plot(x,lin_eq(x))\n",
    "plt.plot(x,lin_eq_n(x))"
   ]
  },
  {
   "cell_type": "code",
   "execution_count": null,
   "metadata": {},
   "outputs": [],
   "source": []
  },
  {
   "cell_type": "code",
   "execution_count": null,
   "metadata": {},
   "outputs": [],
   "source": []
  }
 ],
 "metadata": {
  "kernelspec": {
   "display_name": "Python3 (ih)",
   "language": "python",
   "name": "ironhack"
  },
  "language_info": {
   "codemirror_mode": {
    "name": "ipython",
    "version": 3
   },
   "file_extension": ".py",
   "mimetype": "text/x-python",
   "name": "python",
   "nbconvert_exporter": "python",
   "pygments_lexer": "ipython3",
   "version": "3.7.8"
  }
 },
 "nbformat": 4,
 "nbformat_minor": 4
}
