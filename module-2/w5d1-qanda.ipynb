{
 "cells": [
  {
   "cell_type": "code",
   "execution_count": 109,
   "metadata": {},
   "outputs": [],
   "source": [
    "from pymongo import MongoClient, GEO2D\n",
    "from bson import json_util\n",
    "import pandas as pd\n",
    "import json"
   ]
  },
  {
   "cell_type": "code",
   "execution_count": 2,
   "metadata": {},
   "outputs": [],
   "source": [
    "client = MongoClient()"
   ]
  },
  {
   "cell_type": "code",
   "execution_count": 5,
   "metadata": {},
   "outputs": [],
   "source": [
    "db = client.get_database(\"datamad1020\")\n",
    "coll = db.companies_unwinded"
   ]
  },
  {
   "cell_type": "markdown",
   "metadata": {},
   "source": [
    "### Create 2dsphere index"
   ]
  },
  {
   "cell_type": "code",
   "execution_count": 13,
   "metadata": {},
   "outputs": [],
   "source": [
    "res = coll.create_index([(\"coord\", \"2dsphere\")])"
   ]
  },
  {
   "cell_type": "code",
   "execution_count": 14,
   "metadata": {},
   "outputs": [
    {
     "data": {
      "text/plain": [
       "'coord_2dsphere'"
      ]
     },
     "execution_count": 14,
     "metadata": {},
     "output_type": "execute_result"
    }
   ],
   "source": [
    "res"
   ]
  },
  {
   "cell_type": "markdown",
   "metadata": {},
   "source": [
    "### Save mongodb query to json file"
   ]
  },
  {
   "cell_type": "code",
   "execution_count": 22,
   "metadata": {},
   "outputs": [],
   "source": [
    "res = coll.find({\"founded_year\":{\"$gte\":2010}})"
   ]
  },
  {
   "cell_type": "code",
   "execution_count": 23,
   "metadata": {},
   "outputs": [],
   "source": [
    "res = list(res)"
   ]
  },
  {
   "cell_type": "code",
   "execution_count": 35,
   "metadata": {},
   "outputs": [],
   "source": [
    "with open(\"data/comp_selec.json\", \"w+\") as file:\n",
    "    file.write(json_util.dumps(res))"
   ]
  },
  {
   "cell_type": "code",
   "execution_count": 38,
   "metadata": {},
   "outputs": [
    {
     "data": {
      "text/html": [
       "<div>\n",
       "<style scoped>\n",
       "    .dataframe tbody tr th:only-of-type {\n",
       "        vertical-align: middle;\n",
       "    }\n",
       "\n",
       "    .dataframe tbody tr th {\n",
       "        vertical-align: top;\n",
       "    }\n",
       "\n",
       "    .dataframe thead th {\n",
       "        text-align: right;\n",
       "    }\n",
       "</style>\n",
       "<table border=\"1\" class=\"dataframe\">\n",
       "  <thead>\n",
       "    <tr style=\"text-align: right;\">\n",
       "      <th></th>\n",
       "      <th>_id</th>\n",
       "      <th>name</th>\n",
       "      <th>permalink</th>\n",
       "      <th>crunchbase_url</th>\n",
       "      <th>homepage_url</th>\n",
       "      <th>blog_url</th>\n",
       "      <th>blog_feed_url</th>\n",
       "      <th>twitter_username</th>\n",
       "      <th>category_code</th>\n",
       "      <th>number_of_employees</th>\n",
       "      <th>...</th>\n",
       "      <th>acquisition</th>\n",
       "      <th>acquisitions</th>\n",
       "      <th>offices</th>\n",
       "      <th>milestones</th>\n",
       "      <th>ipo</th>\n",
       "      <th>video_embeds</th>\n",
       "      <th>screenshots</th>\n",
       "      <th>external_links</th>\n",
       "      <th>partners</th>\n",
       "      <th>coord</th>\n",
       "    </tr>\n",
       "  </thead>\n",
       "  <tbody>\n",
       "    <tr>\n",
       "      <th>0</th>\n",
       "      <td>{'$oid': '5fae52970c9f40b6d220a472'}</td>\n",
       "      <td>Mokitown</td>\n",
       "      <td>mokitown</td>\n",
       "      <td>http://www.crunchbase.com/company/mokitown</td>\n",
       "      <td>http://www.mokitown.com</td>\n",
       "      <td></td>\n",
       "      <td></td>\n",
       "      <td></td>\n",
       "      <td>web</td>\n",
       "      <td>NaN</td>\n",
       "      <td>...</td>\n",
       "      <td>None</td>\n",
       "      <td>[]</td>\n",
       "      <td>{'description': None, 'address1': None, 'addre...</td>\n",
       "      <td>[]</td>\n",
       "      <td>None</td>\n",
       "      <td>[]</td>\n",
       "      <td>[{'available_sizes': [[[150, 76], 'assets/imag...</td>\n",
       "      <td>[]</td>\n",
       "      <td>[]</td>\n",
       "      <td>{'type': 'Point', 'coordinates': [-95.712891, ...</td>\n",
       "    </tr>\n",
       "    <tr>\n",
       "      <th>1</th>\n",
       "      <td>{'$oid': '5fae52970c9f40b6d220a55f'}</td>\n",
       "      <td>PeekYou</td>\n",
       "      <td>peekyou</td>\n",
       "      <td>http://www.crunchbase.com/company/peekyou</td>\n",
       "      <td>http://www.peekyou.com</td>\n",
       "      <td>http://www.peekyou.biz</td>\n",
       "      <td>http://blog.peekyou.com/feed/</td>\n",
       "      <td>peekyou</td>\n",
       "      <td>search</td>\n",
       "      <td>20.0</td>\n",
       "      <td>...</td>\n",
       "      <td>None</td>\n",
       "      <td>[]</td>\n",
       "      <td>{'description': None, 'address1': None, 'addre...</td>\n",
       "      <td>[{'id': 18106, 'description': 'Launched in Ste...</td>\n",
       "      <td>None</td>\n",
       "      <td>[{'embed_code': '&lt;object width=\"420\" height=\"2...</td>\n",
       "      <td>[]</td>\n",
       "      <td>[{'external_url': 'http://www.webmetricsguru.c...</td>\n",
       "      <td>[]</td>\n",
       "      <td>{'type': 'Point', 'coordinates': [-73.985506, ...</td>\n",
       "    </tr>\n",
       "    <tr>\n",
       "      <th>2</th>\n",
       "      <td>{'$oid': '5fae52970c9f40b6d220a560'}</td>\n",
       "      <td>GENWI</td>\n",
       "      <td>genwi</td>\n",
       "      <td>http://www.crunchbase.com/company/genwi</td>\n",
       "      <td>http://www.genwi.com</td>\n",
       "      <td>http://blog.genwi.com</td>\n",
       "      <td></td>\n",
       "      <td>genwi</td>\n",
       "      <td>mobile</td>\n",
       "      <td>25.0</td>\n",
       "      <td>...</td>\n",
       "      <td>None</td>\n",
       "      <td>[]</td>\n",
       "      <td>{'description': '', 'address1': '4966 El Camin...</td>\n",
       "      <td>[{'id': 14542, 'description': 'Rahul Patel, fo...</td>\n",
       "      <td>None</td>\n",
       "      <td>[]</td>\n",
       "      <td>[{'available_sizes': [[[150, 96], 'assets/imag...</td>\n",
       "      <td>[{'external_url': 'http://iSites.us', 'title':...</td>\n",
       "      <td>[]</td>\n",
       "      <td>{'type': 'Point', 'coordinates': [-111.9035, 3...</td>\n",
       "    </tr>\n",
       "  </tbody>\n",
       "</table>\n",
       "<p>3 rows × 43 columns</p>\n",
       "</div>"
      ],
      "text/plain": [
       "                                    _id      name permalink  \\\n",
       "0  {'$oid': '5fae52970c9f40b6d220a472'}  Mokitown  mokitown   \n",
       "1  {'$oid': '5fae52970c9f40b6d220a55f'}   PeekYou   peekyou   \n",
       "2  {'$oid': '5fae52970c9f40b6d220a560'}     GENWI     genwi   \n",
       "\n",
       "                               crunchbase_url             homepage_url  \\\n",
       "0  http://www.crunchbase.com/company/mokitown  http://www.mokitown.com   \n",
       "1   http://www.crunchbase.com/company/peekyou   http://www.peekyou.com   \n",
       "2     http://www.crunchbase.com/company/genwi     http://www.genwi.com   \n",
       "\n",
       "                 blog_url                  blog_feed_url twitter_username  \\\n",
       "0                                                                           \n",
       "1  http://www.peekyou.biz  http://blog.peekyou.com/feed/          peekyou   \n",
       "2   http://blog.genwi.com                                           genwi   \n",
       "\n",
       "  category_code  number_of_employees  ...  acquisition  acquisitions  \\\n",
       "0           web                  NaN  ...         None            []   \n",
       "1        search                 20.0  ...         None            []   \n",
       "2        mobile                 25.0  ...         None            []   \n",
       "\n",
       "                                             offices  \\\n",
       "0  {'description': None, 'address1': None, 'addre...   \n",
       "1  {'description': None, 'address1': None, 'addre...   \n",
       "2  {'description': '', 'address1': '4966 El Camin...   \n",
       "\n",
       "                                          milestones   ipo  \\\n",
       "0                                                 []  None   \n",
       "1  [{'id': 18106, 'description': 'Launched in Ste...  None   \n",
       "2  [{'id': 14542, 'description': 'Rahul Patel, fo...  None   \n",
       "\n",
       "                                        video_embeds  \\\n",
       "0                                                 []   \n",
       "1  [{'embed_code': '<object width=\"420\" height=\"2...   \n",
       "2                                                 []   \n",
       "\n",
       "                                         screenshots  \\\n",
       "0  [{'available_sizes': [[[150, 76], 'assets/imag...   \n",
       "1                                                 []   \n",
       "2  [{'available_sizes': [[[150, 96], 'assets/imag...   \n",
       "\n",
       "                                      external_links partners  \\\n",
       "0                                                 []       []   \n",
       "1  [{'external_url': 'http://www.webmetricsguru.c...       []   \n",
       "2  [{'external_url': 'http://iSites.us', 'title':...       []   \n",
       "\n",
       "                                               coord  \n",
       "0  {'type': 'Point', 'coordinates': [-95.712891, ...  \n",
       "1  {'type': 'Point', 'coordinates': [-73.985506, ...  \n",
       "2  {'type': 'Point', 'coordinates': [-111.9035, 3...  \n",
       "\n",
       "[3 rows x 43 columns]"
      ]
     },
     "execution_count": 38,
     "metadata": {},
     "output_type": "execute_result"
    }
   ],
   "source": [
    "pd.read_json(\"data/comp_selec.json\").head(3)"
   ]
  },
  {
   "cell_type": "code",
   "execution_count": 40,
   "metadata": {},
   "outputs": [
    {
     "data": {
      "text/html": [
       "<div>\n",
       "<style scoped>\n",
       "    .dataframe tbody tr th:only-of-type {\n",
       "        vertical-align: middle;\n",
       "    }\n",
       "\n",
       "    .dataframe tbody tr th {\n",
       "        vertical-align: top;\n",
       "    }\n",
       "\n",
       "    .dataframe thead th {\n",
       "        text-align: right;\n",
       "    }\n",
       "</style>\n",
       "<table border=\"1\" class=\"dataframe\">\n",
       "  <thead>\n",
       "    <tr style=\"text-align: right;\">\n",
       "      <th></th>\n",
       "      <th>_id</th>\n",
       "      <th>name</th>\n",
       "      <th>permalink</th>\n",
       "      <th>crunchbase_url</th>\n",
       "      <th>homepage_url</th>\n",
       "      <th>blog_url</th>\n",
       "      <th>blog_feed_url</th>\n",
       "      <th>twitter_username</th>\n",
       "      <th>category_code</th>\n",
       "      <th>number_of_employees</th>\n",
       "      <th>...</th>\n",
       "      <th>acquisition</th>\n",
       "      <th>acquisitions</th>\n",
       "      <th>offices</th>\n",
       "      <th>milestones</th>\n",
       "      <th>ipo</th>\n",
       "      <th>video_embeds</th>\n",
       "      <th>screenshots</th>\n",
       "      <th>external_links</th>\n",
       "      <th>partners</th>\n",
       "      <th>coord</th>\n",
       "    </tr>\n",
       "  </thead>\n",
       "  <tbody>\n",
       "    <tr>\n",
       "      <th>0</th>\n",
       "      <td>5fae52970c9f40b6d220a472</td>\n",
       "      <td>Mokitown</td>\n",
       "      <td>mokitown</td>\n",
       "      <td>http://www.crunchbase.com/company/mokitown</td>\n",
       "      <td>http://www.mokitown.com</td>\n",
       "      <td></td>\n",
       "      <td></td>\n",
       "      <td></td>\n",
       "      <td>web</td>\n",
       "      <td>NaN</td>\n",
       "      <td>...</td>\n",
       "      <td>None</td>\n",
       "      <td>[]</td>\n",
       "      <td>{'description': None, 'address1': None, 'addre...</td>\n",
       "      <td>[]</td>\n",
       "      <td>None</td>\n",
       "      <td>[]</td>\n",
       "      <td>[{'available_sizes': [[[150, 76], 'assets/imag...</td>\n",
       "      <td>[]</td>\n",
       "      <td>[]</td>\n",
       "      <td>{'type': 'Point', 'coordinates': [-95.712891, ...</td>\n",
       "    </tr>\n",
       "    <tr>\n",
       "      <th>1</th>\n",
       "      <td>5fae52970c9f40b6d220a55f</td>\n",
       "      <td>PeekYou</td>\n",
       "      <td>peekyou</td>\n",
       "      <td>http://www.crunchbase.com/company/peekyou</td>\n",
       "      <td>http://www.peekyou.com</td>\n",
       "      <td>http://www.peekyou.biz</td>\n",
       "      <td>http://blog.peekyou.com/feed/</td>\n",
       "      <td>peekyou</td>\n",
       "      <td>search</td>\n",
       "      <td>20.0</td>\n",
       "      <td>...</td>\n",
       "      <td>None</td>\n",
       "      <td>[]</td>\n",
       "      <td>{'description': None, 'address1': None, 'addre...</td>\n",
       "      <td>[{'id': 18106, 'description': 'Launched in Ste...</td>\n",
       "      <td>None</td>\n",
       "      <td>[{'embed_code': '&lt;object width=\"420\" height=\"2...</td>\n",
       "      <td>[]</td>\n",
       "      <td>[{'external_url': 'http://www.webmetricsguru.c...</td>\n",
       "      <td>[]</td>\n",
       "      <td>{'type': 'Point', 'coordinates': [-73.985506, ...</td>\n",
       "    </tr>\n",
       "    <tr>\n",
       "      <th>2</th>\n",
       "      <td>5fae52970c9f40b6d220a560</td>\n",
       "      <td>GENWI</td>\n",
       "      <td>genwi</td>\n",
       "      <td>http://www.crunchbase.com/company/genwi</td>\n",
       "      <td>http://www.genwi.com</td>\n",
       "      <td>http://blog.genwi.com</td>\n",
       "      <td></td>\n",
       "      <td>genwi</td>\n",
       "      <td>mobile</td>\n",
       "      <td>25.0</td>\n",
       "      <td>...</td>\n",
       "      <td>None</td>\n",
       "      <td>[]</td>\n",
       "      <td>{'description': '', 'address1': '4966 El Camin...</td>\n",
       "      <td>[{'id': 14542, 'description': 'Rahul Patel, fo...</td>\n",
       "      <td>None</td>\n",
       "      <td>[]</td>\n",
       "      <td>[{'available_sizes': [[[150, 96], 'assets/imag...</td>\n",
       "      <td>[{'external_url': 'http://iSites.us', 'title':...</td>\n",
       "      <td>[]</td>\n",
       "      <td>{'type': 'Point', 'coordinates': [-111.9035, 3...</td>\n",
       "    </tr>\n",
       "  </tbody>\n",
       "</table>\n",
       "<p>3 rows × 43 columns</p>\n",
       "</div>"
      ],
      "text/plain": [
       "                        _id      name permalink  \\\n",
       "0  5fae52970c9f40b6d220a472  Mokitown  mokitown   \n",
       "1  5fae52970c9f40b6d220a55f   PeekYou   peekyou   \n",
       "2  5fae52970c9f40b6d220a560     GENWI     genwi   \n",
       "\n",
       "                               crunchbase_url             homepage_url  \\\n",
       "0  http://www.crunchbase.com/company/mokitown  http://www.mokitown.com   \n",
       "1   http://www.crunchbase.com/company/peekyou   http://www.peekyou.com   \n",
       "2     http://www.crunchbase.com/company/genwi     http://www.genwi.com   \n",
       "\n",
       "                 blog_url                  blog_feed_url twitter_username  \\\n",
       "0                                                                           \n",
       "1  http://www.peekyou.biz  http://blog.peekyou.com/feed/          peekyou   \n",
       "2   http://blog.genwi.com                                           genwi   \n",
       "\n",
       "  category_code  number_of_employees  ...  acquisition  acquisitions  \\\n",
       "0           web                  NaN  ...         None            []   \n",
       "1        search                 20.0  ...         None            []   \n",
       "2        mobile                 25.0  ...         None            []   \n",
       "\n",
       "                                             offices  \\\n",
       "0  {'description': None, 'address1': None, 'addre...   \n",
       "1  {'description': None, 'address1': None, 'addre...   \n",
       "2  {'description': '', 'address1': '4966 El Camin...   \n",
       "\n",
       "                                          milestones   ipo  \\\n",
       "0                                                 []  None   \n",
       "1  [{'id': 18106, 'description': 'Launched in Ste...  None   \n",
       "2  [{'id': 14542, 'description': 'Rahul Patel, fo...  None   \n",
       "\n",
       "                                        video_embeds  \\\n",
       "0                                                 []   \n",
       "1  [{'embed_code': '<object width=\"420\" height=\"2...   \n",
       "2                                                 []   \n",
       "\n",
       "                                         screenshots  \\\n",
       "0  [{'available_sizes': [[[150, 76], 'assets/imag...   \n",
       "1                                                 []   \n",
       "2  [{'available_sizes': [[[150, 96], 'assets/imag...   \n",
       "\n",
       "                                      external_links partners  \\\n",
       "0                                                 []       []   \n",
       "1  [{'external_url': 'http://www.webmetricsguru.c...       []   \n",
       "2  [{'external_url': 'http://iSites.us', 'title':...       []   \n",
       "\n",
       "                                               coord  \n",
       "0  {'type': 'Point', 'coordinates': [-95.712891, ...  \n",
       "1  {'type': 'Point', 'coordinates': [-73.985506, ...  \n",
       "2  {'type': 'Point', 'coordinates': [-111.9035, 3...  \n",
       "\n",
       "[3 rows x 43 columns]"
      ]
     },
     "execution_count": 40,
     "metadata": {},
     "output_type": "execute_result"
    }
   ],
   "source": [
    "pd.DataFrame(res).head(3)"
   ]
  },
  {
   "cell_type": "code",
   "execution_count": 45,
   "metadata": {},
   "outputs": [
    {
     "data": {
      "text/html": [
       "<div>\n",
       "<style scoped>\n",
       "    .dataframe tbody tr th:only-of-type {\n",
       "        vertical-align: middle;\n",
       "    }\n",
       "\n",
       "    .dataframe tbody tr th {\n",
       "        vertical-align: top;\n",
       "    }\n",
       "\n",
       "    .dataframe thead th {\n",
       "        text-align: right;\n",
       "    }\n",
       "</style>\n",
       "<table border=\"1\" class=\"dataframe\">\n",
       "  <thead>\n",
       "    <tr style=\"text-align: right;\">\n",
       "      <th></th>\n",
       "      <th>_id</th>\n",
       "      <th>name</th>\n",
       "      <th>permalink</th>\n",
       "      <th>crunchbase_url</th>\n",
       "      <th>homepage_url</th>\n",
       "      <th>blog_url</th>\n",
       "      <th>blog_feed_url</th>\n",
       "      <th>twitter_username</th>\n",
       "      <th>category_code</th>\n",
       "      <th>number_of_employees</th>\n",
       "      <th>...</th>\n",
       "      <th>acquisition.acquired_month</th>\n",
       "      <th>acquisition.acquired_day</th>\n",
       "      <th>acquisition.acquiring_company.name</th>\n",
       "      <th>acquisition.acquiring_company.permalink</th>\n",
       "      <th>ipo.valuation_amount</th>\n",
       "      <th>ipo.valuation_currency_code</th>\n",
       "      <th>ipo.pub_year</th>\n",
       "      <th>ipo.pub_month</th>\n",
       "      <th>ipo.pub_day</th>\n",
       "      <th>ipo.stock_symbol</th>\n",
       "    </tr>\n",
       "  </thead>\n",
       "  <tbody>\n",
       "    <tr>\n",
       "      <th>0</th>\n",
       "      <td>5fae52970c9f40b6d220a472</td>\n",
       "      <td>Mokitown</td>\n",
       "      <td>mokitown</td>\n",
       "      <td>http://www.crunchbase.com/company/mokitown</td>\n",
       "      <td>http://www.mokitown.com</td>\n",
       "      <td></td>\n",
       "      <td></td>\n",
       "      <td></td>\n",
       "      <td>web</td>\n",
       "      <td>NaN</td>\n",
       "      <td>...</td>\n",
       "      <td>NaN</td>\n",
       "      <td>NaN</td>\n",
       "      <td>NaN</td>\n",
       "      <td>NaN</td>\n",
       "      <td>NaN</td>\n",
       "      <td>NaN</td>\n",
       "      <td>NaN</td>\n",
       "      <td>NaN</td>\n",
       "      <td>NaN</td>\n",
       "      <td>NaN</td>\n",
       "    </tr>\n",
       "    <tr>\n",
       "      <th>1</th>\n",
       "      <td>5fae52970c9f40b6d220a55f</td>\n",
       "      <td>PeekYou</td>\n",
       "      <td>peekyou</td>\n",
       "      <td>http://www.crunchbase.com/company/peekyou</td>\n",
       "      <td>http://www.peekyou.com</td>\n",
       "      <td>http://www.peekyou.biz</td>\n",
       "      <td>http://blog.peekyou.com/feed/</td>\n",
       "      <td>peekyou</td>\n",
       "      <td>search</td>\n",
       "      <td>20.0</td>\n",
       "      <td>...</td>\n",
       "      <td>NaN</td>\n",
       "      <td>NaN</td>\n",
       "      <td>NaN</td>\n",
       "      <td>NaN</td>\n",
       "      <td>NaN</td>\n",
       "      <td>NaN</td>\n",
       "      <td>NaN</td>\n",
       "      <td>NaN</td>\n",
       "      <td>NaN</td>\n",
       "      <td>NaN</td>\n",
       "    </tr>\n",
       "    <tr>\n",
       "      <th>2</th>\n",
       "      <td>5fae52970c9f40b6d220a560</td>\n",
       "      <td>GENWI</td>\n",
       "      <td>genwi</td>\n",
       "      <td>http://www.crunchbase.com/company/genwi</td>\n",
       "      <td>http://www.genwi.com</td>\n",
       "      <td>http://blog.genwi.com</td>\n",
       "      <td></td>\n",
       "      <td>genwi</td>\n",
       "      <td>mobile</td>\n",
       "      <td>25.0</td>\n",
       "      <td>...</td>\n",
       "      <td>NaN</td>\n",
       "      <td>NaN</td>\n",
       "      <td>NaN</td>\n",
       "      <td>NaN</td>\n",
       "      <td>NaN</td>\n",
       "      <td>NaN</td>\n",
       "      <td>NaN</td>\n",
       "      <td>NaN</td>\n",
       "      <td>NaN</td>\n",
       "      <td>NaN</td>\n",
       "    </tr>\n",
       "  </tbody>\n",
       "</table>\n",
       "<p>3 rows × 69 columns</p>\n",
       "</div>"
      ],
      "text/plain": [
       "                        _id      name permalink  \\\n",
       "0  5fae52970c9f40b6d220a472  Mokitown  mokitown   \n",
       "1  5fae52970c9f40b6d220a55f   PeekYou   peekyou   \n",
       "2  5fae52970c9f40b6d220a560     GENWI     genwi   \n",
       "\n",
       "                               crunchbase_url             homepage_url  \\\n",
       "0  http://www.crunchbase.com/company/mokitown  http://www.mokitown.com   \n",
       "1   http://www.crunchbase.com/company/peekyou   http://www.peekyou.com   \n",
       "2     http://www.crunchbase.com/company/genwi     http://www.genwi.com   \n",
       "\n",
       "                 blog_url                  blog_feed_url twitter_username  \\\n",
       "0                                                                           \n",
       "1  http://www.peekyou.biz  http://blog.peekyou.com/feed/          peekyou   \n",
       "2   http://blog.genwi.com                                           genwi   \n",
       "\n",
       "  category_code  number_of_employees  ...  acquisition.acquired_month  \\\n",
       "0           web                  NaN  ...                         NaN   \n",
       "1        search                 20.0  ...                         NaN   \n",
       "2        mobile                 25.0  ...                         NaN   \n",
       "\n",
       "   acquisition.acquired_day  acquisition.acquiring_company.name  \\\n",
       "0                       NaN                                 NaN   \n",
       "1                       NaN                                 NaN   \n",
       "2                       NaN                                 NaN   \n",
       "\n",
       "   acquisition.acquiring_company.permalink  ipo.valuation_amount  \\\n",
       "0                                      NaN                   NaN   \n",
       "1                                      NaN                   NaN   \n",
       "2                                      NaN                   NaN   \n",
       "\n",
       "   ipo.valuation_currency_code ipo.pub_year ipo.pub_month ipo.pub_day  \\\n",
       "0                          NaN          NaN           NaN         NaN   \n",
       "1                          NaN          NaN           NaN         NaN   \n",
       "2                          NaN          NaN           NaN         NaN   \n",
       "\n",
       "  ipo.stock_symbol  \n",
       "0              NaN  \n",
       "1              NaN  \n",
       "2              NaN  \n",
       "\n",
       "[3 rows x 69 columns]"
      ]
     },
     "execution_count": 45,
     "metadata": {},
     "output_type": "execute_result"
    }
   ],
   "source": [
    "pd.json_normalize(res).head(3)"
   ]
  },
  {
   "cell_type": "code",
   "execution_count": 44,
   "metadata": {},
   "outputs": [
    {
     "data": {
      "text/plain": [
       "{'description': None,\n",
       " 'address1': None,\n",
       " 'address2': None,\n",
       " 'zip_code': None,\n",
       " 'city': None,\n",
       " 'state_code': None,\n",
       " 'country_code': 'USA',\n",
       " 'latitude': 37.09024,\n",
       " 'longitude': -95.712891}"
      ]
     },
     "execution_count": 44,
     "metadata": {},
     "output_type": "execute_result"
    }
   ],
   "source": [
    "pd.DataFrame(res).loc[0,\"offices\"]"
   ]
  },
  {
   "cell_type": "code",
   "execution_count": 46,
   "metadata": {},
   "outputs": [
    {
     "data": {
      "text/plain": [
       "Index(['_id', 'name', 'permalink', 'crunchbase_url', 'homepage_url',\n",
       "       'blog_url', 'blog_feed_url', 'twitter_username', 'category_code',\n",
       "       'number_of_employees', 'founded_year', 'founded_month', 'founded_day',\n",
       "       'deadpooled_year', 'deadpooled_month', 'deadpooled_day',\n",
       "       'deadpooled_url', 'tag_list', 'alias_list', 'email_address',\n",
       "       'phone_number', 'description', 'created_at', 'updated_at', 'overview',\n",
       "       'products', 'relationships', 'competitions', 'providerships',\n",
       "       'total_money_raised', 'funding_rounds', 'investments', 'acquisition',\n",
       "       'acquisitions', 'milestones', 'ipo', 'video_embeds', 'screenshots',\n",
       "       'external_links', 'partners', 'image.available_sizes',\n",
       "       'image.attribution', 'offices.description', 'offices.address1',\n",
       "       'offices.address2', 'offices.zip_code', 'offices.city',\n",
       "       'offices.state_code', 'offices.country_code', 'offices.latitude',\n",
       "       'offices.longitude', 'coord.type', 'coord.coordinates',\n",
       "       'acquisition.price_amount', 'acquisition.price_currency_code',\n",
       "       'acquisition.term_code', 'acquisition.source_url',\n",
       "       'acquisition.source_description', 'acquisition.acquired_year',\n",
       "       'acquisition.acquired_month', 'acquisition.acquired_day',\n",
       "       'acquisition.acquiring_company.name',\n",
       "       'acquisition.acquiring_company.permalink', 'ipo.valuation_amount',\n",
       "       'ipo.valuation_currency_code', 'ipo.pub_year', 'ipo.pub_month',\n",
       "       'ipo.pub_day', 'ipo.stock_symbol'],\n",
       "      dtype='object')"
      ]
     },
     "execution_count": 46,
     "metadata": {},
     "output_type": "execute_result"
    }
   ],
   "source": [
    "pd.json_normalize(res).columns"
   ]
  },
  {
   "cell_type": "code",
   "execution_count": 49,
   "metadata": {},
   "outputs": [],
   "source": [
    "# dict comprehension\n",
    "a = {comp[\"name\"]:comp[\"offices\"] for comp in res}"
   ]
  },
  {
   "cell_type": "code",
   "execution_count": 50,
   "metadata": {},
   "outputs": [
    {
     "data": {
      "text/plain": [
       "list"
      ]
     },
     "execution_count": 50,
     "metadata": {},
     "output_type": "execute_result"
    }
   ],
   "source": [
    "# Exploring jsons\n",
    "type(res)"
   ]
  },
  {
   "cell_type": "code",
   "execution_count": 53,
   "metadata": {},
   "outputs": [
    {
     "data": {
      "text/plain": [
       "dict"
      ]
     },
     "execution_count": 53,
     "metadata": {},
     "output_type": "execute_result"
    }
   ],
   "source": [
    "element = res[0]\n",
    "type(element)"
   ]
  },
  {
   "cell_type": "code",
   "execution_count": 54,
   "metadata": {},
   "outputs": [
    {
     "data": {
      "text/plain": [
       "dict_keys(['_id', 'name', 'permalink', 'crunchbase_url', 'homepage_url', 'blog_url', 'blog_feed_url', 'twitter_username', 'category_code', 'number_of_employees', 'founded_year', 'founded_month', 'founded_day', 'deadpooled_year', 'deadpooled_month', 'deadpooled_day', 'deadpooled_url', 'tag_list', 'alias_list', 'email_address', 'phone_number', 'description', 'created_at', 'updated_at', 'overview', 'image', 'products', 'relationships', 'competitions', 'providerships', 'total_money_raised', 'funding_rounds', 'investments', 'acquisition', 'acquisitions', 'offices', 'milestones', 'ipo', 'video_embeds', 'screenshots', 'external_links', 'partners', 'coord'])"
      ]
     },
     "execution_count": 54,
     "metadata": {},
     "output_type": "execute_result"
    }
   ],
   "source": [
    "element.keys()"
   ]
  },
  {
   "cell_type": "code",
   "execution_count": 56,
   "metadata": {},
   "outputs": [
    {
     "data": {
      "text/plain": [
       "{'_id': bson.objectid.ObjectId,\n",
       " 'name': str,\n",
       " 'permalink': str,\n",
       " 'crunchbase_url': str,\n",
       " 'homepage_url': str,\n",
       " 'blog_url': str,\n",
       " 'blog_feed_url': str,\n",
       " 'twitter_username': str,\n",
       " 'category_code': str,\n",
       " 'number_of_employees': NoneType,\n",
       " 'founded_year': int,\n",
       " 'founded_month': int,\n",
       " 'founded_day': int,\n",
       " 'deadpooled_year': NoneType,\n",
       " 'deadpooled_month': NoneType,\n",
       " 'deadpooled_day': NoneType,\n",
       " 'deadpooled_url': NoneType,\n",
       " 'tag_list': str,\n",
       " 'alias_list': str,\n",
       " 'email_address': str,\n",
       " 'phone_number': str,\n",
       " 'description': str,\n",
       " 'created_at': str,\n",
       " 'updated_at': str,\n",
       " 'overview': str,\n",
       " 'image': dict,\n",
       " 'products': list,\n",
       " 'relationships': list,\n",
       " 'competitions': list,\n",
       " 'providerships': list,\n",
       " 'total_money_raised': str,\n",
       " 'funding_rounds': list,\n",
       " 'investments': list,\n",
       " 'acquisition': NoneType,\n",
       " 'acquisitions': list,\n",
       " 'offices': dict,\n",
       " 'milestones': list,\n",
       " 'ipo': NoneType,\n",
       " 'video_embeds': list,\n",
       " 'screenshots': list,\n",
       " 'external_links': list,\n",
       " 'partners': list,\n",
       " 'coord': dict}"
      ]
     },
     "execution_count": 56,
     "metadata": {},
     "output_type": "execute_result"
    }
   ],
   "source": [
    "{k:type(v) for k,v in element.items()}"
   ]
  },
  {
   "cell_type": "code",
   "execution_count": 83,
   "metadata": {},
   "outputs": [],
   "source": [
    "def explore(x):\n",
    "    if type(x) == dict:\n",
    "        dic = {k:explore(v) for k,v in x.items()}\n",
    "        return {\"type\":\"dict\", \"content\":dic}\n",
    "    elif type(x) == list:\n",
    "        return {\"type\":\"list\", \"len\":len(x), \"content\":[explore(e) if type(e)==dict else type(e) for e in x]}\n",
    "    else:\n",
    "        return type(x)"
   ]
  },
  {
   "cell_type": "code",
   "execution_count": 84,
   "metadata": {},
   "outputs": [
    {
     "data": {
      "text/plain": [
       "[NoneType, int, float, str]"
      ]
     },
     "execution_count": 84,
     "metadata": {},
     "output_type": "execute_result"
    }
   ],
   "source": [
    "# Getting types of list\n",
    "x = [1,1.5,6,\"hola\",None]\n",
    "list(set([type(e) for e in x]))"
   ]
  },
  {
   "cell_type": "code",
   "execution_count": 85,
   "metadata": {},
   "outputs": [
    {
     "data": {
      "text/plain": [
       "{'type': 'dict',\n",
       " 'content': {'_id': bson.objectid.ObjectId,\n",
       "  'name': str,\n",
       "  'permalink': str,\n",
       "  'crunchbase_url': str,\n",
       "  'homepage_url': str,\n",
       "  'blog_url': str,\n",
       "  'blog_feed_url': str,\n",
       "  'twitter_username': str,\n",
       "  'category_code': str,\n",
       "  'number_of_employees': NoneType,\n",
       "  'founded_year': int,\n",
       "  'founded_month': int,\n",
       "  'founded_day': int,\n",
       "  'deadpooled_year': NoneType,\n",
       "  'deadpooled_month': NoneType,\n",
       "  'deadpooled_day': NoneType,\n",
       "  'deadpooled_url': NoneType,\n",
       "  'tag_list': str,\n",
       "  'alias_list': str,\n",
       "  'email_address': str,\n",
       "  'phone_number': str,\n",
       "  'description': str,\n",
       "  'created_at': str,\n",
       "  'updated_at': str,\n",
       "  'overview': str,\n",
       "  'image': {'type': 'dict',\n",
       "   'content': {'available_sizes': {'type': 'list',\n",
       "     'len': 3,\n",
       "     'content': [list, list, list]},\n",
       "    'attribution': NoneType}},\n",
       "  'products': {'type': 'list',\n",
       "   'len': 1,\n",
       "   'content': [{'type': 'dict', 'content': {'name': str, 'permalink': str}}]},\n",
       "  'relationships': {'type': 'list', 'len': 0, 'content': []},\n",
       "  'competitions': {'type': 'list',\n",
       "   'len': 1,\n",
       "   'content': [{'type': 'dict',\n",
       "     'content': {'competitor': {'type': 'dict',\n",
       "       'content': {'name': str, 'permalink': str}}}}]},\n",
       "  'providerships': {'type': 'list', 'len': 0, 'content': []},\n",
       "  'total_money_raised': str,\n",
       "  'funding_rounds': {'type': 'list', 'len': 0, 'content': []},\n",
       "  'investments': {'type': 'list', 'len': 0, 'content': []},\n",
       "  'acquisition': NoneType,\n",
       "  'acquisitions': {'type': 'list', 'len': 0, 'content': []},\n",
       "  'offices': {'type': 'dict',\n",
       "   'content': {'description': NoneType,\n",
       "    'address1': NoneType,\n",
       "    'address2': NoneType,\n",
       "    'zip_code': NoneType,\n",
       "    'city': NoneType,\n",
       "    'state_code': NoneType,\n",
       "    'country_code': str,\n",
       "    'latitude': float,\n",
       "    'longitude': float}},\n",
       "  'milestones': {'type': 'list', 'len': 0, 'content': []},\n",
       "  'ipo': NoneType,\n",
       "  'video_embeds': {'type': 'list', 'len': 0, 'content': []},\n",
       "  'screenshots': {'type': 'list',\n",
       "   'len': 1,\n",
       "   'content': [{'type': 'dict',\n",
       "     'content': {'available_sizes': {'type': 'list',\n",
       "       'len': 3,\n",
       "       'content': [list, list, list]},\n",
       "      'attribution': NoneType}}]},\n",
       "  'external_links': {'type': 'list', 'len': 0, 'content': []},\n",
       "  'partners': {'type': 'list', 'len': 0, 'content': []},\n",
       "  'coord': {'type': 'dict',\n",
       "   'content': {'type': str,\n",
       "    'coordinates': {'type': 'list', 'len': 2, 'content': [float, float]}}}}}"
      ]
     },
     "execution_count": 85,
     "metadata": {},
     "output_type": "execute_result"
    }
   ],
   "source": [
    "explore(element)"
   ]
  },
  {
   "cell_type": "code",
   "execution_count": 87,
   "metadata": {},
   "outputs": [
    {
     "data": {
      "text/plain": [
       "{'advertising',\n",
       " 'analytics',\n",
       " 'biotech',\n",
       " 'ecommerce',\n",
       " 'enterprise',\n",
       " 'fashion',\n",
       " 'games_video',\n",
       " 'hospitality',\n",
       " 'mobile',\n",
       " 'network_hosting',\n",
       " 'other',\n",
       " 'photo_video',\n",
       " 'search',\n",
       " 'security',\n",
       " 'social',\n",
       " 'software',\n",
       " 'travel',\n",
       " 'web'}"
      ]
     },
     "execution_count": 87,
     "metadata": {},
     "output_type": "execute_result"
    }
   ],
   "source": [
    "set([comp['category_code'] for comp in res])"
   ]
  },
  {
   "cell_type": "code",
   "execution_count": 90,
   "metadata": {},
   "outputs": [
    {
     "data": {
      "text/plain": [
       "games_video        18\n",
       "software           11\n",
       "web                10\n",
       "mobile              6\n",
       "enterprise          6\n",
       "advertising         6\n",
       "travel              4\n",
       "photo_video         4\n",
       "ecommerce           4\n",
       "other               3\n",
       "security            2\n",
       "analytics           2\n",
       "search              2\n",
       "network_hosting     1\n",
       "biotech             1\n",
       "hospitality         1\n",
       "social              1\n",
       "fashion             1\n",
       "dtype: int64"
      ]
     },
     "execution_count": 90,
     "metadata": {},
     "output_type": "execute_result"
    }
   ],
   "source": [
    "category = []\n",
    "for comp in res:\n",
    "    category.append(comp['category_code'])\n",
    "pd.Series(category).value_counts()"
   ]
  },
  {
   "cell_type": "code",
   "execution_count": 96,
   "metadata": {},
   "outputs": [
    {
     "data": {
      "text/plain": [
       "{'web': 10,\n",
       " 'search': 2,\n",
       " 'mobile': 6,\n",
       " 'enterprise': 6,\n",
       " 'other': 3,\n",
       " 'ecommerce': 4,\n",
       " 'advertising': 6,\n",
       " 'hospitality': 1,\n",
       " 'games_video': 18,\n",
       " 'analytics': 2,\n",
       " 'software': 11,\n",
       " 'social': 1,\n",
       " 'travel': 4,\n",
       " 'photo_video': 4,\n",
       " 'security': 2,\n",
       " 'network_hosting': 1,\n",
       " 'fashion': 1,\n",
       " 'biotech': 1}"
      ]
     },
     "execution_count": 96,
     "metadata": {},
     "output_type": "execute_result"
    }
   ],
   "source": [
    "category = {}\n",
    "for comp in res:\n",
    "    category[comp['category_code']] = category.get(comp['category_code'],0) + 1\n",
    "category"
   ]
  },
  {
   "cell_type": "markdown",
   "metadata": {},
   "source": [
    "### GeoQueries"
   ]
  },
  {
   "cell_type": "code",
   "execution_count": 99,
   "metadata": {},
   "outputs": [],
   "source": [
    "df = pd.read_json(\"data/mlb_stadium.json\", orient=\"records\")"
   ]
  },
  {
   "cell_type": "code",
   "execution_count": 101,
   "metadata": {},
   "outputs": [
    {
     "data": {
      "text/html": [
       "<div>\n",
       "<style scoped>\n",
       "    .dataframe tbody tr th:only-of-type {\n",
       "        vertical-align: middle;\n",
       "    }\n",
       "\n",
       "    .dataframe tbody tr th {\n",
       "        vertical-align: top;\n",
       "    }\n",
       "\n",
       "    .dataframe thead th {\n",
       "        text-align: right;\n",
       "    }\n",
       "</style>\n",
       "<table border=\"1\" class=\"dataframe\">\n",
       "  <thead>\n",
       "    <tr style=\"text-align: right;\">\n",
       "      <th></th>\n",
       "      <th>team</th>\n",
       "      <th>address</th>\n",
       "      <th>lat</th>\n",
       "      <th>lng</th>\n",
       "    </tr>\n",
       "  </thead>\n",
       "  <tbody>\n",
       "    <tr>\n",
       "      <th>0</th>\n",
       "      <td>Anaheim Angels</td>\n",
       "      <td>2000 Gene Autry Way, Anaheim, CA. 92806</td>\n",
       "      <td>33.799572</td>\n",
       "      <td>-117.889031</td>\n",
       "    </tr>\n",
       "    <tr>\n",
       "      <th>1</th>\n",
       "      <td>Arizona Diamondbacks</td>\n",
       "      <td>P.O. Box 2095, Phoenix, AZ. 85001</td>\n",
       "      <td>33.452922</td>\n",
       "      <td>-112.038669</td>\n",
       "    </tr>\n",
       "    <tr>\n",
       "      <th>2</th>\n",
       "      <td>Atlanta Braves</td>\n",
       "      <td>P.O. Box 4064, Atlanta, GA. 30302</td>\n",
       "      <td>33.746910</td>\n",
       "      <td>-84.391239</td>\n",
       "    </tr>\n",
       "  </tbody>\n",
       "</table>\n",
       "</div>"
      ],
      "text/plain": [
       "                   team                                  address        lat  \\\n",
       "0        Anaheim Angels  2000 Gene Autry Way, Anaheim, CA. 92806  33.799572   \n",
       "1  Arizona Diamondbacks        P.O. Box 2095, Phoenix, AZ. 85001  33.452922   \n",
       "2        Atlanta Braves        P.O. Box 4064, Atlanta, GA. 30302  33.746910   \n",
       "\n",
       "          lng  \n",
       "0 -117.889031  \n",
       "1 -112.038669  \n",
       "2  -84.391239  "
      ]
     },
     "execution_count": 101,
     "metadata": {},
     "output_type": "execute_result"
    }
   ],
   "source": [
    "df.head(3)"
   ]
  },
  {
   "cell_type": "code",
   "execution_count": 102,
   "metadata": {},
   "outputs": [],
   "source": [
    "points = []\n",
    "for i,stadium in df.iterrows():\n",
    "    point = {\n",
    "        \"type\":\"Point\",\n",
    "        \"coordinates\":[stadium[\"lng\"],stadium[\"lat\"]]\n",
    "    }\n",
    "    points.append(point)"
   ]
  },
  {
   "cell_type": "code",
   "execution_count": 104,
   "metadata": {},
   "outputs": [
    {
     "data": {
      "text/plain": [
       "[{'type': 'Point', 'coordinates': [-117.889031, 33.799572]},\n",
       " {'type': 'Point', 'coordinates': [-112.038669, 33.452922]},\n",
       " {'type': 'Point', 'coordinates': [-84.391239, 33.74691]}]"
      ]
     },
     "execution_count": 104,
     "metadata": {},
     "output_type": "execute_result"
    }
   ],
   "source": [
    "points[:3]"
   ]
  },
  {
   "cell_type": "code",
   "execution_count": 106,
   "metadata": {},
   "outputs": [],
   "source": [
    "baseball = []\n",
    "for pt in points:\n",
    "    res = coll.find({\"coord\":{\"$near\":pt,\"$maxDistance\":1000}})\n",
    "    baseball += list(res)"
   ]
  },
  {
   "cell_type": "code",
   "execution_count": 108,
   "metadata": {},
   "outputs": [
    {
     "data": {
      "text/plain": [
       "249"
      ]
     },
     "execution_count": 108,
     "metadata": {},
     "output_type": "execute_result"
    }
   ],
   "source": [
    "len(baseball)"
   ]
  },
  {
   "cell_type": "code",
   "execution_count": 111,
   "metadata": {},
   "outputs": [],
   "source": [
    "with open(\"data/mlb_stadium.json\",\"r\") as file:\n",
    "    mlb = json.loads(file.read())"
   ]
  },
  {
   "cell_type": "code",
   "execution_count": 116,
   "metadata": {},
   "outputs": [],
   "source": [
    "for stadium in mlb:\n",
    "    stadium[\"geoJSON\"] = {\n",
    "        \"type\":\"Point\",\n",
    "        \"coordinates\":[stadium[\"lng\"],stadium[\"lat\"]]\n",
    "    }\n",
    "    db.baseball.insert_one(stadium)"
   ]
  },
  {
   "cell_type": "code",
   "execution_count": 118,
   "metadata": {},
   "outputs": [
    {
     "data": {
      "text/plain": [
       "'geoJSON_2dsphere'"
      ]
     },
     "execution_count": 118,
     "metadata": {},
     "output_type": "execute_result"
    }
   ],
   "source": [
    "db.baseball.create_index([(\"geoJSON\", \"2dsphere\")])"
   ]
  },
  {
   "cell_type": "code",
   "execution_count": 128,
   "metadata": {},
   "outputs": [],
   "source": [
    "res = list(coll.find({\"founded_year\":{\"$gte\":2010}}))"
   ]
  },
  {
   "cell_type": "code",
   "execution_count": 139,
   "metadata": {},
   "outputs": [],
   "source": [
    "baseball_near = {}\n",
    "for comp in res:\n",
    "    stad = db.baseball.find({\"geoJSON\":{\"$near\":comp[\"coord\"], \"$maxDistance\":10_000}})\n",
    "    baseball_near[comp[\"_id\"]] = list(stad)"
   ]
  },
  {
   "cell_type": "code",
   "execution_count": 140,
   "metadata": {},
   "outputs": [
    {
     "data": {
      "text/plain": [
       "83"
      ]
     },
     "execution_count": 140,
     "metadata": {},
     "output_type": "execute_result"
    }
   ],
   "source": [
    "len(baseball_near)"
   ]
  },
  {
   "cell_type": "code",
   "execution_count": 144,
   "metadata": {},
   "outputs": [],
   "source": [
    "for comp,stad in baseball_near.items():\n",
    "    coll.update_one(\n",
    "                    {\"_id\":comp},\n",
    "                     {\"$set\":{\"stadiums\":stad}}\n",
    "                    )"
   ]
  }
 ],
 "metadata": {
  "kernelspec": {
   "display_name": "Python3 (ih)",
   "language": "python",
   "name": "ironhack"
  },
  "language_info": {
   "codemirror_mode": {
    "name": "ipython",
    "version": 3
   },
   "file_extension": ".py",
   "mimetype": "text/x-python",
   "name": "python",
   "nbconvert_exporter": "python",
   "pygments_lexer": "ipython3",
   "version": "3.7.8"
  }
 },
 "nbformat": 4,
 "nbformat_minor": 4
}
