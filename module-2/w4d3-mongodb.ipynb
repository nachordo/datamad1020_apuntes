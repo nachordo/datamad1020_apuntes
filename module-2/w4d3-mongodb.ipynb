{
 "cells": [
  {
   "cell_type": "markdown",
   "metadata": {},
   "source": [
    "## MongoDB"
   ]
  },
  {
   "cell_type": "markdown",
   "metadata": {},
   "source": [
    "### Instalation\n",
    "#### macOS\n",
    "https://docs.mongodb.com/manual/tutorial/install-mongodb-on-os-x/\n",
    "#### Windows\n",
    "https://docs.mongodb.com/manual/tutorial/install-mongodb-on-windows/\n",
    "#### Ubuntu\n",
    "https://docs.mongodb.com/manual/tutorial/install-mongodb-on-ubuntu/\n",
    "\n",
    "### MongoCompass (GUI)\n",
    "https://www.mongodb.com/try/download/compass"
   ]
  },
  {
   "cell_type": "code",
   "execution_count": 1,
   "metadata": {},
   "outputs": [],
   "source": [
    "### pymongo\n",
    "# pip3 install pymongo"
   ]
  },
  {
   "cell_type": "markdown",
   "metadata": {},
   "source": [
    "## Connecting to MongoDB"
   ]
  },
  {
   "cell_type": "code",
   "execution_count": 83,
   "metadata": {},
   "outputs": [],
   "source": [
    "import pandas as pd\n",
    "from pymongo import MongoClient"
   ]
  },
  {
   "cell_type": "code",
   "execution_count": 3,
   "metadata": {},
   "outputs": [],
   "source": [
    "client = MongoClient()"
   ]
  },
  {
   "cell_type": "code",
   "execution_count": 4,
   "metadata": {},
   "outputs": [
    {
     "data": {
      "text/plain": [
       "MongoClient(host=['localhost:27017'], document_class=dict, tz_aware=False, connect=True)"
      ]
     },
     "execution_count": 4,
     "metadata": {},
     "output_type": "execute_result"
    }
   ],
   "source": [
    "client"
   ]
  },
  {
   "cell_type": "code",
   "execution_count": 5,
   "metadata": {},
   "outputs": [],
   "source": [
    "db = client.get_database(\"datamad1020\")"
   ]
  },
  {
   "cell_type": "code",
   "execution_count": 6,
   "metadata": {},
   "outputs": [
    {
     "data": {
      "text/plain": [
       "Database(MongoClient(host=['localhost:27017'], document_class=dict, tz_aware=False, connect=True), 'datamad1020')"
      ]
     },
     "execution_count": 6,
     "metadata": {},
     "output_type": "execute_result"
    }
   ],
   "source": [
    "db"
   ]
  },
  {
   "cell_type": "code",
   "execution_count": 35,
   "metadata": {},
   "outputs": [],
   "source": [
    "inst = db.instructors.find({})"
   ]
  },
  {
   "cell_type": "code",
   "execution_count": 36,
   "metadata": {},
   "outputs": [
    {
     "name": "stdout",
     "output_type": "stream",
     "text": [
      "Adriana\n",
      "Juan\n",
      "Felipe\n",
      "Ghost of past instructors\n"
     ]
    }
   ],
   "source": [
    "for i in inst:\n",
    "    print(i.get(\"name\", \"Ghost of past instructors\"))"
   ]
  },
  {
   "cell_type": "code",
   "execution_count": 37,
   "metadata": {},
   "outputs": [
    {
     "data": {
      "text/plain": [
       "<pymongo.cursor.Cursor at 0x7fe4048b6750>"
      ]
     },
     "execution_count": 37,
     "metadata": {},
     "output_type": "execute_result"
    }
   ],
   "source": [
    "db.databasequenoexiste.find({})"
   ]
  },
  {
   "cell_type": "code",
   "execution_count": 38,
   "metadata": {},
   "outputs": [
    {
     "data": {
      "text/plain": [
       "[]"
      ]
     },
     "execution_count": 38,
     "metadata": {},
     "output_type": "execute_result"
    }
   ],
   "source": [
    "list(db.databasequenoexiste.find({}))"
   ]
  },
  {
   "cell_type": "markdown",
   "metadata": {},
   "source": [
    "## Querying"
   ]
  },
  {
   "cell_type": "code",
   "execution_count": null,
   "metadata": {},
   "outputs": [],
   "source": [
    "?db.companies.find"
   ]
  },
  {
   "cell_type": "code",
   "execution_count": 46,
   "metadata": {},
   "outputs": [],
   "source": [
    "name = \"name\""
   ]
  },
  {
   "cell_type": "code",
   "execution_count": 47,
   "metadata": {},
   "outputs": [],
   "source": [
    "# Getting facebook\n",
    "res = db.companies.find({name:\"Facebook\"})"
   ]
  },
  {
   "cell_type": "code",
   "execution_count": 48,
   "metadata": {},
   "outputs": [],
   "source": [
    "res = list(res)"
   ]
  },
  {
   "cell_type": "code",
   "execution_count": 49,
   "metadata": {},
   "outputs": [
    {
     "data": {
      "text/plain": [
       "1"
      ]
     },
     "execution_count": 49,
     "metadata": {},
     "output_type": "execute_result"
    }
   ],
   "source": [
    "len(res)"
   ]
  },
  {
   "cell_type": "code",
   "execution_count": 51,
   "metadata": {},
   "outputs": [
    {
     "data": {
      "text/plain": [
       "dict"
      ]
     },
     "execution_count": 51,
     "metadata": {},
     "output_type": "execute_result"
    }
   ],
   "source": [
    "type(res[0])"
   ]
  },
  {
   "cell_type": "code",
   "execution_count": 52,
   "metadata": {},
   "outputs": [
    {
     "data": {
      "text/plain": [
       "'Facebook'"
      ]
     },
     "execution_count": 52,
     "metadata": {},
     "output_type": "execute_result"
    }
   ],
   "source": [
    "res[0][\"name\"]"
   ]
  },
  {
   "cell_type": "code",
   "execution_count": 53,
   "metadata": {},
   "outputs": [],
   "source": [
    "all_doc = list(db.companies.find({}))"
   ]
  },
  {
   "cell_type": "code",
   "execution_count": 55,
   "metadata": {},
   "outputs": [
    {
     "data": {
      "text/plain": [
       "18801"
      ]
     },
     "execution_count": 55,
     "metadata": {},
     "output_type": "execute_result"
    }
   ],
   "source": [
    "len(all_doc)"
   ]
  },
  {
   "cell_type": "code",
   "execution_count": 62,
   "metadata": {},
   "outputs": [],
   "source": [
    "#### Documents DO NOT NECESARILY HAVE the same keys\n",
    "keys = list(map(lambda x: x.keys(),all_doc))"
   ]
  },
  {
   "cell_type": "code",
   "execution_count": 64,
   "metadata": {},
   "outputs": [
    {
     "data": {
      "text/plain": [
       "['twitter_username', 'email_address', 'total_money_raised']"
      ]
     },
     "execution_count": 64,
     "metadata": {},
     "output_type": "execute_result"
    }
   ],
   "source": [
    "list(set([k for lst in keys for k in lst]))[:3]"
   ]
  },
  {
   "cell_type": "markdown",
   "metadata": {},
   "source": [
    "### Searching for specific value\n",
    "- key:value"
   ]
  },
  {
   "cell_type": "code",
   "execution_count": 72,
   "metadata": {},
   "outputs": [
    {
     "data": {
      "text/plain": [
       "1"
      ]
     },
     "execution_count": 72,
     "metadata": {},
     "output_type": "execute_result"
    }
   ],
   "source": [
    "len(list(db.companies.find({\"name\":\"Google\"})))"
   ]
  },
  {
   "cell_type": "code",
   "execution_count": 71,
   "metadata": {},
   "outputs": [
    {
     "data": {
      "text/plain": [
       "521"
      ]
     },
     "execution_count": 71,
     "metadata": {},
     "output_type": "execute_result"
    }
   ],
   "source": [
    "len(list(db.companies.find({\"founded_year\":2000})))"
   ]
  },
  {
   "cell_type": "markdown",
   "metadata": {},
   "source": [
    "### Operators"
   ]
  },
  {
   "cell_type": "markdown",
   "metadata": {},
   "source": [
    "#### Comparison\n",
    "- `$gt` ---> > \n",
    "- `$gte` ---> >=\n",
    "- `$lt` ---> <\n",
    "- `$lte` ---> <=\n",
    "- `$eq` ---> ==\n",
    "- `$ne` ---> !=\n",
    "- `$in` ---> in\n",
    "- `$nin` ---> not in\n",
    "\n",
    "#### Logical\n",
    "- `$or` ---> or\n",
    "- `$and` ---> and\n",
    "- `$not` ---> not\n",
    "\n",
    "#### Element\n",
    "- `$exists`\n",
    "- `$type` ---> type(x) == ...\n",
    "\n",
    "#### Other\n",
    "- `$regex` ---> rel \n",
    "\n",
    "#### Equivalences\n",
    "- true,false ---> True, False\n",
    "- null ---> None"
   ]
  },
  {
   "cell_type": "code",
   "execution_count": 74,
   "metadata": {},
   "outputs": [
    {
     "data": {
      "text/plain": [
       "342"
      ]
     },
     "execution_count": 74,
     "metadata": {},
     "output_type": "execute_result"
    }
   ],
   "source": [
    "## Companies founded before 1980\n",
    "len(list(db.companies.find({\"founded_year\":{\"$lt\":1980}})))"
   ]
  },
  {
   "cell_type": "code",
   "execution_count": 79,
   "metadata": {},
   "outputs": [
    {
     "data": {
      "text/plain": [
       "{1971, 1972, 1973, 1974, 1975, 1976, 1977, 1978, 1979, 1980}"
      ]
     },
     "execution_count": 79,
     "metadata": {},
     "output_type": "execute_result"
    }
   ],
   "source": [
    "## Companies founded between 1971 and 1980\n",
    "res = list(db.companies.find({\"founded_year\":{\"$gte\":1971, \"$lte\":1980}}))\n",
    "set([document[\"founded_year\"] for document in res])"
   ]
  },
  {
   "cell_type": "code",
   "execution_count": 81,
   "metadata": {},
   "outputs": [],
   "source": [
    "companies_by_year = {}\n",
    "for comp in res:\n",
    "    year = comp[\"founded_year\"]\n",
    "    companies_by_year[year] = companies_by_year.get(year,0) + 1"
   ]
  },
  {
   "cell_type": "code",
   "execution_count": 82,
   "metadata": {},
   "outputs": [
    {
     "data": {
      "text/plain": [
       "{1979: 25,\n",
       " 1971: 13,\n",
       " 1976: 15,\n",
       " 1980: 28,\n",
       " 1974: 7,\n",
       " 1972: 8,\n",
       " 1973: 7,\n",
       " 1978: 19,\n",
       " 1975: 7,\n",
       " 1977: 3}"
      ]
     },
     "execution_count": 82,
     "metadata": {},
     "output_type": "execute_result"
    }
   ],
   "source": [
    "companies_by_year"
   ]
  },
  {
   "cell_type": "code",
   "execution_count": 88,
   "metadata": {},
   "outputs": [
    {
     "data": {
      "text/html": [
       "<div>\n",
       "<style scoped>\n",
       "    .dataframe tbody tr th:only-of-type {\n",
       "        vertical-align: middle;\n",
       "    }\n",
       "\n",
       "    .dataframe tbody tr th {\n",
       "        vertical-align: top;\n",
       "    }\n",
       "\n",
       "    .dataframe thead th {\n",
       "        text-align: right;\n",
       "    }\n",
       "</style>\n",
       "<table border=\"1\" class=\"dataframe\">\n",
       "  <thead>\n",
       "    <tr style=\"text-align: right;\">\n",
       "      <th></th>\n",
       "      <th>_id</th>\n",
       "      <th>name</th>\n",
       "      <th>permalink</th>\n",
       "      <th>crunchbase_url</th>\n",
       "      <th>homepage_url</th>\n",
       "      <th>blog_url</th>\n",
       "      <th>blog_feed_url</th>\n",
       "      <th>twitter_username</th>\n",
       "      <th>category_code</th>\n",
       "      <th>number_of_employees</th>\n",
       "      <th>...</th>\n",
       "      <th>investments</th>\n",
       "      <th>acquisition</th>\n",
       "      <th>acquisitions</th>\n",
       "      <th>offices</th>\n",
       "      <th>milestones</th>\n",
       "      <th>ipo</th>\n",
       "      <th>video_embeds</th>\n",
       "      <th>screenshots</th>\n",
       "      <th>external_links</th>\n",
       "      <th>partners</th>\n",
       "    </tr>\n",
       "  </thead>\n",
       "  <tbody>\n",
       "    <tr>\n",
       "      <th>0</th>\n",
       "      <td>52cdef7c4bab8bd675297d93</td>\n",
       "      <td>Fox Interactive Media</td>\n",
       "      <td>fox-interactive-media</td>\n",
       "      <td>http://www.crunchbase.com/company/fox-interact...</td>\n",
       "      <td>http://www.newscorp.com</td>\n",
       "      <td></td>\n",
       "      <td></td>\n",
       "      <td>twitterapi</td>\n",
       "      <td>web</td>\n",
       "      <td>0.0</td>\n",
       "      <td>...</td>\n",
       "      <td>[{'funding_round': {'round_code': 'b', 'source...</td>\n",
       "      <td>None</td>\n",
       "      <td>[{'price_amount': 20000000, 'price_currency_co...</td>\n",
       "      <td>[{'description': '', 'address1': '407 N Maple ...</td>\n",
       "      <td>[]</td>\n",
       "      <td>None</td>\n",
       "      <td>[{'embed_code': '&lt;embed src=\"http://blip.tv/pl...</td>\n",
       "      <td>[{'available_sizes': [[[150, 94], 'assets/imag...</td>\n",
       "      <td>[]</td>\n",
       "      <td>[]</td>\n",
       "    </tr>\n",
       "    <tr>\n",
       "      <th>1</th>\n",
       "      <td>52cdef7c4bab8bd675297d9f</td>\n",
       "      <td>Viacom</td>\n",
       "      <td>viacom</td>\n",
       "      <td>http://www.crunchbase.com/company/viacom</td>\n",
       "      <td>http://www.viacom.com</td>\n",
       "      <td></td>\n",
       "      <td></td>\n",
       "      <td>viacom</td>\n",
       "      <td>web</td>\n",
       "      <td>NaN</td>\n",
       "      <td>...</td>\n",
       "      <td>[{'funding_round': {'round_code': 'b', 'source...</td>\n",
       "      <td>None</td>\n",
       "      <td>[{'price_amount': 64000000, 'price_currency_co...</td>\n",
       "      <td>[{'description': 'HQ', 'address1': '1515 Broad...</td>\n",
       "      <td>[{'id': 9983, 'description': 'Harmonix Music S...</td>\n",
       "      <td>{'valuation_amount': None, 'valuation_currency...</td>\n",
       "      <td>[{'embed_code': '&lt;embed src=\"http://blip.tv/pl...</td>\n",
       "      <td>[{'available_sizes': [[[150, 115], 'assets/ima...</td>\n",
       "      <td>[]</td>\n",
       "      <td>[]</td>\n",
       "    </tr>\n",
       "    <tr>\n",
       "      <th>2</th>\n",
       "      <td>52cdef7c4bab8bd675297e12</td>\n",
       "      <td>Ticketmaster</td>\n",
       "      <td>ticketmaster</td>\n",
       "      <td>http://www.crunchbase.com/company/ticketmaster</td>\n",
       "      <td>http://www.ticketmaster.com</td>\n",
       "      <td></td>\n",
       "      <td></td>\n",
       "      <td>Ticketmaster</td>\n",
       "      <td>web</td>\n",
       "      <td>0.0</td>\n",
       "      <td>...</td>\n",
       "      <td>[{'funding_round': {'round_code': 'b', 'source...</td>\n",
       "      <td>{'price_amount': None, 'price_currency_code': ...</td>\n",
       "      <td>[{'price_amount': 265000000, 'price_currency_c...</td>\n",
       "      <td>[{'description': 'World Headquarters', 'addres...</td>\n",
       "      <td>[]</td>\n",
       "      <td>None</td>\n",
       "      <td>[]</td>\n",
       "      <td>[{'available_sizes': [[[102, 150], 'assets/ima...</td>\n",
       "      <td>[]</td>\n",
       "      <td>[]</td>\n",
       "    </tr>\n",
       "    <tr>\n",
       "      <th>3</th>\n",
       "      <td>52cdef7c4bab8bd675297f33</td>\n",
       "      <td>Digitas</td>\n",
       "      <td>digitas</td>\n",
       "      <td>http://www.crunchbase.com/company/digitas</td>\n",
       "      <td>http://www.digitas.com</td>\n",
       "      <td></td>\n",
       "      <td></td>\n",
       "      <td></td>\n",
       "      <td>web</td>\n",
       "      <td>NaN</td>\n",
       "      <td>...</td>\n",
       "      <td>[]</td>\n",
       "      <td>{'price_amount': 1300000000, 'price_currency_c...</td>\n",
       "      <td>[{'price_amount': 200000000, 'price_currency_c...</td>\n",
       "      <td>[{'description': 'Corporate Headquarters', 'ad...</td>\n",
       "      <td>[]</td>\n",
       "      <td>None</td>\n",
       "      <td>[{'embed_code': '&lt;embed src=\"http://blip.tv/pl...</td>\n",
       "      <td>[]</td>\n",
       "      <td>[]</td>\n",
       "      <td>[]</td>\n",
       "    </tr>\n",
       "    <tr>\n",
       "      <th>4</th>\n",
       "      <td>52cdef7c4bab8bd67529801a</td>\n",
       "      <td>EchoStar</td>\n",
       "      <td>echostar</td>\n",
       "      <td>http://www.crunchbase.com/company/echostar</td>\n",
       "      <td>http://EchoStar.com</td>\n",
       "      <td></td>\n",
       "      <td></td>\n",
       "      <td>EchoStar</td>\n",
       "      <td>hardware</td>\n",
       "      <td>NaN</td>\n",
       "      <td>...</td>\n",
       "      <td>[{'funding_round': {'round_code': 'c', 'source...</td>\n",
       "      <td>None</td>\n",
       "      <td>[{'price_amount': 380000000, 'price_currency_c...</td>\n",
       "      <td>[{'description': '', 'address1': '100 Invernes...</td>\n",
       "      <td>[{'id': 14649, 'description': 'EchoStar Corpor...</td>\n",
       "      <td>{'valuation_amount': None, 'valuation_currency...</td>\n",
       "      <td>[]</td>\n",
       "      <td>[{'available_sizes': [[[150, 88], 'assets/imag...</td>\n",
       "      <td>[{'external_url': 'http://www.theamericandisht...</td>\n",
       "      <td>[]</td>\n",
       "    </tr>\n",
       "  </tbody>\n",
       "</table>\n",
       "<p>5 rows × 42 columns</p>\n",
       "</div>"
      ],
      "text/plain": [
       "                        _id                   name              permalink  \\\n",
       "0  52cdef7c4bab8bd675297d93  Fox Interactive Media  fox-interactive-media   \n",
       "1  52cdef7c4bab8bd675297d9f                 Viacom                 viacom   \n",
       "2  52cdef7c4bab8bd675297e12           Ticketmaster           ticketmaster   \n",
       "3  52cdef7c4bab8bd675297f33                Digitas                digitas   \n",
       "4  52cdef7c4bab8bd67529801a               EchoStar               echostar   \n",
       "\n",
       "                                      crunchbase_url  \\\n",
       "0  http://www.crunchbase.com/company/fox-interact...   \n",
       "1           http://www.crunchbase.com/company/viacom   \n",
       "2     http://www.crunchbase.com/company/ticketmaster   \n",
       "3          http://www.crunchbase.com/company/digitas   \n",
       "4         http://www.crunchbase.com/company/echostar   \n",
       "\n",
       "                  homepage_url blog_url blog_feed_url twitter_username  \\\n",
       "0      http://www.newscorp.com                              twitterapi   \n",
       "1        http://www.viacom.com                                  viacom   \n",
       "2  http://www.ticketmaster.com                            Ticketmaster   \n",
       "3       http://www.digitas.com                                           \n",
       "4          http://EchoStar.com                                EchoStar   \n",
       "\n",
       "  category_code  number_of_employees  ...  \\\n",
       "0           web                  0.0  ...   \n",
       "1           web                  NaN  ...   \n",
       "2           web                  0.0  ...   \n",
       "3           web                  NaN  ...   \n",
       "4      hardware                  NaN  ...   \n",
       "\n",
       "                                         investments  \\\n",
       "0  [{'funding_round': {'round_code': 'b', 'source...   \n",
       "1  [{'funding_round': {'round_code': 'b', 'source...   \n",
       "2  [{'funding_round': {'round_code': 'b', 'source...   \n",
       "3                                                 []   \n",
       "4  [{'funding_round': {'round_code': 'c', 'source...   \n",
       "\n",
       "                                         acquisition  \\\n",
       "0                                               None   \n",
       "1                                               None   \n",
       "2  {'price_amount': None, 'price_currency_code': ...   \n",
       "3  {'price_amount': 1300000000, 'price_currency_c...   \n",
       "4                                               None   \n",
       "\n",
       "                                        acquisitions  \\\n",
       "0  [{'price_amount': 20000000, 'price_currency_co...   \n",
       "1  [{'price_amount': 64000000, 'price_currency_co...   \n",
       "2  [{'price_amount': 265000000, 'price_currency_c...   \n",
       "3  [{'price_amount': 200000000, 'price_currency_c...   \n",
       "4  [{'price_amount': 380000000, 'price_currency_c...   \n",
       "\n",
       "                                             offices  \\\n",
       "0  [{'description': '', 'address1': '407 N Maple ...   \n",
       "1  [{'description': 'HQ', 'address1': '1515 Broad...   \n",
       "2  [{'description': 'World Headquarters', 'addres...   \n",
       "3  [{'description': 'Corporate Headquarters', 'ad...   \n",
       "4  [{'description': '', 'address1': '100 Invernes...   \n",
       "\n",
       "                                          milestones  \\\n",
       "0                                                 []   \n",
       "1  [{'id': 9983, 'description': 'Harmonix Music S...   \n",
       "2                                                 []   \n",
       "3                                                 []   \n",
       "4  [{'id': 14649, 'description': 'EchoStar Corpor...   \n",
       "\n",
       "                                                 ipo  \\\n",
       "0                                               None   \n",
       "1  {'valuation_amount': None, 'valuation_currency...   \n",
       "2                                               None   \n",
       "3                                               None   \n",
       "4  {'valuation_amount': None, 'valuation_currency...   \n",
       "\n",
       "                                        video_embeds  \\\n",
       "0  [{'embed_code': '<embed src=\"http://blip.tv/pl...   \n",
       "1  [{'embed_code': '<embed src=\"http://blip.tv/pl...   \n",
       "2                                                 []   \n",
       "3  [{'embed_code': '<embed src=\"http://blip.tv/pl...   \n",
       "4                                                 []   \n",
       "\n",
       "                                         screenshots  \\\n",
       "0  [{'available_sizes': [[[150, 94], 'assets/imag...   \n",
       "1  [{'available_sizes': [[[150, 115], 'assets/ima...   \n",
       "2  [{'available_sizes': [[[102, 150], 'assets/ima...   \n",
       "3                                                 []   \n",
       "4  [{'available_sizes': [[[150, 88], 'assets/imag...   \n",
       "\n",
       "                                      external_links partners  \n",
       "0                                                 []       []  \n",
       "1                                                 []       []  \n",
       "2                                                 []       []  \n",
       "3                                                 []       []  \n",
       "4  [{'external_url': 'http://www.theamericandisht...       []  \n",
       "\n",
       "[5 rows x 42 columns]"
      ]
     },
     "execution_count": 88,
     "metadata": {},
     "output_type": "execute_result"
    }
   ],
   "source": [
    "df = pd.DataFrame(res)\n",
    "df.head()"
   ]
  },
  {
   "cell_type": "code",
   "execution_count": 86,
   "metadata": {},
   "outputs": [
    {
     "data": {
      "text/plain": [
       "1980    28\n",
       "1979    25\n",
       "1978    19\n",
       "1976    15\n",
       "1971    13\n",
       "1972     8\n",
       "1975     7\n",
       "1974     7\n",
       "1973     7\n",
       "1977     3\n",
       "Name: founded_year, dtype: int64"
      ]
     },
     "execution_count": 86,
     "metadata": {},
     "output_type": "execute_result"
    }
   ],
   "source": [
    "df[\"founded_year\"].value_counts()"
   ]
  },
  {
   "cell_type": "code",
   "execution_count": 89,
   "metadata": {},
   "outputs": [
    {
     "data": {
      "text/plain": [
       "114"
      ]
     },
     "execution_count": 89,
     "metadata": {},
     "output_type": "execute_result"
    }
   ],
   "source": [
    "# Companies founded before 1990 with more than 1000 employees\n",
    "len(list(db.companies.find({\"founded_year\":{\"$lt\":1990}, \"number_of_employees\":{\"$gt\":1000}})))"
   ]
  },
  {
   "cell_type": "code",
   "execution_count": 93,
   "metadata": {},
   "outputs": [
    {
     "data": {
      "text/plain": [
       "[{'_id': ObjectId('52cdef7c4bab8bd675297d93'),\n",
       "  'name': 'Fox Interactive Media',\n",
       "  'number_of_employees': 0},\n",
       " {'_id': ObjectId('52cdef7c4bab8bd675297de7'),\n",
       "  'name': 'Fleck',\n",
       "  'number_of_employees': 3},\n",
       " {'_id': ObjectId('52cdef7c4bab8bd675297ded'),\n",
       "  'name': 'Farecast',\n",
       "  'number_of_employees': 26},\n",
       " {'_id': ObjectId('52cdef7c4bab8bd675297e60'),\n",
       "  'name': 'FeVote',\n",
       "  'number_of_employees': 1},\n",
       " {'_id': ObjectId('52cdef7c4bab8bd675297edc'),\n",
       "  'name': 'Filtrbox',\n",
       "  'number_of_employees': 14},\n",
       " {'_id': ObjectId('52cdef7c4bab8bd675297f0a'),\n",
       "  'name': 'FilmLoop',\n",
       "  'number_of_employees': 0},\n",
       " {'_id': ObjectId('52cdef7c4bab8bd675297f85'),\n",
       "  'name': 'FAROO',\n",
       "  'number_of_employees': 5},\n",
       " {'_id': ObjectId('52cdef7c4bab8bd675297fb5'),\n",
       "  'name': 'Feedjit',\n",
       "  'number_of_employees': 2},\n",
       " {'_id': ObjectId('52cdef7c4bab8bd675298029'),\n",
       "  'name': 'FlexiScale',\n",
       "  'number_of_employees': 24},\n",
       " {'_id': ObjectId('52cdef7c4bab8bd67529806f'),\n",
       "  'name': 'FeedMorf',\n",
       "  'number_of_employees': 0},\n",
       " {'_id': ObjectId('52cdef7c4bab8bd675298072'),\n",
       "  'name': 'Floobs',\n",
       "  'number_of_employees': 10},\n",
       " {'_id': ObjectId('52cdef7c4bab8bd675298098'),\n",
       "  'name': 'FilmCrave',\n",
       "  'number_of_employees': 3},\n",
       " {'_id': ObjectId('52cdef7c4bab8bd6752980a2'),\n",
       "  'name': 'Faves',\n",
       "  'number_of_employees': 7},\n",
       " {'_id': ObjectId('52cdef7c4bab8bd675298179'),\n",
       "  'name': 'Flixwagon',\n",
       "  'number_of_employees': 10},\n",
       " {'_id': ObjectId('52cdef7c4bab8bd6752981df'),\n",
       "  'name': 'FamCorner',\n",
       "  'number_of_employees': 6},\n",
       " {'_id': ObjectId('52cdef7c4bab8bd6752981ed'),\n",
       "  'name': 'Frevvo',\n",
       "  'number_of_employees': 10},\n",
       " {'_id': ObjectId('52cdef7c4bab8bd67529822d'),\n",
       "  'name': 'FotoFlexer',\n",
       "  'number_of_employees': 17},\n",
       " {'_id': ObjectId('52cdef7c4bab8bd675298232'),\n",
       "  'name': 'First30Days',\n",
       "  'number_of_employees': 17},\n",
       " {'_id': ObjectId('52cdef7c4bab8bd675298242'),\n",
       "  'name': 'FutonMedia',\n",
       "  'number_of_employees': 2},\n",
       " {'_id': ObjectId('52cdef7c4bab8bd675298275'),\n",
       "  'name': 'FUPEI',\n",
       "  'number_of_employees': 2},\n",
       " {'_id': ObjectId('52cdef7c4bab8bd6752982f5'),\n",
       "  'name': 'Fat Goose',\n",
       "  'number_of_employees': 2},\n",
       " {'_id': ObjectId('52cdef7c4bab8bd67529830a'),\n",
       "  'name': 'Fluc',\n",
       "  'number_of_employees': 3},\n",
       " {'_id': ObjectId('52cdef7c4bab8bd675298324'),\n",
       "  'name': 'FeedJournal',\n",
       "  'number_of_employees': 1},\n",
       " {'_id': ObjectId('52cdef7c4bab8bd675298334'),\n",
       "  'name': 'FaceTec',\n",
       "  'number_of_employees': 5},\n",
       " {'_id': ObjectId('52cdef7c4bab8bd67529833d'),\n",
       "  'name': 'Foneshow',\n",
       "  'number_of_employees': 8},\n",
       " {'_id': ObjectId('52cdef7c4bab8bd67529833c'),\n",
       "  'name': 'fotopedia',\n",
       "  'number_of_employees': 17},\n",
       " {'_id': ObjectId('52cdef7c4bab8bd6752983e9'),\n",
       "  'name': 'FixSor',\n",
       "  'number_of_employees': 5},\n",
       " {'_id': ObjectId('52cdef7c4bab8bd6752983f9'),\n",
       "  'name': 'Fifteen Reasons',\n",
       "  'number_of_employees': 6},\n",
       " {'_id': ObjectId('52cdef7c4bab8bd675298419'),\n",
       "  'name': 'Folkstr',\n",
       "  'number_of_employees': 1},\n",
       " {'_id': ObjectId('52cdef7c4bab8bd675298440'),\n",
       "  'name': 'FUNFOOTER',\n",
       "  'number_of_employees': 3},\n",
       " {'_id': ObjectId('52cdef7c4bab8bd675298446'),\n",
       "  'name': 'Fanpop',\n",
       "  'number_of_employees': 4},\n",
       " {'_id': ObjectId('52cdef7c4bab8bd6752985d3'),\n",
       "  'name': 'FuelMyBlog',\n",
       "  'number_of_employees': 5},\n",
       " {'_id': ObjectId('52cdef7c4bab8bd67529867b'),\n",
       "  'name': 'Faraday Media',\n",
       "  'number_of_employees': 10},\n",
       " {'_id': ObjectId('52cdef7c4bab8bd675298688'),\n",
       "  'name': 'Fresho',\n",
       "  'number_of_employees': 11},\n",
       " {'_id': ObjectId('52cdef7c4bab8bd6752986bf'),\n",
       "  'name': 'Franson Technology AB',\n",
       "  'number_of_employees': 7},\n",
       " {'_id': ObjectId('52cdef7c4bab8bd6752986d1'),\n",
       "  'name': 'Familybuilder',\n",
       "  'number_of_employees': 6},\n",
       " {'_id': ObjectId('52cdef7c4bab8bd675298774'),\n",
       "  'name': 'FinFolio',\n",
       "  'number_of_employees': 3},\n",
       " {'_id': ObjectId('52cdef7c4bab8bd675298783'),\n",
       "  'name': 'Fourth Media Technologies',\n",
       "  'number_of_employees': 20},\n",
       " {'_id': ObjectId('52cdef7c4bab8bd675298794'),\n",
       "  'name': 'FragMob',\n",
       "  'number_of_employees': 12},\n",
       " {'_id': ObjectId('52cdef7c4bab8bd6752987d0'),\n",
       "  'name': 'Fubra',\n",
       "  'number_of_employees': 25},\n",
       " {'_id': ObjectId('52cdef7c4bab8bd675298881'),\n",
       "  'name': 'ForteMall',\n",
       "  'number_of_employees': 3},\n",
       " {'_id': ObjectId('52cdef7c4bab8bd67529888c'),\n",
       "  'name': 'FlipKey',\n",
       "  'number_of_employees': 10},\n",
       " {'_id': ObjectId('52cdef7d4bab8bd6752988bf'),\n",
       "  'name': 'FeedFlix',\n",
       "  'number_of_employees': 2},\n",
       " {'_id': ObjectId('52cdef7d4bab8bd6752988e7'),\n",
       "  'name': 'Firewall Script',\n",
       "  'number_of_employees': 5},\n",
       " {'_id': ObjectId('52cdef7d4bab8bd6752988fe'),\n",
       "  'name': 'FreedomSpeaks',\n",
       "  'number_of_employees': 2},\n",
       " {'_id': ObjectId('52cdef7d4bab8bd67529895c'),\n",
       "  'name': 'Fotolink Media',\n",
       "  'number_of_employees': 3},\n",
       " {'_id': ObjectId('52cdef7d4bab8bd675298976'),\n",
       "  'name': 'FusionOps',\n",
       "  'number_of_employees': 25},\n",
       " {'_id': ObjectId('52cdef7d4bab8bd6752989b7'),\n",
       "  'name': 'FantasyBook',\n",
       "  'number_of_employees': 3},\n",
       " {'_id': ObjectId('52cdef7d4bab8bd6752989c8'),\n",
       "  'name': 'Fanzter',\n",
       "  'number_of_employees': 9},\n",
       " {'_id': ObjectId('52cdef7d4bab8bd6752989e8'),\n",
       "  'name': 'Fave Media',\n",
       "  'number_of_employees': 18},\n",
       " {'_id': ObjectId('52cdef7d4bab8bd6752989de'),\n",
       "  'name': 'Friend2Friend',\n",
       "  'number_of_employees': 20},\n",
       " {'_id': ObjectId('52cdef7d4bab8bd675298a0c'),\n",
       "  'name': 'FuelClinic',\n",
       "  'number_of_employees': 2},\n",
       " {'_id': ObjectId('52cdef7d4bab8bd675298a36'),\n",
       "  'name': 'FRoSP',\n",
       "  'number_of_employees': 2},\n",
       " {'_id': ObjectId('52cdef7d4bab8bd675298a4d'),\n",
       "  'name': 'Fuzz',\n",
       "  'number_of_employees': 6},\n",
       " {'_id': ObjectId('52cdef7d4bab8bd675298a8a'),\n",
       "  'name': 'Fonemesh',\n",
       "  'number_of_employees': 7},\n",
       " {'_id': ObjectId('52cdef7d4bab8bd675298b25'),\n",
       "  'name': 'Flixya',\n",
       "  'number_of_employees': 4},\n",
       " {'_id': ObjectId('52cdef7d4bab8bd675298b3a'),\n",
       "  'name': 'Fliqz',\n",
       "  'number_of_employees': 25},\n",
       " {'_id': ObjectId('52cdef7d4bab8bd675298bbc'),\n",
       "  'name': 'Forward Thinking',\n",
       "  'number_of_employees': 2},\n",
       " {'_id': ObjectId('52cdef7d4bab8bd675298c26'),\n",
       "  'name': 'FliteHaus Creative Agency',\n",
       "  'number_of_employees': 4},\n",
       " {'_id': ObjectId('52cdef7d4bab8bd675298c19'),\n",
       "  'name': 'Fabric Interactive',\n",
       "  'number_of_employees': 10},\n",
       " {'_id': ObjectId('52cdef7d4bab8bd675298c35'),\n",
       "  'name': 'FanDriveMedia',\n",
       "  'number_of_employees': 10},\n",
       " {'_id': ObjectId('52cdef7d4bab8bd675298ce5'),\n",
       "  'name': 'Freeverse',\n",
       "  'number_of_employees': 18},\n",
       " {'_id': ObjectId('52cdef7d4bab8bd675298d19'),\n",
       "  'name': 'feedbackZone',\n",
       "  'number_of_employees': 3},\n",
       " {'_id': ObjectId('52cdef7d4bab8bd675298d6f'),\n",
       "  'name': 'FundraisingIP',\n",
       "  'number_of_employees': 2},\n",
       " {'_id': ObjectId('52cdef7d4bab8bd675298d8d'),\n",
       "  'name': 'Faneebo',\n",
       "  'number_of_employees': 1},\n",
       " {'_id': ObjectId('52cdef7d4bab8bd675298d9b'),\n",
       "  'name': 'Flow TV',\n",
       "  'number_of_employees': 5},\n",
       " {'_id': ObjectId('52cdef7d4bab8bd675298dcb'),\n",
       "  'name': 'FPGA Central',\n",
       "  'number_of_employees': 8},\n",
       " {'_id': ObjectId('52cdef7d4bab8bd675298e27'),\n",
       "  'name': 'Free classified Ads',\n",
       "  'number_of_employees': 3},\n",
       " {'_id': ObjectId('52cdef7d4bab8bd675298e4a'),\n",
       "  'name': 'Frequent Flyer Network',\n",
       "  'number_of_employees': 25},\n",
       " {'_id': ObjectId('52cdef7d4bab8bd675298e56'),\n",
       "  'name': 'Fortress Data Vaulting',\n",
       "  'number_of_employees': 5},\n",
       " {'_id': ObjectId('52cdef7d4bab8bd675298e95'),\n",
       "  'name': 'fundfindr',\n",
       "  'number_of_employees': 4},\n",
       " {'_id': ObjectId('52cdef7d4bab8bd675298ebf'),\n",
       "  'name': 'Faulkner Technologies',\n",
       "  'number_of_employees': 12},\n",
       " {'_id': ObjectId('52cdef7d4bab8bd675298f09'),\n",
       "  'name': 'Farallon Geographics',\n",
       "  'number_of_employees': 11},\n",
       " {'_id': ObjectId('52cdef7d4bab8bd675298f0b'),\n",
       "  'name': 'Feedity',\n",
       "  'number_of_employees': 3},\n",
       " {'_id': ObjectId('52cdef7d4bab8bd675298f63'),\n",
       "  'name': 'Freeportway',\n",
       "  'number_of_employees': 3},\n",
       " {'_id': ObjectId('52cdef7d4bab8bd675298f6b'),\n",
       "  'name': 'Flimp Media',\n",
       "  'number_of_employees': 15},\n",
       " {'_id': ObjectId('52cdef7d4bab8bd675298f7a'),\n",
       "  'name': 'Forvo',\n",
       "  'number_of_employees': 4},\n",
       " {'_id': ObjectId('52cdef7d4bab8bd675298fa6'),\n",
       "  'name': 'Fast Edition',\n",
       "  'number_of_employees': 3},\n",
       " {'_id': ObjectId('52cdef7d4bab8bd6752990d6'),\n",
       "  'name': 'Flexbit',\n",
       "  'number_of_employees': 2},\n",
       " {'_id': ObjectId('52cdef7d4bab8bd67529917d'),\n",
       "  'name': 'Fixie',\n",
       "  'number_of_employees': 2},\n",
       " {'_id': ObjectId('52cdef7d4bab8bd675299205'),\n",
       "  'name': 'Fan History',\n",
       "  'number_of_employees': 1},\n",
       " {'_id': ObjectId('52cdef7d4bab8bd67529920f'),\n",
       "  'name': 'Fraktal',\n",
       "  'number_of_employees': 9},\n",
       " {'_id': ObjectId('52cdef7d4bab8bd675299221'),\n",
       "  'name': 'Festuc',\n",
       "  'number_of_employees': 6},\n",
       " {'_id': ObjectId('52cdef7d4bab8bd67529923c'),\n",
       "  'name': 'Funpiper',\n",
       "  'number_of_employees': 10},\n",
       " {'_id': ObjectId('52cdef7d4bab8bd675299251'),\n",
       "  'name': 'FilmGator',\n",
       "  'number_of_employees': 3},\n",
       " {'_id': ObjectId('52cdef7d4bab8bd67529925b'),\n",
       "  'name': 'FABINET',\n",
       "  'number_of_employees': 5},\n",
       " {'_id': ObjectId('52cdef7d4bab8bd6752992fc'),\n",
       "  'name': 'FoodCare',\n",
       "  'number_of_employees': 12},\n",
       " {'_id': ObjectId('52cdef7d4bab8bd6752993d2'),\n",
       "  'name': 'FUNKY BUSINESS',\n",
       "  'number_of_employees': 11},\n",
       " {'_id': ObjectId('52cdef7d4bab8bd67529943f'),\n",
       "  'name': 'Forces365',\n",
       "  'number_of_employees': 2},\n",
       " {'_id': ObjectId('52cdef7d4bab8bd67529946a'),\n",
       "  'name': 'Fascikla',\n",
       "  'number_of_employees': 3},\n",
       " {'_id': ObjectId('52cdef7d4bab8bd675299475'),\n",
       "  'name': 'Fiisoft',\n",
       "  'number_of_employees': 4},\n",
       " {'_id': ObjectId('52cdef7d4bab8bd6752994c2'),\n",
       "  'name': 'FinancialContent',\n",
       "  'number_of_employees': 12},\n",
       " {'_id': ObjectId('52cdef7d4bab8bd67529952d'),\n",
       "  'name': 'fliply',\n",
       "  'number_of_employees': 4},\n",
       " {'_id': ObjectId('52cdef7d4bab8bd6752995e9'),\n",
       "  'name': 'Fotoviewr',\n",
       "  'number_of_employees': 2},\n",
       " {'_id': ObjectId('52cdef7d4bab8bd675299603'),\n",
       "  'name': 'Fluther',\n",
       "  'number_of_employees': 3},\n",
       " {'_id': ObjectId('52cdef7d4bab8bd675299635'),\n",
       "  'name': 'Foodzie',\n",
       "  'number_of_employees': 10},\n",
       " {'_id': ObjectId('52cdef7d4bab8bd675299651'),\n",
       "  'name': 'FlipMyText',\n",
       "  'number_of_employees': 1},\n",
       " {'_id': ObjectId('52cdef7d4bab8bd67529968f'),\n",
       "  'name': 'FohBoh',\n",
       "  'number_of_employees': 4},\n",
       " {'_id': ObjectId('52cdef7d4bab8bd6752996a1'),\n",
       "  'name': 'Floatopian',\n",
       "  'number_of_employees': 3},\n",
       " {'_id': ObjectId('52cdef7d4bab8bd6752996da'),\n",
       "  'name': 'Franglo',\n",
       "  'number_of_employees': 3},\n",
       " {'_id': ObjectId('52cdef7d4bab8bd67529970b'),\n",
       "  'name': 'Flying Cart',\n",
       "  'number_of_employees': 3},\n",
       " {'_id': ObjectId('52cdef7d4bab8bd675299734'),\n",
       "  'name': 'FMYI',\n",
       "  'number_of_employees': 16},\n",
       " {'_id': ObjectId('52cdef7d4bab8bd675299728'),\n",
       "  'name': 'Future Delivery',\n",
       "  'number_of_employees': 12},\n",
       " {'_id': ObjectId('52cdef7d4bab8bd67529974a'),\n",
       "  'name': 'Foodista',\n",
       "  'number_of_employees': 3},\n",
       " {'_id': ObjectId('52cdef7d4bab8bd675299776'),\n",
       "  'name': 'frankst0ned',\n",
       "  'number_of_employees': 3},\n",
       " {'_id': ObjectId('52cdef7d4bab8bd6752997dc'),\n",
       "  'name': 'Fancorps',\n",
       "  'number_of_employees': 10},\n",
       " {'_id': ObjectId('52cdef7d4bab8bd6752997e8'),\n",
       "  'name': 'Flashants',\n",
       "  'number_of_employees': 5},\n",
       " {'_id': ObjectId('52cdef7d4bab8bd6752997f8'),\n",
       "  'name': 'FiveSprockets',\n",
       "  'number_of_employees': 10},\n",
       " {'_id': ObjectId('52cdef7d4bab8bd675299877'),\n",
       "  'name': 'Fresh Web Services',\n",
       "  'number_of_employees': 2},\n",
       " {'_id': ObjectId('52cdef7d4bab8bd675299886'),\n",
       "  'name': 'Fastmetrics',\n",
       "  'number_of_employees': 9},\n",
       " {'_id': ObjectId('52cdef7d4bab8bd6752998b7'),\n",
       "  'name': 'fliply',\n",
       "  'number_of_employees': 4},\n",
       " {'_id': ObjectId('52cdef7d4bab8bd675299973'),\n",
       "  'name': 'Fotoviewr',\n",
       "  'number_of_employees': 2},\n",
       " {'_id': ObjectId('52cdef7d4bab8bd67529998d'),\n",
       "  'name': 'Fluther',\n",
       "  'number_of_employees': 3},\n",
       " {'_id': ObjectId('52cdef7d4bab8bd6752999bf'),\n",
       "  'name': 'Foodzie',\n",
       "  'number_of_employees': 10},\n",
       " {'_id': ObjectId('52cdef7d4bab8bd6752999db'),\n",
       "  'name': 'FlipMyText',\n",
       "  'number_of_employees': 1},\n",
       " {'_id': ObjectId('52cdef7d4bab8bd675299a19'),\n",
       "  'name': 'FohBoh',\n",
       "  'number_of_employees': 4},\n",
       " {'_id': ObjectId('52cdef7d4bab8bd675299a2b'),\n",
       "  'name': 'Floatopian',\n",
       "  'number_of_employees': 3},\n",
       " {'_id': ObjectId('52cdef7d4bab8bd675299a64'),\n",
       "  'name': 'Franglo',\n",
       "  'number_of_employees': 3},\n",
       " {'_id': ObjectId('52cdef7d4bab8bd675299a95'),\n",
       "  'name': 'Flying Cart',\n",
       "  'number_of_employees': 3},\n",
       " {'_id': ObjectId('52cdef7d4bab8bd675299ab2'),\n",
       "  'name': 'Future Delivery',\n",
       "  'number_of_employees': 12},\n",
       " {'_id': ObjectId('52cdef7d4bab8bd675299abe'),\n",
       "  'name': 'FMYI',\n",
       "  'number_of_employees': 16},\n",
       " {'_id': ObjectId('52cdef7d4bab8bd675299ad4'),\n",
       "  'name': 'Foodista',\n",
       "  'number_of_employees': 3},\n",
       " {'_id': ObjectId('52cdef7d4bab8bd675299b00'),\n",
       "  'name': 'frankst0ned',\n",
       "  'number_of_employees': 3},\n",
       " {'_id': ObjectId('52cdef7d4bab8bd675299b66'),\n",
       "  'name': 'Fancorps',\n",
       "  'number_of_employees': 10},\n",
       " {'_id': ObjectId('52cdef7d4bab8bd675299b72'),\n",
       "  'name': 'Flashants',\n",
       "  'number_of_employees': 5},\n",
       " {'_id': ObjectId('52cdef7d4bab8bd675299b82'),\n",
       "  'name': 'FiveSprockets',\n",
       "  'number_of_employees': 10},\n",
       " {'_id': ObjectId('52cdef7d4bab8bd675299c01'),\n",
       "  'name': 'Fresh Web Services',\n",
       "  'number_of_employees': 2},\n",
       " {'_id': ObjectId('52cdef7d4bab8bd675299c10'),\n",
       "  'name': 'Fastmetrics',\n",
       "  'number_of_employees': 9},\n",
       " {'_id': ObjectId('52cdef7d4bab8bd675299c45'),\n",
       "  'name': \"For Art's Sake Media\",\n",
       "  'number_of_employees': 12},\n",
       " {'_id': ObjectId('52cdef7d4bab8bd675299c5c'),\n",
       "  'name': 'Factor Three Software',\n",
       "  'number_of_employees': 1},\n",
       " {'_id': ObjectId('52cdef7d4bab8bd675299c5a'),\n",
       "  'name': 'FriendFeedHolic',\n",
       "  'number_of_employees': 4},\n",
       " {'_id': ObjectId('52cdef7d4bab8bd675299c9b'),\n",
       "  'name': 'FreeTreeTravel',\n",
       "  'number_of_employees': 1},\n",
       " {'_id': ObjectId('52cdef7d4bab8bd675299ce0'),\n",
       "  'name': 'Filemobile',\n",
       "  'number_of_employees': 18},\n",
       " {'_id': ObjectId('52cdef7d4bab8bd675299d46'),\n",
       "  'name': 'Flexidea Software',\n",
       "  'number_of_employees': 12},\n",
       " {'_id': ObjectId('52cdef7d4bab8bd675299d48'),\n",
       "  'name': 'Fat Dalmation',\n",
       "  'number_of_employees': 8},\n",
       " {'_id': ObjectId('52cdef7d4bab8bd675299d95'),\n",
       "  'name': 'FYIndOut',\n",
       "  'number_of_employees': 2},\n",
       " {'_id': ObjectId('52cdef7d4bab8bd675299dba'),\n",
       "  'name': 'findwell',\n",
       "  'number_of_employees': 7},\n",
       " {'_id': ObjectId('52cdef7d4bab8bd675299e45'),\n",
       "  'name': 'FreeStudentEducation',\n",
       "  'number_of_employees': 5},\n",
       " {'_id': ObjectId('52cdef7d4bab8bd675299e69'),\n",
       "  'name': 'FlameUp',\n",
       "  'number_of_employees': 2},\n",
       " {'_id': ObjectId('52cdef7d4bab8bd675299e74'),\n",
       "  'name': 'fotoglif',\n",
       "  'number_of_employees': 6},\n",
       " {'_id': ObjectId('52cdef7d4bab8bd675299eb9'),\n",
       "  'name': 'FUSE',\n",
       "  'number_of_employees': 7},\n",
       " {'_id': ObjectId('52cdef7d4bab8bd675299ed1'),\n",
       "  'name': 'FanSpan',\n",
       "  'number_of_employees': 2},\n",
       " {'_id': ObjectId('52cdef7d4bab8bd675299eec'),\n",
       "  'name': 'Fusion Creative Studios',\n",
       "  'number_of_employees': 12},\n",
       " {'_id': ObjectId('52cdef7d4bab8bd675299f89'),\n",
       "  'name': 'Fabian Rossano Studio',\n",
       "  'number_of_employees': 4},\n",
       " {'_id': ObjectId('52cdef7d4bab8bd675299f92'),\n",
       "  'name': 'FamilyDen',\n",
       "  'number_of_employees': 5},\n",
       " {'_id': ObjectId('52cdef7d4bab8bd675299f8d'),\n",
       "  'name': 'FriendBinder',\n",
       "  'number_of_employees': 3},\n",
       " {'_id': ObjectId('52cdef7d4bab8bd675299fb4'),\n",
       "  'name': 'Favy',\n",
       "  'number_of_employees': 5},\n",
       " {'_id': ObjectId('52cdef7d4bab8bd675299fe7'),\n",
       "  'name': 'FanSnap',\n",
       "  'number_of_employees': 21},\n",
       " {'_id': ObjectId('52cdef7d4bab8bd67529a01f'),\n",
       "  'name': 'For Your Imagination',\n",
       "  'number_of_employees': 10},\n",
       " {'_id': ObjectId('52cdef7d4bab8bd67529a00e'),\n",
       "  'name': 'Formspring',\n",
       "  'number_of_employees': 19},\n",
       " {'_id': ObjectId('52cdef7d4bab8bd67529a044'),\n",
       "  'name': 'FACEinHOLE',\n",
       "  'number_of_employees': 4},\n",
       " {'_id': ObjectId('52cdef7d4bab8bd67529a047'),\n",
       "  'name': 'friendmee',\n",
       "  'number_of_employees': 1},\n",
       " {'_id': ObjectId('52cdef7d4bab8bd67529a07e'),\n",
       "  'name': 'Fonoempresa',\n",
       "  'number_of_employees': 10},\n",
       " {'_id': ObjectId('52cdef7d4bab8bd67529a1f2'),\n",
       "  'name': 'FiPath',\n",
       "  'number_of_employees': 10},\n",
       " {'_id': ObjectId('52cdef7d4bab8bd67529a206'),\n",
       "  'name': 'Fruugo',\n",
       "  'number_of_employees': 20},\n",
       " {'_id': ObjectId('52cdef7e4bab8bd67529a26a'),\n",
       "  'name': 'FHOKE',\n",
       "  'number_of_employees': 4},\n",
       " {'_id': ObjectId('52cdef7e4bab8bd67529a279'),\n",
       "  'name': 'Family-Mingle',\n",
       "  'number_of_employees': 5},\n",
       " {'_id': ObjectId('52cdef7e4bab8bd67529a2c7'),\n",
       "  'name': 'ForGrabs',\n",
       "  'number_of_employees': 5},\n",
       " {'_id': ObjectId('52cdef7e4bab8bd67529a2d4'),\n",
       "  'name': 'Flash Games Den',\n",
       "  'number_of_employees': 1},\n",
       " {'_id': ObjectId('52cdef7e4bab8bd67529a324'),\n",
       "  'name': 'FamilyCam Limited',\n",
       "  'number_of_employees': 5},\n",
       " {'_id': ObjectId('52cdef7e4bab8bd67529a332'),\n",
       "  'name': 'fanBunker',\n",
       "  'number_of_employees': 2},\n",
       " {'_id': ObjectId('52cdef7e4bab8bd67529a359'),\n",
       "  'name': 'focusQA',\n",
       "  'number_of_employees': 25},\n",
       " {'_id': ObjectId('52cdef7e4bab8bd67529a3b9'),\n",
       "  'name': 'Fuzzyshot',\n",
       "  'number_of_employees': 3},\n",
       " {'_id': ObjectId('52cdef7e4bab8bd67529a3c9'),\n",
       "  'name': 'find-guru',\n",
       "  'number_of_employees': 5},\n",
       " {'_id': ObjectId('52cdef7e4bab8bd67529a4d6'),\n",
       "  'name': 'Fanminder',\n",
       "  'number_of_employees': 11},\n",
       " {'_id': ObjectId('52cdef7e4bab8bd67529a4eb'),\n",
       "  'name': 'FileRide',\n",
       "  'number_of_employees': 2},\n",
       " {'_id': ObjectId('52cdef7e4bab8bd67529a568'),\n",
       "  'name': 'Friendzbook',\n",
       "  'number_of_employees': 2},\n",
       " {'_id': ObjectId('52cdef7e4bab8bd67529a5f8'),\n",
       "  'name': 'Fitnio',\n",
       "  'number_of_employees': 3},\n",
       " {'_id': ObjectId('52cdef7e4bab8bd67529a601'),\n",
       "  'name': 'Frontware International',\n",
       "  'number_of_employees': 25},\n",
       " {'_id': ObjectId('52cdef7e4bab8bd67529a63b'),\n",
       "  'name': 'Foundry Interactive',\n",
       "  'number_of_employees': 3},\n",
       " {'_id': ObjectId('52cdef7e4bab8bd67529a74e'),\n",
       "  'name': 'FundaSite',\n",
       "  'number_of_employees': 5},\n",
       " {'_id': ObjectId('52cdef7e4bab8bd67529a759'),\n",
       "  'name': 'FraudLabs',\n",
       "  'number_of_employees': 20},\n",
       " {'_id': ObjectId('52cdef7e4bab8bd67529a763'),\n",
       "  'name': 'FK3',\n",
       "  'number_of_employees': 15},\n",
       " {'_id': ObjectId('52cdef7e4bab8bd67529a76a'),\n",
       "  'name': 'First on Mars',\n",
       "  'number_of_employees': 12},\n",
       " {'_id': ObjectId('52cdef7e4bab8bd67529a7ac'),\n",
       "  'name': 'FixTunes',\n",
       "  'number_of_employees': 4},\n",
       " {'_id': ObjectId('52cdef7e4bab8bd67529a7a5'),\n",
       "  'name': 'Friendsta',\n",
       "  'number_of_employees': 8},\n",
       " {'_id': ObjectId('52cdef7e4bab8bd67529a823'),\n",
       "  'name': 'Friend Connect Directory',\n",
       "  'number_of_employees': 1},\n",
       " {'_id': ObjectId('52cdef7e4bab8bd67529a82c'),\n",
       "  'name': 'FilmSuggest',\n",
       "  'number_of_employees': 2},\n",
       " {'_id': ObjectId('52cdef7e4bab8bd67529a831'),\n",
       "  'name': 'Focus-N-Fly',\n",
       "  'number_of_employees': 5},\n",
       " {'_id': ObjectId('52cdef7e4bab8bd67529a848'),\n",
       "  'name': 'FutureTap',\n",
       "  'number_of_employees': 1},\n",
       " {'_id': ObjectId('52cdef7e4bab8bd67529a8e0'),\n",
       "  'name': 'Fliiby',\n",
       "  'number_of_employees': 3},\n",
       " {'_id': ObjectId('52cdef7e4bab8bd67529a8d8'),\n",
       "  'name': 'Fachak',\n",
       "  'number_of_employees': 4},\n",
       " {'_id': ObjectId('52cdef7e4bab8bd67529a903'),\n",
       "  'name': 'Fotohoo',\n",
       "  'number_of_employees': 2},\n",
       " {'_id': ObjectId('52cdef7e4bab8bd67529a94f'),\n",
       "  'name': 'FilerFrog',\n",
       "  'number_of_employees': 3},\n",
       " {'_id': ObjectId('52cdef7e4bab8bd67529a959'),\n",
       "  'name': 'Flyapp',\n",
       "  'number_of_employees': 1},\n",
       " {'_id': ObjectId('52cdef7e4bab8bd67529a98b'),\n",
       "  'name': 'Fan Media Network',\n",
       "  'number_of_employees': 1},\n",
       " {'_id': ObjectId('52cdef7e4bab8bd67529aa19'),\n",
       "  'name': 'Free Ads UK',\n",
       "  'number_of_employees': 7},\n",
       " {'_id': ObjectId('52cdef7e4bab8bd67529aaa9'),\n",
       "  'name': 'facelovefinder',\n",
       "  'number_of_employees': 1},\n",
       " {'_id': ObjectId('52cdef7e4bab8bd67529ab18'),\n",
       "  'name': 'FunAdvice',\n",
       "  'number_of_employees': 8},\n",
       " {'_id': ObjectId('52cdef7e4bab8bd67529ab1a'),\n",
       "  'name': 'fefoo',\n",
       "  'number_of_employees': 1},\n",
       " {'_id': ObjectId('52cdef7e4bab8bd67529ab2a'),\n",
       "  'name': 'FACE Africa',\n",
       "  'number_of_employees': 5},\n",
       " {'_id': ObjectId('52cdef7e4bab8bd67529ab3f'),\n",
       "  'name': 'Fluid Pixel',\n",
       "  'number_of_employees': 5},\n",
       " {'_id': ObjectId('52cdef7e4bab8bd67529ab8d'),\n",
       "  'name': 'Flowz',\n",
       "  'number_of_employees': 4},\n",
       " {'_id': ObjectId('52cdef7e4bab8bd67529abc3'),\n",
       "  'name': 'Factor IT',\n",
       "  'number_of_employees': 8},\n",
       " {'_id': ObjectId('52cdef7e4bab8bd67529abd0'),\n",
       "  'name': 'Free Ads Australia',\n",
       "  'number_of_employees': 5},\n",
       " {'_id': ObjectId('52cdef7e4bab8bd67529abdf'),\n",
       "  'name': 'Filmed Media',\n",
       "  'number_of_employees': 10},\n",
       " {'_id': ObjectId('52cdef7e4bab8bd67529abe5'),\n",
       "  'name': 'Futurelab',\n",
       "  'number_of_employees': 8},\n",
       " {'_id': ObjectId('52cdef7e4bab8bd67529abe1'),\n",
       "  'name': 'Fail Fund',\n",
       "  'number_of_employees': 1},\n",
       " {'_id': ObjectId('52cdef7e4bab8bd67529abf4'),\n",
       "  'name': 'Feedback Army',\n",
       "  'number_of_employees': 1},\n",
       " {'_id': ObjectId('52cdef7e4bab8bd67529ac37'),\n",
       "  'name': 'Feedscrub',\n",
       "  'number_of_employees': 3},\n",
       " {'_id': ObjectId('52cdef7e4bab8bd67529aca1'),\n",
       "  'name': 'Feasa Valencia',\n",
       "  'number_of_employees': 4},\n",
       " {'_id': ObjectId('52cdef7e4bab8bd67529aced'),\n",
       "  'name': 'Flarium',\n",
       "  'number_of_employees': 15},\n",
       " {'_id': ObjectId('52cdef7e4bab8bd67529ad16'),\n",
       "  'name': 'Fight Launch',\n",
       "  'number_of_employees': 5},\n",
       " {'_id': ObjectId('52cdef7e4bab8bd67529adaf'),\n",
       "  'name': 'Fund Mojo',\n",
       "  'number_of_employees': 2},\n",
       " {'_id': ObjectId('52cdef7e4bab8bd67529add1'),\n",
       "  'name': 'Find Your Voice',\n",
       "  'number_of_employees': 1},\n",
       " {'_id': ObjectId('52cdef7e4bab8bd67529ae02'),\n",
       "  'name': 'First Flight',\n",
       "  'number_of_employees': 1},\n",
       " {'_id': ObjectId('52cdef7e4bab8bd67529ae2a'),\n",
       "  'name': 'FAT Media',\n",
       "  'number_of_employees': 2},\n",
       " {'_id': ObjectId('52cdef7e4bab8bd67529ae99'),\n",
       "  'name': 'Fanurio Time Tracking',\n",
       "  'number_of_employees': 2},\n",
       " {'_id': ObjectId('52cdef7e4bab8bd67529aeee'),\n",
       "  'name': 'Filter My Jobs',\n",
       "  'number_of_employees': 1},\n",
       " {'_id': ObjectId('52cdef7e4bab8bd67529af08'),\n",
       "  'name': 'Fredlund Media',\n",
       "  'number_of_employees': 1},\n",
       " {'_id': ObjectId('52cdef7e4bab8bd67529af58'),\n",
       "  'name': 'Fuseideas',\n",
       "  'number_of_employees': 1},\n",
       " {'_id': ObjectId('52cdef7e4bab8bd67529aff0'),\n",
       "  'name': 'FootyTweets',\n",
       "  'number_of_employees': 1},\n",
       " {'_id': ObjectId('52cdef7e4bab8bd67529b001'),\n",
       "  'name': 'FlowMingle',\n",
       "  'number_of_employees': 3},\n",
       " {'_id': ObjectId('52cdef7e4bab8bd67529b02b'),\n",
       "  'name': 'Filmmortal',\n",
       "  'number_of_employees': 4},\n",
       " {'_id': ObjectId('52cdef7e4bab8bd67529b03c'),\n",
       "  'name': 'FinancialModel',\n",
       "  'number_of_employees': 5},\n",
       " {'_id': ObjectId('52cdef7e4bab8bd67529b0f0'),\n",
       "  'name': 'Fizzy Software',\n",
       "  'number_of_employees': 4},\n",
       " {'_id': ObjectId('52cdef7e4bab8bd67529b127'),\n",
       "  'name': 'Frenzoo',\n",
       "  'number_of_employees': 7},\n",
       " {'_id': ObjectId('52cdef7e4bab8bd67529b176'),\n",
       "  'name': 'Foliospaces',\n",
       "  'number_of_employees': 2},\n",
       " {'_id': ObjectId('52cdef7e4bab8bd67529b18f'),\n",
       "  'name': 'fantastic logos',\n",
       "  'number_of_employees': 5},\n",
       " {'_id': ObjectId('52cdef7e4bab8bd67529b19d'),\n",
       "  'name': 'Frontier Service Design',\n",
       "  'number_of_employees': 6},\n",
       " {'_id': ObjectId('52cdef7e4bab8bd67529b1bf'),\n",
       "  'name': 'Frosmo',\n",
       "  'number_of_employees': 15},\n",
       " {'_id': ObjectId('52cdef7e4bab8bd67529b1c9'),\n",
       "  'name': 'FreshNetworks',\n",
       "  'number_of_employees': 12},\n",
       " {'_id': ObjectId('52cdef7e4bab8bd67529b1e9'),\n",
       "  'name': 'Four Fractions',\n",
       "  'number_of_employees': 5},\n",
       " {'_id': ObjectId('52cdef7e4bab8bd67529b1ef'),\n",
       "  'name': 'Fliggo',\n",
       "  'number_of_employees': 2},\n",
       " {'_id': ObjectId('52cdef7e4bab8bd67529b231'),\n",
       "  'name': 'flohoo',\n",
       "  'number_of_employees': 1},\n",
       " {'_id': ObjectId('52cdef7e4bab8bd67529b27f'),\n",
       "  'name': 'Free Web Sales',\n",
       "  'number_of_employees': 5},\n",
       " {'_id': ObjectId('52cdef7e4bab8bd67529b291'),\n",
       "  'name': 'Founder Institute',\n",
       "  'number_of_employees': 3},\n",
       " {'_id': ObjectId('52cdef7e4bab8bd67529b2a5'),\n",
       "  'name': 'Free Ads Canada',\n",
       "  'number_of_employees': 4},\n",
       " {'_id': ObjectId('52cdef7e4bab8bd67529b2c2'),\n",
       "  'name': 'Fragegg',\n",
       "  'number_of_employees': 8},\n",
       " {'_id': ObjectId('52cdef7e4bab8bd67529b2f9'),\n",
       "  'name': 'fosiki',\n",
       "  'number_of_employees': 1},\n",
       " {'_id': ObjectId('52cdef7e4bab8bd67529b2fc'),\n",
       "  'name': 'Foldees',\n",
       "  'number_of_employees': 3},\n",
       " {'_id': ObjectId('52cdef7e4bab8bd67529b30d'),\n",
       "  'name': 'Fantazzle Fantasy Sports Games',\n",
       "  'number_of_employees': 8},\n",
       " {'_id': ObjectId('52cdef7e4bab8bd67529b38f'),\n",
       "  'name': 'Futuretec',\n",
       "  'number_of_employees': 25},\n",
       " {'_id': ObjectId('52cdef7e4bab8bd67529b396'),\n",
       "  'name': 'Fotech',\n",
       "  'number_of_employees': 22},\n",
       " {'_id': ObjectId('52cdef7e4bab8bd67529b413'),\n",
       "  'name': 'Funnelscope',\n",
       "  'number_of_employees': 5},\n",
       " {'_id': ObjectId('52cdef7e4bab8bd67529b435'),\n",
       "  'name': 'FriendEvent',\n",
       "  'number_of_employees': 3},\n",
       " {'_id': ObjectId('52cdef7e4bab8bd67529b47c'),\n",
       "  'name': 'financialjoe',\n",
       "  'number_of_employees': 2},\n",
       " {'_id': ObjectId('52cdef7e4bab8bd67529b4bd'),\n",
       "  'name': 'Fotomina',\n",
       "  'number_of_employees': 4},\n",
       " {'_id': ObjectId('52cdef7e4bab8bd67529b4be'),\n",
       "  'name': 'Fiabee',\n",
       "  'number_of_employees': 15},\n",
       " {'_id': ObjectId('52cdef7e4bab8bd67529b4d5'),\n",
       "  'name': 'Foreign Translations',\n",
       "  'number_of_employees': 8},\n",
       " {'_id': ObjectId('52cdef7e4bab8bd67529b51f'),\n",
       "  'name': 'fizy',\n",
       "  'number_of_employees': 14},\n",
       " {'_id': ObjectId('52cdef7e4bab8bd67529b52c'),\n",
       "  'name': 'fReado',\n",
       "  'number_of_employees': 8},\n",
       " {'_id': ObjectId('52cdef7e4bab8bd67529b55b'),\n",
       "  'name': 'Flavortunes',\n",
       "  'number_of_employees': 2},\n",
       " {'_id': ObjectId('52cdef7e4bab8bd67529b57a'),\n",
       "  'name': 'Fan Centric',\n",
       "  'number_of_employees': 9},\n",
       " {'_id': ObjectId('52cdef7e4bab8bd67529b63d'),\n",
       "  'name': 'from|ahead',\n",
       "  'number_of_employees': 5},\n",
       " {'_id': ObjectId('52cdef7e4bab8bd67529b6ae'),\n",
       "  'name': 'Forgotten Chicago',\n",
       "  'number_of_employees': 4},\n",
       " {'_id': ObjectId('52cdef7e4bab8bd67529b6dd'),\n",
       "  'name': 'FalConSearch',\n",
       "  'number_of_employees': 25},\n",
       " {'_id': ObjectId('52cdef7e4bab8bd67529b756'),\n",
       "  'name': 'Foodio54',\n",
       "  'number_of_employees': 2},\n",
       " {'_id': ObjectId('52cdef7e4bab8bd67529b759'),\n",
       "  'name': 'Ffffoundtape',\n",
       "  'number_of_employees': 2},\n",
       " {'_id': ObjectId('52cdef7e4bab8bd67529b75f'),\n",
       "  'name': 'Fan2Win',\n",
       "  'number_of_employees': 10},\n",
       " {'_id': ObjectId('52cdef7e4bab8bd67529b761'),\n",
       "  'name': 'Folia',\n",
       "  'number_of_employees': 2},\n",
       " {'_id': ObjectId('52cdef7e4bab8bd67529b772'),\n",
       "  'name': 'Feng Office',\n",
       "  'number_of_employees': 20},\n",
       " {'_id': ObjectId('52cdef7e4bab8bd67529b792'),\n",
       "  'name': 'Fresh !',\n",
       "  'number_of_employees': 9},\n",
       " {'_id': ObjectId('52cdef7e4bab8bd67529b803'),\n",
       "  'name': 'FairSpin',\n",
       "  'number_of_employees': 2},\n",
       " {'_id': ObjectId('52cdef7e4bab8bd67529b80e'),\n",
       "  'name': 'Flatdog Adventure',\n",
       "  'number_of_employees': 4},\n",
       " {'_id': ObjectId('52cdef7e4bab8bd67529b82b'),\n",
       "  'name': 'Favorang',\n",
       "  'number_of_employees': 2},\n",
       " {'_id': ObjectId('52cdef7e4bab8bd67529b89d'),\n",
       "  'name': 'Factery',\n",
       "  'number_of_employees': 2},\n",
       " {'_id': ObjectId('52cdef7e4bab8bd67529b8de'),\n",
       "  'name': 'FledgeWing',\n",
       "  'number_of_employees': 5},\n",
       " {'_id': ObjectId('52cdef7e4bab8bd67529b9a0'),\n",
       "  'name': 'FinderMonkey',\n",
       "  'number_of_employees': 6},\n",
       " {'_id': ObjectId('52cdef7e4bab8bd67529b9a2'),\n",
       "  'name': 'Fast Careers UK',\n",
       "  'number_of_employees': 1},\n",
       " {'_id': ObjectId('52cdef7e4bab8bd67529b9b6'),\n",
       "  'name': 'Frupee',\n",
       "  'number_of_employees': 8},\n",
       " {'_id': ObjectId('52cdef7e4bab8bd67529b9d4'),\n",
       "  'name': 'FundExplorer',\n",
       "  'number_of_employees': 5},\n",
       " {'_id': ObjectId('52cdef7e4bab8bd67529b9da'),\n",
       "  'name': 'Finagle',\n",
       "  'number_of_employees': 5},\n",
       " {'_id': ObjectId('52cdef7e4bab8bd67529b9ca'),\n",
       "  'name': 'Fantada',\n",
       "  'number_of_employees': 7},\n",
       " {'_id': ObjectId('52cdef7e4bab8bd67529b9d9'),\n",
       "  'name': 'FileShare HQ',\n",
       "  'number_of_employees': 4},\n",
       " {'_id': ObjectId('52cdef7e4bab8bd67529ba0b'),\n",
       "  'name': 'FireRock Research',\n",
       "  'number_of_employees': 2},\n",
       " {'_id': ObjectId('52cdef7e4bab8bd67529ba87'),\n",
       "  'name': 'FeraLabs',\n",
       "  'number_of_employees': 5},\n",
       " {'_id': ObjectId('52cdef7e4bab8bd67529baac'),\n",
       "  'name': 'French Today',\n",
       "  'number_of_employees': 1},\n",
       " {'_id': ObjectId('52cdef7e4bab8bd67529bb3c'),\n",
       "  'name': 'fanqieshu',\n",
       "  'number_of_employees': 5},\n",
       " {'_id': ObjectId('52cdef7e4bab8bd67529bb5f'),\n",
       "  'name': 'FanFeedr',\n",
       "  'number_of_employees': 5},\n",
       " {'_id': ObjectId('52cdef7e4bab8bd67529bb90'),\n",
       "  'name': 'Fuelhaus Strategic Design',\n",
       "  'number_of_employees': 10},\n",
       " {'_id': ObjectId('52cdef7e4bab8bd67529bb96'),\n",
       "  'name': 'Fan',\n",
       "  'number_of_employees': 10},\n",
       " {'_id': ObjectId('52cdef7e4bab8bd67529bba3'),\n",
       "  'name': 'FutureConcept',\n",
       "  'number_of_employees': 2},\n",
       " {'_id': ObjectId('52cdef7e4bab8bd67529bbfe'),\n",
       "  'name': 'Fixmo Carrier Services',\n",
       "  'number_of_employees': 15},\n",
       " {'_id': ObjectId('52cdef7e4bab8bd67529bc56'),\n",
       "  'name': 'Flaggpole',\n",
       "  'number_of_employees': 4},\n",
       " {'_id': ObjectId('52cdef7e4bab8bd67529bcda'),\n",
       "  'name': 'Funnela',\n",
       "  'number_of_employees': 2},\n",
       " {'_id': ObjectId('52cdef7e4bab8bd67529bd02'),\n",
       "  'name': 'Farmsphere',\n",
       "  'number_of_employees': 7},\n",
       " {'_id': ObjectId('52cdef7e4bab8bd67529bd1e'),\n",
       "  'name': 'Feed Me Links',\n",
       "  'number_of_employees': 1},\n",
       " {'_id': ObjectId('52cdef7e4bab8bd67529bd23'),\n",
       "  'name': 'Fliptop',\n",
       "  'number_of_employees': 16},\n",
       " {'_id': ObjectId('52cdef7e4bab8bd67529bd2d'),\n",
       "  'name': 'folowen',\n",
       "  'number_of_employees': 3},\n",
       " {'_id': ObjectId('52cdef7f4bab8bd67529bd5a'),\n",
       "  'name': 'Fractured Studios',\n",
       "  'number_of_employees': 8},\n",
       " {'_id': ObjectId('52cdef7f4bab8bd67529be4e'),\n",
       "  'name': 'FindandSmile',\n",
       "  'number_of_employees': 2},\n",
       " {'_id': ObjectId('52cdef7f4bab8bd67529be65'),\n",
       "  'name': \"Flippin' Sweet Gear\",\n",
       "  'number_of_employees': 2},\n",
       " {'_id': ObjectId('52cdef7f4bab8bd67529be6c'),\n",
       "  'name': 'fabeetle',\n",
       "  'number_of_employees': 2},\n",
       " {'_id': ObjectId('52cdef7f4bab8bd67529bed3'),\n",
       "  'name': 'Finest Expert',\n",
       "  'number_of_employees': 3},\n",
       " {'_id': ObjectId('52cdef7f4bab8bd67529bedf'),\n",
       "  'name': 'Four Colors',\n",
       "  'number_of_employees': 2},\n",
       " {'_id': ObjectId('52cdef7f4bab8bd67529beeb'),\n",
       "  'name': 'Flame-Ware Solutions',\n",
       "  'number_of_employees': 6},\n",
       " {'_id': ObjectId('52cdef7f4bab8bd67529beef'),\n",
       "  'name': 'FiredNetwork',\n",
       "  'number_of_employees': 10},\n",
       " {'_id': ObjectId('52cdef7f4bab8bd67529bf39'),\n",
       "  'name': 'Flexi Solutions',\n",
       "  'number_of_employees': 11},\n",
       " {'_id': ObjectId('52cdef7f4bab8bd67529bf9f'),\n",
       "  'name': 'FLYPEANUT Studio',\n",
       "  'number_of_employees': 7},\n",
       " {'_id': ObjectId('52cdef7f4bab8bd67529bfc2'),\n",
       "  'name': 'FiveAcross',\n",
       "  'number_of_employees': 11},\n",
       " {'_id': ObjectId('52cdef7f4bab8bd67529c05c'),\n",
       "  'name': 'Ftwitt',\n",
       "  'number_of_employees': 4},\n",
       " {'_id': ObjectId('52cdef7f4bab8bd67529c066'),\n",
       "  'name': 'Fresh Echo Interactive',\n",
       "  'number_of_employees': 11},\n",
       " {'_id': ObjectId('52cdef7f4bab8bd67529c19f'),\n",
       "  'name': 'Fitness Perfection',\n",
       "  'number_of_employees': 1},\n",
       " {'_id': ObjectId('52cdef7f4bab8bd67529c224'),\n",
       "  'name': 'Freshly Branded',\n",
       "  'number_of_employees': 3},\n",
       " {'_id': ObjectId('52cdef7f4bab8bd67529c2e9'),\n",
       "  'name': 'FrenzyLabs',\n",
       "  'number_of_employees': 3},\n",
       " {'_id': ObjectId('52cdef7f4bab8bd67529c452'),\n",
       "  'name': 'flexjex',\n",
       "  'number_of_employees': 2},\n",
       " {'_id': ObjectId('52cdef7f4bab8bd67529c480'),\n",
       "  'name': 'famebook',\n",
       "  'number_of_employees': 5},\n",
       " {'_id': ObjectId('52cdef7f4bab8bd67529c520'),\n",
       "  'name': 'ftopia',\n",
       "  'number_of_employees': 7},\n",
       " {'_id': ObjectId('52cdef7f4bab8bd67529c56b'),\n",
       "  'name': 'Film Annex',\n",
       "  'number_of_employees': 5},\n",
       " {'_id': ObjectId('52cdef7f4bab8bd67529c5c7'),\n",
       "  'name': 'FundRazr',\n",
       "  'number_of_employees': 6},\n",
       " {'_id': ObjectId('52cdef7f4bab8bd67529c5fc'),\n",
       "  'name': 'FragBrag',\n",
       "  'number_of_employees': 4},\n",
       " {'_id': ObjectId('52cdef7f4bab8bd67529c67e'),\n",
       "  'name': 'Flatterline',\n",
       "  'number_of_employees': 2},\n",
       " {'_id': ObjectId('52cdef7f4bab8bd67529c694'),\n",
       "  'name': 'Fictionaut',\n",
       "  'number_of_employees': 2},\n",
       " {'_id': ObjectId('52cdef7f4bab8bd67529c69d'),\n",
       "  'name': 'Fotothing',\n",
       "  'number_of_employees': 5}]"
      ]
     },
     "execution_count": 93,
     "metadata": {},
     "output_type": "execute_result"
    }
   ],
   "source": [
    "# Companies with less than 30 employees that have the field number_of_employees\n",
    "# PROJECT, the second parameter of .find()\n",
    "list(db.companies.find({\"number_of_employees\":{\"$lt\":30}, \"name\":{\"$regex\":\"^[Ff].*\"}}, \n",
    "                       {\"name\":1,\"number_of_employees\":1}))"
   ]
  },
  {
   "cell_type": "code",
   "execution_count": 118,
   "metadata": {},
   "outputs": [
    {
     "name": "stdout",
     "output_type": "stream",
     "text": [
      "{'_id': ObjectId('52cdef7c4bab8bd675297ded'), 'name': 'Farecast', 'number_of_employees': 26}\n",
      "{'_id': ObjectId('52cdef7c4bab8bd6752987d0'), 'name': 'Fubra', 'number_of_employees': 25}\n",
      "{'_id': ObjectId('52cdef7d4bab8bd675298976'), 'name': 'FusionOps', 'number_of_employees': 25}\n"
     ]
    }
   ],
   "source": [
    "# Idem, sorted by number of employees desc.\n",
    "filter_q = {\"number_of_employees\":{\"$lt\":30}, \"name\":{\"$regex\":\"^[Ff].*\"}}\n",
    "project = {\"name\":1,\"number_of_employees\":1}\n",
    "cur = db.companies.find(filter_q,project).sort([(\"number_of_employees\",-1)])\n",
    "print(next(cur))\n",
    "print(next(cur))\n",
    "print(next(cur))"
   ]
  },
  {
   "cell_type": "code",
   "execution_count": 120,
   "metadata": {},
   "outputs": [
    {
     "name": "stdout",
     "output_type": "stream",
     "text": [
      "305\n",
      "4\n"
     ]
    }
   ],
   "source": [
    "# Idem ibidem, but limited to 4 results\n",
    "cur = db.companies.find(filter_q,project).sort([(\"number_of_employees\",-1)])\n",
    "print(len(list(cur)))\n",
    "\n",
    "cur = db.companies.find(filter_q,project).sort([(\"number_of_employees\",-1)])\n",
    "top_4 = cur.limit(4)\n",
    "print(len(list(top_4)))"
   ]
  },
  {
   "cell_type": "markdown",
   "metadata": {},
   "source": [
    "### HOW TO QUERY MONGO WITH PYMONGO\n",
    "\n",
    "```python\n",
    "from pymongo import MongoClient\n",
    "client = MongoClient()\n",
    "db = client.get_database(\"database_name\")\n",
    "coll = db.colection_name\n",
    "\n",
    "coll.find(filter_query,project).sort([(\"att\",1),(\"att2\",-1)]).skip(s).limit(l)\n",
    "```\n",
    "\n",
    "#### SQL equivalent\n",
    "\n",
    "```sql\n",
    "SELECT <project_columns>\n",
    "    FROM db.coll\n",
    "WHERE <filter_conditions>\n",
    "ORDER BY <sort_conditions>\n",
    "LIMIT s,l;\n",
    "```"
   ]
  },
  {
   "cell_type": "markdown",
   "metadata": {},
   "source": [
    "## Inserting Data"
   ]
  },
  {
   "cell_type": "code",
   "execution_count": 161,
   "metadata": {},
   "outputs": [],
   "source": [
    "students = \"\"\"Adrian Madrid\n",
    "Alba Álvaro de Mingo\n",
    "Alberto Jiménez Domínguez\n",
    "Alejandro Medina Ortiz\n",
    "Angela Gómez Fernández\n",
    "Antonio Ortiz\n",
    "Blanca de Ochoa Santamaría\n",
    "Borja Del Río\n",
    "Candela García Fernández\n",
    "Carlos Vila-San Juan\n",
    "Clayton Louden\n",
    "Cristina Arenas\n",
    "Eduardo Oporto Alonso\n",
    "Gerardo Vitale\n",
    "Gonzalo Arroyo Tomás\n",
    "Ignacio Ordovás\n",
    "Isabel Searle Riesgo\"\"\"\n",
    "students_list = students.split(\"\\n\")"
   ]
  },
  {
   "cell_type": "code",
   "execution_count": 171,
   "metadata": {},
   "outputs": [],
   "source": [
    "students = map(lambda x: x.split(\" \",1),students_list)"
   ]
  },
  {
   "cell_type": "code",
   "execution_count": 172,
   "metadata": {},
   "outputs": [],
   "source": [
    "coll = db.students"
   ]
  },
  {
   "cell_type": "code",
   "execution_count": 198,
   "metadata": {},
   "outputs": [],
   "source": [
    "## Insert a single document at a time\n",
    "insert_result = coll.insert_one({\"name\":\"Paco\",\"last_name\":\"Lopez\"})"
   ]
  },
  {
   "cell_type": "code",
   "execution_count": 202,
   "metadata": {},
   "outputs": [
    {
     "data": {
      "text/plain": [
       "ObjectId('5fabd660eb3f885e673ce87d')"
      ]
     },
     "execution_count": 202,
     "metadata": {},
     "output_type": "execute_result"
    }
   ],
   "source": [
    "obj_id = insert_result.inserted_id\n",
    "obj_id"
   ]
  },
  {
   "cell_type": "code",
   "execution_count": 203,
   "metadata": {},
   "outputs": [
    {
     "data": {
      "text/plain": [
       "bson.objectid.ObjectId"
      ]
     },
     "execution_count": 203,
     "metadata": {},
     "output_type": "execute_result"
    }
   ],
   "source": [
    "type(obj_id)"
   ]
  },
  {
   "cell_type": "code",
   "execution_count": 174,
   "metadata": {},
   "outputs": [],
   "source": [
    "# A for loop to insert many\n",
    "for stud in students:\n",
    "    s = {\n",
    "        \"name\":stud[0],\n",
    "        \"last_name\":stud[-1]\n",
    "        }\n",
    "    coll.insert_one(s)"
   ]
  },
  {
   "cell_type": "code",
   "execution_count": 167,
   "metadata": {},
   "outputs": [],
   "source": [
    "## Inserting many at a time\n",
    "all_students = list(map(lambda stud: {\"name\":stud[0],\"last_name\":stud[-1], \"course\":\"Data Analytics Full Time\"},students))"
   ]
  },
  {
   "cell_type": "code",
   "execution_count": 169,
   "metadata": {
    "scrolled": true
   },
   "outputs": [
    {
     "data": {
      "text/plain": [
       "[{'name': 'Adrian',\n",
       "  'last_name': 'Madrid',\n",
       "  'course': 'Data Analytics Full Time'},\n",
       " {'name': 'Alba',\n",
       "  'last_name': 'Álvaro de Mingo',\n",
       "  'course': 'Data Analytics Full Time'},\n",
       " {'name': 'Alberto',\n",
       "  'last_name': 'Jiménez Domínguez',\n",
       "  'course': 'Data Analytics Full Time'},\n",
       " {'name': 'Alejandro',\n",
       "  'last_name': 'Medina Ortiz',\n",
       "  'course': 'Data Analytics Full Time'},\n",
       " {'name': 'Angela',\n",
       "  'last_name': 'Gómez Fernández',\n",
       "  'course': 'Data Analytics Full Time'}]"
      ]
     },
     "execution_count": 169,
     "metadata": {},
     "output_type": "execute_result"
    }
   ],
   "source": [
    "all_students[:5]"
   ]
  },
  {
   "cell_type": "code",
   "execution_count": 170,
   "metadata": {},
   "outputs": [
    {
     "data": {
      "text/plain": [
       "<pymongo.results.InsertManyResult at 0x7fe3e5d0b8c0>"
      ]
     },
     "execution_count": 170,
     "metadata": {},
     "output_type": "execute_result"
    }
   ],
   "source": [
    "coll.insert_many(all_students)"
   ]
  },
  {
   "cell_type": "markdown",
   "metadata": {},
   "source": [
    "## Update Data\n",
    "https://docs.mongodb.com/manual/reference/operator/update/"
   ]
  },
  {
   "cell_type": "code",
   "execution_count": 179,
   "metadata": {},
   "outputs": [
    {
     "data": {
      "text/plain": [
       "<pymongo.results.UpdateResult at 0x7fe3e8400fa0>"
      ]
     },
     "execution_count": 179,
     "metadata": {},
     "output_type": "execute_result"
    }
   ],
   "source": [
    "coll.update_one({\"name\":\"Adrian\"}, {\"$set\":{\"dob\":\"25/03\"}})"
   ]
  },
  {
   "cell_type": "code",
   "execution_count": 194,
   "metadata": {},
   "outputs": [],
   "source": [
    "update_result = coll.update_one({\"name\":\"Borja\"}, {\"$set\":{\"dob\":\"02/08\"}})"
   ]
  },
  {
   "cell_type": "code",
   "execution_count": 195,
   "metadata": {},
   "outputs": [
    {
     "data": {
      "text/plain": [
       "1"
      ]
     },
     "execution_count": 195,
     "metadata": {},
     "output_type": "execute_result"
    }
   ],
   "source": [
    "update_result.matched_count"
   ]
  },
  {
   "cell_type": "code",
   "execution_count": 196,
   "metadata": {},
   "outputs": [
    {
     "data": {
      "text/plain": [
       "1"
      ]
     },
     "execution_count": 196,
     "metadata": {},
     "output_type": "execute_result"
    }
   ],
   "source": [
    "update_result.modified_count"
   ]
  },
  {
   "cell_type": "code",
   "execution_count": 197,
   "metadata": {},
   "outputs": [
    {
     "data": {
      "text/plain": [
       "{'n': 1, 'nModified': 1, 'ok': 1.0, 'updatedExisting': True}"
      ]
     },
     "execution_count": 197,
     "metadata": {},
     "output_type": "execute_result"
    }
   ],
   "source": [
    "update_result.raw_result"
   ]
  },
  {
   "cell_type": "code",
   "execution_count": 205,
   "metadata": {},
   "outputs": [
    {
     "data": {
      "text/plain": [
       "[{'_id': ObjectId('5fabd486eb3f885e673ce878'),\n",
       "  'name': 'Eduardo',\n",
       "  'last_name': 'Oporto Alonso'}]"
      ]
     },
     "execution_count": 205,
     "metadata": {},
     "output_type": "execute_result"
    }
   ],
   "source": [
    "list(coll.find({\"name\":\"Eduardo\"}))"
   ]
  },
  {
   "cell_type": "code",
   "execution_count": 206,
   "metadata": {},
   "outputs": [],
   "source": [
    "from bson import ObjectId"
   ]
  },
  {
   "cell_type": "code",
   "execution_count": 207,
   "metadata": {},
   "outputs": [
    {
     "data": {
      "text/plain": [
       "ObjectId('5fabd486eb3f885e673ce878')"
      ]
     },
     "execution_count": 207,
     "metadata": {},
     "output_type": "execute_result"
    }
   ],
   "source": [
    "edu_id = ObjectId(\"5fabd486eb3f885e673ce878\")\n",
    "edu_id"
   ]
  },
  {
   "cell_type": "code",
   "execution_count": 208,
   "metadata": {},
   "outputs": [
    {
     "data": {
      "text/plain": [
       "[{'_id': ObjectId('5fabd486eb3f885e673ce878'),\n",
       "  'name': 'Eduardo',\n",
       "  'last_name': 'Oporto Alonso'}]"
      ]
     },
     "execution_count": 208,
     "metadata": {},
     "output_type": "execute_result"
    }
   ],
   "source": [
    "list(coll.find({\"_id\":edu_id}))"
   ]
  },
  {
   "cell_type": "code",
   "execution_count": 210,
   "metadata": {},
   "outputs": [
    {
     "data": {
      "text/plain": [
       "<pymongo.results.UpdateResult at 0x7fe3e8375b40>"
      ]
     },
     "execution_count": 210,
     "metadata": {},
     "output_type": "execute_result"
    }
   ],
   "source": [
    "coll.update_one({\"_id\":edu_id},{\"$set\":{\"dob\":\"29/03\"}})"
   ]
  },
  {
   "cell_type": "code",
   "execution_count": 211,
   "metadata": {},
   "outputs": [],
   "source": [
    "## UPDATE MANY\n",
    "res = coll.update_many({},{\"$set\":{\"course\":\"Data Analytics Full Time\"}})"
   ]
  },
  {
   "cell_type": "code",
   "execution_count": 213,
   "metadata": {},
   "outputs": [
    {
     "data": {
      "text/plain": [
       "{'n': 19, 'nModified': 19, 'ok': 1.0, 'updatedExisting': True}"
      ]
     },
     "execution_count": 213,
     "metadata": {},
     "output_type": "execute_result"
    }
   ],
   "source": [
    "res.raw_result"
   ]
  },
  {
   "cell_type": "code",
   "execution_count": 216,
   "metadata": {},
   "outputs": [],
   "source": [
    "res = coll.update_many({\"name\":{\"$regex\":\"^[Aa].*\"}},{\"$set\":{\"letter\":\"A\"}})"
   ]
  },
  {
   "cell_type": "code",
   "execution_count": 217,
   "metadata": {},
   "outputs": [
    {
     "data": {
      "text/plain": [
       "{'n': 6, 'nModified': 6, 'ok': 1.0, 'updatedExisting': True}"
      ]
     },
     "execution_count": 217,
     "metadata": {},
     "output_type": "execute_result"
    }
   ],
   "source": [
    "res.raw_result"
   ]
  },
  {
   "cell_type": "code",
   "execution_count": 218,
   "metadata": {},
   "outputs": [],
   "source": [
    "from string import ascii_uppercase\n",
    "for letter in ascii_uppercase:\n",
    "    coll.update_many({\"name\":{\"$regex\":f\"^[{letter}{letter.lower()}].*\"}},{\"$set\":{\"letter\":letter}})"
   ]
  },
  {
   "cell_type": "markdown",
   "metadata": {},
   "source": [
    "### Having fun"
   ]
  },
  {
   "cell_type": "code",
   "execution_count": 222,
   "metadata": {},
   "outputs": [],
   "source": [
    "courses = [\n",
    "    {\n",
    "        \"name\":\"Data\",\n",
    "        \"time\":\"full\",\n",
    "        \"instructors\":[\"Felipe\", \"Adri\", \"Juan\"]\n",
    "    },\n",
    "    {\n",
    "        \"name\":\"Web\",\n",
    "        \"time\":\"full\",\n",
    "        \"instructors\":[\"Germán\", \"Enrique\", \"Dayan\"]\n",
    "    }\n",
    "]\n",
    "res = db.courses.insert_many(courses)"
   ]
  },
  {
   "cell_type": "code",
   "execution_count": 223,
   "metadata": {},
   "outputs": [
    {
     "data": {
      "text/plain": [
       "[ObjectId('5fabdc83eb3f885e673ce87e'), ObjectId('5fabdc83eb3f885e673ce87f')]"
      ]
     },
     "execution_count": 223,
     "metadata": {},
     "output_type": "execute_result"
    }
   ],
   "source": [
    "res.inserted_ids"
   ]
  },
  {
   "cell_type": "code",
   "execution_count": 224,
   "metadata": {},
   "outputs": [
    {
     "data": {
      "text/plain": [
       "<pymongo.results.UpdateResult at 0x7fe3e5fef9b0>"
      ]
     },
     "execution_count": 224,
     "metadata": {},
     "output_type": "execute_result"
    }
   ],
   "source": [
    "coll.update_many({},{\"$set\":{\"course\":ObjectId('5fabdc83eb3f885e673ce87e')}})"
   ]
  },
  {
   "cell_type": "code",
   "execution_count": 225,
   "metadata": {},
   "outputs": [
    {
     "data": {
      "text/plain": [
       "<pymongo.results.UpdateResult at 0x7fe3e56a4b90>"
      ]
     },
     "execution_count": 225,
     "metadata": {},
     "output_type": "execute_result"
    }
   ],
   "source": [
    "coll.update_one({\"name\":\"Pepe\"},{\"$set\":{\"course\":ObjectId('5fabdc83eb3f885e673ce87f')}})"
   ]
  },
  {
   "cell_type": "code",
   "execution_count": 228,
   "metadata": {},
   "outputs": [],
   "source": [
    "course_id=list(coll.find({\"name\":\"Gonzalo\"}))[0][\"course\"]"
   ]
  },
  {
   "cell_type": "code",
   "execution_count": 229,
   "metadata": {},
   "outputs": [
    {
     "data": {
      "text/plain": [
       "ObjectId('5fabdc83eb3f885e673ce87e')"
      ]
     },
     "execution_count": 229,
     "metadata": {},
     "output_type": "execute_result"
    }
   ],
   "source": [
    "course_id"
   ]
  },
  {
   "cell_type": "code",
   "execution_count": 231,
   "metadata": {},
   "outputs": [
    {
     "data": {
      "text/plain": [
       "[{'_id': ObjectId('5fabdc83eb3f885e673ce87e'),\n",
       "  'name': 'Data',\n",
       "  'time': 'full',\n",
       "  'instructors': ['Felipe', 'Adri', 'Juan']}]"
      ]
     },
     "execution_count": 231,
     "metadata": {},
     "output_type": "execute_result"
    }
   ],
   "source": [
    "list(db.courses.find({\"_id\":course_id}))"
   ]
  },
  {
   "cell_type": "code",
   "execution_count": null,
   "metadata": {},
   "outputs": [],
   "source": []
  }
 ],
 "metadata": {
  "kernelspec": {
   "display_name": "Python3 (ih)",
   "language": "python",
   "name": "ironhack"
  },
  "language_info": {
   "codemirror_mode": {
    "name": "ipython",
    "version": 3
   },
   "file_extension": ".py",
   "mimetype": "text/x-python",
   "name": "python",
   "nbconvert_exporter": "python",
   "pygments_lexer": "ipython3",
   "version": "3.7.8"
  }
 },
 "nbformat": 4,
 "nbformat_minor": 4
}
