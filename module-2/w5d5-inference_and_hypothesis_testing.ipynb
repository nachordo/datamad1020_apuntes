{
 "cells": [
  {
   "cell_type": "markdown",
   "metadata": {},
   "source": [
    "# Inference and Hypothesis testing\n",
    "\n",
    "#### Class objectives\n",
    "- Resampling\n",
    "- Sampling Distribution\n",
    "- Central Limit Theorem\n",
    "- Bootstrap\n",
    "\n",
    "\n",
    "- A/B testing\n",
    "- $H_{0}$ : Null Hypothesis\n",
    "- $H_{a}$ : Alternative Hypothesis\n",
    "- test statistics\n",
    "- p-value"
   ]
  },
  {
   "cell_type": "code",
   "execution_count": 16,
   "metadata": {},
   "outputs": [],
   "source": [
    "import numpy as np\n",
    "import matplotlib.pyplot as plt\n",
    "import seaborn as sns\n",
    "sns.set_context('poster')\n",
    "sns.set(rc={'figure.figsize': (16., 9.)})\n",
    "sns.set_style('whitegrid')"
   ]
  },
  {
   "cell_type": "code",
   "execution_count": 34,
   "metadata": {},
   "outputs": [],
   "source": [
    "## Weight of babies at birth\n",
    "\n",
    "babies_mean = 3.369\n",
    "babies_std = 1.422\n",
    "population = 10_000\n",
    "\n",
    "baby_weight = np.random.normal(babies_mean,babies_std, population)"
   ]
  },
  {
   "cell_type": "code",
   "execution_count": 61,
   "metadata": {},
   "outputs": [
    {
     "data": {
      "image/png": "[encoded data removed]",
      "text/plain": [
       "<Figure size 1152x648 with 1 Axes>"
      ]
     },
     "metadata": {},
     "output_type": "display_data"
    }
   ],
   "source": [
    "plt.hist(baby_weight, bins=20)\n",
    "plt.axvline(np.mean(baby_weight), c=\"red\", linewidth=3, linestyle=\"--\", label=\"Mean\")\n",
    "plt.legend()\n",
    "plt.show()"
   ]
  },
  {
   "cell_type": "code",
   "execution_count": 36,
   "metadata": {},
   "outputs": [],
   "source": [
    "sample_size = 30\n",
    "sample = np.random.choice(baby_weight, sample_size, replace=False)"
   ]
  },
  {
   "cell_type": "code",
   "execution_count": 37,
   "metadata": {},
   "outputs": [
    {
     "data": {
      "text/plain": [
       "(2.7761341671342823, 1.2055406792158943)"
      ]
     },
     "execution_count": 37,
     "metadata": {},
     "output_type": "execute_result"
    }
   ],
   "source": [
    "np.mean(sample), np.std(sample)"
   ]
  },
  {
   "cell_type": "markdown",
   "metadata": {},
   "source": [
    "####  Sampling Distribution"
   ]
  },
  {
   "cell_type": "code",
   "execution_count": 51,
   "metadata": {},
   "outputs": [
    {
     "name": "stdout",
     "output_type": "stream",
     "text": [
      "Number of samples: 1\n",
      "Mean of means: 3.1712634021893584\n",
      "Stdv of means: 0.0\n",
      "Number of samples: 10\n",
      "Mean of means: 3.410374627172601\n",
      "Stdv of means: 0.17999764884146685\n",
      "Number of samples: 100\n",
      "Mean of means: 3.377097632522263\n",
      "Stdv of means: 0.26307871867733273\n",
      "Number of samples: 1000\n",
      "Mean of means: 3.358698293609139\n",
      "Stdv of means: 0.2604290740041101\n",
      "Number of samples: 10000\n",
      "Mean of means: 3.3636632173178076\n",
      "Stdv of means: 0.25958708573576034\n"
     ]
    }
   ],
   "source": [
    "for i in [1,10,100,1000,10_000]:\n",
    "    list_of_means = []\n",
    "    \n",
    "    for _ in range(i):\n",
    "        sample_size = 30\n",
    "        sample = np.random.choice(baby_weight, sample_size, replace=False)\n",
    "        list_of_means.append(np.mean(sample))\n",
    "    print(f\"Number of samples: {i}\")\n",
    "    print(f\"Mean of means: {np.mean(list_of_means)}\")\n",
    "    print(f\"Stdv of means: {np.std(list_of_means)}\")"
   ]
  },
  {
   "cell_type": "code",
   "execution_count": 62,
   "metadata": {},
   "outputs": [
    {
     "data": {
      "image/png": "[encoded data removed]",
      "text/plain": [
       "<Figure size 1152x648 with 1 Axes>"
      ]
     },
     "metadata": {},
     "output_type": "display_data"
    }
   ],
   "source": [
    "list_of_means = []\n",
    "for _ in range(10_000):\n",
    "    sample_size = 100\n",
    "    sample = np.random.choice(baby_weight, sample_size, replace=False)\n",
    "    list_of_means.append(np.mean(sample))\n",
    "plt.hist(list_of_means,bins=20)\n",
    "plt.axvline(np.mean(list_of_means), c=\"red\", linewidth=3, linestyle=\"--\", label=\"Mean\")\n",
    "plt.legend()\n",
    "plt.show();"
   ]
  },
  {
   "cell_type": "code",
   "execution_count": 63,
   "metadata": {},
   "outputs": [
    {
     "name": "stdout",
     "output_type": "stream",
     "text": [
      "Mean of sampling distribution: 3.36227829292749\n",
      "Real mean of population: 3.369\n",
      "The Standard Error of sampling distribution: 0.1405980835097633\n"
     ]
    }
   ],
   "source": [
    "print(f\"Mean of sampling distribution: {np.mean(list_of_means)}\")\n",
    "print(f\"Real mean of population: {babies_mean}\")\n",
    "print(f\"The Standard Error of sampling distribution: {np.std(list_of_means)}\")"
   ]
  },
  {
   "cell_type": "markdown",
   "metadata": {},
   "source": [
    "![](https://render.githubusercontent.com/render/math?math=SE%20%3D%20%5Chat%5Csigma%20%2F%5Csqrt%7Bn%7D&mode=display)"
   ]
  },
  {
   "cell_type": "code",
   "execution_count": 67,
   "metadata": {},
   "outputs": [],
   "source": [
    "sample_size = 100\n",
    "sample = np.random.choice(baby_weight, sample_size, replace=False)"
   ]
  },
  {
   "cell_type": "code",
   "execution_count": 68,
   "metadata": {},
   "outputs": [
    {
     "data": {
      "text/plain": [
       "0.1422"
      ]
     },
     "execution_count": 68,
     "metadata": {},
     "output_type": "execute_result"
    }
   ],
   "source": [
    "std_error = babies_std/(sample_size**.5)\n",
    "std_error"
   ]
  },
  {
   "cell_type": "code",
   "execution_count": 70,
   "metadata": {},
   "outputs": [
    {
     "data": {
      "text/plain": [
       "0.1403010818615738"
      ]
     },
     "execution_count": 70,
     "metadata": {},
     "output_type": "execute_result"
    }
   ],
   "source": [
    "std_error_aprox = np.std(sample)/(sample_size**.5)\n",
    "std_error_aprox"
   ]
  },
  {
   "cell_type": "markdown",
   "metadata": {},
   "source": [
    "### Central Limit Theorem\n",
    "[Statistics Visualizations](https://seeing-theory.brown.edu/)\n",
    "\n",
    "[Another cool CLT visualization](http://mfviz.com/central-limit/)"
   ]
  },
  {
   "cell_type": "code",
   "execution_count": 72,
   "metadata": {},
   "outputs": [],
   "source": [
    "dist = np.random.rayleigh(size=10_000)"
   ]
  },
  {
   "cell_type": "code",
   "execution_count": 73,
   "metadata": {},
   "outputs": [
    {
     "data": {
      "image/png": "[encoded data removed]",
      "text/plain": [
       "<Figure size 1152x648 with 1 Axes>"
      ]
     },
     "metadata": {},
     "output_type": "display_data"
    }
   ],
   "source": [
    "plt.hist(dist,bins=20)\n",
    "plt.axvline(np.mean(dist), c=\"red\", linewidth=3, linestyle=\"--\", label=\"Mean\")\n",
    "plt.legend()\n",
    "plt.show();"
   ]
  },
  {
   "cell_type": "code",
   "execution_count": 109,
   "metadata": {},
   "outputs": [],
   "source": [
    "# CLT\n",
    "# dist = np.random.rayleigh(size=10_000)\n",
    "#dist = np.random.uniform(0.0, 1.0, size=10_000)\n",
    "dist = np.random.triangular(0,0.8,1,size=10_000)\n",
    "list_of_means = []\n",
    "for _ in range(100):\n",
    "    sample_size = 10\n",
    "    sample = np.random.choice(dist, sample_size, replace=False)\n",
    "    list_of_means.append(np.mean(sample))"
   ]
  },
  {
   "cell_type": "code",
   "execution_count": 110,
   "metadata": {},
   "outputs": [
    {
     "data": {
      "image/png": "[encoded data removed]",
      "text/plain": [
       "<Figure size 1152x648 with 1 Axes>"
      ]
     },
     "metadata": {},
     "output_type": "display_data"
    }
   ],
   "source": [
    "plt.hist(dist,bins=100)\n",
    "plt.axvline(np.mean(dist), c=\"red\", linewidth=3, linestyle=\"--\", label=\"Mean\")\n",
    "plt.axvline(np.mean(list_of_means), c=\"gold\", linewidth=3, linestyle=\"--\", label=\"Mean of means\")\n",
    "plt.legend()\n",
    "plt.show();"
   ]
  },
  {
   "cell_type": "markdown",
   "metadata": {},
   "source": [
    "### Bootstrap"
   ]
  },
  {
   "cell_type": "markdown",
   "metadata": {},
   "source": [
    "#### With Bootstrap we can...\n",
    "- \"Fake\" sampling distribution with one single sample\n",
    "\n",
    "#### Algorithm\n",
    "- Draw a sample from dataset and replace it.\n",
    "- Repeat n times, where n is size of original dataset\n",
    "- Record the mean of the n resampled values\n",
    "- Repeat steps 1-3 x times.\n",
    "- Use the x results to:\n",
    "     - Calculate their standard deviation (estimate sample mean standard error)\n",
    "     - Produce a histogram (sampling distribution)\n",
    "     - Find a confidence interval"
   ]
  },
  {
   "cell_type": "code",
   "execution_count": 281,
   "metadata": {},
   "outputs": [
    {
     "data": {
      "text/plain": [
       "3.3643906199404707"
      ]
     },
     "execution_count": 281,
     "metadata": {},
     "output_type": "execute_result"
    }
   ],
   "source": [
    "np.mean(baby_weight)"
   ]
  },
  {
   "cell_type": "code",
   "execution_count": 289,
   "metadata": {},
   "outputs": [
    {
     "data": {
      "text/plain": [
       "3.6008243096605703"
      ]
     },
     "execution_count": 289,
     "metadata": {},
     "output_type": "execute_result"
    }
   ],
   "source": [
    "sample = np.random.choice(baby_weight,size=100,replace=False)\n",
    "np.mean(sample)"
   ]
  },
  {
   "cell_type": "code",
   "execution_count": 283,
   "metadata": {},
   "outputs": [],
   "source": [
    "new_sample = []\n",
    "for _ in range(100):\n",
    "    new_sample.append(np.random.choice(sample))"
   ]
  },
  {
   "cell_type": "code",
   "execution_count": 284,
   "metadata": {},
   "outputs": [
    {
     "data": {
      "text/plain": [
       "3.1676413137097614"
      ]
     },
     "execution_count": 284,
     "metadata": {},
     "output_type": "execute_result"
    }
   ],
   "source": [
    "np.mean(new_sample)"
   ]
  },
  {
   "cell_type": "code",
   "execution_count": 290,
   "metadata": {},
   "outputs": [],
   "source": [
    "means_new_samples = []\n",
    "for _ in range(1000):\n",
    "    new_sample = np.random.choice(sample,size=100,replace=True)\n",
    "    means_new_samples.append(np.mean(new_sample))"
   ]
  },
  {
   "cell_type": "code",
   "execution_count": 291,
   "metadata": {},
   "outputs": [
    {
     "data": {
      "text/plain": [
       "3.6037523198524326"
      ]
     },
     "execution_count": 291,
     "metadata": {},
     "output_type": "execute_result"
    }
   ],
   "source": [
    "np.mean(means_new_samples)"
   ]
  },
  {
   "cell_type": "code",
   "execution_count": 292,
   "metadata": {},
   "outputs": [
    {
     "name": "stdout",
     "output_type": "stream",
     "text": [
      "Bootstrapped estimate of the mean: 3.6037523198524326\n",
      "Bootstrapped 95% CI of the estimate: [3.34395332 3.86970105]\n"
     ]
    }
   ],
   "source": [
    "# 95% CI\n",
    "print(f\"Bootstrapped estimate of the mean: {np.mean(means_new_samples)}\")\n",
    "ci = np.percentile(means_new_samples, [2.5,97.5])\n",
    "print(f\"Bootstrapped 95% CI of the estimate: {ci}\")"
   ]
  },
  {
   "cell_type": "code",
   "execution_count": 294,
   "metadata": {},
   "outputs": [
    {
     "data": {
      "text/plain": [
       "array([ 1.871427  ,  3.478504  ,  4.24621596,  2.84913433,  1.54492645,\n",
       "        2.10118316,  2.88395755,  5.2659563 ,  3.02616155,  3.1459129 ,\n",
       "        4.04751943,  6.39412492,  2.00546857,  4.16466806,  1.85566488,\n",
       "        1.66363222,  3.38590479,  4.21915126,  3.12253489,  1.60794296,\n",
       "        5.64029733,  3.54536749,  4.16667495,  1.83745173,  4.47460152,\n",
       "        6.14327904,  5.17313074,  3.25912126,  4.44860864,  4.33992267,\n",
       "        4.21347887,  3.6577159 ,  3.63686824,  2.99706199,  2.85393491,\n",
       "        6.27629014,  5.2949328 ,  2.17232028,  2.93847518,  5.08839667,\n",
       "        1.79340191,  2.91692751,  3.21442985,  2.27329479,  2.67650736,\n",
       "        4.21540783,  3.46953466,  1.84956558,  2.07456389,  3.4008032 ,\n",
       "        3.97289475,  4.22256812,  2.77192352,  4.10542127,  2.83788357,\n",
       "        3.60981313,  1.84101738,  3.44877245,  5.61623279,  3.2874588 ,\n",
       "        3.66439251,  1.97515352,  2.53390391,  1.9527632 ,  7.19059503,\n",
       "        4.45423638,  1.76584941,  2.82162526,  5.01971157,  2.11819294,\n",
       "        6.71528604,  6.01333294,  2.66792405,  3.60888882,  4.79242551,\n",
       "        3.46392481,  6.53513022,  4.70480756,  3.68355841,  3.21983186,\n",
       "        3.9994628 ,  2.66225406,  3.62972321,  5.312327  ,  4.49924502,\n",
       "        6.49441437,  3.72116883,  3.49234772,  3.68820771,  4.33874826,\n",
       "        5.80017617,  0.69457459,  5.19316269,  3.51101663,  4.1208555 ,\n",
       "        4.53768951, -0.96030583,  3.78964605,  2.96302952,  1.05680935])"
      ]
     },
     "execution_count": 294,
     "metadata": {},
     "output_type": "execute_result"
    }
   ],
   "source": [
    "sample"
   ]
  },
  {
   "cell_type": "markdown",
   "metadata": {},
   "source": [
    "# Hypothesis testing"
   ]
  },
  {
   "cell_type": "markdown",
   "metadata": {},
   "source": [
    "$Formulate Hypothesis \\rightarrow Design Experiment \\rightarrow Collect Data \\rightarrow Inference/Conclusions$"
   ]
  },
  {
   "cell_type": "markdown",
   "metadata": {},
   "source": [
    "## A/B testing\n",
    "\n",
    "- Two groups under two different treatments\n",
    "- Treatment: Something to which the subject is exposed\n",
    "\n",
    "- $H_{0}$ : Null Hypothesis (\"status quo\", chance is to blame)\n",
    "- $H_{a}$ : Alternative Hypothesis (What you hope to prove)"
   ]
  },
  {
   "cell_type": "markdown",
   "metadata": {},
   "source": [
    "### Hypothesis : Christmas results on an increase of Coronavirus cases\n",
    "\n",
    "#### $H_o$ : \n",
    "    - Christmas does not affect the number of covid cases\n",
    "\n",
    "#### $H$ :\n",
    "    - Christmas affects the number of covid cases\n",
    "    - Christmas lowers the number of covid cases\n",
    "    - Christmas increases the number of covid cases\n",
    "    \n",
    "    \n",
    "## Important concepts\n",
    "    \n",
    "#### Two-way test (Two-tailed)\n",
    "    - Hypothesis test that counts the chance results in two directions\n",
    "#### One-way test (One-tailed)\n",
    "    - Hypothesis test that counts the chance results in only one direction\n",
    "    \n",
    "    \n",
    "#### CI\n",
    "    - 90%, 95%, 99%\n",
    "    - alpha = 1-CI\n",
    "    \n",
    "#### Degrees of freedom\n",
    "    - dof = N - 1\n",
    "    - N: len(sample)"
   ]
  },
  {
   "cell_type": "code",
   "execution_count": null,
   "metadata": {},
   "outputs": [],
   "source": [
    "# Weekly average covid cases through the year (non Christmas) (Ho)\n",
    "mu0 = 9500\n",
    "# Ho : mu = mu0\n",
    "# Weekly average covid cases in December (H)\n",
    "# H : mu > mu0\n",
    "mu = 12000"
   ]
  },
  {
   "cell_type": "code",
   "execution_count": 349,
   "metadata": {},
   "outputs": [],
   "source": [
    "from scipy.stats import ttest_ind"
   ]
  },
  {
   "cell_type": "code",
   "execution_count": 329,
   "metadata": {},
   "outputs": [],
   "source": [
    "h0 = np.random.randint(3000,16000, 50)\n",
    "h = np.random.randint(11000,14000,4)"
   ]
  },
  {
   "cell_type": "code",
   "execution_count": 330,
   "metadata": {},
   "outputs": [
    {
     "data": {
      "image/png": "[encoded data removed]",
      "text/plain": [
       "<Figure size 1152x648 with 1 Axes>"
      ]
     },
     "metadata": {},
     "output_type": "display_data"
    }
   ],
   "source": [
    "plt.hist(h0);"
   ]
  },
  {
   "cell_type": "code",
   "execution_count": 331,
   "metadata": {},
   "outputs": [
    {
     "data": {
      "image/png": "[encoded data removed]",
      "text/plain": [
       "<Figure size 1152x648 with 1 Axes>"
      ]
     },
     "metadata": {},
     "output_type": "display_data"
    }
   ],
   "source": [
    "plt.hist(h);"
   ]
  },
  {
   "cell_type": "code",
   "execution_count": 332,
   "metadata": {},
   "outputs": [
    {
     "data": {
      "text/plain": [
       "9431.12"
      ]
     },
     "execution_count": 332,
     "metadata": {},
     "output_type": "execute_result"
    }
   ],
   "source": [
    "np.mean(h0)"
   ]
  },
  {
   "cell_type": "code",
   "execution_count": 333,
   "metadata": {},
   "outputs": [
    {
     "data": {
      "text/plain": [
       "12387.0"
      ]
     },
     "execution_count": 333,
     "metadata": {},
     "output_type": "execute_result"
    }
   ],
   "source": [
    "np.mean(h)"
   ]
  },
  {
   "cell_type": "markdown",
   "metadata": {},
   "source": [
    "### t-test\n",
    "#### t-value"
   ]
  },
  {
   "cell_type": "code",
   "execution_count": 351,
   "metadata": {},
   "outputs": [
    {
     "name": "stdout",
     "output_type": "stream",
     "text": [
      "Len sample 0: 50\n",
      "Len sample 1: 4\n"
     ]
    },
    {
     "data": {
      "image/png": "[encoded data removed]",
      "text/plain": [
       "<Figure size 1152x648 with 1 Axes>"
      ]
     },
     "metadata": {},
     "output_type": "display_data"
    }
   ],
   "source": [
    "## 95% confidence\n",
    "print(f\"Len sample 0: {len(h0)}\")\n",
    "print(f\"Len sample 1: {len(h)}\")\n",
    "### dof = N0 - 1 + N1 - 1\n",
    "### dof = N0 + N1 - 2 = 52\n",
    "plt.hist(np.random.standard_t(49,1000),bins=20);"
   ]
  },
  {
   "cell_type": "code",
   "execution_count": 350,
   "metadata": {},
   "outputs": [
    {
     "data": {
      "text/plain": [
       "Ttest_indResult(statistic=-1.4731112319976474, pvalue=0.14674881302522694)"
      ]
     },
     "execution_count": 350,
     "metadata": {},
     "output_type": "execute_result"
    }
   ],
   "source": [
    "ttest_ind(h0,h)"
   ]
  },
  {
   "cell_type": "code",
   "execution_count": 356,
   "metadata": {},
   "outputs": [
    {
     "name": "stdout",
     "output_type": "stream",
     "text": [
      "p-value = 0.07337440651261347\n",
      "alpha = 0.05\n",
      "Null hypothesis may not be rejected! -----> Christmas likely doesn't affect covid cases\n"
     ]
    }
   ],
   "source": [
    "### T-statistic method\n",
    "# critical value t, FROM TABLE: +- 1.671\n",
    "# Since our t-statisct calculates is greater than the critical value, we fail reject H0.\n",
    "\n",
    "### p-value method\n",
    "# Since our hypothesis is ONE TAILED and scipy.stats.ttest_ind gives thex result for a two tailed \n",
    "# we must divide the p-value by 2.\n",
    "\n",
    "alpha = 0.05\n",
    "pvalue = ttest_ind(h0,h).pvalue / 2\n",
    "\n",
    "\n",
    "print(f\"p-value = {pvalue}\")\n",
    "print(f\"alpha = {alpha}\")\n",
    "\n",
    "if pvalue < alpha:\n",
    "    print(\"Null hypothesis may be rejected! -----> Very unlikely that christmas affects covid cases\")\n",
    "else:\n",
    "    print(\"Null hypothesis may not be rejected! -----> Christmas likely doesn't affect covid cases\")"
   ]
  },
  {
   "cell_type": "code",
   "execution_count": 357,
   "metadata": {},
   "outputs": [],
   "source": [
    "### Normal test\n",
    "import pandas as pd\n",
    "df = pd.read_csv(\"data/titanic.csv\")"
   ]
  },
  {
   "cell_type": "code",
   "execution_count": 358,
   "metadata": {},
   "outputs": [],
   "source": [
    "x = df.age.dropna()"
   ]
  },
  {
   "cell_type": "code",
   "execution_count": 361,
   "metadata": {},
   "outputs": [
    {
     "name": "stdout",
     "output_type": "stream",
     "text": [
      "p-value = 7.646723472885242e-07\n",
      "alpha = 0.05\n",
      "Null hypothesis may be rejected! -----> Very unlikely that it comes from a normal distribution\n"
     ]
    }
   ],
   "source": [
    "from scipy.stats import normaltest\n",
    "#### Were ages on the titanic distributed normally?\n",
    "\n",
    "# H0: x is normally distributed\n",
    "\n",
    "# H : x does not come from a normal distribution\n",
    "\n",
    "alpha = 0.05\n",
    "\n",
    "pvalue = normaltest(x).pvalue\n",
    "\n",
    "\n",
    "print(f\"p-value = {pvalue}\")\n",
    "print(f\"alpha = {alpha}\")\n",
    "\n",
    "if pvalue < alpha:\n",
    "    print(\"Null hypothesis may be rejected! -----> Very unlikely that it comes from a normal distribution\")\n",
    "else:\n",
    "    print(\"Null hypothesis may not be rejected! -----> It can come from a normal distribution\")"
   ]
  },
  {
   "cell_type": "code",
   "execution_count": 387,
   "metadata": {},
   "outputs": [
    {
     "data": {
      "text/plain": [
       "F_onewayResult(statistic=5.771192471942471, pvalue=0.003200547316139318)"
      ]
     },
     "execution_count": 387,
     "metadata": {},
     "output_type": "execute_result"
    }
   ],
   "source": [
    "# Height differs between Zamora, Madrid and Barcelona\n",
    "# ANOVA\n",
    "# Ho: Two or more samples have the same means\n",
    "# H : All samples differ in mean\n",
    "\n",
    "from scipy.stats import f_oneway\n",
    "\n",
    "alpha = 0.1\n",
    "\n",
    "zamora = np.random.normal(174,10,350)\n",
    "madrid = np.random.normal(174,15,550)\n",
    "barcelona = np.random.normal(176,12,340)\n",
    "\n",
    "f_oneway(zamora, madrid, barcelona)"
   ]
  },
  {
   "cell_type": "code",
   "execution_count": 413,
   "metadata": {},
   "outputs": [
    {
     "data": {
      "text/plain": [
       "{1: 0.07428853323652881,\n",
       " 2: 0.8061441034244681,\n",
       " 3: 0.3098899431077221,\n",
       " 4: 0.5868364613199839,\n",
       " 5: 0.3098899431077221,\n",
       " 6: 0.897685145826173}"
      ]
     },
     "execution_count": 413,
     "metadata": {},
     "output_type": "execute_result"
    }
   ],
   "source": [
    "### Find out if a dice is fair\n",
    "from statsmodels.stats.proportion import proportions_ztest\n",
    "\n",
    "# Ho : Proportion of ocurrences of a number is equal to expected proportion\n",
    "# H : Proportion is different from expected\n",
    "\n",
    "die = np.random.randint(1,7,50)\n",
    "\n",
    "expected_prob = 1/6\n",
    "\n",
    "#Count the times each number appears\n",
    "counts = {i:list(die).count(i) for i in range(1,7)}\n",
    "\n",
    "# Performing thest for each posible outcome 1,2,3,4,5,6\n",
    "p_values = {}\n",
    "for i in range(1,7):\n",
    "    ############# proportions_ztest(counts: successes, nobs: number of trys, value: expected probability)\n",
    "    p_values[i] = proportions_ztest(counts[i], len(die), expected_prob)[-1]\n",
    "p_values"
   ]
  },
  {
   "cell_type": "code",
   "execution_count": 414,
   "metadata": {},
   "outputs": [
    {
     "name": "stdout",
     "output_type": "stream",
     "text": [
      "Fail to reject the null hypothesis\n"
     ]
    }
   ],
   "source": [
    "## Die is fair if all p_values > alpha\n",
    "alpha = 0.05\n",
    "\n",
    "reject = False\n",
    "for pv in  p_values.values():\n",
    "    if pv < alpha:\n",
    "        reject= True\n",
    "\n",
    "if reject:\n",
    "    print(\"Reject the null hypothesis\")\n",
    "else:\n",
    "    print(\"Fail to reject the null hypothesis\")"
   ]
  },
  {
   "cell_type": "markdown",
   "metadata": {},
   "source": [
    "### Repeat with die that favors number 6"
   ]
  },
  {
   "cell_type": "code",
   "execution_count": 423,
   "metadata": {},
   "outputs": [
    {
     "data": {
      "text/plain": [
       "{1: 0.6406715769752815,\n",
       " 2: 0.02626829138204228,\n",
       " 3: 0.00015145875656067745,\n",
       " 4: 0.0014003654607733641,\n",
       " 5: 7.073096934759048e-06,\n",
       " 6: 6.852013872706067e-14}"
      ]
     },
     "execution_count": 423,
     "metadata": {},
     "output_type": "execute_result"
    }
   ],
   "source": [
    "die = np.random.choice(range(1,7), 100, p=[1/12,1/12,1/12,1/12,1/12,7/12])\n",
    "\n",
    "expected_prob = 1/6\n",
    "\n",
    "#Count the times each number appears\n",
    "counts = {i:list(die).count(i) for i in range(1,7)}\n",
    "\n",
    "# Performing thest for each posible outcome 1,2,3,4,5,6\n",
    "p_values = {}\n",
    "for i in range(1,7):\n",
    "    ############# proportions_ztest(counts: successes, nobs: number of trys, value: expected probability)\n",
    "    p_values[i] = proportions_ztest(counts[i], len(die), expected_prob)[-1]\n",
    "p_values"
   ]
  },
  {
   "cell_type": "markdown",
   "metadata": {},
   "source": [
    "![](https://miro.medium.com/max/1000/1*NILL_3EnEckFsQ6Hy06EHg.png)"
   ]
  },
  {
   "cell_type": "markdown",
   "metadata": {},
   "source": [
    "### Further Resources\n",
    "[Funny video on Correlation and Causation](https://www.youtube.com/watch?v=8B271L3NtAw)"
   ]
  }
 ],
 "metadata": {
  "kernelspec": {
   "display_name": "Python3 (ih)",
   "language": "python",
   "name": "ironhack"
  },
  "language_info": {
   "codemirror_mode": {
    "name": "ipython",
    "version": 3
   },
   "file_extension": ".py",
   "mimetype": "text/x-python",
   "name": "python",
   "nbconvert_exporter": "python",
   "pygments_lexer": "ipython3",
   "version": "3.7.8"
  }
 },
 "nbformat": 4,
 "nbformat_minor": 4
}
